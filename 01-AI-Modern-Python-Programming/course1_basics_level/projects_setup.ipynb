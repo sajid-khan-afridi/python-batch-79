{
  "nbformat": 4,
  "nbformat_minor": 0,
  "metadata": {
    "colab": {
      "provenance": []
    },
    "kernelspec": {
      "name": "python3",
      "display_name": "Python 3"
    },
    "language_info": {
      "name": "python"
    }
  },
  "cells": [
    {
      "cell_type": "markdown",
      "source": [
        "## Starter Code"
      ],
      "metadata": {
        "id": "Xwf88A46wkvq"
      }
    },
    {
      "cell_type": "code",
      "source": [
        "def main():\n",
        "    print(\"Delete this line and write your code here! :)\")\n",
        "\n",
        "\n",
        "# This provided line is required at the end of\n",
        "# Python file to call the main() function.\n",
        "if __name__ == '__main__':\n",
        "    main()"
      ],
      "metadata": {
        "id": "VpQMKdcVwxJK"
      },
      "execution_count": null,
      "outputs": []
    },
    {
      "cell_type": "markdown",
      "source": [
        "## main() function\n",
        "In Python, a function is used to encapsulate reusable code into a single unit that can be executed whenever needed. Functions improve code organization, readability, and reusability, and allow for abstraction and modular programming. They are defined using the def keyword and can take arguments, perform computations, and return results."
      ],
      "metadata": {
        "id": "zkcqM4M5xQdg"
      }
    },
    {
      "cell_type": "code",
      "source": [
        "def main():     # main is the function name\n",
        "    print(\"Delete this line and write your code here! :)\")\n",
        "\n",
        "main()    # calling the function"
      ],
      "metadata": {
        "id": "M5Ju5YCQw-jO"
      },
      "execution_count": null,
      "outputs": []
    },
    {
      "cell_type": "code",
      "source": [
        "def sum(a:int,b:int):   # a and b are parameters (placeholders for input values)\n",
        "  return a+b\n",
        "\n",
        "print(sum(2,7))   # 2 and 7 are arguments (actual values passed to the function)\n",
        "print(sum(15,17))"
      ],
      "metadata": {
        "id": "_-gppDjsx4nc"
      },
      "execution_count": null,
      "outputs": []
    },
    {
      "cell_type": "markdown",
      "source": [
        "## if `__name__` == `'__main__'`:\n",
        "- `__name__` is a special built-in variable in Python that holds the name of the current module.\n",
        "- If a Python file is run directly (as a script), the value of `__name__` is set to `'__main__'`."
      ],
      "metadata": {
        "id": "-vt7CgbT0i7V"
      }
    },
    {
      "cell_type": "code",
      "source": [
        "# my_script.py\n",
        "print(f\"The value of __name__ is: {__name__}\")"
      ],
      "metadata": {
        "colab": {
          "base_uri": "https://localhost:8080/"
        },
        "id": "btaSa4ri0lAT",
        "outputId": "fb72f1a7-4342-42da-85c1-7ee1e7375d82"
      },
      "execution_count": 12,
      "outputs": [
        {
          "output_type": "stream",
          "name": "stdout",
          "text": [
            "The value of __name__ is: __main__\n"
          ]
        }
      ]
    },
    {
      "cell_type": "code",
      "source": [
        "if __name__ == \"__main__\":\n",
        "    print(\"This script is being run directly.\")"
      ],
      "metadata": {
        "colab": {
          "base_uri": "https://localhost:8080/"
        },
        "id": "qanCWKdi_yrA",
        "outputId": "c9d8266e-542d-4754-d54f-8391aef4ed45"
      },
      "execution_count": 13,
      "outputs": [
        {
          "output_type": "stream",
          "name": "stdout",
          "text": [
            "This script is being run directly.\n"
          ]
        }
      ]
    }
  ]
}