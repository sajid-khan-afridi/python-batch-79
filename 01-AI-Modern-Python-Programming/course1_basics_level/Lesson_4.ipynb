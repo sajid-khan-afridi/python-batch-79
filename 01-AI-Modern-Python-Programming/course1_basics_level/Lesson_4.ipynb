{
  "cells": [
    {
      "cell_type": "markdown",
      "id": "817221c9",
      "metadata": {
        "id": "817221c9"
      },
      "source": [
        "# Variables"
      ]
    },
    {
      "cell_type": "markdown",
      "id": "1512b57b",
      "metadata": {
        "id": "1512b57b"
      },
      "source": [
        "In computer programming, <b>variables</b> are used to store, process, and manipulate data. So, let's say you wanted to store `28` in the variable `age`, this is what you would do:"
      ]
    },
    {
      "cell_type": "code",
      "execution_count": null,
      "id": "9ae82ae7",
      "metadata": {
        "id": "9ae82ae7"
      },
      "outputs": [],
      "source": [
        "# -----syntax------\n",
        "# variable_name: data-type(type-hint) = value # = is called assignment operator\n",
        "\n",
        "# datatypes -> int, str, float, list, bool, dict, set\n",
        "\n",
        "# ------ Example ------\n",
        "age : int = 22\n",
        "# age\n",
        "print(age)\n",
        "# in c++ e.g. int a=3;"
      ]
    },
    {
      "cell_type": "code",
      "source": [
        "# how to print the variable value\n",
        "print(age)\n",
        "print(age)\n",
        "age\n"
      ],
      "metadata": {
        "collapsed": true,
        "id": "A6h9hlkK4q_p"
      },
      "id": "A6h9hlkK4q_p",
      "execution_count": null,
      "outputs": []
    },
    {
      "cell_type": "code",
      "source": [
        "print(\"hello\")\n",
        "22"
      ],
      "metadata": {
        "id": "lqV7_LpO2mk_"
      },
      "id": "lqV7_LpO2mk_",
      "execution_count": null,
      "outputs": []
    },
    {
      "cell_type": "code",
      "source": [
        "id(age)"
      ],
      "metadata": {
        "id": "6YlQBcku4E02"
      },
      "id": "6YlQBcku4E02",
      "execution_count": null,
      "outputs": []
    },
    {
      "cell_type": "code",
      "source": [
        "type(age)"
      ],
      "metadata": {
        "id": "B1ZLilDJ4-zv"
      },
      "id": "B1ZLilDJ4-zv",
      "execution_count": null,
      "outputs": []
    },
    {
      "cell_type": "code",
      "source": [
        "print(type(age))"
      ],
      "metadata": {
        "id": "_D8Q-msY5Cin"
      },
      "id": "_D8Q-msY5Cin",
      "execution_count": null,
      "outputs": []
    },
    {
      "cell_type": "code",
      "source": [
        "print(f\"Age: {age+10}\")"
      ],
      "metadata": {
        "id": "081emQiZU49C"
      },
      "id": "081emQiZU49C",
      "execution_count": null,
      "outputs": []
    },
    {
      "cell_type": "code",
      "source": [
        "# int age # c or c++ language"
      ],
      "metadata": {
        "id": "mEhGtK6j39QL"
      },
      "id": "mEhGtK6j39QL",
      "execution_count": null,
      "outputs": []
    },
    {
      "cell_type": "code",
      "source": [
        "print(\"Age: \",age)\n",
        "# print(\"Age: \"+age)"
      ],
      "metadata": {
        "id": "u0ByxiWIoERk"
      },
      "id": "u0ByxiWIoERk",
      "execution_count": null,
      "outputs": []
    },
    {
      "cell_type": "markdown",
      "id": "e0d89b8d",
      "metadata": {
        "id": "e0d89b8d"
      },
      "source": [
        "So if you used `print()` with `age` as an argument, you would get the value that you assigned to that variable."
      ]
    },
    {
      "cell_type": "code",
      "execution_count": null,
      "id": "80b5943a",
      "metadata": {
        "id": "80b5943a"
      },
      "outputs": [],
      "source": [
        "print(age)\n",
        "print(type(age))  # Shows that age is an int\n",
        "\n",
        "# age is an object belonging to the 'int' class\n",
        "\n",
        "# In Python, everything is an object\n",
        "\n",
        "#   Objects have:\n",
        "# - methods = actions (i.e: coding)\n",
        "# - attributes = An attribute is just a piece of stored information that belongs to an object\n",
        "\n",
        "# Attributes are like nouns—facts about the object.\n",
        "\n",
        "# Methods are like verbs—actions the object can perform.\n",
        "\n",
        "# See all methods and attributes of the 'age' object\n",
        "\n",
        "# object.method()\n",
        "# object.attribute\n",
        "#age.\n",
        "# Show only the user-friendly methods (hide magic methods like __add__)\n",
        "# print([i for i in dir(age) if '__' not in i])"
      ]
    },
    {
      "cell_type": "code",
      "source": [
        "print(age.real) # attribute: 22 — the “real-part” value\n",
        "\n"
      ],
      "metadata": {
        "id": "F7sUeCC30izX"
      },
      "id": "F7sUeCC30izX",
      "execution_count": null,
      "outputs": []
    },
    {
      "cell_type": "code",
      "source": [
        "z = 3 + 4j\n",
        "print(\"z.real =\", z.real)          # Attribute\n",
        "print(\"z.imaginary =\", z.imag)\n",
        "print(\"z.conjugate() =\", z.conjugate())        # Method"
      ],
      "metadata": {
        "id": "ZcrfXvGD38ZB"
      },
      "id": "ZcrfXvGD38ZB",
      "execution_count": null,
      "outputs": []
    },
    {
      "cell_type": "code",
      "source": [
        "print(age.bit_length()) # method: action -- Calculates how many bits are needed"
      ],
      "metadata": {
        "id": "-9FRO1J80l_R"
      },
      "id": "-9FRO1J80l_R",
      "execution_count": null,
      "outputs": []
    },
    {
      "cell_type": "code",
      "source": [
        "age = 300\n",
        "print(age.bit_length())"
      ],
      "metadata": {
        "id": "PklJag3V96m7"
      },
      "id": "PklJag3V96m7",
      "execution_count": null,
      "outputs": []
    },
    {
      "cell_type": "code",
      "source": [
        "dir(age)"
      ],
      "metadata": {
        "id": "VUsn1nJnC7XN"
      },
      "id": "VUsn1nJnC7XN",
      "execution_count": null,
      "outputs": []
    },
    {
      "cell_type": "code",
      "source": [
        "name : str = \"John\"\n",
        "dir(name)"
      ],
      "metadata": {
        "id": "E-OI8iiE6mnx"
      },
      "id": "E-OI8iiE6mnx",
      "execution_count": null,
      "outputs": []
    },
    {
      "cell_type": "code",
      "source": [
        "print(name.upper())\n",
        "print(name)"
      ],
      "metadata": {
        "id": "eelrBkg0EPqr"
      },
      "id": "eelrBkg0EPqr",
      "execution_count": null,
      "outputs": []
    },
    {
      "cell_type": "markdown",
      "id": "8ddf96c1",
      "metadata": {
        "id": "8ddf96c1"
      },
      "source": [
        "With `age = 28` you are telling Python to create a variable named `age` and use it to store the value `28`. However, you can change the value assigned to any variable you previously created. For instance, you can assign a value of `5` to `age` using the following code:"
      ]
    },
    {
      "cell_type": "code",
      "execution_count": null,
      "id": "0cc2c56f",
      "metadata": {
        "id": "0cc2c56f"
      },
      "outputs": [],
      "source": [
        "age: int = 5\n",
        "age = 10\n",
        "age = 16"
      ]
    },
    {
      "cell_type": "markdown",
      "id": "448a0658",
      "metadata": {
        "id": "448a0658"
      },
      "source": [
        "So if you display `age`, you will get `5` instead of `28`."
      ]
    },
    {
      "cell_type": "code",
      "execution_count": null,
      "id": "b594137a",
      "metadata": {
        "id": "b594137a"
      },
      "outputs": [],
      "source": [
        "print(age)"
      ]
    },
    {
      "cell_type": "code",
      "execution_count": null,
      "id": "9B3nCNkcw_lG",
      "metadata": {
        "id": "9B3nCNkcw_lG"
      },
      "outputs": [],
      "source": [
        "# immutable: means does not change-- int, float\n",
        "age1: int = 2\n",
        "print(age1)\n",
        "print(id(age1))\n",
        "\n",
        "age1 = 5\n",
        "print(age1)\n",
        "print(id(age1))\n"
      ]
    },
    {
      "cell_type": "code",
      "source": [
        "age1 : int = 4\n",
        "age2 :int = 4\n",
        "print(id(age1))\n",
        "print(id(age2))"
      ],
      "metadata": {
        "id": "bsrPzOfFGrsy"
      },
      "id": "bsrPzOfFGrsy",
      "execution_count": null,
      "outputs": []
    },
    {
      "cell_type": "code",
      "source": [
        "# caching in limits(-5 to 255)\n",
        "age3 : int = 10\n",
        "print(age3)\n",
        "print(id(age3))\n",
        "\n",
        "age4 : int = 10\n",
        "print(age4)\n",
        "print(id(age4))\n"
      ],
      "metadata": {
        "id": "Alansm7kRK5p"
      },
      "id": "Alansm7kRK5p",
      "execution_count": null,
      "outputs": []
    },
    {
      "cell_type": "code",
      "source": [
        "# no caching because exceeds the limit\n",
        "age3 : int = 1000\n",
        "print(age3)\n",
        "print(id(age3))\n",
        "\n",
        "age4 : int = 1000\n",
        "print(age4)\n",
        "print(id(age4))\n"
      ],
      "metadata": {
        "id": "go8iYOPiJ1jR"
      },
      "id": "go8iYOPiJ1jR",
      "execution_count": null,
      "outputs": []
    },
    {
      "cell_type": "markdown",
      "source": [
        "Why Python does this?\n",
        "- Caching small integers makes your program faster and uses less memory.\n",
        "- Usually from `-5 to 256`.\n",
        "\n",
        "- Larger numbers are less common and more memory-heavy, so Python doesn't cache them by default."
      ],
      "metadata": {
        "id": "8cPx7YJJSSJk"
      },
      "id": "8cPx7YJJSSJk"
    },
    {
      "cell_type": "markdown",
      "id": "764df696",
      "metadata": {
        "id": "764df696"
      },
      "source": [
        "## Variables store numbers, strings and other type of data"
      ]
    },
    {
      "cell_type": "markdown",
      "id": "3b4f1b37",
      "metadata": {
        "id": "3b4f1b37"
      },
      "source": [
        "Variables can be used to store floating point numbers, integers, strings, and other types of data. For instance, you can create a variable `name` and assign it the string `\"Otto\"`, or a variable `gnome_height` and assign it the floating point number `12.7`."
      ]
    },
    {
      "cell_type": "code",
      "execution_count": null,
      "id": "d2e765a1",
      "metadata": {
        "id": "d2e765a1"
      },
      "outputs": [],
      "source": [
        "name: str = \"Otto\"\n",
        "gnome_height: float = 12.7"
      ]
    },
    {
      "cell_type": "markdown",
      "id": "e6595034",
      "metadata": {
        "id": "e6595034"
      },
      "source": [
        "You can use variables within f-strings to make your output more readable. For example, you can print the value assigned to `age` along with the string `\"Age: \"` so that anyone reading the display will understand what the value represents.\n",
        "\n",
        "Here’s how you can do it:"
      ]
    },
    {
      "cell_type": "code",
      "execution_count": null,
      "id": "37d2833c",
      "metadata": {
        "id": "37d2833c"
      },
      "outputs": [],
      "source": [
        "print(f\"Name : {name}\")"
      ]
    },
    {
      "cell_type": "markdown",
      "id": "d156652d",
      "metadata": {
        "id": "d156652d"
      },
      "source": [
        "As another example, let's use f-strings to display the values assigned to `name` and `gnome_height`."
      ]
    },
    {
      "cell_type": "code",
      "execution_count": null,
      "id": "f4dd9caa",
      "metadata": {
        "id": "f4dd9caa"
      },
      "outputs": [],
      "source": [
        "print(f\"Name: {name}\")\n",
        "print(f\"Gnome height: {gnome_height}\")"
      ]
    },
    {
      "cell_type": "markdown",
      "id": "f86ccabc",
      "metadata": {
        "id": "f86ccabc"
      },
      "source": [
        "<b>Important:</b> Variables are case-sensitive, so `Gnome_height` and `gnome_height` are not the same. To see this, you can run the next cell where you will get an error message."
      ]
    },
    {
      "cell_type": "code",
      "execution_count": null,
      "id": "c43043e4",
      "metadata": {
        "id": "c43043e4"
      },
      "outputs": [],
      "source": [
        "print(f\"Gnome height: {Gnome_height}\")"
      ]
    },
    {
      "cell_type": "markdown",
      "id": "99c43159-f5b4-4ab5-b9d4-b142979cb172",
      "metadata": {
        "id": "99c43159-f5b4-4ab5-b9d4-b142979cb172"
      },
      "source": [
        "## Variables help you store values that constantly change"
      ]
    },
    {
      "cell_type": "markdown",
      "id": "9154a6a6-ab67-4d96-85fc-5bbfbea65e11",
      "metadata": {
        "id": "9154a6a6-ab67-4d96-85fc-5bbfbea65e11"
      },
      "source": [
        "Take a game where the score starts at zero. In the next cell, you create a variable `score`, assign it the value of `0`, and display the current score."
      ]
    },
    {
      "cell_type": "code",
      "execution_count": null,
      "id": "5a47354d",
      "metadata": {
        "id": "5a47354d"
      },
      "outputs": [],
      "source": [
        "score: int = 0 # now score is 0\n",
        "print(score)"
      ]
    },
    {
      "cell_type": "markdown",
      "id": "b59c99bb-d58a-4a8e-9f1b-fd2010cf7e12",
      "metadata": {
        "id": "b59c99bb-d58a-4a8e-9f1b-fd2010cf7e12"
      },
      "source": [
        "When the score increases by 50 points, you can update the variable by using its previous value and adding `50`."
      ]
    },
    {
      "cell_type": "code",
      "execution_count": null,
      "id": "019ca96e",
      "metadata": {
        "id": "019ca96e"
      },
      "outputs": [],
      "source": [
        "# Override\n",
        "score = 6 # now score is 6 which is 6 -- new variable is created\n",
        "print(score)\n",
        "\n",
        "score = score + 6 # now score is 12\n",
        "print(score)\n",
        "\n",
        "score += 4 # score = score + 4 -- compound assignment operator\n",
        "print(score)"
      ]
    },
    {
      "cell_type": "markdown",
      "id": "b6d6a85b-c210-4bd3-8cb3-7013775fcec4",
      "metadata": {
        "id": "b6d6a85b-c210-4bd3-8cb3-7013775fcec4"
      },
      "source": [
        "In a similar way, when the score increases by 100 points, the variable `score` can be updated by adding `100` to the previous value stored in `score`."
      ]
    },
    {
      "cell_type": "code",
      "execution_count": null,
      "id": "a7b08d88",
      "metadata": {
        "id": "a7b08d88"
      },
      "outputs": [],
      "source": [
        "# runs two times\n",
        "\n",
        "score += 100 # now score is 100 + 16 which is 116 - this is short form\n",
        "# score = score + 100 # now score is 100 + 16 which is 150\n",
        "print(score)"
      ]
    },
    {
      "cell_type": "markdown",
      "id": "cbd2c6e3-edd1-42fc-9f3b-b4b1eed37412",
      "metadata": {
        "id": "cbd2c6e3-edd1-42fc-9f3b-b4b1eed37412"
      },
      "source": [
        "And, after scoring an extra 300 points, the variable `score` is updated by adding `300` to the previous value stored in `score`."
      ]
    },
    {
      "cell_type": "code",
      "execution_count": null,
      "id": "101602ad",
      "metadata": {
        "id": "101602ad"
      },
      "outputs": [],
      "source": [
        "score = score + 300 # now score is 116 + 300 which is 416\n",
        "print(score)"
      ]
    },
    {
      "cell_type": "markdown",
      "id": "50b3f514-dd75-475c-819f-ad55e93f2728",
      "metadata": {
        "id": "50b3f514-dd75-475c-819f-ad55e93f2728"
      },
      "source": [
        "So at the end, the variable `score` stores the most updated score value.\n",
        "\n",
        "You can print the final score using an f-string as shown in the cell below:"
      ]
    },
    {
      "cell_type": "code",
      "execution_count": null,
      "id": "4a0cc976",
      "metadata": {
        "id": "4a0cc976"
      },
      "outputs": [],
      "source": [
        "print(f\"Your final score was: {score}\") # prints 416"
      ]
    },
    {
      "cell_type": "markdown",
      "id": "8c98ef76-dbc5-46e9-bfea-44e1eead9e19",
      "metadata": {
        "id": "8c98ef76-dbc5-46e9-bfea-44e1eead9e19"
      },
      "source": [
        "## Variable names restrictions OR Variable Naming Rules\n",
        "\n",
        "1. They can only contain letters (a-z, A-Z), numbers (0-9), and underscores (_).\n",
        "2. They cannot start with a number.\n",
        "3. They are case-sensitive (myScore and myscore are different variables)\n",
        "4. Make sure your variable names are descriptive\n",
        "5.  Don't have spaces between words\n",
        "6.  Don't use special words like print or input\n",
        "7.  Choose simple words that are less likely to become typos\n",
        "8.  Check the company style guidelines if you start work at a company\n",
        "9.  Do not use reserve word\n",
        "\n",
        "\n"
      ]
    },
    {
      "cell_type": "code",
      "source": [
        "print : str = \"Hello\"\n",
        "# print(print) # error"
      ],
      "metadata": {
        "id": "aFII284kNpQU"
      },
      "id": "aFII284kNpQU",
      "execution_count": null,
      "outputs": []
    },
    {
      "cell_type": "code",
      "source": [
        "if : str = \"Hello\" # reserve word"
      ],
      "metadata": {
        "id": "VWAMBJxQOPYZ"
      },
      "id": "VWAMBJxQOPYZ",
      "execution_count": null,
      "outputs": []
    },
    {
      "cell_type": "code",
      "source": [
        "# Age agE your_age 1age\n",
        "# total_amount\n",
        "# 2ndPlace\n",
        "# user-name\n",
        "# _cache\n",
        "# print\n",
        "# AvgScore\n",
        "# first name\n",
        "# temperature_C\n",
        "# MAX_VALUE\n",
        "# order#id\n",
        "# longitudeLatitude\n",
        "# sumTotal\n",
        "# class\n",
        "# __init__\n",
        "# password123"
      ],
      "metadata": {
        "id": "q-i7WaMv-X7w"
      },
      "id": "q-i7WaMv-X7w",
      "execution_count": null,
      "outputs": []
    },
    {
      "cell_type": "code",
      "source": [
        "your_age: int = 10\n"
      ],
      "metadata": {
        "id": "JAOkn1zX_B1V"
      },
      "id": "JAOkn1zX_B1V",
      "execution_count": null,
      "outputs": []
    },
    {
      "cell_type": "markdown",
      "id": "a521e742-511b-4d4d-b07c-248ec3d5e43d",
      "metadata": {
        "id": "a521e742-511b-4d4d-b07c-248ec3d5e43d"
      },
      "source": [
        "To demonstrate an important fact about variable names in Python, try to run the code below."
      ]
    },
    {
      "cell_type": "code",
      "execution_count": null,
      "id": "42e3bcd2",
      "metadata": {
        "id": "42e3bcd2"
      },
      "outputs": [],
      "source": [
        "# No special character like space here i.e + - , *\n",
        "my score: int = 450"
      ]
    },
    {
      "cell_type": "markdown",
      "id": "a4b2761a-e06d-46a3-a68f-1b6017a81881",
      "metadata": {
        "id": "a4b2761a-e06d-46a3-a68f-1b6017a81881"
      },
      "source": [
        "Now, ask the chatbot why that code didn't work. You can use the prompt suggested here.\n",
        "\n",
        "<p style=\"background-color:#F5C780; padding:15px\"> 🤖 <b>Use the Chatbot</b>: Why doesn't this code work? my score = 450\n",
        "</p>"
      ]
    },
    {
      "cell_type": "code",
      "execution_count": null,
      "id": "f10I8oOp1oZT",
      "metadata": {
        "id": "f10I8oOp1oZT"
      },
      "outputs": [],
      "source": [
        "# prompt: Why doesn't this code work? my score = 450\n",
        "\n",
        "# The code \"my score = 450\" doesn't work because variable names in Python cannot contain spaces.\n",
        "# Python variable names must follow specific rules:\n",
        "#\n",
        "#\n",
        "# In the example \"my score = 450\", the space between \"my\" and \"score\" violates the first rule, making it an invalid variable name.\n",
        "#\n",
        "# To fix it, you could use an underscore to replace the space:\n",
        "#\n",
        "# my_score = 450\n",
        "#\n",
        "# Or you could combine the words without a space:\n",
        "#\n",
        "# myscore = 450"
      ]
    },
    {
      "cell_type": "markdown",
      "id": "5aece0d4",
      "metadata": {
        "id": "5aece0d4"
      },
      "source": [
        "## Variables allow you to code efficiently!"
      ]
    },
    {
      "cell_type": "markdown",
      "id": "a5e87451",
      "metadata": {
        "id": "a5e87451"
      },
      "source": [
        "Recall the dog age example that you saw in previous lessons. Assuming that Otto is 49 years old, you can display his dog age by using `print(49 / 7)`."
      ]
    },
    {
      "cell_type": "code",
      "execution_count": null,
      "id": "1643e928",
      "metadata": {
        "id": "1643e928"
      },
      "outputs": [],
      "source": [
        "print(49 / 7)"
      ]
    },
    {
      "cell_type": "markdown",
      "id": "e3de9f60",
      "metadata": {
        "id": "e3de9f60"
      },
      "source": [
        "Using f-strings so that it is clear what you are displaying, you would use code similar to the one in the cell below."
      ]
    },
    {
      "cell_type": "code",
      "execution_count": null,
      "id": "4db3559f",
      "metadata": {
        "id": "4db3559f"
      },
      "outputs": [],
      "source": [
        "print(f\"Otto's age in dog years is {49 / 7}\")"
      ]
    },
    {
      "cell_type": "markdown",
      "id": "98904686",
      "metadata": {
        "id": "98904686"
      },
      "source": [
        "Alternatively, now that you have seen how variables work, you can compute Otto's dog age and assign it to the variable `dog_age`."
      ]
    },
    {
      "cell_type": "code",
      "execution_count": null,
      "id": "a9918f72",
      "metadata": {
        "id": "a9918f72"
      },
      "outputs": [],
      "source": [
        "dog_age: float = 49 / 7"
      ]
    },
    {
      "cell_type": "markdown",
      "id": "8db0f9f6",
      "metadata": {
        "id": "8db0f9f6"
      },
      "source": [
        "You can see how this would be an advantage if you consider the following scenario. Let's say you want to display an f-string with Otto's dog age multiple times. Without using variables, you would need to compute his dog age as many times as you refer to it."
      ]
    },
    {
      "cell_type": "code",
      "execution_count": null,
      "id": "2874dcd1",
      "metadata": {
        "id": "2874dcd1"
      },
      "outputs": [],
      "source": [
        "print(f\"\"\"Otto's dog age is {49/7}. So a dog that's about\n",
        "{49/7} would be the same age as Otto. Any dog born about {49/7}\n",
        "years ago would be in the same stage of life as Otto.\"\"\")"
      ]
    },
    {
      "cell_type": "markdown",
      "id": "335511cc",
      "metadata": {
        "id": "335511cc"
      },
      "source": [
        "If Otto became a year older, you would need to change the values in each of the curly braces to `50/7`. Instead, if you used an f-string with the `dog_age` variable as the one below:"
      ]
    },
    {
      "cell_type": "code",
      "execution_count": null,
      "id": "98bf95bf",
      "metadata": {
        "id": "98bf95bf"
      },
      "outputs": [],
      "source": [
        "print(f\"\"\"Otto's dog age is {dog_age}. So a dog that's about\n",
        "{dog_age} would be the same age as Otto. Any dog born about {dog_age}\n",
        "years ago would be in the same stage of life as Otto.\"\"\")"
      ]
    },
    {
      "cell_type": "markdown",
      "id": "bc58205f",
      "metadata": {
        "id": "bc58205f"
      },
      "source": [
        "You will only need to update `dog_age` with Otto's new equivalent dog age:"
      ]
    },
    {
      "cell_type": "code",
      "execution_count": null,
      "id": "e7652ae2",
      "metadata": {
        "id": "e7652ae2"
      },
      "outputs": [],
      "source": [
        "# Override\n",
        "dog_age = 50/7"
      ]
    },
    {
      "cell_type": "markdown",
      "id": "87549ba8",
      "metadata": {
        "id": "87549ba8"
      },
      "source": [
        "And use the same f-string that you used before without editing. By defining a variable once, you can use it in multiple places, which makes computer programs much more efficient."
      ]
    },
    {
      "cell_type": "code",
      "execution_count": null,
      "id": "9df1557b",
      "metadata": {
        "id": "9df1557b"
      },
      "outputs": [],
      "source": [
        "print(f\"\"\"Otto's dog age is {dog_age}. So a dog that's about\n",
        "{dog_age} would be the same age as Otto. Any dog born about {dog_age}\n",
        "years ago would be in the same stage of life as Otto.\"\"\")"
      ]
    },
    {
      "cell_type": "markdown",
      "id": "c2fd294e",
      "metadata": {
        "id": "c2fd294e"
      },
      "source": [
        "As another example, you can replace the name \"Otto\" with the variable `name` in curly braces."
      ]
    },
    {
      "cell_type": "code",
      "execution_count": null,
      "id": "d75fdd48",
      "metadata": {
        "id": "d75fdd48"
      },
      "outputs": [],
      "source": [
        "print(f\"\"\"{name}'s dog age is {dog_age}. So a dog that's about\n",
        "{dog_age} would be the same age as {name}. Any dog born about {dog_age}\n",
        "years ago would be in the same stage of life as {name}.\"\"\")"
      ]
    },
    {
      "cell_type": "markdown",
      "id": "18ea082a",
      "metadata": {
        "id": "18ea082a"
      },
      "source": [
        "This way, you can change Otto's name to his first and last name:"
      ]
    },
    {
      "cell_type": "code",
      "execution_count": null,
      "id": "1b6d403b",
      "metadata": {
        "id": "1b6d403b"
      },
      "outputs": [],
      "source": [
        "name = \"Otto Liam\""
      ]
    },
    {
      "cell_type": "markdown",
      "id": "8ace1ea1",
      "metadata": {
        "id": "8ace1ea1"
      },
      "source": [
        "## Fix this code\n",
        "And use the f-string where the change is reflected in all places where the variable `name` appears."
      ]
    },
    {
      "cell_type": "code",
      "execution_count": null,
      "id": "21d5d631",
      "metadata": {
        "id": "21d5d631"
      },
      "outputs": [],
      "source": [
        "print(f\"\"\"Ali's dog age is {dog_age}. So a dog that's about\n",
        "{dog_age} would be the same age as Ali. Any dog born about {dog_age}\n",
        "years ago would be in the same stage of life as Ali.\"\"\")"
      ]
    },
    {
      "cell_type": "markdown",
      "id": "0FKmurJqBfQx",
      "metadata": {
        "id": "0FKmurJqBfQx"
      },
      "source": [
        "The following variable names also have some problems. Try to fix them yourself or use the help from the chatbot."
      ]
    },
    {
      "cell_type": "code",
      "execution_count": null,
      "id": "6Fux6w_uBtjs",
      "metadata": {
        "id": "6Fux6w_uBtjs"
      },
      "outputs": [],
      "source": [
        "# Fix this code\n",
        "driver : str = \"unicorn\"\n",
        "driver's vehicle : str = \"colorful, asymmetric dinosaur car\"\n",
        "favorite planet : str = \"Pluto"
      ]
    },
    {
      "cell_type": "code",
      "execution_count": null,
      "id": "eOtdde5hB3LB",
      "metadata": {
        "id": "eOtdde5hB3LB"
      },
      "outputs": [],
      "source": [
        "# Fix this code\n",
        "1favorite-book : str = \"1001 Ways to Wear a Hat\"\n",
        "\"2002 Ways to Wear a Scarf\" = second_fav_book\n",
        "print(f\"My most favorite book is {1favorite-book}, but I also like {second_fav_book})"
      ]
    },
    {
      "cell_type": "markdown",
      "id": "98ec7de7",
      "metadata": {
        "id": "98ec7de7"
      },
      "source": [
        "## Extra practice\n",
        "\n",
        "Try the exercises below to practice the concepts from this lesson. Read the comments in each cell with the instructions for each exercise.\n",
        "\n",
        "<b>Feel free to use the chatbot if you need help.</b>"
      ]
    },
    {
      "cell_type": "code",
      "execution_count": null,
      "id": "4e522416",
      "metadata": {
        "id": "4e522416"
      },
      "outputs": [],
      "source": [
        "# Create a variable called 'my_name' and assign it the value of your name as a string.\n",
        "# Then print out a greeting using the variable, like \"Hello, Andrew!\""
      ]
    },
    {
      "cell_type": "code",
      "execution_count": null,
      "id": "8124eec4",
      "metadata": {
        "id": "8124eec4"
      },
      "outputs": [],
      "source": [
        "# Enter your favorite number below and store it in a variable called 'fav_num'.\n",
        "# Print out a message telling you what your favorite number plus 10 is.\n",
        "fav_num =\n",
        "print(f\"Your favorite number plus 10 is {}\")"
      ]
    },
    {
      "cell_type": "code",
      "execution_count": null,
      "id": "1bc3acdd",
      "metadata": {
        "id": "1bc3acdd"
      },
      "outputs": [],
      "source": [
        "# Create two variables, 'countries_visited' and 'countries_to_visit' and assign them the number of\n",
        "# countries you've been to and the number of countries you hope to visit. Then complete the print statement.\n",
        "\n",
        "\n",
        "\n",
        "print(f\"\"\"I have visited {} countries. I plan to visit {} more countries,\n",
        "      and when I'm done I will have visited {} countries.\"\"\")"
      ]
    },
    {
      "cell_type": "markdown",
      "id": "939ccb88",
      "metadata": {
        "id": "939ccb88"
      },
      "source": [
        "## String Concatenation \"+\" and \",\".And input() and len() function"
      ]
    },
    {
      "cell_type": "markdown",
      "source": [
        "## Quick Reference: String Concatenation, `input()`, and `len()`"
      ],
      "metadata": {
        "id": "zd6I_wpgHg0A"
      },
      "id": "zd6I_wpgHg0A"
    },
    {
      "cell_type": "code",
      "execution_count": null,
      "id": "a651c632",
      "metadata": {
        "id": "a651c632"
      },
      "outputs": [],
      "source": [
        "name: str = input(\"Enter your name: \")"
      ]
    },
    {
      "cell_type": "code",
      "execution_count": null,
      "id": "55638f8e",
      "metadata": {
        "id": "55638f8e"
      },
      "outputs": [],
      "source": [
        "print(type(name))"
      ]
    },
    {
      "cell_type": "code",
      "execution_count": null,
      "id": "b6d94568",
      "metadata": {
        "id": "b6d94568"
      },
      "outputs": [],
      "source": [
        "length : int = len(name)\n",
        "print(length)"
      ]
    },
    {
      "cell_type": "code",
      "execution_count": null,
      "id": "1b945916",
      "metadata": {
        "id": "1b945916"
      },
      "outputs": [],
      "source": [
        "print(\"My name is\" + \" \" + name,\" and it has \", length, \"characters.\")"
      ]
    },
    {
      "cell_type": "code",
      "execution_count": null,
      "id": "f65d4596",
      "metadata": {
        "id": "f65d4596"
      },
      "outputs": [],
      "source": [
        "age : int = input(\"Enter your age: \")\n",
        "print(type(age))"
      ]
    },
    {
      "cell_type": "code",
      "execution_count": null,
      "id": "a68e9c3e",
      "metadata": {
        "id": "a68e9c3e"
      },
      "outputs": [],
      "source": [
        "print(\"your age will be after 10 years\",age+10)"
      ]
    }
  ],
  "metadata": {
    "colab": {
      "provenance": []
    },
    "kernelspec": {
      "display_name": "Python 3",
      "language": "python",
      "name": "python3"
    },
    "language_info": {
      "codemirror_mode": {
        "name": "ipython",
        "version": 3
      },
      "file_extension": ".py",
      "mimetype": "text/x-python",
      "name": "python",
      "nbconvert_exporter": "python",
      "pygments_lexer": "ipython3",
      "version": "3.12.8"
    }
  },
  "nbformat": 4,
  "nbformat_minor": 5
}