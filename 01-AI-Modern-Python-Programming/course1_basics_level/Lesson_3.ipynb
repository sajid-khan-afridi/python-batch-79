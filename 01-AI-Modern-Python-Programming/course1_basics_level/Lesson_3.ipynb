{
  "cells": [
    {
      "cell_type": "markdown",
      "id": "214ecaa7",
      "metadata": {
        "id": "214ecaa7"
      },
      "source": [
        "# Lesson 3: Displaying text and calculations together"
      ]
    },
    {
      "cell_type": "markdown",
      "id": "7b673ff9",
      "metadata": {
        "id": "7b673ff9"
      },
      "source": [
        "You’ve seen that strings are used to store text, while integers and floats are used to store numbers.\n",
        "\n",
        "<b>Strings</b>:\n",
        "\n",
        "- `\"Hello, world\"`\n",
        "\n",
        "- `\"My favorite drink is Earl Grey tea\"`\n",
        "\n",
        "<b>Integers and floats</b>:\n",
        "\n",
        "- `42`\n",
        "\n",
        "- `3.14`\n",
        "\n",
        "You have also seen that you can display data with `print()`:\n",
        "\n",
        "- `print(\"Hello, World!\")`\n",
        "\n",
        "And you can use Python as a calculator:\n",
        "\n",
        "- `print(3 * 4.5)`\n",
        "\n",
        "In this lesson, you will see how to mix computations and strings together to display results in a readable way using Python's f-strings."
      ]
    },
    {
      "cell_type": "code",
      "source": [
        "print(\"Addition: 2+3\")"
      ],
      "metadata": {
        "id": "16Q9KUx1l8j8",
        "outputId": "8555e42f-22b0-44e0-f065-2b66f458b3b7",
        "colab": {
          "base_uri": "https://localhost:8080/"
        }
      },
      "id": "16Q9KUx1l8j8",
      "execution_count": 1,
      "outputs": [
        {
          "output_type": "stream",
          "name": "stdout",
          "text": [
            "Addition: 2+3\n"
          ]
        }
      ]
    },
    {
      "cell_type": "code",
      "execution_count": 5,
      "id": "LWwQ94465n4P",
      "metadata": {
        "id": "LWwQ94465n4P",
        "outputId": "7907f386-de66-45eb-83f2-71fa50552b69",
        "colab": {
          "base_uri": "https://localhost:8080/"
        }
      },
      "outputs": [
        {
          "output_type": "stream",
          "name": "stdout",
          "text": [
            "Average:  -143.33333333333334 a\n"
          ]
        }
      ],
      "source": [
        "# this can be achieved like this\n",
        "print(\"Average: \",-860/6,\"a\")\n"
      ]
    },
    {
      "cell_type": "code",
      "source": [
        "print(\"Hello \"+ \"world\")\n",
        "print(\"Average: \" + 860) # error"
      ],
      "metadata": {
        "id": "joPKFBvjqCgr",
        "outputId": "c06b95c2-942f-481a-f92a-91ba25f2671f",
        "colab": {
          "base_uri": "https://localhost:8080/",
          "height": 176
        }
      },
      "id": "joPKFBvjqCgr",
      "execution_count": 4,
      "outputs": [
        {
          "output_type": "stream",
          "name": "stdout",
          "text": [
            "Hello world\n"
          ]
        },
        {
          "output_type": "error",
          "ename": "TypeError",
          "evalue": "can only concatenate str (not \"int\") to str",
          "traceback": [
            "\u001b[0;31m---------------------------------------------------------------------------\u001b[0m",
            "\u001b[0;31mTypeError\u001b[0m                                 Traceback (most recent call last)",
            "\u001b[0;32m<ipython-input-4-142cf709da2b>\u001b[0m in \u001b[0;36m<cell line: 0>\u001b[0;34m()\u001b[0m\n\u001b[1;32m      1\u001b[0m \u001b[0mprint\u001b[0m\u001b[0;34m(\u001b[0m\u001b[0;34m\"Hello \"\u001b[0m\u001b[0;34m+\u001b[0m \u001b[0;34m\"world\"\u001b[0m\u001b[0;34m)\u001b[0m\u001b[0;34m\u001b[0m\u001b[0;34m\u001b[0m\u001b[0m\n\u001b[0;32m----> 2\u001b[0;31m \u001b[0mprint\u001b[0m\u001b[0;34m(\u001b[0m\u001b[0;34m\"Average: \"\u001b[0m \u001b[0;34m+\u001b[0m \u001b[0;36m860\u001b[0m\u001b[0;34m)\u001b[0m \u001b[0;31m# error\u001b[0m\u001b[0;34m\u001b[0m\u001b[0;34m\u001b[0m\u001b[0m\n\u001b[0m",
            "\u001b[0;31mTypeError\u001b[0m: can only concatenate str (not \"int\") to str"
          ]
        }
      ]
    },
    {
      "cell_type": "code",
      "source": [
        "print(\"Average: \"+\" Hammad\")"
      ],
      "metadata": {
        "id": "3M3Wy3-imbOy",
        "outputId": "68831414-45fa-4c2d-86cf-71abcc76102f",
        "colab": {
          "base_uri": "https://localhost:8080/"
        }
      },
      "id": "3M3Wy3-imbOy",
      "execution_count": 6,
      "outputs": [
        {
          "output_type": "stream",
          "name": "stdout",
          "text": [
            "Average:  Hammad\n"
          ]
        }
      ]
    },
    {
      "cell_type": "markdown",
      "id": "9e17dcfc",
      "metadata": {
        "id": "9e17dcfc"
      },
      "source": [
        "## Mixing strings with computations or data: f-Strings"
      ]
    },
    {
      "cell_type": "markdown",
      "id": "fe7c44ec",
      "metadata": {
        "id": "fe7c44ec"
      },
      "source": [
        "If you wanted to display the equivalent degrees Celsius to a temperature in degrees Fahrenheit, you would do something like this:"
      ]
    },
    {
      "cell_type": "code",
      "execution_count": null,
      "id": "b25dbb3d",
      "metadata": {
        "id": "b25dbb3d"
      },
      "outputs": [],
      "source": [
        "print(((75 - 32) * 5 / 9))"
      ]
    },
    {
      "cell_type": "markdown",
      "id": "c46cd21a",
      "metadata": {
        "id": "c46cd21a"
      },
      "source": [
        "Now, if you wanted to display that degrees conversion using a string that included the computation, you could try:"
      ]
    },
    {
      "cell_type": "code",
      "execution_count": null,
      "id": "e0c8dbb3",
      "metadata": {
        "id": "e0c8dbb3"
      },
      "outputs": [],
      "source": [
        "print(\"The temperature 75F in degrees Celsius is ((75 - 32) * 5 / 9)C\")"
      ]
    },
    {
      "cell_type": "markdown",
      "id": "96d232d1",
      "metadata": {
        "id": "96d232d1"
      },
      "source": [
        "But that doesn't work. It gives you back the formula, but it doesn't actually convert from degrees Fahrenheit to Celsius.\n",
        "\n",
        "To print the result of the computation within that string rather than just the formula, you can use what is called an <b>f-string</b> in Python which looks like this:"
      ]
    },
    {
      "cell_type": "markdown",
      "source": [
        "### Try yourself"
      ],
      "metadata": {
        "id": "AWTX1wunupIj"
      },
      "id": "AWTX1wunupIj"
    },
    {
      "cell_type": "code",
      "source": [
        "# Make it work: Convert 75°F to Celsius and print the result\n",
        "print(\"The temperature 75F in degrees Celsius is ((75 - 32) * 5 / 9)C\")"
      ],
      "metadata": {
        "id": "f6qZsRI7uqK-"
      },
      "id": "f6qZsRI7uqK-",
      "execution_count": null,
      "outputs": []
    },
    {
      "cell_type": "code",
      "source": [
        "print(f\"Addition:  {2+3}   subtraction: {4-3}\")"
      ],
      "metadata": {
        "id": "_JldMHd0nHxK",
        "outputId": "53145153-7904-4465-db69-936812372a81",
        "colab": {
          "base_uri": "https://localhost:8080/"
        }
      },
      "id": "_JldMHd0nHxK",
      "execution_count": 7,
      "outputs": [
        {
          "output_type": "stream",
          "name": "stdout",
          "text": [
            "Addition:  5   subtraction: 1\n"
          ]
        }
      ]
    },
    {
      "cell_type": "code",
      "source": [
        "# using escape sequence and using multiple line string with f-string\n",
        "\n",
        "# -----output------\n",
        "# Multiplication: 10meters\n",
        "# Division: 2 meters"
      ],
      "metadata": {
        "id": "cZ92MkINsURs"
      },
      "id": "cZ92MkINsURs",
      "execution_count": null,
      "outputs": []
    },
    {
      "cell_type": "code",
      "source": [
        "print(f\"\"\"Multiplication: {2*5}meters\n",
        "Division: {10/2} meters\"\"\")"
      ],
      "metadata": {
        "id": "wLtoKwHUu5Dv",
        "outputId": "a50945d4-ab34-4a05-aff5-7adbba29191f",
        "colab": {
          "base_uri": "https://localhost:8080/"
        }
      },
      "id": "wLtoKwHUu5Dv",
      "execution_count": 9,
      "outputs": [
        {
          "output_type": "stream",
          "name": "stdout",
          "text": [
            "Multiplication: 10meters  \n",
            "Division: 5.0 meters\n"
          ]
        }
      ]
    },
    {
      "cell_type": "code",
      "execution_count": 10,
      "id": "a434574b",
      "metadata": {
        "id": "a434574b",
        "outputId": "5db0bc72-161f-4945-b99b-c5212aadcc32",
        "colab": {
          "base_uri": "https://localhost:8080/"
        }
      },
      "outputs": [
        {
          "output_type": "stream",
          "name": "stdout",
          "text": [
            "The temperature 75F in degrees celsius is 23.88888888888889C\n"
          ]
        }
      ],
      "source": [
        "print(f\"The temperature 75F in degrees celsius is {(75 - 32) * 5 / 9}C\")"
      ]
    },
    {
      "cell_type": "markdown",
      "id": "b0ff33f8",
      "metadata": {
        "id": "b0ff33f8"
      },
      "source": [
        "There, I have written `f` (for formatted) before the quotation marks that denote a string, and I included the computation within curly braces `{(75 - 32) * 5 / 9}`. The f in an f-string tells Python that the string can include placeholders (inside { }) where you can put variables or calculations. Python will replace those placeholders with their actual values when the string is created."
      ]
    },
    {
      "cell_type": "markdown",
      "id": "b8081f54",
      "metadata": {
        "id": "b8081f54"
      },
      "source": [
        "## Determining how data is displayed in f-strings"
      ]
    },
    {
      "cell_type": "markdown",
      "id": "1ad2fbac",
      "metadata": {
        "id": "1ad2fbac"
      },
      "source": [
        "Let's go through another example. You can print Isabel's age as follows:\n"
      ]
    },
    {
      "cell_type": "code",
      "execution_count": 11,
      "id": "11225cfb",
      "metadata": {
        "id": "11225cfb",
        "outputId": "f49ada38-fa47-4730-9335-c7479fd407c5",
        "colab": {
          "base_uri": "https://localhost:8080/"
        }
      },
      "outputs": [
        {
          "output_type": "stream",
          "name": "stdout",
          "text": [
            "Isabel is 29 years old.\n"
          ]
        }
      ],
      "source": [
        "print(\"Isabel is 29 years old.\")"
      ]
    },
    {
      "cell_type": "markdown",
      "id": "434aa478",
      "metadata": {
        "id": "434aa478"
      },
      "source": [
        "In some countries, there exists the concept of dog age. Since people live longer than dogs on average, someone's dog age is supposed to be one-seventh of their real human age. So, if you wanted to compute and display Isabel's dog age in a readable way, you wouldn't use a regular string like the one below."
      ]
    },
    {
      "cell_type": "code",
      "execution_count": 12,
      "id": "3fb5fdb4",
      "metadata": {
        "id": "3fb5fdb4",
        "outputId": "67ba77b4-4617-4e75-cf78-3c34f603c554",
        "colab": {
          "base_uri": "https://localhost:8080/"
        }
      },
      "outputs": [
        {
          "output_type": "stream",
          "name": "stdout",
          "text": [
            "Isabel is 29/7 dog years old.\n"
          ]
        }
      ],
      "source": [
        "print(\"Isabel is 29/7 dog years old.\")"
      ]
    },
    {
      "cell_type": "markdown",
      "id": "aec3622b",
      "metadata": {
        "id": "aec3622b"
      },
      "source": [
        "Instead, you would use an f-string that includes the dog age equivalency computation as in the temperature conversion example."
      ]
    },
    {
      "cell_type": "code",
      "execution_count": 18,
      "id": "8b166959",
      "metadata": {
        "id": "8b166959",
        "outputId": "d4aa19ba-d30c-4af3-cc7e-d86226fa0fc9",
        "colab": {
          "base_uri": "https://localhost:8080/"
        }
      },
      "outputs": [
        {
          "output_type": "stream",
          "name": "stdout",
          "text": [
            "Isabel is 4.142857142857143 dog years old.\n"
          ]
        }
      ],
      "source": [
        "print(f\"Isabel is {29/7} dog years old.\")"
      ]
    },
    {
      "cell_type": "markdown",
      "id": "8a177221",
      "metadata": {
        "id": "8a177221"
      },
      "source": [
        "Now, you see that the last print statement did work, but it displayed the number with decimal place. What if you wanted to display a whole number, which is much more natural when speaking about ages? You can use the chatbot to answer that question. Feel free to copy and paste the prompt provided below or use your own, using it as a guideline:\n",
        "\n",
        "<p style=\"background-color:#F5C780; padding:15px\"> 🤖 <b>Use the Chatbot</b>: Modify this code to print the answer without any characters after the decimal place: print(f\"Isabel's dog age is {28/7}.\")  \n",
        "</p>\n"
      ]
    },
    {
      "cell_type": "markdown",
      "id": "60469567",
      "metadata": {
        "id": "60469567"
      },
      "source": [
        "If you used that prompt, or another similar one, you would have gotten the code provided below."
      ]
    },
    {
      "cell_type": "code",
      "execution_count": 19,
      "id": "c8cb9777",
      "metadata": {
        "id": "c8cb9777",
        "outputId": "cbd8277f-2305-45c7-c189-da5aae313555",
        "colab": {
          "base_uri": "https://localhost:8080/"
        }
      },
      "outputs": [
        {
          "output_type": "stream",
          "name": "stdout",
          "text": [
            "Isabel is 4.14 dog years old.\n"
          ]
        }
      ],
      "source": [
        "print(f\"Isabel is {29/7:.2f} dog years old.\")"
      ]
    },
    {
      "cell_type": "code",
      "source": [
        "#other ways\n",
        "print(33/7)\n",
        "print(f\"Isabel's dog age is {round(33/7)}.\")  # rounded to nearest whole number\n",
        "print(f\"Isabel's dog age is {int(33/7)}.\")    # converted to integer (truncates decimals)\n",
        "print(f\"Isabel's dog age is {33//7}.\")        # # floor division (also removes decimal part)"
      ],
      "metadata": {
        "id": "Xzwi_Yufqz20",
        "outputId": "4ce7f089-d164-4aa8-e802-649e498301e4",
        "colab": {
          "base_uri": "https://localhost:8080/"
        }
      },
      "id": "Xzwi_Yufqz20",
      "execution_count": 28,
      "outputs": [
        {
          "output_type": "stream",
          "name": "stdout",
          "text": [
            "4.714285714285714\n",
            "Isabel's dog age is 5.\n",
            "Isabel's dog age is 4.\n",
            "Isabel's dog age is 4.\n"
          ]
        }
      ]
    },
    {
      "cell_type": "code",
      "source": [
        "print(round(1.4))\n",
        "\n"
      ],
      "metadata": {
        "id": "GLp52KFNwLQO",
        "outputId": "26f1681c-0141-4e29-ba71-26cdd67c5538",
        "colab": {
          "base_uri": "https://localhost:8080/"
        }
      },
      "id": "GLp52KFNwLQO",
      "execution_count": 21,
      "outputs": [
        {
          "output_type": "stream",
          "name": "stdout",
          "text": [
            "1\n"
          ]
        }
      ]
    },
    {
      "cell_type": "code",
      "source": [
        "print(int(1.9))"
      ],
      "metadata": {
        "id": "8NsNRHJCwald",
        "outputId": "7267a027-810a-4227-8b93-6ab342de2bc0",
        "colab": {
          "base_uri": "https://localhost:8080/"
        }
      },
      "id": "8NsNRHJCwald",
      "execution_count": 22,
      "outputs": [
        {
          "output_type": "stream",
          "name": "stdout",
          "text": [
            "1\n"
          ]
        }
      ]
    },
    {
      "cell_type": "code",
      "source": [
        "print(5//2)"
      ],
      "metadata": {
        "id": "0jSsp36BwjuF",
        "outputId": "51ac0d9b-19ae-4d56-81b9-aa1d00f033a8",
        "colab": {
          "base_uri": "https://localhost:8080/"
        }
      },
      "id": "0jSsp36BwjuF",
      "execution_count": 25,
      "outputs": [
        {
          "output_type": "stream",
          "name": "stdout",
          "text": [
            "2\n"
          ]
        }
      ]
    },
    {
      "cell_type": "markdown",
      "id": "b8f96a44",
      "metadata": {
        "id": "b8f96a44"
      },
      "source": [
        "In `f\"{28/7:.0f}\"`, the `:.0f` part tells Python to display the result of `28/7` without any decimal places. You don’t need to worry too much about the details, but the `f` in `:.0f` indicates that the number is a floating-point number and should be formatted accordingly. This means it will be rounded to the nearest whole number and displayed without any decimal part."
      ]
    },
    {
      "cell_type": "markdown",
      "id": "abe5e612",
      "metadata": {
        "id": "abe5e612"
      },
      "source": [
        "<b>You just used AI to help you code!</b> You provided it with a piece of code that works in one way (displaying a number with decimal places) and asked it to modify it to work in a different way (displaying a number without decimal places).\n",
        "\n",
        "<b>Congratulations 🎉🎉🎉</b>"
      ]
    },
    {
      "cell_type": "markdown",
      "id": "8b16c40d",
      "metadata": {
        "id": "8b16c40d"
      },
      "source": [
        "## Multi-line f-strings"
      ]
    },
    {
      "cell_type": "markdown",
      "id": "177387db",
      "metadata": {
        "id": "177387db"
      },
      "source": [
        "So far, you have worked with strings that have a relatively small length. For lengthy strings, you will use multi-line strings, which are easier to read in a code editor.\n",
        "\n",
        "The following multi-line f-string includes a description of how Americans use measurements in units that are not in the metric system. It displays the equivalent milliliters (ml) for 8 fluid ounces of milk and the equivalent fluid ounces to 100 ml of water."
      ]
    },
    {
      "cell_type": "code",
      "execution_count": null,
      "id": "01f5be22",
      "metadata": {
        "id": "01f5be22"
      },
      "outputs": [],
      "source": [
        "print(f\"\"\"\n",
        "    Most countries use the metric system for recipe measurement,\n",
        "    but American bakers use a different system. For example, they use\n",
        "    fluid ounces to measure liquids instead of milliliters (ml).\n",
        "\n",
        "    So you need to convert recipe units to your local measuring system!\n",
        "\n",
        "    For example, 8 fluid ounces of milk is {int(8 * 29.5735)} ml.\n",
        "    And 100ml of water is {100 // 29.5735} fluid ounces.\n",
        "\"\"\")"
      ]
    },
    {
      "cell_type": "markdown",
      "id": "acc8ec4c",
      "metadata": {
        "id": "acc8ec4c"
      },
      "source": [
        "As you see there, you have to use triple quotes `\"\"\"` instead of single quotes `\"` for multi-line strings, and you have multiple lines with text and computations; but besides that, everything works pretty much the same way."
      ]
    },
    {
      "cell_type": "markdown",
      "id": "65bf114b",
      "metadata": {
        "id": "65bf114b"
      },
      "source": [
        "You may have noticed that the way you are using f-strings right now is not that easy to read. All those numbers inside the curly braces don't let you see at a glance what the output is going to be, and if you have lots of calculations, it can be distracting.\n",
        "\n",
        "In the next lesson, you'll see how to make your code easier to read, more flexible and reusable at the same time."
      ]
    },
    {
      "cell_type": "markdown",
      "id": "630c7ed6",
      "metadata": {
        "id": "630c7ed6"
      },
      "source": [
        "## Extra practice\n",
        "\n",
        "Try the exercises below to practice the concepts from this lesson. Read the comments in each cell with the instructions for each exercise.\n",
        "\n",
        "<b>Feel free to use the chatbot if you need help.</b>"
      ]
    },
    {
      "cell_type": "code",
      "execution_count": null,
      "id": "98b11e54",
      "metadata": {
        "id": "98b11e54"
      },
      "outputs": [],
      "source": [
        "# Modify the code to print your age\n",
        "print(f\"I am {} years old.\")n"
      ]
    },
    {
      "cell_type": "code",
      "execution_count": null,
      "id": "e815ac9d",
      "metadata": {
        "id": "e815ac9d"
      },
      "outputs": [],
      "source": [
        "# Fix this code\n",
        "print(f\"There are {365/7 weeks in a year\")"
      ]
    },
    {
      "cell_type": "code",
      "execution_count": null,
      "id": "1bddecfc",
      "metadata": {
        "id": "1bddecfc"
      },
      "outputs": [],
      "source": [
        "# Complete the code\n",
        "print(f\"The area of a square with side 5 cm is {} cm squared.\")"
      ]
    },
    {
      "cell_type": "code",
      "execution_count": 33,
      "id": "fcd07d9b",
      "metadata": {
        "id": "fcd07d9b",
        "outputId": "6acab4a4-fcf4-4d48-c1e6-5673c061ccaf",
        "colab": {
          "base_uri": "https://localhost:8080/"
        }
      },
      "outputs": [
        {
          "output_type": "stream",
          "name": "stdout",
          "text": [
            "The house was a good size: 1200 square feet, or 111.5 meters squared!\n",
            "The house was a good size: 1200 square feet, or 111.4836 meters squared!\n"
          ]
        }
      ],
      "source": [
        "# Modify the code to display one decimal place\n",
        "print(f\"The house was a good size: 1200 square feet, or {1200 * 0.092903:.1f} meters squared!\")\n",
        "print(f\"The house was a good size: 1200 square feet, or {1200 * 0.092903} meters squared!\")"
      ]
    },
    {
      "cell_type": "code",
      "source": [
        "# Modify the code to display one decimal place\n",
        "print(f\"The house was a good size: 1200 square feet, or {round(1200 * 0.092903,1)} meters squared!\")"
      ],
      "metadata": {
        "id": "FD-UZXZxyjXC",
        "outputId": "b5e249ec-a397-4704-a190-c784bb31f4f6",
        "colab": {
          "base_uri": "https://localhost:8080/"
        }
      },
      "id": "FD-UZXZxyjXC",
      "execution_count": 31,
      "outputs": [
        {
          "output_type": "stream",
          "name": "stdout",
          "text": [
            "The house was a good size: 1200 square feet, or 111.5 meters squared!\n"
          ]
        }
      ]
    }
  ],
  "metadata": {
    "colab": {
      "provenance": []
    },
    "kernelspec": {
      "display_name": "Python 3",
      "language": "python",
      "name": "python3"
    },
    "language_info": {
      "codemirror_mode": {
        "name": "ipython",
        "version": 3
      },
      "file_extension": ".py",
      "mimetype": "text/x-python",
      "name": "python",
      "nbconvert_exporter": "python",
      "pygments_lexer": "ipython3",
      "version": "3.12.8"
    }
  },
  "nbformat": 4,
  "nbformat_minor": 5
}