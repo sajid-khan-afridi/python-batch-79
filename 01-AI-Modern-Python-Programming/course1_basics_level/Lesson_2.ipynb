{
  "cells": [
    {
      "cell_type": "markdown",
      "metadata": {
        "id": "eo-DJalIxEIO"
      },
      "source": [
        "# Lesson 2: Data in Python"
      ]
    },
    {
      "cell_type": "markdown",
      "metadata": {
        "id": "yOxApbnsxEIY"
      },
      "source": [
        "There are different types of data in Python. Here, you will see how text and numbers are used in Python."
      ]
    },
    {
      "cell_type": "markdown",
      "metadata": {
        "id": "6oHiLEzRxEIZ"
      },
      "source": [
        "## Strings"
      ]
    },
    {
      "cell_type": "markdown",
      "metadata": {
        "id": "06T0feC6xEIa"
      },
      "source": [
        "Strings are used to store and manipulate text. As you see here, strings are written inside of quotes and can contain letters, numbers, punctuation marks, and other special characters. Run the following cells to print these four different strings."
      ]
    },
    {
      "cell_type": "code",
      "execution_count": null,
      "metadata": {
        "id": "BV2nC7GtxEIc"
      },
      "outputs": [],
      "source": [
        "print(\"Hello, World\")"
      ]
    },
    {
      "cell_type": "code",
      "execution_count": null,
      "metadata": {
        "id": "zsDFVoG3xEIh"
      },
      "outputs": [],
      "source": [
        "print(\"My favorite drink is Earl Grey tea.\")"
      ]
    },
    {
      "cell_type": "code",
      "execution_count": null,
      "metadata": {
        "id": "5XO0JFkXxEIj"
      },
      "outputs": [],
      "source": [
        "print(\"¯\\_(ツ)_/¯\")"
      ]
    },
    {
      "cell_type": "code",
      "execution_count": null,
      "metadata": {
        "id": "AaRUPn1AxEIl"
      },
      "outputs": [],
      "source": [
        "print(\"2.99\")"
      ]
    },
    {
      "cell_type": "code",
      "source": [
        "print('hello, World') # single quotes can be used."
      ],
      "metadata": {
        "id": "aBw7jkV7pUsP"
      },
      "execution_count": null,
      "outputs": []
    },
    {
      "cell_type": "code",
      "source": [
        "print(\"hello123\")"
      ],
      "metadata": {
        "id": "t5SzpUmKpkuo",
        "outputId": "b24ae6d5-97b8-47bc-b040-17c09bea5901",
        "colab": {
          "base_uri": "https://localhost:8080/"
        }
      },
      "execution_count": 1,
      "outputs": [
        {
          "output_type": "stream",
          "name": "stdout",
          "text": [
            "hello123\n"
          ]
        }
      ]
    },
    {
      "cell_type": "code",
      "source": [
        "#Name: Sajid\n",
        "#Roll#: 11\n",
        "#address: peshawar"
      ],
      "metadata": {
        "id": "SdmND_5zTQA1"
      },
      "execution_count": null,
      "outputs": []
    },
    {
      "cell_type": "code",
      "source": [
        "print(\"Name: Sajid\")\n",
        "print(\"Roll#: 11\")\n",
        "print(\"address: peshawar\")"
      ],
      "metadata": {
        "id": "zxtEVGJiTaA1",
        "outputId": "5a725607-4b56-4447-eb96-a6d23263f106",
        "colab": {
          "base_uri": "https://localhost:8080/"
        }
      },
      "execution_count": 2,
      "outputs": [
        {
          "output_type": "stream",
          "name": "stdout",
          "text": [
            "Name: Sajid\n",
            "Roll#: 11\n",
            "address: peshawar\n"
          ]
        }
      ]
    },
    {
      "cell_type": "code",
      "source": [
        "print(\"\"\"\n",
        "Name: Sajid\n",
        "Roll#: 11\n",
        "address: peshawar\n",
        "\"\"\")"
      ],
      "metadata": {
        "id": "w8FyE7yxTk6Z",
        "outputId": "d89af23e-7c63-43f4-f859-95ae54724a63",
        "colab": {
          "base_uri": "https://localhost:8080/"
        }
      },
      "execution_count": 3,
      "outputs": [
        {
          "output_type": "stream",
          "name": "stdout",
          "text": [
            "\n",
            "Name: Sajid\n",
            "Roll#: 11\n",
            "address: peshawar\n",
            "\n"
          ]
        }
      ]
    },
    {
      "cell_type": "markdown",
      "metadata": {
        "id": "Vq0YMxY-xEIm"
      },
      "source": [
        "## Multiline strings"
      ]
    },
    {
      "cell_type": "markdown",
      "metadata": {
        "id": "FlDTHCt2xEIn"
      },
      "source": [
        "If you use triple quotation marks, you can store a multiline string. These strings can span more than one line. When you run the following cell, you will see how the spaces in the second line are actually read as characters for the string."
      ]
    },
    {
      "cell_type": "code",
      "execution_count": 4,
      "metadata": {
        "id": "Zrhq4JIJxEIo",
        "outputId": "9b34923d-7b06-460a-c687-5cc51962c965",
        "colab": {
          "base_uri": "https://localhost:8080/"
        }
      },
      "outputs": [
        {
          "output_type": "stream",
          "name": "stdout",
          "text": [
            "Hello, World!\n",
            "  It's great to be here!\n"
          ]
        }
      ],
      "source": [
        "print(\"\"\"Hello, World!\n",
        "  It's great to be here!\"\"\")"
      ]
    },
    {
      "cell_type": "code",
      "source": [
        "print(\"Name: Sajid\\nRoll#: 11\\naddress: peshawar\")"
      ],
      "metadata": {
        "id": "NZ_Oyh2RUHSk",
        "outputId": "f411dbf0-6bb5-4cfd-921f-6035bda0a189",
        "colab": {
          "base_uri": "https://localhost:8080/"
        }
      },
      "execution_count": 6,
      "outputs": [
        {
          "output_type": "stream",
          "name": "stdout",
          "text": [
            "Name: Sajid\n",
            "Roll#: 11\n",
            "address: peshawar\n"
          ]
        }
      ]
    },
    {
      "cell_type": "markdown",
      "metadata": {
        "id": "W70A-_WZtPRG"
      },
      "source": [
        "### Escape Sequence to format strings"
      ]
    },
    {
      "cell_type": "code",
      "execution_count": null,
      "metadata": {
        "id": "ONUSiV8utOZz"
      },
      "outputs": [],
      "source": [
        "print(\"Hello Python Developer!\\n\\tHow are you?\")"
      ]
    },
    {
      "cell_type": "markdown",
      "metadata": {
        "id": "uH6BHZr9xEIp"
      },
      "source": [
        "Trying to define a multiline string using single quotes or double quotes will lead to errors."
      ]
    },
    {
      "cell_type": "code",
      "source": [
        "print(\"It\\\"s ok\")"
      ],
      "metadata": {
        "id": "fPBoU9LseTxd",
        "outputId": "77b87c84-79db-4089-8162-e7a60a4908f2",
        "colab": {
          "base_uri": "https://localhost:8080/"
        }
      },
      "execution_count": 7,
      "outputs": [
        {
          "output_type": "stream",
          "name": "stdout",
          "text": [
            "It\"s ok\n"
          ]
        }
      ]
    },
    {
      "cell_type": "code",
      "source": [
        "print(\"It\\\"s ok\")\n",
        "print(\"\"\"It\"s ok\"\"\")\n",
        "print('It\"s ok')"
      ],
      "metadata": {
        "id": "_NbHBd9wVnO5",
        "outputId": "5326dd13-b55b-48bd-95e2-5b06d7062d68",
        "colab": {
          "base_uri": "https://localhost:8080/"
        }
      },
      "execution_count": 8,
      "outputs": [
        {
          "output_type": "stream",
          "name": "stdout",
          "text": [
            "It\"s ok\n",
            "It\"s ok\n",
            "It\"s ok\n"
          ]
        }
      ]
    },
    {
      "cell_type": "code",
      "execution_count": null,
      "metadata": {
        "id": "bWT4t7qHxEIq"
      },
      "outputs": [],
      "source": [
        "print(\"Hello, World!\n",
        "It's great to be here!\")"
      ]
    },
    {
      "cell_type": "markdown",
      "metadata": {
        "id": "XAynYfwJxEIq"
      },
      "source": [
        "## The type() function"
      ]
    },
    {
      "cell_type": "markdown",
      "metadata": {
        "id": "200qC5p4xEIr"
      },
      "source": [
        "In Python, you can check the type of any data that you are using. To check the data type, you can use the `type()` function. When you run the next cell, you will retrieve the type for the string `\"Andrew\"`."
      ]
    },
    {
      "cell_type": "code",
      "execution_count": null,
      "metadata": {
        "id": "yQCK1jX-xEIr"
      },
      "outputs": [],
      "source": [
        "type(\"Andrew\")\n"
      ]
    },
    {
      "cell_type": "markdown",
      "metadata": {
        "id": "FlqRHk3VxEIr"
      },
      "source": [
        "Python returned `str`, which is short for string. Let's check the type for a multiline string:"
      ]
    },
    {
      "cell_type": "code",
      "execution_count": null,
      "metadata": {
        "id": "uHF3ul2oxEIs"
      },
      "outputs": [],
      "source": [
        "type(\"\"\"\n",
        "Numbers, text, and truth,\n",
        "Strings, ints, and floats in our code,\n",
        "Data shapes our path\n",
        "\"\"\")"
      ]
    },
    {
      "cell_type": "markdown",
      "metadata": {
        "id": "Bkiu9DZHxEIs"
      },
      "source": [
        "This also returns `str`, since it is also a string. Let's try a number within quotation marks:"
      ]
    },
    {
      "cell_type": "code",
      "execution_count": null,
      "metadata": {
        "id": "N6NXzJgGxEIs"
      },
      "outputs": [],
      "source": [
        "type(\"2.99\")"
      ]
    },
    {
      "cell_type": "markdown",
      "metadata": {
        "id": "hAICHrzLxEIt"
      },
      "source": [
        "This is also a string, even though it looks like a number. By using quotation marks you're telling Python to treat it as text, rather than a number. What about a number without quotes?"
      ]
    },
    {
      "cell_type": "code",
      "execution_count": null,
      "metadata": {
        "id": "3TTnBhuKxEIt"
      },
      "outputs": [],
      "source": [
        "type(100)"
      ]
    },
    {
      "cell_type": "markdown",
      "metadata": {
        "id": "fNnDKTkExEIt"
      },
      "source": [
        "This time you get `int`, which is short for integer. Integers are the positive and negative whole numbers, like 42, 100, -9, and 0. Since there are no quotes around the number Python assumes this is numerical data, and since there is no decimal place on this number, it interprets it as an integer. Now, let's try a number that does have decimal places:"
      ]
    },
    {
      "cell_type": "code",
      "execution_count": null,
      "metadata": {
        "id": "5uV5GVqcxEIu"
      },
      "outputs": [],
      "source": [
        "type(2.99)"
      ]
    },
    {
      "cell_type": "markdown",
      "metadata": {
        "id": "FK-2r1fZxEIu"
      },
      "source": [
        "The function type gives `float`, which is the data type used to store floating point numbers. Floating point numbers are positive and negative numbers that include a decimal place, like 3.14, 2.99, and -0.003."
      ]
    },
    {
      "cell_type": "code",
      "execution_count": null,
      "metadata": {
        "id": "6bJgQx54TtYB"
      },
      "outputs": [],
      "source": [
        "print(type(\"2.99\"))\n",
        "print(type(100))\n",
        "print(type(2.99))"
      ]
    },
    {
      "cell_type": "markdown",
      "metadata": {
        "id": "fI0qPZRYxEIu"
      },
      "source": [
        "## Python as a calculator!"
      ]
    },
    {
      "cell_type": "markdown",
      "metadata": {
        "id": "VcQy6zgxxEIu"
      },
      "source": [
        "Python works great for quick arithmetic operations. For instance, if you had a lemonade stand, and wanted to compute the total number of sales you made through the last 12 months, you can use Python like this:"
      ]
    },
    {
      "cell_type": "code",
      "execution_count": null,
      "metadata": {
        "id": "VYTfIsYfxEIu"
      },
      "outputs": [],
      "source": [
        "print(28+35+43+50+65+70+68+66+75+80+95) # + - * / ** %"
      ]
    },
    {
      "cell_type": "markdown",
      "metadata": {
        "id": "HBW9XVOFxEIv"
      },
      "source": [
        "As another example, you can perform more advanced math, like computing the compound interest after 10 years at a rate of 5%. To do that, you can compute 1.05 to the power of 10. Not sure how to do it in Python? You can use the Chatbot!"
      ]
    },
    {
      "cell_type": "markdown",
      "metadata": {
        "id": "2PCX2_YOxEIv"
      },
      "source": [
        "<p style=\"background-color:#F5C780; padding:15px\"> 🤖 <b>Use the Chatbot</b>: How do I compute 4 to the power of 3? in print function\n",
        "</p>"
      ]
    },
    {
      "cell_type": "code",
      "execution_count": null,
      "metadata": {
        "id": "xdsMw3dWxEIw"
      },
      "outputs": [],
      "source": [
        "print(\"Complete with chatbot code\")"
      ]
    },
    {
      "cell_type": "markdown",
      "metadata": {
        "id": "njpUgxSoxEIw"
      },
      "source": [
        "### Order of operations"
      ]
    },
    {
      "cell_type": "markdown",
      "metadata": {
        "id": "YquwIpzixEIw"
      },
      "source": [
        "The order of operations in Python is the same as in arithmetic. First, you compute parenthesis, then exponents, then you multiply and divide (from left to right), and finally, you add and subtract (from left to right).\n",
        "\n",
        "So, if you are trying to convert from Fahrenheit to Celsius, the following cell will give you an incorrect answer:"
      ]
    },
    {
      "cell_type": "code",
      "execution_count": null,
      "metadata": {
        "id": "FopT7_YExEIx"
      },
      "outputs": [],
      "source": [
        "print(75 - 32 * 5 / 9)"
      ]
    },
    {
      "cell_type": "markdown",
      "metadata": {
        "id": "-DuidqflxEIx"
      },
      "source": [
        "Whereas the computation in the following cell is correct."
      ]
    },
    {
      "cell_type": "code",
      "execution_count": null,
      "metadata": {
        "id": "ZxzrofyzxEIx"
      },
      "outputs": [],
      "source": [
        "print((75 - 32) * 5 / 9)"
      ]
    },
    {
      "cell_type": "markdown",
      "metadata": {
        "id": "RwcpMP45xEIy"
      },
      "source": [
        "### Try for yourself!\n",
        "Try printing text with mixed numbers and letters, or just symbols, then check the type. Try multiline strings using the triple quotes. If you make any mistakes, then use the chatbot for help."
      ]
    },
    {
      "cell_type": "code",
      "execution_count": null,
      "metadata": {
        "id": "E_Ju9SeLxEIy"
      },
      "outputs": [],
      "source": [
        "print()"
      ]
    },
    {
      "cell_type": "code",
      "execution_count": null,
      "metadata": {
        "id": "v3iLRHgbxEIy"
      },
      "outputs": [],
      "source": [
        "type()"
      ]
    },
    {
      "cell_type": "markdown",
      "metadata": {
        "id": "xLoOxFGFxEI5"
      },
      "source": [
        "### Fix the errors in the following code cells."
      ]
    },
    {
      "cell_type": "code",
      "execution_count": null,
      "metadata": {
        "id": "vXMDR5-0xEI5"
      },
      "outputs": [],
      "source": [
        "# Fix the error in the following code\n",
        "print(There are 366 days in a leap year\")"
      ]
    },
    {
      "cell_type": "code",
      "execution_count": null,
      "metadata": {
        "id": "8THJ9jPtxEI6"
      },
      "outputs": [],
      "source": [
        "# Fix the error in the following code\n",
        "print(\"There are 366\n",
        "days in a leap year\")"
      ]
    },
    {
      "cell_type": "markdown",
      "metadata": {
        "id": "bk5wgqRjxEI6"
      },
      "source": [
        "A foot was defined as exactly 0.3048 meters. Convert 6 feet to meters.\n",
        "\n",
        "---\n",
        "\n"
      ]
    },
    {
      "cell_type": "code",
      "execution_count": null,
      "metadata": {
        "id": "WThq77ElxEI7"
      },
      "outputs": [],
      "source": [
        "# Write code to convert 6 feet to meters in print function\n",
        "print(\"Convert 6 feet to meters\")\n"
      ]
    }
  ],
  "metadata": {
    "colab": {
      "collapsed_sections": [
        "fI0qPZRYxEIu"
      ],
      "provenance": []
    },
    "kernelspec": {
      "display_name": "Python 3 (ipykernel)",
      "language": "python",
      "name": "python3"
    },
    "language_info": {
      "codemirror_mode": {
        "name": "ipython",
        "version": 3
      },
      "file_extension": ".py",
      "mimetype": "text/x-python",
      "name": "python",
      "nbconvert_exporter": "python",
      "pygments_lexer": "ipython3",
      "version": "3.9.19"
    }
  },
  "nbformat": 4,
  "nbformat_minor": 0
}