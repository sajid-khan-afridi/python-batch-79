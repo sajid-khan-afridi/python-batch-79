{
  "cells": [
    {
      "cell_type": "markdown",
      "metadata": {
        "id": "qm23VtUSFX9w"
      },
      "source": [
        "# Object-Oriented Programming (OOP) in Python\n",
        "\n",
        "This notebook provides a clear and concise introduction to Object-Oriented Programming (OOP) in Python, covering core concepts, the four pillars of OOP, and a practical Mini Zoo Simulator project to demonstrate their application."
      ]
    },
    {
      "cell_type": "markdown",
      "metadata": {
        "id": "J47RIZVtFX9z"
      },
      "source": [
        "## 1. Everything in Python is an Object\n",
        "\n",
        "In Python, **everything is an object**, including primitive types like integers and strings. Objects are instances of **classes**, which act as blueprints defining attributes (data) and methods (behaviors)."
      ]
    },
    {
      "cell_type": "markdown",
      "metadata": {
        "id": "5upPCRlsFX9z"
      },
      "source": [
        "### Example: Objects and Types"
      ]
    },
    {
      "cell_type": "code",
      "execution_count": null,
      "metadata": {
        "id": "2tNANOIzFX90",
        "outputId": "7b70a204-5cc5-498e-c613-b1453f15d3f8",
        "colab": {
          "base_uri": "https://localhost:8080/"
        }
      },
      "outputs": [
        {
          "output_type": "stream",
          "name": "stdout",
          "text": [
            "<class 'int'>\n",
            "<class 'type'>\n",
            "<class 'type'>\n"
          ]
        }
      ],
      "source": [
        "x = 10\n",
        "print(type(x))        # Output: <class 'int'>\n",
        "print(type(int))      # Output: <class 'type'>\n",
        "print(type(type))     # Output: <class 'type'>"
      ]
    },
    {
      "cell_type": "markdown",
      "metadata": {
        "id": "5jYUCCNbFX91"
      },
      "source": [
        "- `x` is an instance of the `int` class.\n",
        "- The `int` class is an instance of the `type` metaclass.\n",
        "- The `type` metaclass is self-referential, forming the foundation of Python's type system.\n",
        "\n",
        "Functions are also objects:"
      ]
    },
    {
      "cell_type": "code",
      "execution_count": null,
      "metadata": {
        "id": "0MmuzDddFX92",
        "outputId": "7c2ded8d-226c-4140-a3dd-bd88c028e2b2",
        "colab": {
          "base_uri": "https://localhost:8080/"
        }
      },
      "outputs": [
        {
          "output_type": "stream",
          "name": "stdout",
          "text": [
            "<class 'function'>\n"
          ]
        }
      ],
      "source": [
        "def greet(name):\n",
        "    return f\"Hello, {name}!\"\n",
        "say_hello = greet\n",
        "print(type(greet))         # Output: <class 'function'>"
      ]
    },
    {
      "cell_type": "markdown",
      "source": [
        "## 2. What is Object-Oriented Programming (OOP)? 🏠\n",
        "\n",
        "> <font color=YELLOW>**Object-Oriented Programming (OOP)** is a way of writing code that models real-world things using **classes** and **objects**. </font>\n",
        "\n",
        "> <font color=YELLOW> Instead of just writing functions, we group data and behavior together into objects — like how you’d describe a person, a car, or a dog in real life.</font>\n",
        "\n",
        "<hr color=gray>  \n",
        "\n",
        "### 🧱 The Blueprint Analogy\n",
        "\n",
        "Think of a **class** as a **blueprint**, and an **object** as the **actual thing built from that blueprint**.\n",
        "\n",
        "Imagine you’re designing houses:\n",
        "\n",
        "* The **blueprint** shows what a house looks like (rooms, doors, windows)\n",
        "* You can use that same blueprint to build many **houses**, each one slightly different\n",
        "\n",
        "In code:\n",
        "\n",
        "* `class House:` → the blueprint\n",
        "* `my_house = House()` → an actual house (object)\n",
        "\n",
        "<hr color=gray>  \n",
        "\n",
        "### 🚗 Real-Life Example: Cars\n",
        "\n",
        "Let’s take cars as an example:\n",
        "\n",
        "* **Class** = general idea of a car\n",
        "  (All cars have wheels, engines, can drive)\n",
        "* **Object** = specific car\n",
        "  (Your red Toyota, your friend's black Honda)\n",
        "\n",
        "Each car was made from the same blueprint, but has its own color, model, or speed.\n",
        "\n",
        "<hr color=gray>  \n",
        "\n",
        "### 💡 Why Use OOP?\n",
        "\n",
        "* 🔁 **Reuse**: One class can create many objects\n",
        "* 🧩 **Organized Code**: Keeps related data and actions together\n",
        "* 🔐 **Control**: You decide what parts of your object are visible or hidden\n",
        "* 🔧 **Easy Updates**: Change the class, and future objects will follow\n"
      ],
      "metadata": {
        "id": "VJ4Q_C4cYJOd"
      }
    },
    {
      "cell_type": "markdown",
      "metadata": {
        "id": "cskqtRrlFX93"
      },
      "source": [
        "## 3. Classes and Objects\n",
        "\n",
        "**1. Class:**\n",
        "\n",
        "Think of a class as a blueprint.\n",
        "\n",
        "> \"A class is like a recipe or a design. It defines what an object should have and what it can do.\"\n",
        "\n",
        "example:"
      ]
    },
    {
      "cell_type": "code",
      "source": [
        "class Student:\n",
        "  pass\n"
      ],
      "metadata": {
        "id": "-VbDdQHHQaYe"
      },
      "execution_count": null,
      "outputs": []
    },
    {
      "cell_type": "markdown",
      "metadata": {
        "id": "9TXjBSebFX93"
      },
      "source": [
        "⬆️ Here, we define what a student is (name, age).  \n",
        "\n",
        "<br>\n",
        "\n",
        "**2. Object**\n",
        "\n",
        "An object is an actual thing created from a class — like a real student."
      ]
    },
    {
      "cell_type": "code",
      "source": [
        "s1 = Student()\n",
        "print(type(s1))"
      ],
      "metadata": {
        "id": "OjcAVBnVRCkY",
        "outputId": "8c6cd9bc-c8a9-4ad7-9770-39b713331c20",
        "colab": {
          "base_uri": "https://localhost:8080/"
        }
      },
      "execution_count": null,
      "outputs": [
        {
          "output_type": "stream",
          "name": "stdout",
          "text": [
            "<class '__main__.Student'>\n"
          ]
        }
      ]
    },
    {
      "cell_type": "markdown",
      "source": [
        "⬆️ Now `s1` is a real student object\n",
        "\n",
        "<br>  \n",
        "\n",
        "\n",
        "**3. Attributes and Methods**:  \n",
        "- Attributes = variables inside an object (e.g. name, age)\n",
        "\n",
        "- Methods = functions inside an object (e.g. speak(), study())    \n",
        "\n",
        "\n",
        "*Update class with a method:*"
      ],
      "metadata": {
        "id": "Ym-tqrYxMLqD"
      }
    },
    {
      "cell_type": "code",
      "source": [
        "class Student:\n",
        "    def __init__(self, name, age):\n",
        "        self.name = name\n",
        "        self.age = age\n",
        "\n",
        "    def introduce(self):\n",
        "        print(f\"My name is {self.name} and I'm {self.age} years old.\")"
      ],
      "metadata": {
        "id": "34vC3lueRs2J"
      },
      "execution_count": null,
      "outputs": []
    },
    {
      "cell_type": "markdown",
      "source": [
        "Usage:"
      ],
      "metadata": {
        "id": "o81ALSx8ONcB"
      }
    },
    {
      "cell_type": "code",
      "source": [
        "s1 = Student(\"Hammad\",22)\n",
        "print(s1.name)\n",
        "print(s1.age)\n",
        "\n",
        "s1.introduce()"
      ],
      "metadata": {
        "id": "4X0ZbJAYR7B2",
        "outputId": "b4533528-abbe-4bbb-a8f0-eb4d36e65f51",
        "colab": {
          "base_uri": "https://localhost:8080/"
        }
      },
      "execution_count": null,
      "outputs": [
        {
          "output_type": "stream",
          "name": "stdout",
          "text": [
            "Hammad\n",
            "22\n",
            "My name is Hammad and I'm 22 years old.\n"
          ]
        }
      ]
    },
    {
      "cell_type": "code",
      "source": [
        "class Student:\n",
        "    def __init__(p, name, age):     # use Convention: 'self' instead of 'p'\n",
        "        p.name = name\n",
        "        p.age = age\n",
        "\n",
        "    def introduce(p):\n",
        "        print(f\"My name is {p.name} and I'm {p.age} years old.\")\n",
        "\n",
        "\n",
        "s1 = Student(\"Hammad\",22)\n",
        "\n",
        "s1.introduce()    # Student.introduce(s1) Behind the scene\n"
      ],
      "metadata": {
        "id": "AYUw6hx4VhIA",
        "outputId": "3f75443c-90bc-4dcd-c785-71369e0b89e7",
        "colab": {
          "base_uri": "https://localhost:8080/"
        }
      },
      "execution_count": null,
      "outputs": [
        {
          "output_type": "stream",
          "name": "stdout",
          "text": [
            "My name is Hammad and I'm 22 years old.\n"
          ]
        }
      ]
    },
    {
      "cell_type": "markdown",
      "source": [
        "**4. Why Use OOP? (Real Talk)**\n",
        "\n",
        "- It keeps code organized and reusable\n",
        "- It matches how we think about the real world\n",
        "- It helps when building big applications (games, websites, banking systems, etc.)  \n",
        "\n",
        "\n",
        "<br>  \n",
        "\n",
        "**🧠 Easy Analogy:**  Think of a Game  \n",
        "\n",
        "> If you're building a game:\n",
        "\n",
        "- You'll have a Player class\n",
        "- An Enemy class\n",
        "- A Weapon class\n",
        "\n",
        "Each one has its own data and behavior. That's OOP.  \n",
        "\n",
        "<br>\n",
        "\n",
        "**Question:**  \n",
        "\n",
        "> “What are some real-world things we could model with code?”  \n",
        "\n",
        "\n",
        "<hr color=gray>"
      ],
      "metadata": {
        "id": "HUOEuzB1SbFU"
      }
    },
    {
      "cell_type": "markdown",
      "source": [
        "# 2nd way of initializing object attributes"
      ],
      "metadata": {
        "id": "oa8lkgcRRqnS"
      }
    },
    {
      "cell_type": "code",
      "source": [
        "class Human:\n",
        "\n",
        "  def speak(self):\n",
        "    print(\"Hello\")\n",
        "\n",
        "h1 = Human()\n",
        "h1.name = \"Hammad\"\n",
        "h1.age = 22\n",
        "h1.speak()"
      ],
      "metadata": {
        "id": "SXI-GjYoRQT7",
        "outputId": "5f7705c6-c965-498d-c8e2-d6922cd98bb7",
        "colab": {
          "base_uri": "https://localhost:8080/"
        }
      },
      "execution_count": null,
      "outputs": [
        {
          "output_type": "stream",
          "name": "stdout",
          "text": [
            "Hello\n"
          ]
        }
      ]
    },
    {
      "cell_type": "code",
      "source": [
        "h1.name"
      ],
      "metadata": {
        "colab": {
          "base_uri": "https://localhost:8080/",
          "height": 36
        },
        "id": "-V2QQPkzMpIk",
        "outputId": "76749b54-f726-4ab4-e71b-7f5b298e4c54"
      },
      "execution_count": null,
      "outputs": [
        {
          "output_type": "execute_result",
          "data": {
            "text/plain": [
              "'Hammad'"
            ],
            "application/vnd.google.colaboratory.intrinsic+json": {
              "type": "string"
            }
          },
          "metadata": {},
          "execution_count": 3
        }
      ]
    },
    {
      "cell_type": "markdown",
      "source": [
        "### 3.1. 🛠️ What is `__init__()`?  \n",
        "The `__init__()` method is a special method in Python classes. It's called automatically whenever you create a new object from the class.\n",
        "\n",
        "This is where you set up the object's initial data — like giving it a name, color, size, etc. Think of it as the constructor that builds and prepares the object for use.  \n",
        "\n",
        "**Example:**  \n",
        "\n",
        "```python\n",
        "class Student:\n",
        "    def __init__(self, name, age):\n",
        "        self.name = name\n",
        "        self.age = age\n",
        "```\n",
        "when we write:\n",
        "\n",
        "```python\n",
        "s1 = Student(\"Hammad\",22)\n",
        "```\n",
        "python call:\n",
        "\n",
        "```python\n",
        "Student.__init__(s1, \"Ali\", 22)\n",
        "```  \n",
        "\n",
        "And it sets:  \n",
        "- s1.name = \"Ali\"\n",
        "- s1.age = 22\n",
        "\n",
        "<br>\n",
        "\n",
        "**✅ Key Points:**\n",
        "- `__init__()` runs automatically when you create an object.\n",
        "- `self` refers to the current object being created.\n",
        "- You must include self as the first parameter, even though you don't pass it when calling the class.\n",
        "- You can give it as many other parameters as needed to initialize the object's data.\n"
      ],
      "metadata": {
        "id": "irlcuvPdUN_K"
      }
    },
    {
      "cell_type": "markdown",
      "metadata": {
        "id": "aQOfH7YYFX93"
      },
      "source": [
        "## 4. The Four Pillars of OOP\n",
        "\n",
        "OOP is built on four key principles: **Encapsulation**, **Inheritance**, **Polymorphism**, and **Abstraction**."
      ]
    },
    {
      "cell_type": "markdown",
      "metadata": {
        "id": "65CCrYEhFX93"
      },
      "source": [
        "### 4.1 **Encapsulation**\n",
        "\n",
        "**Encapsulation** means bundling **data (attributes)** and **behavior (methods)** inside a class — and **restricting direct access** to some of the internal parts of an object to protect its integrity.\n",
        "\n",
        "Python does this using **naming conventions**, rather than strict rules like in some other languages (e.g., Java or C++). Python trusts the developer to follow the rules, but technically allows access if you really try.\n",
        "\n",
        "\n",
        "### 🔐 Access Levels in Python\n",
        "\n",
        "> 🧠 **Important**: Unlike other languages, Python doesn't *enforce* access restrictions. It relies on naming conventions to signal how a variable or method should be treated.\n",
        "\n",
        "#### ✅ Public\n",
        "\n",
        "* **No prefix** (e.g., `name`)\n",
        "* Accessible from **anywhere**, inside or outside the class\n",
        "* Default access level in Python\n",
        "\n",
        "#### ⚠️ Protected\n",
        "\n",
        "* **Single underscore prefix** (e.g., `_balance`)\n",
        "* Meant to be used **only inside the class and its subclasses**\n",
        "* Still accessible from outside — it's just a soft warning to developers\n",
        "\n",
        "#### 🔒 Private\n",
        "\n",
        "* **Double underscore prefix** (e.g., `__pin`)\n",
        "* Accessible **only within the class where it's defined**\n",
        "* Not accessible from outside or subclasses\n",
        "* Python uses name mangling to internally rename it to `_ClassName__pin`, making accidental access harder  \n",
        "\n",
        "**Summary**  \n",
        "\n",
        "| Level     | Prefix   | Access Scope                                     |\n",
        "| --------- | -------- | ------------------------------------------------ |\n",
        "| Public    | (none)   | Anywhere                                         |\n",
        "| Protected | `_name`  | Class and subclasses only (by convention)        |\n",
        "| Private   | `__name` | Class only, renamed internally via name mangling |\n",
        "\n"
      ]
    },
    {
      "cell_type": "markdown",
      "metadata": {
        "id": "T3DpoCVYFX94"
      },
      "source": [
        "#### Example: Bank Account"
      ]
    },
    {
      "cell_type": "code",
      "execution_count": null,
      "metadata": {
        "id": "JAbUeZa5FX94",
        "outputId": "dd0e3127-d36f-4ec1-f1a5-6fe62bd82927",
        "colab": {
          "base_uri": "https://localhost:8080/"
        }
      },
      "outputs": [
        {
          "output_type": "stream",
          "name": "stdout",
          "text": [
            "1000\n",
            "1234\n"
          ]
        }
      ],
      "source": [
        "class BankAccount:\n",
        "    def __init__(self, owner: str, balance: int, pin: int):\n",
        "        self.owner = owner          # Public\n",
        "        self._balance = balance     # Protected\n",
        "        self.__pin = pin         # Private\n",
        "\n",
        "    def deposit(self, amount):\n",
        "        if amount > 0:\n",
        "            self._balance += amount\n",
        "            return f\"Account Name: {self.owner}\\n Added {amount}.\\n New balance: {self._balance}\"\n",
        "        return \"Amount must be positive.\"\n",
        "\n",
        "    def check_balance(self):\n",
        "        return self._balance\n",
        "\n",
        "# Create an account\n",
        "acc = BankAccount(\"Ali\", 1000,pin=1234)\n",
        "\n",
        "# Accessing public method\n",
        "# print(acc.deposit(500))         # Output: Added 500. New balance: 1500\n",
        "print(acc.check_balance())      # Output: 1500\n",
        "\n",
        "# Accessing protected variable (not recommended, but possible)\n",
        "# print(acc._balance)             # Output: 1500\n",
        "\n",
        "# Accessing private variable (will raise an error)\n",
        "# print(acc.__pin)              # ❌ AttributeError\n",
        "\n",
        "# # But technically possible with name mangling:\n",
        "# print(acc._BankAccount__pin)    # ✅ Output: 1234\n"
      ]
    },
    {
      "cell_type": "markdown",
      "metadata": {
        "id": "aHPXBV4MFX94"
      },
      "source": [
        "### 4.2 Inheritance\n",
        "Inheritance lets you create a new class (child) that reuses code from an existing class (parent). The child class gets access to the parent's attributes and methods, so you don't have to write the same code again.  \n",
        "\n",
        "\n",
        "**🧬 Why Use Inheritance?**  \n",
        "- Reuse existing code\n",
        "- Avoid repetition\n",
        "- Build relationships between classes (e.g., Animal → Dog, Cat)"
      ]
    },
    {
      "cell_type": "markdown",
      "metadata": {
        "id": "8qT1BqNhFX94"
      },
      "source": [
        "#### 4.2.1. Example: Vehicle Hierarchy"
      ]
    },
    {
      "cell_type": "code",
      "source": [
        "# Parent class\n",
        "class Vehicle:\n",
        "    def __init__(self, brand):\n",
        "        self.brand = brand\n",
        "\n",
        "    def honk(self):\n",
        "        return \"Beep beep!\""
      ],
      "metadata": {
        "id": "ld224H-tVo-L"
      },
      "execution_count": null,
      "outputs": []
    },
    {
      "cell_type": "code",
      "source": [
        "# Child class\n",
        "class Car(Vehicle):\n",
        "  def __init__(self, brand, color):\n",
        "    super().__init__(brand)\n",
        "    self.color = color\n",
        "\n",
        "\n",
        "car1 = Car(\"Mercedes\", \"Black\")"
      ],
      "metadata": {
        "id": "ElemcKwwWuCx"
      },
      "execution_count": null,
      "outputs": []
    },
    {
      "cell_type": "code",
      "source": [
        "print(car1.color)\n",
        "print(car1.brand)\n",
        "print(car1.honk())"
      ],
      "metadata": {
        "colab": {
          "base_uri": "https://localhost:8080/"
        },
        "id": "nIrhtCGqXCda",
        "outputId": "bcc89776-9a5f-47ae-f0dc-fba15c508489"
      },
      "execution_count": null,
      "outputs": [
        {
          "output_type": "stream",
          "name": "stdout",
          "text": [
            "Black\n",
            "Mercedes\n",
            "Beep beep!\n"
          ]
        }
      ]
    },
    {
      "cell_type": "code",
      "execution_count": null,
      "metadata": {
        "id": "Mzpu6lF3FX94",
        "outputId": "3ce94550-9b18-406b-ab7e-149729a118a1",
        "colab": {
          "base_uri": "https://localhost:8080/"
        }
      },
      "outputs": [
        {
          "output_type": "stream",
          "name": "stdout",
          "text": [
            "Beep beep!\n"
          ]
        }
      ],
      "source": [
        "# Child class\n",
        "class Car(Vehicle):\n",
        "    def __init__(self, brand, color):\n",
        "        super().__init__(brand)  # Calls Vehicle's __init__\n",
        "        self.color = color\n",
        "\n",
        "# # Create a Car object\n",
        "# my_car = Car(\"Toyota\", \"Red\")\n",
        "\n",
        "# # Inherited method from Vehicle\n",
        "# print(my_car.honk())  # Output: Beep beep!\n"
      ]
    },
    {
      "cell_type": "markdown",
      "metadata": {
        "id": "2AhqrKCzFX94"
      },
      "source": [
        "- `super()` lets a subclass call methods from its parent class, usually to run the parent’s `__init__()` method.\n",
        "- The `Car` class extends `Vehicle` with a `color`"
      ]
    },
    {
      "cell_type": "markdown",
      "source": [
        "#### 4.2.2. **Multiple Inheritance:**"
      ],
      "metadata": {
        "id": "yxuxfwE4l1ol"
      }
    },
    {
      "cell_type": "code",
      "source": [
        "class Vehicle:\n",
        "    def __init__(self, brand: str):\n",
        "        self.brand = brand\n",
        "\n",
        "    def honk(self):\n",
        "        return \"Beep beep!\"\n"
      ],
      "metadata": {
        "id": "mkKmm7nwROnB"
      },
      "execution_count": null,
      "outputs": []
    },
    {
      "cell_type": "code",
      "source": [
        "Vehicle.honk(\"sghsgh\")\n",
        "\n",
        "# v1 = Vehicle(\"Toyota\")"
      ],
      "metadata": {
        "id": "wZEKQBQPRZA_"
      },
      "execution_count": null,
      "outputs": []
    },
    {
      "cell_type": "code",
      "source": [
        "# Parent class 1\n",
        "class Vehicle:\n",
        "    def __init__(self, b):\n",
        "        self.brand = b\n",
        "\n",
        "    def honk(self):\n",
        "        return \"Beep beep!\"\n",
        "\n",
        "# Parent class 2\n",
        "class Electric:\n",
        "    def __init__(self, bat):\n",
        "        self.battery_life = bat\n",
        "\n",
        "    def charge(self):\n",
        "        return \"Charging...\"\n",
        "\n",
        "# Child class inheriting from both Vehicle and Electric\n",
        "class ElectricCar(Vehicle, Electric):\n",
        "    def __init__(self, b: str, bat: int, c: str):\n",
        "        Vehicle.__init__(self, b)        # Initialize Vehicle part\n",
        "        Electric.__init__(self, bat)  # Initialize Electric part\n",
        "        self.color = c\n",
        "\n",
        "# Create an ElectricCar object\n",
        "my_tesla = ElectricCar(\"mercedes\",100,\"Black\")\n",
        "\n"
      ],
      "metadata": {
        "id": "nvIARd05mFFm"
      },
      "execution_count": null,
      "outputs": []
    },
    {
      "cell_type": "code",
      "source": [
        "print(my_tesla.brand)\n",
        "print(my_tesla.battery_life)\n",
        "print(my_tesla.color)\n",
        "print(my_tesla.honk())\n",
        "print(my_tesla.charge())\n",
        "\n",
        "print(f\"Brand: {my_tesla.brand}\\nBattery Life: {my_tesla.battery_life}\")"
      ],
      "metadata": {
        "id": "tfvll0neWVoS",
        "outputId": "553b7d15-69b4-4b32-d35f-de1269f77c37",
        "colab": {
          "base_uri": "https://localhost:8080/"
        }
      },
      "execution_count": null,
      "outputs": [
        {
          "output_type": "stream",
          "name": "stdout",
          "text": [
            "mercedes\n",
            "100\n",
            "Black\n",
            "Beep beep!\n",
            "Charging...\n",
            "Brand: mercedes\n",
            "Battery Life: 100\n"
          ]
        }
      ]
    },
    {
      "cell_type": "markdown",
      "metadata": {
        "id": "Jk4duj5dFX94"
      },
      "source": [
        "### 4.3 **Polymorphism**\n",
        "Polymorphism means different classes can use the same method name but behave differently. It lets you write code that works with different objects through a common interface, while each class handles the details in its own way."
      ]
    },
    {
      "cell_type": "markdown",
      "metadata": {
        "id": "F0YPHGsOFX94"
      },
      "source": [
        "#### Example: Animal Sounds"
      ]
    },
    {
      "cell_type": "code",
      "source": [
        "def greet():\n",
        "  return \"hello!\"\n",
        "\n",
        "# print(greet())\n",
        "\n",
        "# result = greet()\n",
        "\n",
        "# print(result)\n",
        "\n",
        "print(\"-\"*50)"
      ],
      "metadata": {
        "id": "oFlueWgvblyu",
        "outputId": "93a422c8-06ac-4bb6-8661-bfa0c924831e",
        "colab": {
          "base_uri": "https://localhost:8080/"
        }
      },
      "execution_count": null,
      "outputs": [
        {
          "output_type": "stream",
          "name": "stdout",
          "text": [
            "hello!\n",
            "--------------------------------------------------\n"
          ]
        }
      ]
    },
    {
      "cell_type": "code",
      "execution_count": null,
      "metadata": {
        "id": "aul1rs34FX94",
        "outputId": "27c3f0c6-a4a8-4b05-94c6-535a706f40d2",
        "colab": {
          "base_uri": "https://localhost:8080/"
        }
      },
      "outputs": [
        {
          "output_type": "stream",
          "name": "stdout",
          "text": [
            "Woof!\n",
            "Meow!\n",
            "--------------------------------------------------\n",
            "Woof!\n",
            "Meow!\n"
          ]
        }
      ],
      "source": [
        "class Animal:\n",
        "    def make_sound(self):\n",
        "        return \"Generic sound\"\n",
        "\n",
        "class Dog(Animal):\n",
        "    def make_sound(self):\n",
        "        return \"Woof!\"\n",
        "\n",
        "class Cat(Animal):\n",
        "    def make_sound(self):\n",
        "        return \"Meow!\"\n",
        "\n",
        "\n",
        "# d1 = Dog()\n",
        "# d1.make_sound()\n",
        "\n",
        "# animals: list = [d1,c1]\n",
        "\n",
        "# d1 = Dog()\n",
        "# c1 = Cat()\n",
        "\n",
        "\n",
        "animal = Dog()\n",
        "print(animal.make_sound())\n",
        "\n",
        "animal = Cat()\n",
        "print(animal.make_sound())\n",
        "\n",
        "\n",
        "print(\"-\"*50)\n",
        "\n",
        "# animals: list = [d1,c1]\n",
        "animals: list = [Dog(),Cat()]\n",
        "\n",
        "for animal in animals:\n",
        "    print(animal.make_sound())  # Output: Woof!, Meow!"
      ]
    },
    {
      "cell_type": "markdown",
      "metadata": {
        "id": "PUNDE74CFX95"
      },
      "source": [
        "### 4.4 **Abstraction**\n",
        "\n",
        "#### **✅ What is Abstraction?**\n",
        "\n",
        "**Abstraction** means hiding complex implementation details and exposing only the necessary parts of an object or system.\n",
        "\n",
        "**Think of it like a TV remote:**\n",
        "- You press the volume button (interface)\n",
        "- You don’t care how the signal is transmitted internally (implementation)\n",
        "\n",
        "That's abstraction: **what** something does vs. **how** it does it."
      ]
    },
    {
      "cell_type": "markdown",
      "source": [
        "#### **Abstraction in Python using `abc` Module**\n",
        "\n",
        "In Python, abstraction is implemented using:\n",
        "- `ABC` (Abstract Base Class)\n",
        "- `@abstractmethod` decorator\n",
        "\n",
        "Let's walk through a practical example."
      ],
      "metadata": {
        "id": "2KTqbLshPGvi"
      }
    },
    {
      "cell_type": "code",
      "source": [
        "from abc import ABC, abstractmethod\n",
        "\n",
        "class PaymentProcessor(ABC):\n",
        "    @abstractmethod\n",
        "    def pay(self, amount):\n",
        "      pass\n",
        "\n",
        "## We cannot create instances of abstract classes\n",
        "# p1 = PaymentProcessor()"
      ],
      "metadata": {
        "id": "i412DzzjPEJo"
      },
      "execution_count": 5,
      "outputs": []
    },
    {
      "cell_type": "markdown",
      "source": [
        "`PaymentProcessor` is the abstract class that defines a contract: all subclasses must implement the `pay` method."
      ],
      "metadata": {
        "id": "nqjM2hCRPT_E"
      }
    },
    {
      "cell_type": "code",
      "source": [
        "class CreditCardProcessor(PaymentProcessor):\n",
        "    def pay(self, amount):\n",
        "        print(f\"Processing credit card payment of ${amount}\")\n",
        "\n",
        "class PayPalProcessor(PaymentProcessor):\n",
        "    def pay(self, amount):\n",
        "        print(f\"Processing PayPal payment of ${amount}\")"
      ],
      "metadata": {
        "id": "KJa3H3qHPSwd"
      },
      "execution_count": 6,
      "outputs": []
    },
    {
      "cell_type": "code",
      "source": [
        "def make_payment(processor: PaymentProcessor, amount: float):\n",
        "    processor.pay(amount)\n",
        "\n",
        "cc = CreditCardProcessor()\n",
        "paypal = PayPalProcessor()\n",
        "\n",
        "make_payment(cc,1000)\n",
        "make_payment(paypal,500)"
      ],
      "metadata": {
        "id": "IxwbPiZTPaIn",
        "outputId": "1508d484-5b91-4034-baba-26a11ab0146b",
        "colab": {
          "base_uri": "https://localhost:8080/"
        }
      },
      "execution_count": 8,
      "outputs": [
        {
          "output_type": "stream",
          "name": "stdout",
          "text": [
            "Processing credit card payment of $1000\n",
            "Processing PayPal payment of $500\n"
          ]
        }
      ]
    },
    {
      "cell_type": "markdown",
      "source": [
        "#### **⚠️ If You Skip the Abstract Method Implementation**\n",
        "Python will throw an error if you try to instantiate a subclass without implementing all abstract methods."
      ],
      "metadata": {
        "id": "f25-l3oZPgU7"
      }
    },
    {
      "cell_type": "code",
      "source": [
        "# Uncommenting the code below will throw a TypeError\n",
        "class DummyProcessor(PaymentProcessor):\n",
        "    pass\n",
        "\n",
        "dummy = DummyProcessor()  # ❌ TypeError"
      ],
      "metadata": {
        "id": "aiYf8-XWPwc0",
        "outputId": "0a46f479-c5d6-4d9c-f55d-2c306be51735",
        "colab": {
          "base_uri": "https://localhost:8080/",
          "height": 180
        }
      },
      "execution_count": 9,
      "outputs": [
        {
          "output_type": "error",
          "ename": "TypeError",
          "evalue": "Can't instantiate abstract class DummyProcessor with abstract method pay",
          "traceback": [
            "\u001b[0;31m---------------------------------------------------------------------------\u001b[0m",
            "\u001b[0;31mTypeError\u001b[0m                                 Traceback (most recent call last)",
            "\u001b[0;32m/tmp/ipython-input-4070081590.py\u001b[0m in \u001b[0;36m<cell line: 0>\u001b[0;34m()\u001b[0m\n\u001b[1;32m      3\u001b[0m     \u001b[0;32mpass\u001b[0m\u001b[0;34m\u001b[0m\u001b[0;34m\u001b[0m\u001b[0m\n\u001b[1;32m      4\u001b[0m \u001b[0;34m\u001b[0m\u001b[0m\n\u001b[0;32m----> 5\u001b[0;31m \u001b[0mdummy\u001b[0m \u001b[0;34m=\u001b[0m \u001b[0mDummyProcessor\u001b[0m\u001b[0;34m(\u001b[0m\u001b[0;34m)\u001b[0m  \u001b[0;31m# ❌ TypeError\u001b[0m\u001b[0;34m\u001b[0m\u001b[0;34m\u001b[0m\u001b[0m\n\u001b[0m",
            "\u001b[0;31mTypeError\u001b[0m: Can't instantiate abstract class DummyProcessor with abstract method pay"
          ]
        }
      ]
    },
    {
      "cell_type": "markdown",
      "source": [
        "#### **✅ Summary**\n",
        "- Use `ABC` to define abstract base classes\n",
        "- Use `@abstractmethod` to declare methods that must be overridden\n",
        "- Abstract classes can't be instantiated directly\n",
        "- Helps you hide the implementation logic and expose a clean interface\n",
        "\n",
        "**Abstraction lets you focus on using the system, not how it's built internally.**"
      ],
      "metadata": {
        "id": "yvrEkKVRQAaY"
      }
    },
    {
      "cell_type": "markdown",
      "metadata": {
        "id": "190F-k43FX95"
      },
      "source": [
        "## 5. **Magic Methods (a.k.a. Dunder Methods)**\n",
        "\n",
        "- Magic methods are special methods in Python that start and end with double underscores (`__like_this__`).\n",
        "\n",
        "- They let you define how your objects behave with built-in Python operations — like printing, adding, comparing, etc.\n",
        "\n",
        "### Examples:\n",
        "\n",
        "* `__str__` → Defines what gets shown when you print the object\n",
        "* `__add__` → Lets you use `+` to add two objects\n"
      ]
    },
    {
      "cell_type": "markdown",
      "metadata": {
        "id": "CGwOWIZQFX95"
      },
      "source": [
        "#### Example:"
      ]
    },
    {
      "cell_type": "code",
      "source": [
        "class Animal:\n",
        "    def __init__(self, name: str, sound: str) -> None:\n",
        "        self.name = name\n",
        "        self.sound = sound\n",
        "\n",
        "    def __call__(self) -> None:\n",
        "        print(f\"{self.name} is callable\")"
      ],
      "metadata": {
        "id": "vgQlJAp7auEu"
      },
      "execution_count": 17,
      "outputs": []
    },
    {
      "cell_type": "code",
      "source": [
        "cat = Animal(\"cat\",\"meow\")\n",
        "cat()"
      ],
      "metadata": {
        "id": "y17bjJs8av70",
        "outputId": "a2fafa66-de85-4f19-e1a8-1e080a128a4f",
        "colab": {
          "base_uri": "https://localhost:8080/"
        }
      },
      "execution_count": 18,
      "outputs": [
        {
          "output_type": "stream",
          "name": "stdout",
          "text": [
            "cat is callable\n"
          ]
        }
      ]
    },
    {
      "cell_type": "code",
      "source": [
        "class Animal:\n",
        "    def __init__(self, name: str, sound: str) -> None:\n",
        "        self.name = name\n",
        "        self.sound = sound\n",
        "\n",
        "    def __call__(self) -> None:\n",
        "        print(f\"{self.name} is callable\")\n",
        "\n",
        "    # Operator Overloading: Customizing operators for classes using special methods like __add__\n",
        "    def __add__(self, other):\n",
        "        return Animal(f\"{self.name}-{other.name}\",f\"{self.sound}-{other.sound}\")\n",
        "\n",
        "    # Used by print() or str() for user-friendly display\n",
        "    def __str__(self):\n",
        "        return f\"{self.name} says {self.sound}\"\n",
        "\n",
        "    # Destructor: called when the object is deleted\n",
        "    def __del__(self):\n",
        "        print(f\"{self.name} is no more\")\n",
        "\n",
        "    # Used in developer/debugging view (uncomment to use)\n",
        "    def __repr__(self):\n",
        "        return f\"Animal(name='{self.name}', sound='{self.sound}')\"\n",
        "\n"
      ],
      "metadata": {
        "id": "FroAYwKMb7mF"
      },
      "execution_count": 4,
      "outputs": []
    },
    {
      "cell_type": "code",
      "execution_count": 7,
      "metadata": {
        "id": "e9XqEdGXFX95"
      },
      "outputs": [],
      "source": [
        "\n",
        "# Create two Animal objects\n",
        "lion = Animal(\"Lion\", \"Roar\")\n",
        "tiger = Animal(\"Tiger\", \"Growl\")\n",
        "\n",
        "# __call__ example\n",
        "# lion()  # Output: Lion is callable\n",
        "\n",
        "# __add__ example\n",
        "# liger = lion + tiger\n",
        "# print(liger)  # Output: Lion-Tiger says Roar-Growl\n",
        "\n",
        "# __repr__ and __str__ examples\n",
        "# print(repr(lion))   # If __repr__ is not defined, falls back to default (like <__main__.Animal object at ...>)\n",
        "# print(tiger)        # Output: Tiger says Growl (via __str__)\n",
        "\n",
        "# __del__ example\n",
        "# del lion  # Output: Lion is no more (when garbage collected)\n"
      ]
    },
    {
      "cell_type": "markdown",
      "metadata": {
        "id": "ZJYquyjIFX96"
      },
      "source": [
        "- `__call__`:  Lets your object behave like a function\n",
        "\n",
        "- `__add__`:  Lets you define how two objects are added\n",
        "\n",
        "- `__del__`: Executes cleanup or logs a message when the object is destroyed\n",
        "\n",
        "- `__str__`: Returns a **user-friendly** string. Used by `print()`.\n",
        "\n",
        "> Think: What should a normal person see?\n",
        "\n",
        "- `__repr__`: Returns a **developer-friendly** string. Used in debugging, logs, and `repr()`.\n",
        "\n",
        "> Think: How do I represent this object clearly for debugging?\n",
        "\n",
        "(*If both `__str__` & `__repr__` are defined, `__str__` takes priority when printing.*)\n",
        "\n",
        "\n"
      ]
    },
    {
      "cell_type": "markdown",
      "metadata": {
        "id": "A5MrFiEKFX96"
      },
      "source": [
        "## 6. Class vs. Instance Attributes\n",
        "- **Class attributes**: Shared across all instances (e.g., `species`).\n",
        "- **Instance attributes**: Unique to each instance (e.g., `name`)."
      ]
    },
    {
      "cell_type": "markdown",
      "metadata": {
        "id": "Js2HSZgDFX96"
      },
      "source": [
        "#### Example: Dog Class"
      ]
    },
    {
      "cell_type": "code",
      "execution_count": 33,
      "metadata": {
        "id": "_k9l-MOOFX96"
      },
      "outputs": [],
      "source": [
        "class Dog:\n",
        "    species = \"Canis familiaris\"  # Class attribute\n",
        "\n",
        "    def __init__(self, name):\n",
        "        self.name = name  # Instance attribute\n"
      ]
    },
    {
      "cell_type": "code",
      "source": [
        "\n",
        "dog1 = Dog(\"Buddy\")\n",
        "dog2 = Dog(\"Max\")\n",
        "\n",
        "print(dog1.species)\n",
        "print(dog2.species)\n",
        "\n",
        "# dog1.species = \"Canis lupos\"  # Wrong way to modify class instance, It basically creating dog1 attribute\n",
        "Dog.species = \"Canis lupus\"\n",
        "\n",
        "print(dog1.species)\n",
        "print(dog2.species)\n",
        "\n",
        "print(Dog.species) # Call class attribute with class name"
      ],
      "metadata": {
        "id": "ftO909nWicYk",
        "outputId": "f45259e5-fea2-4753-f736-f07aafc6f861",
        "colab": {
          "base_uri": "https://localhost:8080/"
        }
      },
      "execution_count": 34,
      "outputs": [
        {
          "output_type": "stream",
          "name": "stdout",
          "text": [
            "Canis familiaris\n",
            "Canis familiaris\n",
            "Canis lupus\n",
            "Canis lupus\n",
            "Canis lupus\n"
          ]
        }
      ]
    },
    {
      "cell_type": "markdown",
      "metadata": {
        "id": "G7whmGiFFX96"
      },
      "source": [
        "## 7. Types of Methods\n",
        "In Python, methods are functions defined within a class that operate on the class’s data. There are three types of methods in Python: **instance methods**, **class methods**, and **static methods**. Each type has a specific purpose and use case. Let’s explore them in detail.\n",
        "\n",
        "### **1. Instance Methods**\n",
        "\n",
        "- **Definition**: Instance methods are the most common type of methods. They operate on an instance of the class and can access and modify instance attributes.\n",
        "\n",
        "- **First Parameter**: <font color=gold>The first parameter is always self, which refers to the instance of the class.</font>\n",
        "\n",
        "- **Usage**: Used for methods that need to access or modify instance-specific data.\n",
        "\n",
        "### **2. Class Methods (@classmethod)**\n",
        "\n",
        "- **Definition**: Class methods operate on the class itself rather than on instances. They can access and modify class attributes.\n",
        "\n",
        "- **First Parameter**: <font color=gold>The first parameter is always cls, which refers to the class.</font>\n",
        "- **Decorator**: Defined using the @classmethod decorator.\n",
        "\n",
        "- **Usage**: Used for methods that need to work with class-level data or perform operations related to the class.\n",
        "\n",
        "### **3. Static Methods (@staticmethod)**\n",
        "\n",
        "- **Definition**: <font color=gold>Static methods are independent of both the class and its instances. They don’t have access to self or cls.</font>\n",
        "\n",
        "- **Decorator**: Defined using the @staticmethod decorator.\n",
        "\n",
        "- **Usage**: Used for utility functions that don’t depend on class or instance data.\n",
        "\n",
        "\n",
        "<hr color=grey>\n",
        "\n",
        "\n",
        "| Aspect               | Instance Methods                          | Class Methods                          | Static Methods                             |\n",
        "|----------------------|-------------------------------------------|----------------------------------------|--------------------------------------------|\n",
        "| First Parameter      | self (refers to the instance)             | cls (refers to the class)              | No specific parameter                      |\n",
        "| Access to Attributes | Can access and modify instance attributes | Can access and modify class attributes | Cannot access instance or class attributes |\n",
        "| Decorator            | None                                      | @classmethod                           | @staticmethod                              |\n",
        "| Usage                | For methods that work with instance data  | For methods that work with class data  | For utility functions                      |\n",
        "|                      |                                           |                                        \n",
        "\n"
      ]
    },
    {
      "cell_type": "markdown",
      "metadata": {
        "id": "yjaZ7E2GFX96"
      },
      "source": [
        "#### Example: Person Class"
      ]
    },
    {
      "cell_type": "code",
      "execution_count": 30,
      "metadata": {
        "id": "ynU0H6nUFX97"
      },
      "outputs": [],
      "source": [
        "class Person:\n",
        "    species = \"Homo sapiens\"\n",
        "\n",
        "    def __init__(self, name):\n",
        "        self.name = name\n",
        "\n",
        "    def display(self):\n",
        "        return f\"{self.name} is a {self.species}\"\n",
        "\n",
        "    @classmethod\n",
        "    def update_species(cls, new_species):\n",
        "        cls.species = new_species\n",
        "\n",
        "    @staticmethod\n",
        "    def is_adult(age):\n",
        "        return age >= 18\n",
        "\n"
      ]
    },
    {
      "cell_type": "code",
      "source": [
        "p = Person(\"Ali\")\n",
        "\n",
        "\n",
        "print(p.display())         # Output: Alice is a Homo sapiens\n",
        "\n",
        "Person.update_species(\"Homo novus\")\n",
        "\n",
        "print(p.display())         # Output: Alice is a Homo novus\n",
        "\n",
        "print(Person.is_adult(20))     # Output: True"
      ],
      "metadata": {
        "id": "6KQdabxanh_d",
        "outputId": "0171ca5b-8188-498c-b8d7-04fb66af453b",
        "colab": {
          "base_uri": "https://localhost:8080/"
        }
      },
      "execution_count": 36,
      "outputs": [
        {
          "output_type": "stream",
          "name": "stdout",
          "text": [
            "Ali is a Homo novus\n",
            "Ali is a Homo novus\n",
            "True\n"
          ]
        }
      ]
    },
    {
      "cell_type": "markdown",
      "metadata": {
        "id": "ZO7difC9FX97"
      },
      "source": [
        "## 8. The `object` Class\n",
        "All Python classes inherit from the `object` class, which provides default methods like `__str__`, `__repr__`, and `__del__`."
      ]
    },
    {
      "cell_type": "markdown",
      "metadata": {
        "id": "0cc_qO_vFX97"
      },
      "source": [
        "#### Example: Exploring `object`"
      ]
    },
    {
      "cell_type": "code",
      "source": [
        "name = \"Hammad\"\n",
        "type(name)\n",
        "isinstance(name,object)"
      ],
      "metadata": {
        "id": "hUvit246quRt",
        "outputId": "a7c2f916-8e80-4889-90f5-89c6be0d43be",
        "colab": {
          "base_uri": "https://localhost:8080/"
        }
      },
      "execution_count": 42,
      "outputs": [
        {
          "output_type": "execute_result",
          "data": {
            "text/plain": [
              "True"
            ]
          },
          "metadata": {},
          "execution_count": 42
        }
      ]
    },
    {
      "cell_type": "code",
      "execution_count": 48,
      "metadata": {
        "id": "u65o3L2wFX97",
        "outputId": "96786b97-ba8a-40c5-d2e0-fd74d092d65d",
        "colab": {
          "base_uri": "https://localhost:8080/"
        }
      },
      "outputs": [
        {
          "output_type": "stream",
          "name": "stdout",
          "text": [
            "<class '__main__.MyClass'>\n",
            "True\n",
            "True\n",
            "True\n",
            "True\n"
          ]
        }
      ],
      "source": [
        "class MyClass:\n",
        "    pass\n",
        "\n",
        "obj = MyClass()\n",
        "print(type(obj))\n",
        "print(isinstance(obj, MyClass))\n",
        "print(isinstance(obj, object))  # Output: True\n",
        "\n",
        "\n",
        "print(isinstance(type,object))\n",
        "print(isinstance(object, type))\n"
      ]
    },
    {
      "cell_type": "markdown",
      "metadata": {
        "id": "sWQ-DmHHFX97"
      },
      "source": [
        "## 9. Mini Zoo Simulator Project\n",
        "This small project demonstrates all major OOP concepts in Python through a basic zoo system. Students can explore, modify, and experiment with the code to better understand how object-oriented programming works in practice.\n"
      ]
    },
    {
      "cell_type": "markdown",
      "metadata": {
        "id": "wHlAlYV3FX9_"
      },
      "source": [
        "### Implementation"
      ]
    },
    {
      "cell_type": "code",
      "execution_count": null,
      "metadata": {
        "id": "a0QAQaSkFX9_"
      },
      "outputs": [],
      "source": [
        "from abc import ABC, abstractmethod\n",
        "\n",
        "# ABSTRACTION: Base class that defines what all animals must have\n",
        "class Animal(ABC):\n",
        "    def __init__(self, name, species):\n",
        "        self.name = name\n",
        "        self.species = species\n",
        "        self._happiness = 50  # ENCAPSULATION: Protected attribute (notice the _)\n",
        "\n",
        "    @abstractmethod\n",
        "    def make_sound(self):  # ABSTRACTION: Every animal must implement this\n",
        "        pass\n",
        "\n",
        "    def feed(self):  # ENCAPSULATION: Safe way to change happiness\n",
        "        self._happiness += 20\n",
        "        return f\"{self.name} is happy after eating! Happiness: {self._happiness}\"\n",
        "\n",
        "    def get_happiness(self):  # ENCAPSULATION: Safe way to check happiness\n",
        "        return self._happiness\n",
        "\n",
        "# INHERITANCE: Dog inherits from Animal\n",
        "class Dog(Animal):\n",
        "    def __init__(self, name, breed):\n",
        "        super().__init__(name, \"Dog\")  # Call parent's __init__\n",
        "        self.breed = breed  # Add dog-specific attribute\n",
        "\n",
        "    def make_sound(self):  # POLYMORPHISM: Dog's version of make_sound\n",
        "        return f\"{self.name} says: Woof woof! 🐕\"\n",
        "\n",
        "# INHERITANCE: Cat inherits from Animal\n",
        "class Cat(Animal):\n",
        "    def __init__(self, name, color):\n",
        "        super().__init__(name, \"Cat\")  # Call parent's __init__\n",
        "        self.color = color  # Add cat-specific attribute\n",
        "\n",
        "    def make_sound(self):  # POLYMORPHISM: Cat's version of make_sound\n",
        "        return f\"{self.name} says: Meow! 🐱\"\n",
        "\n",
        "# Let's create our zoo animals\n",
        "buddy = Dog(\"Buddy\", \"Golden Retriever\")\n",
        "whiskers = Cat(\"Whiskers\", \"Orange\")\n",
        "\n",
        "# POLYMORPHISM in action - same method call, different results!\n",
        "animals = [buddy, whiskers]\n",
        "print(\"🎪 Animal Show Time!\")\n",
        "for animal in animals:\n",
        "    print(f\"- {animal.make_sound()}\")  # Same method, different sounds!\n",
        "\n",
        "print(\"\\n🍽️ Feeding Time!\")\n",
        "for animal in animals:\n",
        "    print(f\"- {animal.feed()}\")  # ENCAPSULATION: Safe way to change data\n",
        "\n",
        "print(f\"\\n😊 Happiness Check:\")\n",
        "print(f\"- {buddy.name}'s happiness: {buddy.get_happiness()}\")  # ENCAPSULATION: Safe way to read data\n",
        "print(f\"- {whiskers.name}'s happiness: {whiskers.get_happiness()}\")\n"
      ]
    },
    {
      "cell_type": "markdown",
      "metadata": {
        "id": "exSsBLhtFX-A"
      },
      "source": [
        "### 🎯 Let's Break Down What Just Happened!\n",
        "\n",
        "**🔒 ENCAPSULATION in Action:**\n",
        "- `_happiness` is protected (notice the underscore) - we don't access it directly\n",
        "- We use `feed()` and `get_happiness()` methods to safely interact with the data\n",
        "- This protects the data from being accidentally broken\n",
        "\n",
        "**👨‍👩‍👧‍👦 INHERITANCE in Action:**\n",
        "- Both `Dog` and `Cat` inherit from `Animal`\n",
        "- They get all of Animal's features (name, species, happiness, feed method)\n",
        "- Plus they add their own unique features (breed for dogs, color for cats)\n",
        "\n",
        "**🎭 POLYMORPHISM in Action:**\n",
        "- Both animals have a `make_sound()` method\n",
        "- But dogs say \"Woof\" and cats say \"Meow\" - same method name, different behavior!\n",
        "- We can treat all animals the same way in our loop\n",
        "\n",
        "**🎛️ ABSTRACTION in Action:**\n",
        "- The `Animal` class defines the interface - what all animals must have\n",
        "- You can't create an `Animal` directly - it's just a template\n",
        "- Each specific animal implements the abstract `make_sound()` method\n"
      ]
    },
    {
      "cell_type": "markdown",
      "metadata": {
        "id": "lXILWnXnFX-A"
      },
      "source": [
        "### 9.1 🏋️‍♀️ Your Turn to Practice!\n",
        "\n",
        "#### Challenge 1: Add a New Animal\n",
        "Create a `Bird` class that inherits from `Animal`. What sound does it make?"
      ]
    },
    {
      "cell_type": "markdown",
      "metadata": {
        "id": "ezLFUf44FX-A"
      },
      "source": [
        "## 10. Best Practices\n",
        "- Use meaningful class and method names (e.g., `Dog`, `bark`).\n",
        "- Keep classes focused on a single responsibility.\n",
        "- Prefer composition over inheritance for flexibility.\n",
        "- Use magic methods to make classes Pythonic.\n",
        "- Leverage abstraction for clear interfaces."
      ]
    },
    {
      "cell_type": "markdown",
      "metadata": {
        "id": "WD8zBt6FFX-A"
      },
      "source": [
        "## Conclusion\n",
        "OOP in Python enables modular, reusable, and maintainable code. By mastering classes, objects, and the four pillars, you can model complex systems effectively. The Mini Zoo Simulator project showcases these concepts in action, providing a foundation for further exploration. Happy coding! 🚀"
      ]
    }
  ],
  "metadata": {
    "kernelspec": {
      "display_name": "aiclass",
      "language": "python",
      "name": "python3"
    },
    "language_info": {
      "codemirror_mode": {
        "name": "ipython",
        "version": 3
      },
      "file_extension": ".py",
      "mimetype": "text/x-python",
      "name": "python",
      "nbconvert_exporter": "python",
      "pygments_lexer": "ipython3",
      "version": "3.12.0"
    },
    "colab": {
      "provenance": []
    }
  },
  "nbformat": 4,
  "nbformat_minor": 0
}