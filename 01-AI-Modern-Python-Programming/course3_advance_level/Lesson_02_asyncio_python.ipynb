{
 "cells": [
  {
   "cell_type": "markdown",
   "id": "b36d0f20",
   "metadata": {},
   "source": [
    "<font color=\"#a9a56c\" size=2> **@Author: Muhammad Hammad** </font>\n",
    "\n",
    "# Introduction to Asyncio in Python\n",
    "\n",
    "**Real-World Hook:** Imagine you’re writing a web scraper that needs to fetch 100 pages. If each page takes 1 second, doing it one by one (synchronously) takes almost 2 minutes! Asyncio can overlap waits and finish much faster.\n",
    "\n",
    "**Prerequisites:** Basic Python (functions, loops) and understanding of synchronous code."
   ]
  },
  {
   "cell_type": "markdown",
   "id": "a593a8d3",
   "metadata": {},
   "source": [
    "## 1. What Happens Right Now?\n",
    "\n",
    "When you write ordinary Python, it does one thing after another in order—this is called **synchronous** code.\n",
    "\n",
    "* 🔄 You call a function, Python does it, you get the result, then move on.\n",
    "* 🛑 If one step takes a long time (like waiting for a web page or reading a big file), everything else just sits and waits.\n",
    "\n",
    "Think of it like making breakfast by yourself:\n",
    "\n",
    "1. You fry the eggs,\n",
    "2. Then you toast the bread,\n",
    "3. Then you pour the coffee.\n",
    "   You can’t start toasting until the eggs are done, and you can’t pour coffee until the toast is done.\n",
    "\n",
    "---\n",
    "\n",
    "## 2. What Could Be Better?\n",
    "\n",
    "Imagine instead you have help or you multitask:\n",
    "\n",
    "* You start frying the eggs,\n",
    "* While the eggs are cooking you pop the bread in the toaster,\n",
    "* While the toast is popping you pour the coffee.\n",
    "\n",
    "No one has to stand around doing nothing—this is closer to **asynchronous** programming.\n",
    "\n",
    "---\n",
    "\n",
    "## 3. Asyncio in Python: The Basics\n",
    "\n",
    "Python provides the **asyncio** library to let your code work on multiple things “at once,” even though there’s just one main thread. It does this by:\n",
    "\n",
    "1. **Coroutines** – special functions you mark with `async def` that can pause themselves when they’re waiting.\n",
    "2. **`await`** – tells Python “pause here and let other work happen until this I/O or timer is done.”\n",
    "3. **Event Loop** – the background manager that jumps between paused coroutines, resuming them when they’re ready.\n",
    "4. **Tasks** – wrappers around coroutines that schedule them to run.\n",
    "5. **Futures** – placeholders for results that are not ready yet.\n",
    "\n",
    "\n"
   ]
  },
  {
   "cell_type": "markdown",
   "id": "ed1f6a5e",
   "metadata": {},
   "source": [
    "## Making `asyncio.run()` Work in Jupyter\n",
    "Jupyter has its own event loop, so `asyncio.run()` alone fails:\n",
    "```\n",
    "RuntimeError: This event loop is already running\n",
    "```\n",
    "\n",
    "**Fix:**"
   ]
  },
  {
   "cell_type": "code",
   "execution_count": null,
   "id": "766f32cb",
   "metadata": {},
   "outputs": [],
   "source": [
    "import nest_asyncio\n",
    "nest_asyncio.apply()\n",
    "# Now asyncio.run() works"
   ]
  },
  {
   "cell_type": "markdown",
   "id": "17adb184",
   "metadata": {},
   "source": [
    "**Alternative:** Use top-level `await main()` in IPython 7+ instead of `asyncio.run()`."
   ]
  },
  {
   "cell_type": "markdown",
   "id": "52387391",
   "metadata": {},
   "source": [
    "## Coffee & Pastry Example (Sync vs Async)\n",
    "### Synchronous Version"
   ]
  },
  {
   "cell_type": "code",
   "execution_count": null,
   "id": "3242a44a",
   "metadata": {},
   "outputs": [
    {
     "name": "stdout",
     "output_type": "stream",
     "text": [
      "Coffee ready\n",
      "Pastry ready\n",
      "Sync total: 5.00 seconds\n"
     ]
    }
   ],
   "source": [
    "import time\n",
    "def make_coffee_sync():\n",
    "    time.sleep(2)\n",
    "    print('Coffee ready')\n",
    "    \n",
    "def make_pastry_sync():\n",
    "    time.sleep(3)\n",
    "    print('Pastry ready')\n",
    "    \n",
    "start = time.time()\n",
    "make_coffee_sync()\n",
    "make_pastry_sync()\n",
    "print(f'Sync total: {time.time()-start:.2f} seconds')"
   ]
  },
  {
   "cell_type": "markdown",
   "id": "81e24a29",
   "metadata": {},
   "source": [
    "### Asynchronous Version"
   ]
  },
  {
   "cell_type": "code",
   "execution_count": 3,
   "id": "f3dee944",
   "metadata": {},
   "outputs": [
    {
     "name": "stdout",
     "output_type": "stream",
     "text": [
      "Coffee ready\n",
      "Pastry ready\n",
      "Async total: 3.00 seconds\n"
     ]
    }
   ],
   "source": [
    "import asyncio\n",
    "async def make_coffee_async():\n",
    "    await asyncio.sleep(2)\n",
    "    print('Coffee ready')\n",
    "    \n",
    "async def make_pastry_async():\n",
    "    await asyncio.sleep(3)\n",
    "    print('Pastry ready')\n",
    "    \n",
    "async def main():\n",
    "    await asyncio.gather(make_coffee_async(), make_pastry_async())\n",
    "    \n",
    "# Run the async main function\n",
    "start = asyncio.get_event_loop().time()\n",
    "await main()\n",
    "print(f'Async total: {asyncio.get_event_loop().time()-start:.2f} seconds')"
   ]
  },
  {
   "cell_type": "markdown",
   "id": "c6668dfd",
   "metadata": {},
   "source": [
    "| Approach     | Total Time |\n",
    "|--------------|------------|\n",
    "| Synchronous  | ~5.00 s    |\n",
    "| Asynchronous | ~3.00 s    |\n",
    "\n",
    "**Quiz:** Why did async save ~2 seconds? (Hint: Overlapping waits)"
   ]
  },
  {
   "cell_type": "markdown",
   "id": "4e334dbf",
   "metadata": {},
   "source": [
    "## Best Practices & Common Functions ✅\n",
    "- ✅ Always `await` coroutines\n",
    "- ✅ Use `asyncio.run()` in scripts or `await` in notebooks\n",
    "- ✅ Use `asyncio.gather()` to run many coroutines together\n",
    "- ✅ Use `asyncio.create_task()` to fire-and-forget and check back later\n",
    "- **Helpers:**\n",
    "  - `asyncio.sleep(sec)`\n",
    "  - `asyncio.create_task(coro)`\n",
    "  - `asyncio.gather(*coros)`"
   ]
  },
  {
   "cell_type": "markdown",
   "id": "1efec04b",
   "metadata": {},
   "source": [
    "## Understanding `asyncio` vs `await`\n",
    "**Broken snippet** (fix it!):"
   ]
  },
  {
   "cell_type": "code",
   "execution_count": null,
   "id": "f87e2744",
   "metadata": {},
   "outputs": [],
   "source": [
    "import asyncio\n",
    "async def f():\n",
    "    asyncio.sleep(1)\n",
    "    print('Done')\n",
    "asyncio.run(f())"
   ]
  },
  {
   "cell_type": "markdown",
   "id": "20860ac6",
   "metadata": {},
   "source": [
    "## Checking for Awaitable Objects"
   ]
  },
  {
   "cell_type": "code",
   "execution_count": 22,
   "id": "fb320968",
   "metadata": {},
   "outputs": [
    {
     "name": "stderr",
     "output_type": "stream",
     "text": [
      "C:\\Users\\PMLS\\AppData\\Local\\Temp\\ipykernel_25236\\4077284270.py:2: RuntimeWarning: coroutine 'sleep' was never awaited\n",
      "  print(inspect.isawaitable(asyncio.sleep(1)))  # True\n",
      "RuntimeWarning: Enable tracemalloc to get the object allocation traceback\n"
     ]
    },
    {
     "name": "stdout",
     "output_type": "stream",
     "text": [
      "True\n",
      "False\n"
     ]
    }
   ],
   "source": [
    "import inspect\n",
    "print(inspect.isawaitable(asyncio.sleep(1)))  # True\n",
    "print(inspect.isawaitable(time.sleep(1)))      # False"
   ]
  },
  {
   "cell_type": "markdown",
   "id": "1d2176a7",
   "metadata": {},
   "source": [
    "## Custom Awaitables (`__await__`)"
   ]
  },
  {
   "cell_type": "code",
   "execution_count": null,
   "id": "efa70f95",
   "metadata": {},
   "outputs": [
    {
     "name": "stdout",
     "output_type": "stream",
     "text": [
      "3\n",
      "2\n",
      "1\n",
      "Lift off!\n"
     ]
    }
   ],
   "source": [
    "class Countdown:\n",
    "    def __init__(self, n): self.n = n\n",
    "    def __await__(self):\n",
    "        while self.n > 0:\n",
    "            yield from asyncio.sleep(1).__await__()\n",
    "            print(self.n)\n",
    "            self.n -= 1\n",
    "        return 'Lift off!'\n",
    "\n",
    "async def main():\n",
    "    result = await Countdown(3)\n",
    "    print(result)\n",
    "    \n",
    "asyncio.run(main())"
   ]
  },
  {
   "cell_type": "markdown",
   "id": "5ea8e679",
   "metadata": {},
   "source": [
    "## Running Multiple Tasks (Interleaving)"
   ]
  },
  {
   "cell_type": "code",
   "execution_count": 25,
   "id": "fa451e32",
   "metadata": {},
   "outputs": [
    {
     "name": "stdout",
     "output_type": "stream",
     "text": [
      "1754315793.1556597 Task1 start\n",
      "1754315793.1556597 Task2 start\n",
      "1754315794.1607387 Task2 done\n",
      "1754315795.1567729 Task1 done\n"
     ]
    }
   ],
   "source": [
    "import time, asyncio\n",
    "\n",
    "async def t1():\n",
    "    print(time.time(), 'Task1 start')\n",
    "    await asyncio.sleep(2)\n",
    "    print(time.time(), 'Task1 done')\n",
    "\n",
    "async def t2():\n",
    "    print(time.time(), 'Task2 start')\n",
    "    await asyncio.sleep(1)\n",
    "    print(time.time(), 'Task2 done')\n",
    "\n",
    "async def main():\n",
    "    await asyncio.gather(t1(), t2())\n",
    "\n",
    "asyncio.run(main())"
   ]
  },
  {
   "cell_type": "markdown",
   "id": "3548a793",
   "metadata": {},
   "source": [
    "## Why Use Async? Key Benefits\n",
    "- Efficient I/O (overlap waits)\n",
    "- Single-threaded concurrency\n",
    "- Keeps GUIs and servers responsive\n",
    "- **Not for CPU-bound tasks** (use multiprocessing there)"
   ]
  },
  {
   "cell_type": "markdown",
   "id": "aa8005cd",
   "metadata": {},
   "source": [
    "## Futures Deep Dive\n",
    "**States Diagram:**\n",
    "```\n",
    "Pending --> Done\n",
    "       \\--> Cancelled\n",
    "```\n"
   ]
  },
  {
   "cell_type": "code",
   "execution_count": 27,
   "id": "9acead3b",
   "metadata": {},
   "outputs": [
    {
     "name": "stdout",
     "output_type": "stream",
     "text": [
      "Pending: False\n",
      "Done: True\n",
      "Result: Yep\n"
     ]
    }
   ],
   "source": [
    "async def example_future():\n",
    "    fut = asyncio.Future()\n",
    "    print('Pending:', fut.done())\n",
    "    await asyncio.sleep(1)\n",
    "    fut.set_result('Yep')\n",
    "    print('Done:', fut.done())\n",
    "    print('Result:', fut.result())\n",
    "    \n",
    "asyncio.run(example_future())"
   ]
  },
  {
   "cell_type": "markdown",
   "id": "030b339e",
   "metadata": {},
   "source": [
    "## What Is the Event Loop?\n",
    "- The **engine** driving async code\n",
    "- Manages task queue, I/O, timers, switching\n",
    "\n",
    "**Additional methods:** `loop.run_until_complete()`, `loop.run_forever()`"
   ]
  },
  {
   "cell_type": "code",
   "execution_count": 28,
   "id": "0004ca9c",
   "metadata": {},
   "outputs": [
    {
     "name": "stdout",
     "output_type": "stream",
     "text": [
      "Running: True\n",
      "<Task pending name='Task-21' coro=<sleep() running at c:\\Users\\PMLS\\anaconda3\\envs\\aiclass\\Lib\\asyncio\\tasks.py:643>>\n"
     ]
    }
   ],
   "source": [
    "loop = asyncio.get_event_loop()\n",
    "print('Running:', loop.is_running())\n",
    "task = loop.create_task(asyncio.sleep(1))\n",
    "print(task)"
   ]
  },
  {
   "cell_type": "code",
   "execution_count": null,
   "id": "3ca4db3a",
   "metadata": {},
   "outputs": [],
   "source": []
  }
 ],
 "metadata": {
  "kernelspec": {
   "display_name": "aiclass",
   "language": "python",
   "name": "python3"
  },
  "language_info": {
   "codemirror_mode": {
    "name": "ipython",
    "version": 3
   },
   "file_extension": ".py",
   "mimetype": "text/x-python",
   "name": "python",
   "nbconvert_exporter": "python",
   "pygments_lexer": "ipython3",
   "version": "3.12.0"
  }
 },
 "nbformat": 4,
 "nbformat_minor": 5
}
