{
  "cells": [
    {
      "cell_type": "markdown",
      "id": "022e08bc",
      "metadata": {
        "id": "022e08bc"
      },
      "source": [
        "# Introduction to Dictionaries in Python\n",
        "\n",
        "## What is a Dictionary?\n",
        "\n",
        "Dictionary, a data structure in Python, is a collection of *key-value pairs*, where each *key is unique*, and each key is associated with a specific value.\n",
        "\n",
        "Dictionary enable the association of values with unique keys, providing a way to store and retrieve information using meaningful identifiers. Dictionaries are particularly valuable when there is a need for fast data access and retrieval based on specific keys. They are versatile and widely used in scenarios where data needs to be stored and accessed in a structured manner.\n",
        "\n",
        "## Why Do We Need Dictionaries?\n",
        "\n",
        "### The Problem: Efficient Data Lookups\n",
        "\n",
        "Consider a scenario where you are managing a collection of students name with score. Initially,  might think of using two separate lists. One for student names and one for their corresponding scores:\n",
        "\n",
        "\n",
        "\n"
      ]
    },
    {
      "cell_type": "code",
      "execution_count": 1,
      "id": "d6b037a2",
      "metadata": {
        "id": "d6b037a2"
      },
      "outputs": [],
      "source": [
        "students : list[str ]= [\"Alice\", \"Bob\", \"Charlie\"]\n",
        "scores : list[int] = [85, 92, 78]"
      ]
    },
    {
      "cell_type": "markdown",
      "id": "9b1d5a90",
      "metadata": {
        "id": "9b1d5a90"
      },
      "source": [
        "\n",
        "To find the score of a specific student,  would need to first find the index of the student's name in the `students` list and then use that index to look up the score in the `scores` list:\n",
        "\n",
        "\n",
        "\n"
      ]
    },
    {
      "cell_type": "code",
      "execution_count": 2,
      "id": "03ee09bd",
      "metadata": {
        "id": "03ee09bd",
        "outputId": "2e355240-78ca-43e4-b4c7-5a2ee7af6f31",
        "colab": {
          "base_uri": "https://localhost:8080/"
        }
      },
      "outputs": [
        {
          "output_type": "stream",
          "name": "stdout",
          "text": [
            "1\n",
            "92\n"
          ]
        }
      ],
      "source": [
        "# --- Using two parallel lists ---\n",
        "# To get Bob’s score we first have to search for his index, then\n",
        "# use that index in the scores list—two separate steps.\n",
        "\n",
        "index : int = students.index(\"Bob\")# 1\n",
        "print(index)\n",
        "score : int = scores[index]\n",
        "print(score)"
      ]
    },
    {
      "cell_type": "markdown",
      "id": "93188425",
      "metadata": {
        "id": "93188425"
      },
      "source": [
        "While this approach works, it quickly becomes inefficient as the lists grow in size. Searching for a student's name in the list takes time, and managing two separate lists can lead to errors, especially if they become out of sync.\n",
        "\n",
        "### The Solution: Constant-Time Lookups with Dictionaries\n",
        "\n",
        "Dictionaries provide a more efficient and intuitive way to handle this situation. By using student names as keys and their scores as values,  can store the data in a dictionary:\n",
        "\n",
        "\n",
        "\n"
      ]
    },
    {
      "cell_type": "code",
      "source": [
        "# --- Using a dictionary (MUCH simpler) ---\n",
        "# A dictionary lets us map each student directly to a score, so we can\n",
        "# retrieve Bob’s score with a single, intuitive key lookup—no index-hunting.\n",
        "\n",
        "students_score = {\n",
        "    \"Alice\": 85,\n",
        "    \"Bob\": 92,\n",
        "    \"Charlie\": 78,\n",
        "    \"Alice\":75 # this will overwrite the previous key:vlaue\n",
        "}\n",
        "print(students_score[\"Bob\"])"
      ],
      "metadata": {
        "id": "0nHDp-628VHg",
        "outputId": "4aa4e583-d101-4c5e-9ca4-8254d9d86900",
        "colab": {
          "base_uri": "https://localhost:8080/"
        }
      },
      "id": "0nHDp-628VHg",
      "execution_count": 3,
      "outputs": [
        {
          "output_type": "stream",
          "name": "stdout",
          "text": [
            "92\n"
          ]
        }
      ]
    },
    {
      "cell_type": "code",
      "source": [
        "print(students_score)"
      ],
      "metadata": {
        "id": "zoe_cnkg4u6x",
        "outputId": "01637295-e051-49aa-b074-95f833fa11f0",
        "colab": {
          "base_uri": "https://localhost:8080/"
        }
      },
      "id": "zoe_cnkg4u6x",
      "execution_count": 4,
      "outputs": [
        {
          "output_type": "stream",
          "name": "stdout",
          "text": [
            "{'Alice': 75, 'Bob': 92, 'Charlie': 78}\n"
          ]
        }
      ]
    },
    {
      "cell_type": "markdown",
      "id": "6ee84445",
      "metadata": {
        "id": "6ee84445"
      },
      "source": [
        "\n",
        "Now, finding a student's score is much simpler and faster:\n",
        "\n",
        "\n"
      ]
    },
    {
      "cell_type": "code",
      "execution_count": 5,
      "id": "e6f73536",
      "metadata": {
        "id": "e6f73536",
        "outputId": "5ecc71e6-51c7-4456-b0e6-b1c04ff6deb3",
        "colab": {
          "base_uri": "https://localhost:8080/"
        }
      },
      "outputs": [
        {
          "output_type": "stream",
          "name": "stdout",
          "text": [
            "75\n"
          ]
        }
      ],
      "source": [
        "score : int = students_score[\"Alice\"]\n",
        "print(score)"
      ]
    },
    {
      "cell_type": "code",
      "execution_count": 6,
      "id": "0fbf0b36",
      "metadata": {
        "id": "0fbf0b36",
        "outputId": "49e662e7-51a0-4dac-e41a-d3f5bfc7acbe",
        "colab": {
          "base_uri": "https://localhost:8080/"
        }
      },
      "outputs": [
        {
          "output_type": "stream",
          "name": "stdout",
          "text": [
            "3\n"
          ]
        }
      ],
      "source": [
        "print(len(students_score))"
      ]
    },
    {
      "cell_type": "markdown",
      "id": "842720da",
      "metadata": {
        "id": "842720da"
      },
      "source": [
        "This operation is performed in constant time, regardless of the number of students. Because of the direct indexing mechanism provided by the hash function\n",
        "\n",
        "## What Problems Do Dictionaries Solve?\n",
        "\n",
        "### 1. Fast Data Retrieval\n",
        "\n",
        "Dictionaries are optimized for fast data retrieval. Instead of searching through an entire list,  can quickly access any value directly by its key.\n",
        "\n",
        "O(1) (pronounced “order-one”) is Big-O notation for constant time.  \n",
        "O(1) key look-up means you can grab a value from a dictionary almost instantly—Python jumps straight to where the item is stored instead of searching through everything—so the time it takes doesn’t grow as the dictionary gets bigger.\n",
        "\n",
        "### 2. Clearer, More Expressive Code\n",
        "\n",
        "Dictionaries allow us to write clearer and more expressive code. The key-value structure makes it obvious what each item represents, improving code readability.\n",
        "\n",
        "```python\n",
        "\n",
        "# ── Using a plain list ───────────────────────────────────────────────\n",
        "# Hard to know what each slot means without a comment\n",
        "student_list = [\"Sikandar\", 23, 3.71]      # [name, age, GPA]\n",
        "\n",
        "name  = student_list[0]\n",
        "gpa   = student_list[2]\n",
        "\n",
        "# ── Using a dictionary ───────────────────────────────────────────────\n",
        "# Keys make intent obvious at a glance\n",
        "student_dict = {\n",
        "    \"name\": \"Sikandar\",\n",
        "    \"age\": 23,\n",
        "    \"gpa\": 3.71,\n",
        "}\n",
        "\n",
        "name = student_dict[\"name\"]\n",
        "gpa  = student_dict[\"gpa\"]\n",
        "\n",
        "print(f\"{name} has a GPA of {gpa}\")\n",
        "\n",
        "```\n",
        "\n",
        "### 3. Flexibility in Data Organization\n",
        "\n",
        "Dictionaries offer flexibility in how  organize data can store complex structures, like lists or other dictionaries, as values, enabling us to represent nested or hierarchical data.\n",
        "\n",
        "```python\n",
        "# A student's record stored in one flexible dictionary\n",
        "student_record = {\n",
        "    \"name\": \"Sikandar\",                     # simple value\n",
        "    \"scores\": [85, 92, 78],                 # list value\n",
        "    \"contact\": {                            # nested dictionary value\n",
        "        \"email\": \"sikandar@example.com\",\n",
        "        \"phone\": \"+92-333-1234567\"\n",
        "    }\n",
        "}\n",
        "\n",
        "# ── Accessing nested data ────────────────────────────────────────────\n",
        "print(student_record[\"scores\"][1])          # 92  (2nd test score)\n",
        "print(student_record[\"contact\"][\"email\"])   # sikandar@example.com\n",
        "\n",
        "\n",
        "```\n",
        "\n",
        "## Working with Dictionaries in Python\n",
        "\n",
        "### Important Properties\n",
        "- Each key should be unique\n",
        "- Key can be any immutable type of object like tuple, str, int, etc.\n",
        "- `len()` function also works with dictionaries i.e. returns the length of key-value pairs\n",
        "- A dictionary is a one way tool i.e. We can find the value from key but cannot find the key from value. It works the same way as original dictionary.We can find urdu meaning of word in english but not the english meaning of urdu word.\n",
        "- Dictionaries are not a sequence type. So can we use for loop with dictionaries? Yes! We'll see it in below examples.\n",
        "\n",
        "- A sequence in Python is an ordered collection of items. Because the order is fixed, you can:\n",
        "\n",
        "    - access any element by its index (seq[0], seq[-1], etc.),\n",
        "\n",
        "    - iterate from left to right with a for loop,\n",
        "\n",
        "    - take slices (seq[2:5]) to get sub-sequences.\n",
        "\n",
        "    - Built-in sequence types include list, tuple, str, bytes, and range.\n",
        "\n",
        "### Creating a Dictionary\n",
        "\n",
        " can create a dictionary using curly braces `{}` or the `dict()` function.\n",
        "\n",
        "\n"
      ]
    },
    {
      "cell_type": "code",
      "execution_count": 10,
      "id": "eaa3eda7",
      "metadata": {
        "id": "eaa3eda7",
        "outputId": "6550f498-d836-4b51-ae4f-6065232471ed",
        "colab": {
          "base_uri": "https://localhost:8080/"
        }
      },
      "outputs": [
        {
          "output_type": "stream",
          "name": "stdout",
          "text": [
            "{'Bob': 92, 'Charlie': 78, 'Alice': 85}\n"
          ]
        }
      ],
      "source": [
        "# Using curly braces\n",
        "students_scores : dict[str, int] = {\n",
        "    \"Bob\": 92,\n",
        "    \"Charlie\": 78,\n",
        "    \"Alice\": 85,\n",
        "}\n",
        "print(students_scores)"
      ]
    },
    {
      "cell_type": "code",
      "execution_count": 8,
      "id": "8d3960cd",
      "metadata": {
        "id": "8d3960cd",
        "outputId": "6ad0be01-5055-4753-eb47-a6f24abe9712",
        "colab": {
          "base_uri": "https://localhost:8080/"
        }
      },
      "outputs": [
        {
          "output_type": "stream",
          "name": "stdout",
          "text": [
            "{'Zeeshan': 80, 'Asif': 90, 'Kashif': 70}\n"
          ]
        }
      ],
      "source": [
        "# Using dict() function\n",
        "students_scores2 : dict[str,int] = dict(Zeeshan=80, Asif=90, Kashif=70)\n",
        "print(students_scores2)\n",
        "\n",
        "# list1 = list((1,2,3,4,5))\n",
        "# print(list1)\n",
        "\n"
      ]
    },
    {
      "cell_type": "markdown",
      "id": "0075710a",
      "metadata": {
        "id": "0075710a"
      },
      "source": [
        "## Accessing Values\n",
        "can access values in a dictionary using the key inside square brackets `[]` or with the `.get()` method.\n",
        "\n",
        "#### Example:\n",
        "\n"
      ]
    },
    {
      "cell_type": "code",
      "execution_count": 14,
      "id": "cf0f5768",
      "metadata": {
        "id": "cf0f5768",
        "outputId": "62e0e204-9c50-442c-bebf-6bd88192f549",
        "colab": {
          "base_uri": "https://localhost:8080/"
        }
      },
      "outputs": [
        {
          "output_type": "stream",
          "name": "stdout",
          "text": [
            "Key is not found\n"
          ]
        }
      ],
      "source": [
        "# Accessing a value directly by key (dictionary indexing).\n",
        "# Raises a KeyError if \"Ali\" isn’t in the dictionary.\n",
        "# print(students_scores2[\"Ali\"])        # Error\n",
        "\n",
        "# Accessing a value safely with get(); returns the given default\n",
        "# (“value not found”) if \"Ali\" isn’t present.\n",
        "# print(students_scores.get(\"Ali\"))  # 92\n",
        "print(students_scores.get(\"Ali\",\"Key is not found\"))"
      ]
    },
    {
      "cell_type": "markdown",
      "id": "0ed6aef5",
      "metadata": {
        "id": "0ed6aef5"
      },
      "source": [
        "#### Handling Missing Keys\n",
        "The `.get()` method is safer for accessing keys, as it returns `None` as a default value if the key is not found, rather than raising a `KeyError`.\n",
        "\n",
        "#### Example:\n",
        "\n"
      ]
    },
    {
      "cell_type": "code",
      "source": [
        "students_scores : dict[str, int] = {\n",
        "    \"Bob\": 92,\n",
        "    \"Charlie\": 78,\n",
        "    \"Alice\": 85,\n",
        "}"
      ],
      "metadata": {
        "id": "ln1M_9b0Uxg6"
      },
      "id": "ln1M_9b0Uxg6",
      "execution_count": 22,
      "outputs": []
    },
    {
      "cell_type": "code",
      "execution_count": 23,
      "id": "9c157973",
      "metadata": {
        "id": "9c157973",
        "outputId": "8f1a128b-72c0-487d-a773-fea929a6e147",
        "colab": {
          "base_uri": "https://localhost:8080/"
        }
      },
      "outputs": [
        {
          "output_type": "stream",
          "name": "stdout",
          "text": [
            "None\n",
            "Not Found\n"
          ]
        }
      ],
      "source": [
        "# Using square brackets (raises KeyError if key is not found)\n",
        "# print(student_scores[\"David\"])  # Uncommenting this line would raise KeyError\n",
        "\n",
        "# Using get() (returns None if key is not found)\n",
        "print(students_scores.get(\"David\"))  # Output: None\n",
        "\n",
        "# Providing a default value with get()\n",
        "print(students_scores.get(\"David\", \"Not Found\"))  # Output: Not Found"
      ]
    },
    {
      "cell_type": "markdown",
      "id": "c39a1e7c",
      "metadata": {
        "id": "c39a1e7c"
      },
      "source": [
        "# Adding and Updating Items\n",
        "\n",
        " can add a new key-value pair or update an existing one using square brackets `[]`.\n",
        "\n",
        "#### Example:\n",
        "\n"
      ]
    },
    {
      "cell_type": "code",
      "execution_count": 24,
      "id": "7b60ad0c",
      "metadata": {
        "id": "7b60ad0c",
        "outputId": "092493b2-7986-4138-a998-78fa851e629a",
        "colab": {
          "base_uri": "https://localhost:8080/"
        }
      },
      "outputs": [
        {
          "output_type": "stream",
          "name": "stdout",
          "text": [
            "{'Bob': 92, 'Charlie': 78, 'Alice': 85, 'David': 88}\n"
          ]
        }
      ],
      "source": [
        "# Adding a new key-value pair\n",
        "students_scores[\"David\"] = 88\n",
        "print(students_scores)"
      ]
    },
    {
      "cell_type": "code",
      "source": [
        "# # Updating an existing key-value pair\n",
        "students_scores[\"Alice\"] = 99\n",
        "print(students_scores)"
      ],
      "metadata": {
        "id": "DWoa7d_UXSr1",
        "outputId": "3975a944-1ae6-4abe-a3ac-aa596f31b098",
        "colab": {
          "base_uri": "https://localhost:8080/"
        }
      },
      "id": "DWoa7d_UXSr1",
      "execution_count": 25,
      "outputs": [
        {
          "output_type": "stream",
          "name": "stdout",
          "text": [
            "{'Bob': 92, 'Charlie': 78, 'Alice': 99, 'David': 88}\n"
          ]
        }
      ]
    },
    {
      "cell_type": "markdown",
      "id": "21c3992b",
      "metadata": {
        "id": "21c3992b"
      },
      "source": [
        "## Removing Items\n",
        "\n",
        " can remove items using the `del` statement, the `.pop()` method, or the `.popitem()` method.\n",
        "\n",
        "#### Example:\n",
        "\n"
      ]
    },
    {
      "cell_type": "code",
      "execution_count": 26,
      "id": "e9d128b4",
      "metadata": {
        "id": "e9d128b4",
        "outputId": "3f608132-002e-472f-875a-f10cbe685530",
        "colab": {
          "base_uri": "https://localhost:8080/"
        }
      },
      "outputs": [
        {
          "output_type": "stream",
          "name": "stdout",
          "text": [
            "{'Bob': 92, 'Alice': 99, 'David': 88}\n"
          ]
        }
      ],
      "source": [
        "# Removing a specific key-value pair using del\n",
        "del students_scores[\"Charlie\"]\n",
        "print(students_scores)"
      ]
    },
    {
      "cell_type": "code",
      "execution_count": 28,
      "id": "0a096d1d",
      "metadata": {
        "id": "0a096d1d",
        "outputId": "86fed84d-1a0b-45bd-ed16-f3873c7ad209",
        "colab": {
          "base_uri": "https://localhost:8080/"
        }
      },
      "outputs": [
        {
          "output_type": "stream",
          "name": "stdout",
          "text": [
            "88\n",
            "{'Bob': 92, 'Alice': 99}\n"
          ]
        }
      ],
      "source": [
        "# Removing a specific key-value pair using pop()\n",
        "removed_score = students_scores.pop(\"David\") # removed_score contains only value\n",
        "print(removed_score)\n",
        "print(students_scores)"
      ]
    },
    {
      "cell_type": "code",
      "execution_count": 29,
      "id": "f3e78f0c",
      "metadata": {
        "id": "f3e78f0c",
        "outputId": "46c82abc-50fe-471b-911f-f5209f54f93f",
        "colab": {
          "base_uri": "https://localhost:8080/"
        }
      },
      "outputs": [
        {
          "output_type": "stream",
          "name": "stdout",
          "text": [
            "('Alice', 99)\n",
            "{'Bob': 92}\n"
          ]
        }
      ],
      "source": [
        "# Removing the last inserted key-value pair using popitem()\n",
        "last_item = students_scores.popitem() # last_item contains key-value and convert to tuple\n",
        "print(last_item)\n",
        "print(students_scores)\n"
      ]
    },
    {
      "cell_type": "markdown",
      "id": "1fbeada8",
      "metadata": {
        "id": "1fbeada8"
      },
      "source": [
        "## Checking if a Key Exists\n",
        "\n",
        " can check if a key exists in a dictionary using the `in` keyword.\n",
        "\n",
        "#### Example:\n",
        "\n"
      ]
    },
    {
      "cell_type": "code",
      "execution_count": 30,
      "id": "905e45cf",
      "metadata": {
        "id": "905e45cf",
        "outputId": "39d27d69-cd1f-4f0b-d77b-b758ef766f3a",
        "colab": {
          "base_uri": "https://localhost:8080/"
        }
      },
      "outputs": [
        {
          "output_type": "stream",
          "name": "stdout",
          "text": [
            "False\n",
            "True\n"
          ]
        }
      ],
      "source": [
        "print(\"Alice\" in students_scores)\n",
        "print(\"Bob\" in students_scores)\n"
      ]
    },
    {
      "cell_type": "markdown",
      "id": "f583a5ba",
      "metadata": {
        "id": "f583a5ba"
      },
      "source": [
        "## Iterating Through a Dictionary\n",
        "\n",
        "We can iterate through the keys, values, or key-value pairs in a dictionary using a `for` loop.\n",
        "\n",
        "\n",
        "### Example:\n",
        "\n"
      ]
    },
    {
      "cell_type": "code",
      "execution_count": 31,
      "id": "ab0e4231",
      "metadata": {
        "id": "ab0e4231"
      },
      "outputs": [],
      "source": [
        "students_scores : dict[str,int] = {\n",
        "    \"Alice\": 85,\n",
        "    \"Bob\": 92,\n",
        "    \"Charlie\": 78\n",
        "}"
      ]
    },
    {
      "cell_type": "code",
      "execution_count": 33,
      "id": "f35deed4",
      "metadata": {
        "id": "f35deed4",
        "outputId": "e5d4cfd6-3ee9-4173-a510-66cd8be0eac9",
        "colab": {
          "base_uri": "https://localhost:8080/"
        }
      },
      "outputs": [
        {
          "output_type": "stream",
          "name": "stdout",
          "text": [
            "Alice\n",
            "Bob\n",
            "Charlie\n"
          ]
        }
      ],
      "source": [
        "# Iterating through keys\n",
        "for student in students_scores.keys():\n",
        "    print(student)"
      ]
    },
    {
      "cell_type": "code",
      "execution_count": 34,
      "id": "11451e37",
      "metadata": {
        "id": "11451e37",
        "outputId": "f0a7333e-f658-4528-b262-efadc2ace7ab",
        "colab": {
          "base_uri": "https://localhost:8080/"
        }
      },
      "outputs": [
        {
          "output_type": "stream",
          "name": "stdout",
          "text": [
            "85\n",
            "92\n",
            "78\n"
          ]
        }
      ],
      "source": [
        "# Iterating through values\n",
        "for score in students_scores.values():\n",
        "    print(score)"
      ]
    },
    {
      "cell_type": "code",
      "execution_count": 35,
      "id": "80594672",
      "metadata": {
        "id": "80594672",
        "outputId": "51d4ac20-4704-4666-84ee-fca946f2bece",
        "colab": {
          "base_uri": "https://localhost:8080/"
        }
      },
      "outputs": [
        {
          "output_type": "stream",
          "name": "stdout",
          "text": [
            "Student: Alice, Score: 85\n",
            "Student: Bob, Score: 92\n",
            "Student: Charlie, Score: 78\n"
          ]
        }
      ],
      "source": [
        "# Iterating through key-value pairs\n",
        "for student, score in students_scores.items():\n",
        "    # print(f\"{{{student}:{score}}}\")\n",
        "    print(f\"Student: {student}, Score: {score}\")"
      ]
    },
    {
      "cell_type": "code",
      "source": [
        "# Iterating through key-value pairs\n",
        "for student in students_scores.items():\n",
        "    print(f\"{student}\")"
      ],
      "metadata": {
        "id": "Ki999TlQKPfh",
        "outputId": "d2c74746-b66e-4f14-926d-bc8eff28ca3c",
        "colab": {
          "base_uri": "https://localhost:8080/"
        }
      },
      "id": "Ki999TlQKPfh",
      "execution_count": 36,
      "outputs": [
        {
          "output_type": "stream",
          "name": "stdout",
          "text": [
            "('Alice', 85)\n",
            "('Bob', 92)\n",
            "('Charlie', 78)\n"
          ]
        }
      ]
    },
    {
      "cell_type": "code",
      "source": [
        "[i for i in dir(students_scores) if \"__\" not in i]"
      ],
      "metadata": {
        "id": "rcLzSDq2QdlQ",
        "outputId": "1acd7e61-d975-4fec-f6df-c0b3504e55b4",
        "colab": {
          "base_uri": "https://localhost:8080/"
        }
      },
      "id": "rcLzSDq2QdlQ",
      "execution_count": 37,
      "outputs": [
        {
          "output_type": "execute_result",
          "data": {
            "text/plain": [
              "['clear',\n",
              " 'copy',\n",
              " 'fromkeys',\n",
              " 'get',\n",
              " 'items',\n",
              " 'keys',\n",
              " 'pop',\n",
              " 'popitem',\n",
              " 'setdefault',\n",
              " 'update',\n",
              " 'values']"
            ]
          },
          "metadata": {},
          "execution_count": 37
        }
      ]
    },
    {
      "cell_type": "markdown",
      "id": "fd30457d",
      "metadata": {
        "id": "fd30457d"
      },
      "source": [
        "## Dictionary Methods\n",
        "\n",
        "#### 1. `.keys()` Method\n",
        "Returns a view object that displays a list of all the keys in the dictionary.\n",
        "\n",
        "*Example:*\n",
        "\n",
        "\n"
      ]
    },
    {
      "cell_type": "code",
      "execution_count": 39,
      "id": "779d3d87",
      "metadata": {
        "id": "779d3d87",
        "outputId": "c6d2aa54-7041-424e-e12b-b1ee2c441332",
        "colab": {
          "base_uri": "https://localhost:8080/"
        }
      },
      "outputs": [
        {
          "output_type": "stream",
          "name": "stdout",
          "text": [
            "dict_keys(['Alice', 'Bob', 'Charlie'])\n",
            "<class 'dict_keys'>\n",
            "---------------\n",
            "['Alice', 'Bob', 'Charlie']\n",
            "<class 'list'>\n",
            "---------------\n",
            "('Alice', 'Bob', 'Charlie')\n",
            "<class 'tuple'>\n"
          ]
        }
      ],
      "source": [
        "keys = students_scores.keys()\n",
        "print(keys)\n",
        "print(type(keys))\n",
        "\n",
        "print(\"---------------\")\n",
        "convert_to_list = list(keys)\n",
        "print(convert_to_list)\n",
        "print(type(convert_to_list))\n",
        "\n",
        "print(\"---------------\")\n",
        "convert_to_tuple = tuple(keys)\n",
        "print(convert_to_tuple)\n",
        "print(type(convert_to_tuple))"
      ]
    },
    {
      "cell_type": "markdown",
      "id": "ac78cc09",
      "metadata": {
        "id": "ac78cc09"
      },
      "source": [
        "#### 2. `.values()` Method\n",
        "Returns a view object that displays a list of all the values in the dictionary.\n",
        "\n",
        "*Example:*\n",
        "\n"
      ]
    },
    {
      "cell_type": "code",
      "execution_count": 40,
      "id": "95ea4997",
      "metadata": {
        "id": "95ea4997",
        "outputId": "17cd7224-7b0d-4397-e7c1-0353012659f0",
        "colab": {
          "base_uri": "https://localhost:8080/"
        }
      },
      "outputs": [
        {
          "output_type": "stream",
          "name": "stdout",
          "text": [
            "dict_values([85, 92, 78])\n",
            "<class 'dict_values'>\n"
          ]
        }
      ],
      "source": [
        "values = students_scores.values()\n",
        "print(values)\n",
        "print(type(values))"
      ]
    },
    {
      "cell_type": "markdown",
      "id": "efc2eafe",
      "metadata": {
        "id": "efc2eafe"
      },
      "source": [
        "#### 3. `.items()` Method\n",
        "Returns a view object that displays a list of the dictionary’s key-value tuple pairs.\n",
        "\n",
        "*Example:*\n",
        "\n",
        "\n"
      ]
    },
    {
      "cell_type": "code",
      "execution_count": 41,
      "id": "cc7a9cfb",
      "metadata": {
        "id": "cc7a9cfb",
        "outputId": "f48cf13c-11eb-4ced-fe2c-1ffe807e1a8a",
        "colab": {
          "base_uri": "https://localhost:8080/"
        }
      },
      "outputs": [
        {
          "output_type": "stream",
          "name": "stdout",
          "text": [
            "dict_items([('Alice', 85), ('Bob', 92), ('Charlie', 78)])\n",
            "<class 'dict_items'>\n"
          ]
        }
      ],
      "source": [
        "items = students_scores.items()\n",
        "print(items)\n",
        "print(type(items))"
      ]
    },
    {
      "cell_type": "markdown",
      "id": "cc349569",
      "metadata": {
        "id": "cc349569"
      },
      "source": [
        "#### 4. `.update()` Method\n",
        "Updates the dictionary with elements from another dictionary or from an iterable of key-value pairs.\n",
        "\n",
        "*Example:*\n",
        "\n"
      ]
    },
    {
      "cell_type": "code",
      "source": [
        "students_scores : dict[str,int] = {\n",
        "    \"Alice\": 85,\n",
        "    \"Bob\": 92,\n",
        "    \"Charlie\": 78\n",
        "}"
      ],
      "metadata": {
        "id": "dTUGgOcIY5IH"
      },
      "id": "dTUGgOcIY5IH",
      "execution_count": 42,
      "outputs": []
    },
    {
      "cell_type": "code",
      "source": [
        "print(students_scores)"
      ],
      "metadata": {
        "id": "A6nv6hvpYh6N",
        "outputId": "9d088911-78b6-4ce2-a553-4e5eec9df2b3",
        "colab": {
          "base_uri": "https://localhost:8080/"
        }
      },
      "id": "A6nv6hvpYh6N",
      "execution_count": 43,
      "outputs": [
        {
          "output_type": "stream",
          "name": "stdout",
          "text": [
            "{'Alice': 85, 'Bob': 92, 'Charlie': 78}\n"
          ]
        }
      ]
    },
    {
      "cell_type": "code",
      "execution_count": 44,
      "id": "210e9cda",
      "metadata": {
        "id": "210e9cda",
        "outputId": "68deb3c1-3f97-4a50-d961-2a3d803a3302",
        "colab": {
          "base_uri": "https://localhost:8080/"
        }
      },
      "outputs": [
        {
          "output_type": "stream",
          "name": "stdout",
          "text": [
            "{'Alice': 85, 'Bob': 50, 'Charlie': 78, 'Eve': 95, 'Frank': 87}\n"
          ]
        }
      ],
      "source": [
        "additional_scores = {\"Eve\": 95, \"Frank\": 87, 'Bob':50}\n",
        "students_scores.update(additional_scores)\n",
        "print(students_scores)"
      ]
    },
    {
      "cell_type": "markdown",
      "id": "4ccf3fb4",
      "metadata": {
        "id": "4ccf3fb4"
      },
      "source": [
        "#### 5. `.clear()` Method\n",
        "Removes all items from the dictionary.\n",
        "\n",
        "*Example:*\n",
        "\n"
      ]
    },
    {
      "cell_type": "code",
      "execution_count": 45,
      "id": "0e0e85b7",
      "metadata": {
        "id": "0e0e85b7",
        "outputId": "59eeae3f-8c9d-4808-f5f4-57852dac7904",
        "colab": {
          "base_uri": "https://localhost:8080/"
        }
      },
      "outputs": [
        {
          "output_type": "stream",
          "name": "stdout",
          "text": [
            "{}\n"
          ]
        }
      ],
      "source": [
        "students_scores.clear()\n",
        "print(students_scores)"
      ]
    },
    {
      "cell_type": "markdown",
      "id": "11a78e9b",
      "metadata": {
        "id": "11a78e9b"
      },
      "source": [
        "#### 5. `.copy()` Method\n",
        "\n"
      ]
    },
    {
      "cell_type": "code",
      "execution_count": 46,
      "id": "49883869",
      "metadata": {
        "id": "49883869",
        "outputId": "cc52aaff-a5fc-46e0-abf0-3c0c52f0f8a9",
        "colab": {
          "base_uri": "https://localhost:8080/"
        }
      },
      "outputs": [
        {
          "output_type": "stream",
          "name": "stdout",
          "text": [
            "140140010435712\n",
            "140140010435712\n",
            "{'Alice': 85, 'Bob': 92, 'Charlie': 78}\n"
          ]
        }
      ],
      "source": [
        "students_scores : dict[str,int] = {\n",
        "    \"Alice\": 85,\n",
        "    \"Bob\": 92,\n",
        "    \"Charlie\": 78\n",
        "}\n",
        "new = students_scores # shallow copy\n",
        "print(id(new))\n",
        "print(id(students_scores))\n",
        "print(new)"
      ]
    },
    {
      "cell_type": "code",
      "execution_count": 47,
      "id": "ec303d4e",
      "metadata": {
        "id": "ec303d4e",
        "outputId": "69d27028-80d4-4093-cd24-81e5c5f284af",
        "colab": {
          "base_uri": "https://localhost:8080/"
        }
      },
      "outputs": [
        {
          "output_type": "stream",
          "name": "stdout",
          "text": [
            "{'Alice': 85, 'Bob': 92, 'Charlie': 78}\n"
          ]
        }
      ],
      "source": [
        "students_scores_copy = students_scores.copy() # deep copy\n",
        "print(students_scores_copy)"
      ]
    },
    {
      "cell_type": "code",
      "source": [
        "print(id(students_scores))\n",
        "print(id(students_scores_copy))"
      ],
      "metadata": {
        "id": "H7j3cHIqR1fN",
        "outputId": "59c55922-29d7-4310-d563-3c342376dc93",
        "colab": {
          "base_uri": "https://localhost:8080/"
        }
      },
      "id": "H7j3cHIqR1fN",
      "execution_count": 48,
      "outputs": [
        {
          "output_type": "stream",
          "name": "stdout",
          "text": [
            "140140010435712\n",
            "140140010116480\n"
          ]
        }
      ]
    },
    {
      "cell_type": "markdown",
      "id": "57b55704",
      "metadata": {
        "id": "57b55704"
      },
      "source": [
        "## Dictionary Comprehension\n",
        "We can also apply comprehension method on dictionaries.\n",
        "\n",
        "*Example:*\n",
        "\n"
      ]
    },
    {
      "cell_type": "code",
      "execution_count": 49,
      "id": "b818c9e9",
      "metadata": {
        "id": "b818c9e9",
        "outputId": "a33e678b-c5bd-4a63-9618-8a9d5a66ea63",
        "colab": {
          "base_uri": "https://localhost:8080/"
        }
      },
      "outputs": [
        {
          "output_type": "stream",
          "name": "stdout",
          "text": [
            "{0: 0, 1: 2, 2: 4, 3: 6, 4: 8}\n"
          ]
        }
      ],
      "source": [
        "values : dict[int,int] = {x:x*2 for x in range(5)}\n",
        "# {0:0,1:2,2:4}\n",
        "print(values)"
      ]
    },
    {
      "cell_type": "markdown",
      "id": "5cc8137a",
      "metadata": {
        "id": "5cc8137a"
      },
      "source": [
        "*Example:* Recalling\n",
        "\n"
      ]
    },
    {
      "cell_type": "code",
      "source": [
        "fruits : list[str] = [\"apple\", \"banana\", \"orange\"]\n",
        "list1 = [1,2,3,4,5]\n",
        "list_comp = [i*2 for i in list1]\n",
        "print(list_comp)\n"
      ],
      "metadata": {
        "id": "IMTHQREnZyN1",
        "outputId": "b69c5d82-3043-4a04-9b07-892156c8ae75",
        "colab": {
          "base_uri": "https://localhost:8080/"
        }
      },
      "id": "IMTHQREnZyN1",
      "execution_count": 51,
      "outputs": [
        {
          "output_type": "stream",
          "name": "stdout",
          "text": [
            "[2, 4, 6, 8, 10]\n"
          ]
        }
      ]
    },
    {
      "cell_type": "code",
      "source": [
        "for i, fruit in enumerate(fruits):\n",
        "    print(i,fruit)\n"
      ],
      "metadata": {
        "id": "LGU3mmL3cWPR",
        "outputId": "5767da13-cc1e-4eff-8ac9-403e1573b226",
        "colab": {
          "base_uri": "https://localhost:8080/"
        }
      },
      "id": "LGU3mmL3cWPR",
      "execution_count": 52,
      "outputs": [
        {
          "output_type": "stream",
          "name": "stdout",
          "text": [
            "0 apple\n",
            "1 banana\n",
            "2 orange\n"
          ]
        }
      ]
    },
    {
      "cell_type": "code",
      "execution_count": 53,
      "id": "b425e12c",
      "metadata": {
        "id": "b425e12c",
        "outputId": "fe3b5991-2aee-4ed8-ec61-cf757d5a880c",
        "colab": {
          "base_uri": "https://localhost:8080/"
        }
      },
      "outputs": [
        {
          "output_type": "stream",
          "name": "stdout",
          "text": [
            "{0: 'apple', 1: 'banana', 2: 'orange'}\n"
          ]
        }
      ],
      "source": [
        "# convert list into dictionary\n",
        "fruits : list[str] = [\"apple\", \"banana\", \"orange\"]\n",
        "\n",
        "fruits_dict : dict[int,str] = {i:fruit for i, fruit in enumerate(fruits)}\n",
        "\n",
        "print(fruits_dict)"
      ]
    },
    {
      "cell_type": "markdown",
      "id": "b655de0e",
      "metadata": {
        "id": "b655de0e"
      },
      "source": [
        "## Projects\n",
        "\n",
        "### Project 1: Student Gradebook\n",
        "\n",
        "#### **Write a program to :**\n",
        "- Create a dictionary to store student names as keys and their grades as values.\n",
        "- Allow the user to input new student-grade pairs and update existing entries.\n",
        "\n",
        "#### **Breakdown into step by step:**\n",
        "1. **Initialize an empty dictionary** to store student names (keys) and their grades (values).\n",
        "\n",
        "2. **Create a loop** to continuously allow the user to input data until they choose to stop.\n",
        "  - 1. Add or Update a student\n",
        "  - 2. View all students and grades\n",
        "  - 3. Exit\n",
        "\n",
        "3. **Prompt the user** to enter a student's name.\n",
        "\n",
        "4. **Check if the name is already in the dictionary:**\n",
        "   - **If it is**, then update the grade and update the dictionary.\n",
        "   - **If not**, then add the grade and add into the dictionary.\n",
        "\n",
        "5. **Ask the user** if they want to add another student or update another grade.\n",
        "\n",
        "\n",
        "\n"
      ]
    },
    {
      "cell_type": "code",
      "source": [],
      "metadata": {
        "id": "sWCPyOvBfH04"
      },
      "id": "sWCPyOvBfH04",
      "execution_count": null,
      "outputs": []
    },
    {
      "cell_type": "markdown",
      "source": [
        "### Project 2: Employee Directory\n",
        "Build a program to:\n",
        "- Create a dictionary with employee IDs as keys and their names as values.\n",
        "- Add functionalities to search, add, and delete employees."
      ],
      "metadata": {
        "id": "Fh5Coww5aQ-4"
      },
      "id": "Fh5Coww5aQ-4"
    }
  ],
  "metadata": {
    "colab": {
      "provenance": []
    },
    "language_info": {
      "name": "python"
    },
    "kernelspec": {
      "name": "python3",
      "display_name": "Python 3"
    }
  },
  "nbformat": 4,
  "nbformat_minor": 5
}