{
  "cells": [
    {
      "cell_type": "markdown",
      "metadata": {
        "id": "JaBroV4zAAO6"
      },
      "source": [
        "# Lesson 08: Python Modules & Functions"
      ]
    },
    {
      "cell_type": "markdown",
      "metadata": {
        "id": "39O0TyZkAAO7"
      },
      "source": [
        "## 1. Python Modules"
      ]
    },
    {
      "cell_type": "markdown",
      "metadata": {
        "id": "HbdHZDqWAAO7"
      },
      "source": [
        "### 1.1 What is a Module?\n",
        "- A **module** is a file containing Python code (functions, classes, variables, etc.) for organizing and reusing code efficiently.\n",
        "- A module is simply a `.py` file importable in other Python programs.\n",
        "- Python has built-in modules (like `math`, `random`, `os`) and supports user-created modules."
      ]
    },
    {
      "cell_type": "markdown",
      "metadata": {
        "id": "IuhfwEEeAAO7"
      },
      "source": [
        "### 1.2 Types of Modules"
      ]
    },
    {
      "cell_type": "markdown",
      "metadata": {
        "id": "YM1L2yUkAAO8"
      },
      "source": [
        "#### 1.2.1 Built-in Modules (Standard Library)\n",
        "- Pre-installed modules in Python.\n",
        "- Examples: `math`, `random`, `os`, `sys`"
      ]
    },
    {
      "cell_type": "code",
      "execution_count": null,
      "metadata": {
        "id": "vKGm0EMBAAO8"
      },
      "outputs": [],
      "source": [
        "import math\n",
        "print(math.sqrt(25))  # Output: 5.0"
      ]
    },
    {
      "cell_type": "markdown",
      "metadata": {
        "id": "2GaGQYiMAAO8"
      },
      "source": [
        "#### 1.2.2 User-Defined Modules (Custom Modules)\n",
        "- Any Python file (`.py`) you create can be used as a module."
      ]
    },
    {
      "cell_type": "markdown",
      "metadata": {
        "id": "wtUlRkZEAAO8"
      },
      "source": [
        "Create `mymodule.py` (in Colab, use `%%writefile`):"
      ]
    },
    {
      "cell_type": "code",
      "execution_count": null,
      "metadata": {
        "id": "R4lJxEaaAAO8"
      },
      "outputs": [],
      "source": [
        "%%writefile mymodule.py\n",
        "def add(a, b):\n",
        "    return a + b"
      ]
    },
    {
      "cell_type": "code",
      "execution_count": null,
      "metadata": {
        "id": "3W8v-yc0AAO8"
      },
      "outputs": [],
      "source": [
        "import mymodule\n",
        "print(mymodule.add(5, 3))  # Output: 8"
      ]
    },
    {
      "cell_type": "markdown",
      "metadata": {
        "id": "kHA--G7XAAO8"
      },
      "source": [
        "#### 1.2.3 External Modules (Third-party Libraries)\n",
        "- Installed via `pip`.\n",
        "- Examples: `numpy`, `pandas`, `requests`"
      ]
    },
    {
      "cell_type": "code",
      "execution_count": 2,
      "metadata": {
        "id": "2lhGS0f2AAO9",
        "outputId": "3768261f-430a-476f-ff61-09e643ee6916",
        "colab": {
          "base_uri": "https://localhost:8080/"
        }
      },
      "outputs": [
        {
          "output_type": "stream",
          "name": "stdout",
          "text": [
            "Requirement already satisfied: requests in /usr/local/lib/python3.11/dist-packages (2.32.3)\n",
            "Requirement already satisfied: charset-normalizer<4,>=2 in /usr/local/lib/python3.11/dist-packages (from requests) (3.4.2)\n",
            "Requirement already satisfied: idna<4,>=2.5 in /usr/local/lib/python3.11/dist-packages (from requests) (3.10)\n",
            "Requirement already satisfied: urllib3<3,>=1.21.1 in /usr/local/lib/python3.11/dist-packages (from requests) (2.4.0)\n",
            "Requirement already satisfied: certifi>=2017.4.17 in /usr/local/lib/python3.11/dist-packages (from requests) (2025.6.15)\n"
          ]
        }
      ],
      "source": [
        "!pip install requests"
      ]
    },
    {
      "cell_type": "code",
      "execution_count": 3,
      "metadata": {
        "id": "4rzGVGnOAAO9",
        "outputId": "74c68dc8-daf5-49d1-8f11-228b435b4bc8",
        "colab": {
          "base_uri": "https://localhost:8080/"
        }
      },
      "outputs": [
        {
          "output_type": "stream",
          "name": "stdout",
          "text": [
            "200\n"
          ]
        }
      ],
      "source": [
        "import requests\n",
        "response = requests.get(\"https://www.example.com\")\n",
        "print(response.status_code)"
      ]
    },
    {
      "cell_type": "markdown",
      "metadata": {
        "id": "RH3vFELeAAO9"
      },
      "source": [
        "### 1.3 How to Import a Module"
      ]
    },
    {
      "cell_type": "markdown",
      "metadata": {
        "id": "TknZmwpBAAO9"
      },
      "source": [
        "**1. Basic Import**"
      ]
    },
    {
      "cell_type": "code",
      "execution_count": 4,
      "metadata": {
        "id": "bOEzO4ClAAO9",
        "outputId": "673a9111-9d05-44f0-bcd0-514953061a30",
        "colab": {
          "base_uri": "https://localhost:8080/"
        }
      },
      "outputs": [
        {
          "output_type": "stream",
          "name": "stdout",
          "text": [
            "3.141592653589793\n"
          ]
        }
      ],
      "source": [
        "import math\n",
        "print(math.pi)  # Output: 3.141592653589793"
      ]
    },
    {
      "cell_type": "markdown",
      "metadata": {
        "id": "pnn4FMNdAAO9"
      },
      "source": [
        "**2. Import with Alias (as)**"
      ]
    },
    {
      "cell_type": "code",
      "execution_count": 5,
      "metadata": {
        "id": "odC4KD1uAAO9",
        "outputId": "445e7f25-38d5-4e94-b01c-30a930ff281b",
        "colab": {
          "base_uri": "https://localhost:8080/"
        }
      },
      "outputs": [
        {
          "output_type": "stream",
          "name": "stdout",
          "text": [
            "[1 2 3]\n"
          ]
        }
      ],
      "source": [
        "import numpy as np\n",
        "print(np.array([1, 2, 3]))"
      ]
    },
    {
      "cell_type": "markdown",
      "metadata": {
        "id": "raHHJjYrAAO9"
      },
      "source": [
        "**3. Import Specific Functions or Variables**"
      ]
    },
    {
      "cell_type": "code",
      "execution_count": null,
      "metadata": {
        "id": "6LgaV47QAAO9"
      },
      "outputs": [],
      "source": [
        "from math import sqrt, pi\n",
        "print(sqrt(16))  # Output: 4.0\n",
        "print(pi)        # Output: 3.141592653589793"
      ]
    },
    {
      "cell_type": "markdown",
      "metadata": {
        "id": "dJxL25T0AAO9"
      },
      "source": [
        "**4. Import with Alias for Functions**"
      ]
    },
    {
      "cell_type": "code",
      "execution_count": null,
      "metadata": {
        "id": "uvLHpmfzAAO9"
      },
      "outputs": [],
      "source": [
        "from math import sqrt as s, pi as p\n",
        "print(s(16))\n",
        "print(p)"
      ]
    },
    {
      "cell_type": "markdown",
      "metadata": {
        "id": "BYfolEl-AAO9"
      },
      "source": [
        "**5. Import Everything (Wildcard Import)**\n",
        "> Not recommended for large modules."
      ]
    },
    {
      "cell_type": "code",
      "execution_count": 6,
      "metadata": {
        "id": "RsChWdUhAAO9",
        "outputId": "07b3957a-79f2-4075-88f2-2c305cb0ba51",
        "colab": {
          "base_uri": "https://localhost:8080/"
        }
      },
      "outputs": [
        {
          "output_type": "stream",
          "name": "stdout",
          "text": [
            "0.0\n"
          ]
        }
      ],
      "source": [
        "from math import *\n",
        "\n",
        "print(sin(0))  # Output: 0.0"
      ]
    },
    {
      "cell_type": "markdown",
      "metadata": {
        "id": "91cEzPyEAAO9"
      },
      "source": [
        "### 1.4 Advantages of Modules\n",
        "- **Code Reusability**: Write once, use anywhere.\n",
        "- **Organization**: Keep related functions together.\n",
        "- **Namespace Management**: Prevents variable conflicts.\n",
        "- **Faster Development**: Use existing libraries."
      ]
    },
    {
      "cell_type": "markdown",
      "metadata": {
        "id": "puGrnxnwAAO9"
      },
      "source": [
        "---\n",
        "## 2. Functions in Python"
      ]
    },
    {
      "cell_type": "markdown",
      "metadata": {
        "id": "6d3kgbJ9AAO-"
      },
      "source": [
        "### 2.1 What is a Function?\n",
        "A **function** is a reusable block of code that performs a specific task."
      ]
    },
    {
      "cell_type": "markdown",
      "metadata": {
        "id": "qlG5QVZgAAO-"
      },
      "source": [
        "- Simplifies repetitive operations\n",
        "- Improves code organization\n",
        "- Reduces redundancy"
      ]
    },
    {
      "cell_type": "markdown",
      "metadata": {
        "id": "XefFhGOjAAO-"
      },
      "source": [
        "### 2.2 Why Use Functions?\n",
        "- **Code Reusability**\n",
        "- **Avoid Code Duplication (DRY)**\n",
        "- **Simplify Debugging**\n",
        "- **Modular Design**\n",
        "> **Best Practice:** Use [PEP 8](https://peps.python.org/pep-0008/) naming conventions (e.g., `calculate_total`)."
      ]
    },
    {
      "cell_type": "markdown",
      "metadata": {
        "id": "FEGkvOhaAAO-"
      },
      "source": [
        "### 2.3 Types of Functions\n",
        "1. **Built-in Functions:** e.g., `print()`, `len()`, `type()`\n",
        "2. **User-Defined Functions:** Functions written by users."
      ]
    },
    {
      "cell_type": "markdown",
      "metadata": {
        "id": "kX8rkYvMAAO-"
      },
      "source": [
        "### 2.4 Creating and Using Functions\n",
        "**Syntax:**"
      ]
    },
    {
      "cell_type": "code",
      "execution_count": null,
      "metadata": {
        "id": "DaQtCr3HAAO-"
      },
      "outputs": [],
      "source": [
        "def function_name(parameters):\n",
        "    \"\"\"Optional docstring.\"\"\"\n",
        "    # Function body\n",
        "    return result"
      ]
    },
    {
      "cell_type": "markdown",
      "metadata": {
        "id": "QfwAHwzCAAO_"
      },
      "source": [
        "**Calling a Function:**"
      ]
    },
    {
      "cell_type": "code",
      "execution_count": null,
      "metadata": {
        "id": "gpRdt1E4AAO_"
      },
      "outputs": [],
      "source": [
        "function_name(arguments)"
      ]
    },
    {
      "cell_type": "markdown",
      "metadata": {
        "id": "6zcZYz2BAAO_"
      },
      "source": [
        "> **Tip:** Use docstrings to describe the function’s purpose, parameters, and return value."
      ]
    },
    {
      "cell_type": "markdown",
      "metadata": {
        "id": "E5KsrUymAAO_"
      },
      "source": [
        "#### Example: A Simple Function"
      ]
    },
    {
      "cell_type": "code",
      "execution_count": 8,
      "metadata": {
        "id": "5s-zFVxaAAO_",
        "outputId": "ef6385f9-d11e-4ecb-c309-9a46b4828b77",
        "colab": {
          "base_uri": "https://localhost:8080/"
        }
      },
      "outputs": [
        {
          "output_type": "stream",
          "name": "stdout",
          "text": [
            "Enter a number: 4\n",
            "You entered: 4\n"
          ]
        }
      ],
      "source": [
        "def print_number():\n",
        "    \"\"\"Prompts the user for a number and prints it.\"\"\"\n",
        "    number = int(input(\"Enter a number: \"))\n",
        "    print(f\"You entered: {number}\")\n",
        "\n",
        "\n",
        "print_number() # Uncomment to test interactively"
      ]
    },
    {
      "cell_type": "markdown",
      "metadata": {
        "id": "Mz7kFL_nAAO_"
      },
      "source": [
        "---\n",
        "## 3. Function Parameters and Arguments"
      ]
    },
    {
      "cell_type": "markdown",
      "metadata": {
        "id": "TCiA9eE4AAO_"
      },
      "source": [
        "### 3.1 Parameterless Functions"
      ]
    },
    {
      "cell_type": "code",
      "execution_count": 10,
      "metadata": {
        "id": "-hJjYECgAAPD",
        "outputId": "81822caa-039c-4931-a70d-eeaf4482b4e7",
        "colab": {
          "base_uri": "https://localhost:8080/"
        }
      },
      "outputs": [
        {
          "output_type": "stream",
          "name": "stdout",
          "text": [
            "Hello!\n",
            "Hello!\n"
          ]
        }
      ],
      "source": [
        "def greet():\n",
        "    \"\"\"Prints a generic greeting.\"\"\"\n",
        "    print(\"Hello!\")\n",
        "greet()\n",
        "greet()"
      ]
    },
    {
      "cell_type": "markdown",
      "metadata": {
        "id": "5QKQ4iBrAAPD"
      },
      "source": [
        "### 3.2 Parameterized Functions"
      ]
    },
    {
      "cell_type": "code",
      "execution_count": 13,
      "metadata": {
        "id": "mTHJ5kvUAAPE",
        "outputId": "2437b5dc-eeb8-41a6-daed-3b4061c83868",
        "colab": {
          "base_uri": "https://localhost:8080/"
        }
      },
      "outputs": [
        {
          "output_type": "stream",
          "name": "stdout",
          "text": [
            "Hello, ALi!\n"
          ]
        }
      ],
      "source": [
        "def say_hello(name):\n",
        "    \"\"\"Prints a personalized greeting.\"\"\"\n",
        "    print(f\"Hello, {name}!\")\n",
        "\n",
        "say_hello(\"ALi\")\n",
        "# say_hello() # error"
      ]
    },
    {
      "cell_type": "markdown",
      "metadata": {
        "id": "DReOLrKhAAPE"
      },
      "source": [
        "### 3.3 Difference Between Parameters and Arguments\n",
        "- **Parameters:** Variables in the function definition.\n",
        "- **Arguments:** Values passed to the function."
      ]
    },
    {
      "cell_type": "markdown",
      "metadata": {
        "id": "HfmNljDfAAPE"
      },
      "source": [
        "> **Additional Insight:** Python allows default parameter values:"
      ]
    },
    {
      "cell_type": "code",
      "execution_count": 15,
      "metadata": {
        "id": "qEYkvKq0AAPE",
        "outputId": "4e5317a7-6e42-48f3-fafa-f6dbce46e0f8",
        "colab": {
          "base_uri": "https://localhost:8080/"
        }
      },
      "outputs": [
        {
          "output_type": "stream",
          "name": "stdout",
          "text": [
            "Hello, Ali!\n"
          ]
        }
      ],
      "source": [
        "def greet(name: str =\"Guest\"):\n",
        "    print(f\"Hello, {name}!\")\n",
        "\n",
        "# greet()         # Hello, Guest!\n",
        "greet(\"Ali\") # Hello, Alice!"
      ]
    },
    {
      "cell_type": "markdown",
      "metadata": {
        "id": "K8sh3PJ6AAPE"
      },
      "source": [
        "> **Warning:** Avoid using mutable objects (e.g., lists, dicts) as default parameter values."
      ]
    },
    {
      "cell_type": "markdown",
      "metadata": {
        "id": "5YlJL5kcAAPE"
      },
      "source": [
        "---\n",
        "## 4. Function Return Types"
      ]
    },
    {
      "cell_type": "markdown",
      "metadata": {
        "id": "-JbxA9YuAAPE"
      },
      "source": [
        "### 4.1 Single Value Return"
      ]
    },
    {
      "cell_type": "code",
      "execution_count": 21,
      "metadata": {
        "id": "-zVGVu2iAAPE",
        "outputId": "b166b25c-4406-4982-968b-a5e178494655",
        "colab": {
          "base_uri": "https://localhost:8080/"
        }
      },
      "outputs": [
        {
          "output_type": "stream",
          "name": "stdout",
          "text": [
            "20\n"
          ]
        }
      ],
      "source": [
        "def add(a:int, b:int):\n",
        "    \"\"\"Returns the sum of two numbers.\"\"\"\n",
        "    return a + b\n",
        "\n",
        "result = add(10,10)\n",
        "print(result)"
      ]
    },
    {
      "cell_type": "markdown",
      "metadata": {
        "id": "GBaB2StTAAPE"
      },
      "source": [
        "### 4.2 Return Multiple Values"
      ]
    },
    {
      "cell_type": "code",
      "execution_count": 24,
      "metadata": {
        "id": "NDX_558iAAPE",
        "outputId": "9985785f-2f89-4e59-bca3-f2692f50c514",
        "colab": {
          "base_uri": "https://localhost:8080/"
        }
      },
      "outputs": [
        {
          "output_type": "stream",
          "name": "stdout",
          "text": [
            "<class 'tuple'>\n",
            "(8, 15)\n",
            "Sum: 8, Product: 15\n"
          ]
        }
      ],
      "source": [
        "## Ways of creating tuples\n",
        "# my_tuple = 1,2,3\n",
        "# my_tuple = (1,2,3)\n",
        "# my_tuple = tuple([1,2,3])\n",
        "\n",
        "def operations(a, b):\n",
        "    \"\"\"Returns both the sum and product of two numbers.\"\"\"\n",
        "    return a + b, a * b\n",
        "\n",
        "result: tuple = operations(3, 5)\n",
        "print(type(result))\n",
        "print(result)\n",
        "\n",
        "sum_val, prod_val = operations(3, 5)\n",
        "print(f\"Sum: {sum_val}, Product: {prod_val}\")"
      ]
    },
    {
      "cell_type": "markdown",
      "metadata": {
        "id": "a_uAgRdlAAPE"
      },
      "source": [
        "### 4.3 Returning Collections"
      ]
    },
    {
      "cell_type": "code",
      "execution_count": 30,
      "metadata": {
        "id": "exIgyCheAAPE",
        "outputId": "c7980259-9bc0-46cd-b73b-4afdde8bff78",
        "colab": {
          "base_uri": "https://localhost:8080/"
        }
      },
      "outputs": [
        {
          "output_type": "stream",
          "name": "stdout",
          "text": [
            "{'name': 'Ali', 'age': 20}\n"
          ]
        }
      ],
      "source": [
        "def get_student():\n",
        "    \"\"\"Returns a dictionary with student data.\"\"\"\n",
        "    return {\"name\": \"Ali\", \"age\": 20}\n",
        "\n",
        "print(get_student())\n",
        "# print({\"name\": \"Ali\", \"age\": 20})\n",
        "\n",
        "\n",
        "# result = get_student()\n",
        "# print(result)"
      ]
    },
    {
      "cell_type": "markdown",
      "metadata": {
        "id": "_vyz3SWAAAPE"
      },
      "source": [
        "---\n",
        "## 5. Positional and Keyword Arguments"
      ]
    },
    {
      "cell_type": "markdown",
      "metadata": {
        "id": "uhAvdJTOAAPE"
      },
      "source": [
        "### 5.1 Positional Arguments\n",
        "Arguments assigned to parameters based on their position:"
      ]
    },
    {
      "cell_type": "code",
      "execution_count": 33,
      "metadata": {
        "id": "pp7Ivh--AAPE",
        "outputId": "6c2fee3b-7e15-400f-9c83-ae73a8164f6e",
        "colab": {
          "base_uri": "https://localhost:8080/"
        }
      },
      "outputs": [
        {
          "output_type": "stream",
          "name": "stdout",
          "text": [
            "Hello, Ali!\n"
          ]
        }
      ],
      "source": [
        "def greet(name, message):\n",
        "    print(f\"{message}, {name}!\")\n",
        "\n",
        "greet(\"Ali\", \"Hello\")\n",
        "# greet(\"Hello\", \"Ali\")"
      ]
    },
    {
      "cell_type": "markdown",
      "metadata": {
        "id": "c8aPuBMNAAPF"
      },
      "source": [
        "### 5.2 Keyword Arguments\n",
        "Arguments explicitly named, so order does not matter:"
      ]
    },
    {
      "cell_type": "code",
      "execution_count": 34,
      "metadata": {
        "id": "1ROpY8KwAAPF",
        "outputId": "58944ced-43cb-4f2d-fe37-52a9f8653fa0",
        "colab": {
          "base_uri": "https://localhost:8080/"
        }
      },
      "outputs": [
        {
          "output_type": "stream",
          "name": "stdout",
          "text": [
            "Hello, Hammad!\n"
          ]
        }
      ],
      "source": [
        "def greet(name, message):\n",
        "    print(f\"{message}, {name}!\")\n",
        "\n",
        "greet(message=\"Hello\",name=\"Hammad\")"
      ]
    },
    {
      "cell_type": "markdown",
      "metadata": {
        "id": "iUeym_NIAAPF"
      },
      "source": [
        "### 5.3 Combining Positional and Keyword Arguments\n",
        "- Positional arguments must come before keyword arguments.\n",
        "- Use keyword arguments for clarity."
      ]
    },
    {
      "cell_type": "code",
      "execution_count": 41,
      "metadata": {
        "id": "SvcbUBfsAAPF",
        "outputId": "499cf4b9-0ffb-4854-f38a-561c8df44633",
        "colab": {
          "base_uri": "https://localhost:8080/"
        }
      },
      "outputs": [
        {
          "output_type": "stream",
          "name": "stdout",
          "text": [
            "Ali is 22 years old and lives in Peshawar.\n"
          ]
        }
      ],
      "source": [
        "def describe_person(name, age, city):\n",
        "    print(f\"{name} is {age} years old and lives in {city}.\")\n",
        "\n",
        "# describe_person(\"Ali\", \"karachi\", city=25)\n",
        "describe_person(\"Ali\", city=\"Peshawar\", age=22)\n",
        "\n",
        "# describe_person(city=\"Karachi\", age=25,\"Ali\")"
      ]
    },
    {
      "cell_type": "markdown",
      "metadata": {
        "id": "uLYaOJnmAAPF"
      },
      "source": [
        "---\n",
        "## 6. Flexible Arguments (`*args` and `**kwargs`)\n",
        "\n",
        "**What are Flexible Arguments?**\n",
        "\n",
        "Flexible (or variable-length) arguments allow a function to accept **any number of inputs**, instead of a fixed number.\n",
        "\n",
        "Python provides two main ways:\n",
        "\n",
        "🔹 1. `*args` → for **non-keyword** arguments\n",
        "\n",
        "🔹 2. `**kwargs` → for **keyword** arguments\n"
      ]
    },
    {
      "cell_type": "markdown",
      "metadata": {
        "id": "c2uKvKU-AAPG"
      },
      "source": [
        "### 6.1 *args: Variable-Length Positional Arguments\n",
        "* `*args` allows a function to accept **any number of positional arguments**.\n",
        "* All extra positional arguments are grouped into a **`tuple`**."
      ]
    },
    {
      "cell_type": "code",
      "execution_count": 47,
      "metadata": {
        "id": "NMjZspzDAAPG",
        "outputId": "6b968229-3f8a-4580-8732-c874a7ff1193",
        "colab": {
          "base_uri": "https://localhost:8080/"
        }
      },
      "outputs": [
        {
          "output_type": "stream",
          "name": "stdout",
          "text": [
            "<class 'tuple'>\n",
            "(1, 2, 3)\n",
            "6\n",
            "<class 'tuple'>\n",
            "(5, 10, 15, 22)\n",
            "52\n",
            "1 2 3 4\n"
          ]
        }
      ],
      "source": [
        "def add(*numbers):\n",
        "    \"\"\"Returns the sum of any number of integers.\"\"\"\n",
        "    print(type(numbers))\n",
        "    print(numbers)\n",
        "    return sum(numbers)\n",
        "\n",
        "print(add(1, 2, 3))\n",
        "print(add(5, 10, 15, 22))\n",
        "\n",
        "# my_list = [1,2,3,4]\n",
        "# print(*my_list)"
      ]
    },
    {
      "cell_type": "markdown",
      "metadata": {
        "id": "yebuMy17AAPG"
      },
      "source": [
        "### 6.2 **kwargs: Variable-Length Keyword Arguments\n",
        "* `**kwargs` lets a function accept **any number of keyword arguments**.\n",
        "* These arguments are collected into a **`dictionary`**."
      ]
    },
    {
      "cell_type": "code",
      "execution_count": 50,
      "metadata": {
        "id": "BlZrzdBBAAPG",
        "outputId": "94095b2a-f05b-4f7d-a281-370f54dc1f0b",
        "colab": {
          "base_uri": "https://localhost:8080/"
        }
      },
      "outputs": [
        {
          "output_type": "stream",
          "name": "stdout",
          "text": [
            "city: Karachi\n",
            "country: Pakistan\n",
            "language: Urdu\n"
          ]
        }
      ],
      "source": [
        "def describe(**info):\n",
        "    \"\"\"Prints all key-value pairs provided as keyword arguments.\"\"\"\n",
        "    for key, value in info.items():\n",
        "        print(f\"{key}: {value}\")\n",
        "    # print(info)\n",
        "\n",
        "describe(city=\"Karachi\", country=\"Pakistan\", language=\"Urdu\")"
      ]
    },
    {
      "cell_type": "markdown",
      "metadata": {
        "id": "cndzEyLmAAPG"
      },
      "source": [
        "### 6.3 Combining *args and **kwargs\n",
        "\n",
        "You can define a function that accepts both any number of positional arguments (`*args`) and any number of keyword arguments (`**kwargs`).  \n",
        "- `*args` collects extra positional arguments as a tuple.\n",
        "- `**kwargs` collects extra keyword arguments as a dictionary.\n",
        "\n",
        "This is useful when you want your function to be highly flexible and accept various types of arguments.\n",
        "\n",
        "**Example 1:**  \n",
        "A function that prints all positional and keyword arguments it receives."
      ]
    },
    {
      "cell_type": "code",
      "execution_count": 51,
      "metadata": {
        "id": "dqY6HPUgAAPG",
        "outputId": "55c2b0e2-7606-4dfc-bf06-dd681c04d969",
        "colab": {
          "base_uri": "https://localhost:8080/"
        }
      },
      "outputs": [
        {
          "output_type": "stream",
          "name": "stdout",
          "text": [
            "Positional arguments (args): (1, 2, 3)\n",
            "Keyword arguments (kwargs): {'name': 'Ali', 'age': 25, 'city': 'Karachi'}\n"
          ]
        }
      ],
      "source": [
        "def show_all(*args, **kwargs):\n",
        "    print(\"Positional arguments (args):\", args)\n",
        "    print(\"Keyword arguments (kwargs):\", kwargs)\n",
        "\n",
        "show_all(1, 2, 3, name=\"Ali\", age=25, city=\"Karachi\")"
      ]
    },
    {
      "cell_type": "markdown",
      "metadata": {
        "id": "e0nt-LO3AAPG"
      },
      "source": [
        "**Example 2:**  \n",
        "\n",
        "You can use both `*args` and `**kwargs` in practical scenarios, such as a pizza ordering function. Here, `size` is a required argument, `*toppings` allows any number of toppings, and `**details` can accept extra keyword options like delivery time or extra cheese."
      ]
    },
    {
      "cell_type": "code",
      "execution_count": 52,
      "metadata": {
        "id": "6Zs5ObwtAAPG",
        "outputId": "891893f8-fa8b-429e-cb4e-6cf0cfa5c8cf",
        "colab": {
          "base_uri": "https://localhost:8080/"
        }
      },
      "outputs": [
        {
          "output_type": "stream",
          "name": "stdout",
          "text": [
            "Size: large, Toppings: pepperoni, mushrooms, cheese\n",
            "Additional details: {'delivery_time': '30 minutes', 'extra_cheese': True, 'address': '123 Main St'}\n"
          ]
        }
      ],
      "source": [
        "def order_pizza(size, *toppings, **details):\n",
        "    \"\"\"\n",
        "    Demonstrates combining *args and **kwargs.\n",
        "    size: Size of the pizza (small, medium, large)\n",
        "    toppings: Variable number of topping strings\n",
        "    details: Arbitrary keyword arguments, e.g., delivery time\n",
        "    \"\"\"\n",
        "    print(f\"Size: {size}, Toppings: {', '.join(toppings)}\")\n",
        "    print(\"Additional details:\", details)\n",
        "\n",
        "\n",
        "order_pizza(\"large\",\"pepperoni\", \"mushrooms\",\"cheese\", delivery_time=\"30 minutes\", extra_cheese=True, address=\"123 Main St\",)"
      ]
    },
    {
      "cell_type": "markdown",
      "metadata": {
        "id": "OqaUhMREAAPG"
      },
      "source": [
        "### 7. Scope of Variables\n",
        "\n",
        "The **scope** of a variable refers to the region of the code where the variable is accessible. In Python, variables can have either **local scope** (inside a function) or **global scope** (outside all functions).  \n",
        "- **Local variables** are defined inside a function and can only be used within that function.\n",
        "- **Global variables** are defined outside any function and can be accessed anywhere in the code.\n",
        "\n",
        "Understanding scope helps prevent naming conflicts and bugs in your programs."
      ]
    },
    {
      "cell_type": "code",
      "execution_count": 64,
      "metadata": {
        "id": "gXRkrveSAAPG",
        "outputId": "0771b719-f67c-4c4d-9124-8a3dca9c875b",
        "colab": {
          "base_uri": "https://localhost:8080/"
        }
      },
      "outputs": [
        {
          "output_type": "stream",
          "name": "stdout",
          "text": [
            "Inside function, x = 20\n",
            "Inside function, y = 5\n",
            "Outside function, x = 10\n"
          ]
        }
      ],
      "source": [
        "x = 10  # Global variable\n",
        "\n",
        "def my_function():\n",
        "    # global x\n",
        "    y = 5  # Local variable\n",
        "    x = 20 # Local variable with the same name as global\n",
        "    print(\"Inside function, x =\", x)  # Can access global variable\n",
        "    print(\"Inside function, y =\", y)  # Can access local variable\n",
        "\n",
        "\n",
        "my_function()\n",
        "print(\"Outside function, x =\", x)  # Can access global variable\n",
        "# print(\"Outside function, y =\", y)  # Error: y is not defined outside the function"
      ]
    },
    {
      "cell_type": "markdown",
      "metadata": {
        "id": "DqHy3mYWAAPG"
      },
      "source": [
        "#### Example: Using the `global` Keyword\n",
        "\n",
        "The `global` keyword allows you to modify a global variable inside a function. Without it, assigning a value to a variable inside a function creates a new local variable."
      ]
    },
    {
      "cell_type": "code",
      "execution_count": 60,
      "metadata": {
        "id": "uULdSdUTAAPG",
        "outputId": "3f6827e8-6462-4e7d-ea4c-ed19e1596186",
        "colab": {
          "base_uri": "https://localhost:8080/"
        }
      },
      "outputs": [
        {
          "output_type": "stream",
          "name": "stdout",
          "text": [
            "Inside function, count = 1\n",
            "Inside function, count = 2\n",
            "Outside function, count = 2\n"
          ]
        }
      ],
      "source": [
        "count = 0  # Global variable\n",
        "\n",
        "def increment():\n",
        "    global count\n",
        "    count += 1\n",
        "    print(\"Inside function, count =\", count)\n",
        "\n",
        "increment()\n",
        "increment()\n",
        "\n",
        "print(\"Outside function, count =\", count)"
      ]
    },
    {
      "cell_type": "markdown",
      "metadata": {
        "id": "pQPLlG72AAPG"
      },
      "source": [
        "### 8. Recursive Functions\n",
        "\n",
        "A **recursive function** is a function that calls itself to solve a problem by breaking it down into smaller, simpler subproblems.  \n",
        "\n",
        "Recursion is useful for tasks that can be defined in terms of similar subtasks, such as calculating factorials, traversing trees, or solving mathematical puzzles.\n",
        "\n",
        "**Key points:**\n",
        "- Every recursive function must have a **base case** to stop recursion.\n",
        "- Without a base case, recursion will continue indefinitely and cause an error.\n"
      ]
    },
    {
      "cell_type": "code",
      "execution_count": 1,
      "metadata": {
        "id": "lpXBXvn8AAPG",
        "outputId": "8fd739d8-c343-485c-bcce-4b3a124a3293",
        "colab": {
          "base_uri": "https://localhost:8080/"
        }
      },
      "outputs": [
        {
          "output_type": "stream",
          "name": "stdout",
          "text": [
            "120\n"
          ]
        }
      ],
      "source": [
        "# 5x4x3x2x1\n",
        "def factorial(n):\n",
        "    \"\"\"Returns the factorial of n using recursion.\"\"\"\n",
        "    if n == 0 or n == 1:  # Base case\n",
        "        return 1\n",
        "    else:\n",
        "        return n * factorial(n - 1)  # Recursive call\n",
        "\n",
        "print(factorial(5))"
      ]
    },
    {
      "cell_type": "markdown",
      "metadata": {
        "id": "uqB69AH8AAPH"
      },
      "source": [
        "> **Best Practice:** For large inputs, consider an iterative approach or a built-in function (like math.factorial) because recursive solutions can cause stack overflow or performance issues when n is very large."
      ]
    },
    {
      "cell_type": "markdown",
      "metadata": {
        "id": "2FJ2FGG7AAPH"
      },
      "source": [
        "### 9. Lambda Functions\n",
        "\n",
        "A **lambda function** is a small, anonymous function defined with the `lambda` keyword.  \n",
        "  \n",
        "Lambda functions can have any number of arguments but only one expression. They are often used for short, simple operations, especially as arguments to functions like `map()`, `filter()`, or `sorted()`.\n",
        "\n",
        "**Syntax:**  \n",
        "```python\n",
        "lambda arguments: expression\n",
        "```\n",
        "\n",
        "Lambda functions are useful when you need a simple function for a short period and don't want to formally define it using `def`."
      ]
    },
    {
      "cell_type": "code",
      "execution_count": 5,
      "metadata": {
        "id": "nF9KMzWhAAPH",
        "outputId": "3ac5ffe5-e517-4d63-f72d-3e2393ec1e1c",
        "colab": {
          "base_uri": "https://localhost:8080/"
        }
      },
      "outputs": [
        {
          "output_type": "stream",
          "name": "stdout",
          "text": [
            "['Hs', 'Ali', 'Zara', 'Bilal']\n"
          ]
        }
      ],
      "source": [
        "# Example 1: Lambda function to add two numbers\n",
        "\n",
        "# add = lambda a, b: a + b\n",
        "# print(add(3, 5))  # Output: 8\n",
        "\n",
        "# # Example 2: Using lambda with sorted()\n",
        "names = [\"Ali\", \"Zara\", \"Bilal\",\"Hs\"]\n",
        "sorted_names = sorted(names, key=lambda name: len(name))\n",
        "print(sorted_names)  # Output: ['Ali', 'Zara', 'Bilal']"
      ]
    },
    {
      "cell_type": "markdown",
      "metadata": {
        "id": "ummV5UVUAAPH"
      },
      "source": [
        "#### Using Lambda with `map()`\n",
        "\n",
        "The `map()` function applies a given function to each item in an iterable (like a list). Lambda functions are often used with `map()` for concise, inline operations.\n",
        "\n",
        "For example, you can use a lambda to square each number in a list:"
      ]
    },
    {
      "cell_type": "code",
      "execution_count": 6,
      "metadata": {
        "id": "gyEIyOlqAAPH",
        "outputId": "ca41e9d2-092a-40dc-e40c-94b59cb6b348",
        "colab": {
          "base_uri": "https://localhost:8080/"
        }
      },
      "outputs": [
        {
          "output_type": "stream",
          "name": "stdout",
          "text": [
            "[1, 4, 9, 16, 25]\n"
          ]
        }
      ],
      "source": [
        "numbers = [1, 2, 3, 4, 5]\n",
        "squared = list(map(lambda x: x ** 2, numbers))\n",
        "print(squared)"
      ]
    },
    {
      "cell_type": "markdown",
      "metadata": {
        "id": "y0Sm-v0YAAPH"
      },
      "source": [
        "#### Using Lambda with `filter()`\n",
        "\n",
        "The `filter()` function selects items from an iterable for which a function returns `True`. Lambda functions are often used with `filter()` for concise filtering.\n",
        "\n",
        "For example, you can use a lambda to filter out even numbers from a list:"
      ]
    },
    {
      "cell_type": "code",
      "execution_count": 9,
      "metadata": {
        "id": "f1bQ8XXZAAPH",
        "outputId": "3bdf5dc3-cf86-4c93-cd0a-b9a68f2d93ae",
        "colab": {
          "base_uri": "https://localhost:8080/"
        }
      },
      "outputs": [
        {
          "output_type": "stream",
          "name": "stdout",
          "text": [
            "[2, 4, 6]\n"
          ]
        }
      ],
      "source": [
        "numbers = [1, 2, 3, 4, 5, 6]\n",
        "evens = list(filter(lambda x: x % 2 == 0, numbers))\n",
        "print(evens)  # Output: [2, 4, 6]\n"
      ]
    },
    {
      "cell_type": "markdown",
      "metadata": {
        "id": "iKNYu-PkAAPH"
      },
      "source": [
        "> **Caution:** Overuse of lambdas can reduce code readability. For more complex logic, use a regular def function with a proper name and docstring."
      ]
    },
    {
      "cell_type": "markdown",
      "metadata": {
        "id": "mHsLmHDJAAPH"
      },
      "source": [
        "---\n",
        "## 10. Additional Insights\n",
        "- **Docstrings** help document your functions for better readability, maintenance, and automated documentation tools.\n",
        "- **Mutable Default Arguments Warning:** Avoid using mutable objects (like lists or dicts) as default values—they persist between function calls and can cause bugs."
      ]
    },
    {
      "cell_type": "markdown",
      "metadata": {
        "id": "HASoQHoPAAPH"
      },
      "source": [
        "---\n",
        "## 11. Summary\n",
        "- **Modules** help organize and reuse code efficiently (built-in, user-defined, and external modules).\n",
        "- **Functions** enable code reuse, modularity, and easier maintenance.\n",
        "- You can define flexible and powerful functions using parameters, return values, and various argument techniques (`*args`, `**kwargs`).\n",
        "- Understanding **scope** (local vs. global variables) is important for avoiding bugs and managing data.\n",
        "- **Recursive functions** solve problems by calling themselves with simpler inputs.\n",
        "- **Lambda functions** provide concise, anonymous ways to write small functions, especially useful with `map()` and `filter()`.\n",
        "- Using docstrings and following best practices improves code readability and maintainability."
      ]
    },
    {
      "cell_type": "markdown",
      "metadata": {
        "id": "toCEr5XLAAPH"
      },
      "source": [
        "## 12. Practice Projects"
      ]
    },
    {
      "cell_type": "markdown",
      "metadata": {
        "id": "TqCvTLwrAAPH"
      },
      "source": [
        "### Project 1:  \n",
        "\n",
        "**Calculator Application:**  \n",
        "\n",
        "Create a simple calculator that performs basic arithmetic operations (addition, subtraction, multiplication, division).\n",
        "\n",
        "**Step by step solution:**\n",
        "\n",
        "- Use functions for each arithmetic operation. i.e. add(), subtract() etc.\n",
        "- Create a main function called calculator() to coordinate the program flow.\n",
        "- Accept user input for numbers and operation type.\n",
        "- Apply an if-else statement to handle the selected operation.\n"
      ]
    },
    {
      "cell_type": "markdown",
      "metadata": {
        "id": "L40HPa7dAAPH"
      },
      "source": [
        "### Project 2:\n",
        "**Global Variable use in function**  \n",
        "\n",
        "Create a web traffic tracker that counts and displays the total number of visitors to a website.\n",
        "\n",
        "**Step-by-Step Solution:**\n",
        "\n",
        "- Steps to Solve the Problem:\n",
        "\n",
        "  - Initialize Counter: Set visitor_count = 0 globally.\n",
        "  - New Visitor: Create new_visitor() to increment visitor_count using global.\n",
        "  - Display Count: Create display_visitor_count() to print visitor_count.\n",
        "  - Simulate Visits: Call new_visitor() three times.\n",
        "  - Show Count: Call display_visitor_count() to print the total."
      ]
    },
    {
      "cell_type": "markdown",
      "metadata": {
        "id": "0u3jrbA5AAPI"
      },
      "source": [
        "### Project 3:\n",
        "**Temperature Converter**  \n",
        "\n",
        "Create a tool that converts temperatures between Celsius and Fahrenheit.\n",
        "\n",
        "**Step by step solution:**\n",
        "\n",
        "- Include two separate functions for converting:  \n",
        "    1. Celsius to Fahrenheit.\n",
        "        $$\n",
        "        F = \\left(C \\times \\frac{9}{5}\\right) + 32\n",
        "        $$\n",
        "\n",
        "    2.  Fahrenheit to Celsius.\n",
        "        $$\n",
        "        C = \\left(F - 32\\right) \\times \\frac{5}{9}\n",
        "        $$\n",
        "- Accept user input to determine the temperature and the conversion type.\n",
        "- Return the converted temperature and display it in a user-friendly format.\n",
        "\n",
        "\n",
        "\n"
      ]
    },
    {
      "cell_type": "markdown",
      "metadata": {
        "id": "BcYs93TBAAPI"
      },
      "source": []
    }
  ],
  "metadata": {
    "kernelspec": {
      "display_name": "aiclass",
      "language": "python",
      "name": "python3"
    },
    "language_info": {
      "codemirror_mode": {
        "name": "ipython",
        "version": 3
      },
      "file_extension": ".py",
      "mimetype": "text/x-python",
      "name": "python",
      "nbconvert_exporter": "python",
      "pygments_lexer": "ipython3",
      "version": "3.12.0"
    },
    "colab": {
      "provenance": []
    }
  },
  "nbformat": 4,
  "nbformat_minor": 0
}