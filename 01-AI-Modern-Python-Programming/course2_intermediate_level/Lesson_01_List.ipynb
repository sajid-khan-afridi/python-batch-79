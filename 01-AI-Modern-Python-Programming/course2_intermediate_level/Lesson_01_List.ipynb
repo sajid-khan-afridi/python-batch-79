{
  "cells": [
    {
      "cell_type": "markdown",
      "metadata": {
        "id": "My4w3iNt2UY6"
      },
      "source": [
        "# What is List?"
      ]
    },
    {
      "cell_type": "markdown",
      "metadata": {
        "id": "t2uUP-Ph30js"
      },
      "source": [
        "## Problem"
      ]
    },
    {
      "cell_type": "markdown",
      "metadata": {
        "id": "fgDdErUn2vzI"
      },
      "source": [
        "If you want to store multiple items, you would need to create a separate variable for each one.\n",
        "\n",
        "```\n",
        "student1 = \"Ahmad\"\n",
        "student2 = \"Ali\"\n",
        "student3 = \"Kashif\"\n",
        "```\n",
        "\n",
        "This approach works fine if you have just a few items. But what if you have 10, 100, or even more? It quickly becomes unmanageable.\n",
        "\n",
        "If you want to add or remove an item, you have to manually shift the data around or create new variables.\n",
        "\n",
        "```\n",
        "student4 = \"Usman\"\n",
        "```\n",
        "\n",
        "Accessing an item requires you to remember the exact variable name associated with it.\n",
        "\n",
        "```\n",
        "print(student1)\n",
        "print(student2)\n",
        "```"
      ]
    },
    {
      "cell_type": "markdown",
      "metadata": {
        "id": "hS7-o45gU72v"
      },
      "source": [
        "## Solution"
      ]
    },
    {
      "cell_type": "markdown",
      "metadata": {
        "id": "Wt_hhuVaVOPN"
      },
      "source": [
        "### List\n",
        "A list in Python is like a container that can hold multiple items, one after another. Imagine you have a shopping list where you write down everything you need to buy. A Python list is very similar, but instead of just groceries, it can hold all kinds of things like numbers, words, or even other lists!\n",
        "\n",
        "### Store Multiple Items Together:\n",
        "\n",
        "A list allows you to keep multiple items in one place. For example, if you want to keep track of all your students' names, you can store them in a list.\n"
      ]
    },
    {
      "cell_type": "code",
      "execution_count": null,
      "metadata": {
        "id": "QFKWuvaLSsaB"
      },
      "outputs": [],
      "source": [
        "# A list of strings\n",
        "\n",
        "students : list[str] = [\"Ahmad\", \"Ali\", \"Kashif\"]\n",
        "        # index      0        1         2\n",
        "        # neg idx   -3       -2        -1"
      ]
    },
    {
      "cell_type": "code",
      "source": [
        "print(students[1])"
      ],
      "metadata": {
        "id": "r_zZu78CEE-W"
      },
      "execution_count": null,
      "outputs": []
    },
    {
      "cell_type": "code",
      "source": [
        "print(students[-2])"
      ],
      "metadata": {
        "id": "oETK4ossEXBb"
      },
      "execution_count": null,
      "outputs": []
    },
    {
      "cell_type": "code",
      "source": [
        "# A list of numbers\n",
        "\n",
        "numbers: list[int] = [10, 20, 30, 40]\n",
        "          # index      0  1   2   3\n",
        "          # neg idx   -4 -3  -2  -1"
      ],
      "metadata": {
        "id": "8ehsFGuZKQIq"
      },
      "execution_count": null,
      "outputs": []
    },
    {
      "cell_type": "code",
      "source": [
        "# A list of decimal numbers (floats)\n",
        "\n",
        "# temperatures: list[float] = [36.5, 37.0, 37.8]\n",
        "# temperatures.insert(1,37.5)\n",
        "\n",
        "temperatures: list[float] = [23.5, 37.0, 37.8]\n",
        "                # index        0     1     2\n",
        "                # neg idx     -3    -2    -1\n",
        "\n",
        "# print(temperatures)"
      ],
      "metadata": {
        "id": "O6fXSuBwKtGU"
      },
      "execution_count": null,
      "outputs": []
    },
    {
      "cell_type": "code",
      "source": [
        "# A list of True/False values (booleans)\n",
        "\n",
        "answers: list[bool] = [True, False, True, True]\n",
        "      # index          0      1      2     3\n",
        "      # neg idx       -4     -3     -2    -1"
      ],
      "metadata": {
        "id": "A7_p0kYCK_XF"
      },
      "execution_count": null,
      "outputs": []
    },
    {
      "cell_type": "code",
      "source": [
        "# A mixed‑type list (Python allows different types together)\n",
        "\n",
        "mixed: list[int|str|float|bool] = [1, \"apple\", 3.14, False]\n",
        "     # index   0      1       2      3\n",
        "     # neg    -4     -3      -2     -1"
      ],
      "metadata": {
        "id": "bbYXOgJiLEx7"
      },
      "execution_count": null,
      "outputs": []
    },
    {
      "cell_type": "code",
      "source": [
        "# A list of lists (nested list)\n",
        "\n",
        "matrix: list[list[int]] = [\n",
        "    [1, 2, 3],   # index 0  (row 1)\n",
        "    [4, 5, 6],   # index 1  (row 2)\n",
        "    [7, 8, 9]    # index 2  (row 3)\n",
        "]"
      ],
      "metadata": {
        "id": "qJqdJIW2LUTG"
      },
      "execution_count": null,
      "outputs": []
    },
    {
      "cell_type": "code",
      "source": [
        "# A list of strings(Again)\n",
        "\n",
        "students : list = [\"Ahmad\", \"Ali\", \"Kashif\"]\n",
        "        # index      0        1         2\n",
        "        # neg idx   -3       -2        -1"
      ],
      "metadata": {
        "id": "SOAZVbauLuIZ"
      },
      "execution_count": null,
      "outputs": []
    },
    {
      "cell_type": "markdown",
      "metadata": {
        "id": "ZaZN7zpjgnOq"
      },
      "source": [
        "### Access Items by Position:\n",
        "\n",
        "Lists keep items in the order you put them in. You can access any item by telling Python where it is in the list (starting from 0)."
      ]
    },
    {
      "cell_type": "code",
      "execution_count": null,
      "metadata": {
        "id": "dCNcXveVgqbe"
      },
      "outputs": [],
      "source": [
        "print(students[0])\n",
        "print(students[1])\n",
        "print(students[2])"
      ]
    },
    {
      "cell_type": "markdown",
      "metadata": {
        "id": "PgfUjz4lgxiK"
      },
      "source": [
        "### Change Items:\n",
        "\n",
        "You can easily change an item in the list if you need to update it."
      ]
    },
    {
      "cell_type": "code",
      "execution_count": null,
      "metadata": {
        "id": "hXKyqi40gzHi"
      },
      "outputs": [],
      "source": [
        "students[0]: str = \"Saleem\"\n",
        "print(students)"
      ]
    },
    {
      "cell_type": "code",
      "execution_count": null,
      "metadata": {
        "id": "kmQDFuomhAaA"
      },
      "outputs": [],
      "source": [
        "print(students[0])"
      ]
    },
    {
      "cell_type": "markdown",
      "metadata": {
        "id": "FhvgpqU0mmvW"
      },
      "source": [
        "## List Methods"
      ]
    },
    {
      "cell_type": "code",
      "source": [
        "len(students)"
      ],
      "metadata": {
        "id": "RTriXbuvJrut"
      },
      "execution_count": null,
      "outputs": []
    },
    {
      "cell_type": "code",
      "execution_count": null,
      "metadata": {
        "id": "EBSKHHrNit_8"
      },
      "outputs": [],
      "source": [
        "[i for i in dir(students) if \"__\" not in i]\n",
        "# dir(students)\n",
        "# len(students) #Python uses __len__ to find out the length of the list.__len__ \"behind-the-scenes\" functions"
      ]
    },
    {
      "cell_type": "code",
      "source": [
        "dir(students)"
      ],
      "metadata": {
        "id": "eWLVKozFMeYd"
      },
      "execution_count": null,
      "outputs": []
    },
    {
      "cell_type": "code",
      "source": [
        "del_stu:str = students.pop() # invoke method\n",
        "print(del_stu)\n",
        "print(students)\n"
      ],
      "metadata": {
        "id": "WwIhcult7Jia"
      },
      "execution_count": null,
      "outputs": []
    },
    {
      "cell_type": "code",
      "source": [
        "del_stu:str = students.pop() # invoke method\n",
        "print(del_stu)\n",
        "print(students)"
      ],
      "metadata": {
        "id": "IhTvNatgLEIh"
      },
      "execution_count": null,
      "outputs": []
    },
    {
      "cell_type": "markdown",
      "metadata": {
        "id": "CZVT5q0khJl1"
      },
      "source": [
        "### Append a new student\n"
      ]
    },
    {
      "cell_type": "code",
      "execution_count": null,
      "metadata": {
        "id": "1_StCoUOhRKC"
      },
      "outputs": [],
      "source": [
        "students.append(\"Usman\")\n",
        "print(students)"
      ]
    },
    {
      "cell_type": "markdown",
      "metadata": {
        "id": "j2C-m5gR0Xv_"
      },
      "source": [
        "### insert()"
      ]
    },
    {
      "cell_type": "code",
      "execution_count": null,
      "metadata": {
        "id": "e4VmTLIX0aPq"
      },
      "outputs": [],
      "source": [
        "students.insert(0,\"ahmad\")"
      ]
    },
    {
      "cell_type": "code",
      "execution_count": null,
      "metadata": {
        "id": "IxphqU6gzu71"
      },
      "outputs": [],
      "source": [
        "print(students)"
      ]
    },
    {
      "cell_type": "code",
      "execution_count": null,
      "metadata": {
        "id": "N4tjNi9_z17y"
      },
      "outputs": [],
      "source": [
        "students.insert(2,\"Iqbal\")\n",
        "print(students)"
      ]
    },
    {
      "cell_type": "markdown",
      "metadata": {
        "id": "L4nI2MGqhV9q"
      },
      "source": [
        "### Pop the last student"
      ]
    },
    {
      "cell_type": "code",
      "execution_count": null,
      "metadata": {
        "id": "mfNPoAf5hYTI"
      },
      "outputs": [],
      "source": [
        "last_student:list[str] = students.pop()\n",
        "print(last_student)\n",
        "print(students)"
      ]
    },
    {
      "cell_type": "markdown",
      "metadata": {
        "id": "HxambH-uhlZI"
      },
      "source": [
        "### Remove a specific or custom student by name"
      ]
    },
    {
      "cell_type": "code",
      "execution_count": null,
      "metadata": {
        "id": "zMBCxFkihnn9"
      },
      "outputs": [],
      "source": [
        "students.remove(\"Saleem\")\n",
        "print(students)"
      ]
    },
    {
      "cell_type": "code",
      "source": [
        "students.insert(2,\"ali\")"
      ],
      "metadata": {
        "id": "Tv5fNI5w9B0s"
      },
      "execution_count": null,
      "outputs": []
    },
    {
      "cell_type": "code",
      "source": [
        "print(students)"
      ],
      "metadata": {
        "id": "xA6ovCAd9KjY"
      },
      "execution_count": null,
      "outputs": []
    },
    {
      "cell_type": "code",
      "source": [
        "students.remove(\"ali\")\n",
        "print(students)"
      ],
      "metadata": {
        "id": "JEUvm0Vi9Wyn"
      },
      "execution_count": null,
      "outputs": []
    },
    {
      "cell_type": "markdown",
      "metadata": {
        "id": "zLIHsobFkcia"
      },
      "source": [
        "### shallow copy vs deep copy"
      ]
    },
    {
      "cell_type": "code",
      "execution_count": null,
      "metadata": {
        "id": "0kLO63NdkhL7"
      },
      "outputs": [],
      "source": [
        "# shallow copy\n",
        "x : list[str] = ['a','b','c']\n",
        "y = x # shallow copy\n",
        "print(id(x))\n",
        "print(id(y))"
      ]
    },
    {
      "cell_type": "code",
      "source": [
        "x.append('d')\n",
        "print(\"x: \",x)\n",
        "print(\"y: \",y)"
      ],
      "metadata": {
        "id": "l6aj8TVyOqzO"
      },
      "execution_count": null,
      "outputs": []
    },
    {
      "cell_type": "code",
      "source": [
        "y.append('e')\n",
        "print(x)\n",
        "print(y)"
      ],
      "metadata": {
        "id": "v107FDnx-dzg"
      },
      "execution_count": null,
      "outputs": []
    },
    {
      "cell_type": "code",
      "execution_count": null,
      "metadata": {
        "id": "txwdgB-FlHWf"
      },
      "outputs": [],
      "source": [
        "# deep copy\n",
        "x: list[str] = ['a', 'b', 'c']\n",
        "y = x.copy()        # Deep copy by copy() method\n",
        "x.append('d')\n",
        "print(\"x:\", x)\n",
        "print(\"y:\", y)\n",
        "\n",
        "print(id(x), id(y))"
      ]
    },
    {
      "cell_type": "code",
      "source": [
        "x.append('e')\n",
        "print(\"x:\", x)\n",
        "print(\"y:\", y)"
      ],
      "metadata": {
        "id": "oEeAnSIiPZOC"
      },
      "execution_count": null,
      "outputs": []
    },
    {
      "cell_type": "code",
      "source": [
        "z = x[:] # another way of Deep copy by slice"
      ],
      "metadata": {
        "id": "oOA-crboE3No"
      },
      "execution_count": null,
      "outputs": []
    },
    {
      "cell_type": "code",
      "source": [
        "print(id(x))\n",
        "print(id(z))"
      ],
      "metadata": {
        "id": "rszi7bQ2Pmjo"
      },
      "execution_count": null,
      "outputs": []
    },
    {
      "cell_type": "code",
      "source": [
        "z.append('e')\n",
        "print(z)\n",
        "print(x)"
      ],
      "metadata": {
        "id": "VCzAIBYFE9Xp"
      },
      "execution_count": null,
      "outputs": []
    },
    {
      "cell_type": "code",
      "execution_count": null,
      "metadata": {
        "id": "AB6N_UQNkSse"
      },
      "outputs": [],
      "source": [
        "# # create new list\n",
        "x : list[str] = ['a','b','c']\n",
        "print(id(x))\n",
        "x = ['d','e','f']\n",
        "print(id(x))\n",
        "# print(x)"
      ]
    },
    {
      "cell_type": "markdown",
      "metadata": {
        "id": "ncS5vw54m9cz"
      },
      "source": [
        "### extend()\n",
        "Supply the List to be extended"
      ]
    },
    {
      "cell_type": "code",
      "execution_count": null,
      "metadata": {
        "id": "UA01xUuQnMIx"
      },
      "outputs": [],
      "source": [
        "arr1: list[int] = [1,2,3]\n",
        "a : list[int] = [4,5,6]\n",
        "arr1.extend(a)\n",
        "print(arr1)# 6 items\n",
        "print(a)# 3\n",
        "# print(id(a))"
      ]
    },
    {
      "cell_type": "markdown",
      "metadata": {
        "id": "qbzJ8W7SnWzN"
      },
      "source": [
        "### clear()"
      ]
    },
    {
      "cell_type": "code",
      "execution_count": null,
      "metadata": {
        "id": "jDER99DendSz"
      },
      "outputs": [],
      "source": [
        "a.clear()\n",
        "print(a)\n",
        "# print(id(a))"
      ]
    },
    {
      "cell_type": "markdown",
      "source": [
        "#### Time to Ask"
      ],
      "metadata": {
        "id": "Pqfi_LfSOXZL"
      }
    },
    {
      "cell_type": "code",
      "execution_count": null,
      "metadata": {
        "id": "igV19QkCAnSw"
      },
      "outputs": [],
      "source": [
        "\n",
        "students = [\"Ahmad\", \"Ali\", \"Kashif\"]\n",
        "\n",
        "# Using clear()\n",
        "print(id(students))  # Same ID?, list cleared in place. Before\n",
        "students.clear()\n",
        "print(id(students))  # Same ID?, list cleared in place. After\n",
        "students.append(\"Usman\")\n",
        "print(id(students))\n",
        "\n",
        "# Reassigning to empty list\n",
        "students = [\"Ahmad\", \"Ali\", \"Kashif\"]\n",
        "# print(id(students))\n",
        "students= []\n",
        "# print(id(students))"
      ]
    },
    {
      "cell_type": "markdown",
      "metadata": {
        "id": "ZaAciugjnsOU"
      },
      "source": [
        "### count(), index methods\n",
        "### list() function"
      ]
    },
    {
      "cell_type": "code",
      "execution_count": null,
      "metadata": {
        "id": "bvvseidnnvFg"
      },
      "outputs": [],
      "source": [
        "characters : list[str] = list(\"abcdefghijkalmnopqrstbuvwxyz\")\n",
        "# characters : list[str] = [\"ahmad\"]\n",
        "print(characters)\n"
      ]
    },
    {
      "cell_type": "code",
      "source": [
        "characters.count('a')\n"
      ],
      "metadata": {
        "id": "m_9oZa0lPats"
      },
      "execution_count": null,
      "outputs": []
    },
    {
      "cell_type": "code",
      "source": [
        "characters.append(\"Z\")"
      ],
      "metadata": {
        "id": "odE2KCbePpdM"
      },
      "execution_count": null,
      "outputs": []
    },
    {
      "cell_type": "code",
      "source": [
        "print(characters)"
      ],
      "metadata": {
        "id": "QpU0DfXrPgqA"
      },
      "execution_count": null,
      "outputs": []
    },
    {
      "cell_type": "code",
      "source": [
        "characters.sort()"
      ],
      "metadata": {
        "id": "JvgQJLKa7mtU"
      },
      "execution_count": null,
      "outputs": []
    },
    {
      "cell_type": "code",
      "source": [
        "print(characters)"
      ],
      "metadata": {
        "id": "Rmc4ODQI7vZx"
      },
      "execution_count": null,
      "outputs": []
    },
    {
      "cell_type": "code",
      "source": [
        "print(ord('Z'))"
      ],
      "metadata": {
        "id": "Sc1CkSU-Q3fx"
      },
      "execution_count": null,
      "outputs": []
    },
    {
      "cell_type": "code",
      "source": [
        "print(ord('a'))"
      ],
      "metadata": {
        "id": "JW3ydVZ_Q-rc"
      },
      "execution_count": null,
      "outputs": []
    },
    {
      "cell_type": "code",
      "source": [
        "characters.sort(key=str.lower)"
      ],
      "metadata": {
        "id": "8xyu5ocKJeWd"
      },
      "execution_count": null,
      "outputs": []
    },
    {
      "cell_type": "code",
      "source": [
        "print(characters)"
      ],
      "metadata": {
        "id": "AKt7_-pvP6Vg"
      },
      "execution_count": null,
      "outputs": []
    },
    {
      "cell_type": "code",
      "source": [
        "list4 = [\"word\",\"abc\",\"xyz\",\"shshjaja\",\"z\"]\n",
        "list4.sort(key=len)\n",
        "print(list4)"
      ],
      "metadata": {
        "id": "NBM8AYs0KLAc"
      },
      "execution_count": null,
      "outputs": []
    },
    {
      "cell_type": "code",
      "source": [
        "print(characters)"
      ],
      "metadata": {
        "id": "x2HsCcMMJiPt"
      },
      "execution_count": null,
      "outputs": []
    },
    {
      "cell_type": "markdown",
      "metadata": {
        "id": "Nut8kJ2kn0O4"
      },
      "source": [
        "### index()"
      ]
    },
    {
      "cell_type": "code",
      "source": [
        "characters.insert(4,\"a\")"
      ],
      "metadata": {
        "id": "6bU3pHHK9XRh"
      },
      "execution_count": null,
      "outputs": []
    },
    {
      "cell_type": "code",
      "source": [
        "print(characters)"
      ],
      "metadata": {
        "id": "k0J-UXWpRvxe"
      },
      "execution_count": null,
      "outputs": []
    },
    {
      "cell_type": "code",
      "source": [
        "characters.index('a',2)"
      ],
      "metadata": {
        "id": "a3r2AWJS9kVm"
      },
      "execution_count": null,
      "outputs": []
    },
    {
      "cell_type": "code",
      "execution_count": null,
      "metadata": {
        "id": "6motr1fiKm7N"
      },
      "outputs": [],
      "source": [
        "characters.index('a',0)"
      ]
    },
    {
      "cell_type": "code",
      "source": [
        "characters.index('a')"
      ],
      "metadata": {
        "id": "k7L2WvNMTSFr"
      },
      "execution_count": null,
      "outputs": []
    },
    {
      "cell_type": "code",
      "source": [
        "# characters.index('a',-1,-27)"
      ],
      "metadata": {
        "id": "2_b3idf0TZkx"
      },
      "execution_count": null,
      "outputs": []
    },
    {
      "cell_type": "markdown",
      "metadata": {
        "id": "1-x8ijLboMGr"
      },
      "source": [
        "### sort() and reverse() methods\n",
        "Purpose: Sorts the elements in the list in-place in descending order. It modifies the list to be sorted based on values.\n",
        "\n",
        "Purpose: Reverses the order of the elements in the list in-place without sorting them. It simply flips the list from end to start."
      ]
    },
    {
      "cell_type": "code",
      "source": [
        "# Sorts the list in ascending order (A-Z, a-z) using default Unicode values (consider a ASCII CODE)\n",
        "characters.sort()\n",
        "print(characters)  # Prints the sorted list (uppercase comes before lowercase)\n"
      ],
      "metadata": {
        "id": "oVPJdCjbT4n-"
      },
      "execution_count": null,
      "outputs": []
    },
    {
      "cell_type": "code",
      "source": [
        "# Sorts the list in descending order (Z-A, z-a)\n",
        "characters.sort(reverse=True)\n",
        "print(characters)  # Prints the list sorted in reverse order"
      ],
      "metadata": {
        "id": "K3TmHLyeT8RT"
      },
      "execution_count": null,
      "outputs": []
    },
    {
      "cell_type": "code",
      "execution_count": null,
      "metadata": {
        "id": "U7Ct5S3yoVLz"
      },
      "outputs": [],
      "source": [
        "# Reverses the current order of the list (no sorting involved)\n",
        "characters.reverse()\n",
        "print(characters)  # Prints the list in reversed order from the previous result"
      ]
    },
    {
      "cell_type": "code",
      "source": [
        "characters = ['a','z','b']\n",
        "characters.reverse()\n",
        "print(characters)"
      ],
      "metadata": {
        "id": "ba-Wijl0UdqC"
      },
      "execution_count": null,
      "outputs": []
    },
    {
      "cell_type": "markdown",
      "metadata": {
        "id": "QLmlV2dFxXY4"
      },
      "source": [
        "## Slicing"
      ]
    },
    {
      "cell_type": "code",
      "execution_count": 1,
      "metadata": {
        "id": "mlyy92R-xmf1",
        "outputId": "7e0e3d8b-b13e-4f72-c762-25e467f52bc9",
        "colab": {
          "base_uri": "https://localhost:8080/"
        }
      },
      "outputs": [
        {
          "output_type": "stream",
          "name": "stdout",
          "text": [
            "['A', 'B', 'C', 'D', 'E', 'F', 'G', 'H', 'I', 'J', 'K', 'L', 'M', 'N', 'O', 'P', 'Q', 'R', 'S', 'T', 'U', 'V', 'W', 'X', 'Y', 'Z']\n"
          ]
        }
      ],
      "source": [
        "characters : list[str] = list(\"ABCDEFGHIJKLMNOPQRSTUVWXYZ\")\n",
        "print(characters)"
      ]
    },
    {
      "cell_type": "code",
      "execution_count": 2,
      "metadata": {
        "id": "M8ZZJsF2x7Xn",
        "outputId": "16a4f7de-3f85-4176-ffd4-79a1425ee99a",
        "colab": {
          "base_uri": "https://localhost:8080/"
        }
      },
      "outputs": [
        {
          "output_type": "stream",
          "name": "stdout",
          "text": [
            "26\n",
            "1.  ['A', 'B', 'C', 'D', 'E', 'F']\n",
            "2.  ['A', 'B', 'C', 'D']\n",
            "3.  ['A', 'B']\n",
            "4.  ['A', 'C', 'E', 'G', 'I', 'K']\n",
            "5.  ['A', 'B']\n",
            "6.  ['A', 'D', 'G']\n",
            "7.  ['A', 'C', 'E', 'G', 'I', 'K', 'M', 'O', 'Q', 'S', 'U', 'W', 'Y']\n",
            "8.  ['Z', 'Y', 'X', 'W', 'V', 'U', 'T', 'S', 'R', 'Q', 'P', 'O', 'N', 'M', 'L', 'K', 'J', 'I', 'H', 'G', 'F', 'E', 'D', 'C', 'B', 'A']\n"
          ]
        }
      ],
      "source": [
        "#                          0    1    2    ...                                                                                                         25\n",
        "characters: list[str] = ['A', 'B', 'C', 'D', 'E', 'F', 'G', 'H', 'I', 'J', 'K', 'L', 'M', 'N', 'O', 'P', 'Q', 'R', 'S', 'T', 'U', 'V', 'W', 'X', 'Y', 'Z']\n",
        "#                         -26 -25 -24  ...                                                                                                            -1\n",
        "\n",
        "# Default slicing goes from left to right\n",
        "print(len(characters))\n",
        "\n",
        "# list[start_index:end_index-1:step]\n",
        "\n",
        "print(\"1. \",characters[0:6])      # From index 0 to 5 (6 is excluded)\n",
        "print(\"2. \",characters[:4])       # From start to index 3 (4 is excluded)\n",
        "print(\"3. \",characters[-26:-24])  # From index -26 to -25 (−24 is excluded)\n",
        "print(\"4. \",characters[0:12:2])    # From index 0 to 1, step by 2 → ['A']\n",
        "print(\"5. \",characters[0:2:])     # From index 0 to 1, default step 1 → ['A', 'B']\n",
        "print(\"6. \",characters[0:7:3])    # From index 0 to 6, step by 3 → ['A', 'D', 'G']\n",
        "print(\"7. \",characters[::2])      # From start to end, step by 2 → ['A', 'C', 'E', 'G', 'I', 'K', 'M', 'O', 'Q', 'S', 'U', 'W', 'Y']\n",
        "print(\"8. \",characters[::-1])     # From start to end, step by -1 →"
      ]
    },
    {
      "cell_type": "code",
      "source": [
        "print(characters)"
      ],
      "metadata": {
        "id": "23rb_OkDnCCz",
        "outputId": "bfd41f67-fe17-4f35-e422-67a8265e2417",
        "colab": {
          "base_uri": "https://localhost:8080/"
        }
      },
      "execution_count": 6,
      "outputs": [
        {
          "output_type": "stream",
          "name": "stdout",
          "text": [
            "['A', 'B', 'C', 'D', 'E', 'F', 'G', 'H', 'I', 'J', 'K', 'L', 'M', 'N', 'O', 'P', 'Q', 'R', 'S', 'T', 'U', 'V', 'W', 'X', 'Y', 'Z']\n"
          ]
        }
      ]
    },
    {
      "cell_type": "code",
      "source": [
        "new_list = [1,2,3,4,5,6,7,8,9,10]\n",
        "sub_list =new_list[0:9:2]\n",
        "print(sub_list)\n",
        "print(new_list)"
      ],
      "metadata": {
        "id": "GUxtm-BNNxIZ",
        "outputId": "66fc6cf8-de4e-4f36-bf12-455b9738276c",
        "colab": {
          "base_uri": "https://localhost:8080/"
        }
      },
      "execution_count": 5,
      "outputs": [
        {
          "output_type": "stream",
          "name": "stdout",
          "text": [
            "[1, 3, 5, 7, 9]\n",
            "[1, 2, 3, 4, 5, 6, 7, 8, 9, 10]\n"
          ]
        }
      ]
    },
    {
      "cell_type": "code",
      "execution_count": 7,
      "metadata": {
        "id": "7aUnHurryIdE",
        "outputId": "197ef5ce-9b96-4094-d12c-31c2cc075898",
        "colab": {
          "base_uri": "https://localhost:8080/"
        }
      },
      "outputs": [
        {
          "output_type": "stream",
          "name": "stdout",
          "text": [
            "['A', 'B', 'C', 'D', 'E', 'F', 'G', 'H', 'I', 'J', 'K', 'L', 'M', 'N', 'O', 'P', 'Q', 'R', 'S', 'T', 'U', 'V', 'W', 'X', 'Y', 'Z']\n",
            "['A', 'B', 'C', 'D', 'E', 'F', 'G', 'H', 'I', 'J', 'K', 'L', 'M', 'N', 'O', 'P', 'Q', 'R', 'S', 'T', 'U', 'V', 'W', 'X', 'Y', 'Z']\n"
          ]
        }
      ],
      "source": [
        "print(characters)\n",
        "print(characters[::])"
      ]
    },
    {
      "cell_type": "code",
      "execution_count": 1,
      "metadata": {
        "id": "Ic_3SULQzf9c",
        "outputId": "5ad0e72a-2e30-4b98-a287-fa4f67436f09",
        "colab": {
          "base_uri": "https://localhost:8080/"
        }
      },
      "outputs": [
        {
          "output_type": "stream",
          "name": "stdout",
          "text": [
            "['H', 'G', 'F', 'E', 'D', 'C', 'B', 'A']\n",
            "[]\n",
            "['E', 'D']\n",
            "[]\n"
          ]
        }
      ],
      "source": [
        "characters : list[str] = ['A', 'B', 'C', 'D', 'E', 'F', 'G', 'H']\n",
        "                        #  0    1    2    3    4    5    6    7\n",
        "                                   # <---- right to left via -1\n",
        "print(characters[::-1])\n",
        "print(characters[4:2])\n",
        "print(characters[4:2:-1]) #E,D\n",
        "# print(characters[2:4:-1])"
      ]
    },
    {
      "cell_type": "code",
      "execution_count": 3,
      "metadata": {
        "id": "iKZ5UFnZzppD",
        "outputId": "b718f4ac-151b-4e51-ca7f-b333e85bd287",
        "colab": {
          "base_uri": "https://localhost:8080/"
        }
      },
      "outputs": [
        {
          "output_type": "stream",
          "name": "stdout",
          "text": [
            "['G', 'F', 'E']\n",
            "['D', 'E', 'F']\n"
          ]
        }
      ],
      "source": [
        "#                          0    1    2    3    4   5     6    7\n",
        "characters : list[str] = ['A', 'B', 'C', 'D', 'E', 'F', 'G', 'H']\n",
        "#                         -8    -7   -6  -5    -4   -3   -2   -1\n",
        "\n",
        "# iteration slicing ->\n",
        "# step -> positive\n",
        "# step <- negative\n",
        "print(characters[-2:-5:-1]) #\n",
        "print(characters[-5:-2]) #\n",
        "# print(characters[::])\n",
        "# print(characters[::-1])"
      ]
    },
    {
      "cell_type": "markdown",
      "metadata": {
        "id": "3sOWor23bgIp"
      },
      "source": [
        "## `in` and `is` operators"
      ]
    },
    {
      "cell_type": "markdown",
      "metadata": {
        "id": "rLjZiamVb3bz"
      },
      "source": [
        "### `in` Operator\n",
        "The `in` operator is used to check membership.\n",
        "\n",
        "Membership operators are used to test whether a value or variable is found within a sequence, such as a string, list, or tuple. Python provides two membership operators:\n",
        "\n",
        "- `in`\n",
        "- `not in`\n",
        "\n",
        "\n"
      ]
    },
    {
      "cell_type": "code",
      "execution_count": 4,
      "metadata": {
        "id": "Ws3KPf0Zb8nz",
        "outputId": "e469b2ac-7157-4408-e931-fcdb1fbc3382",
        "colab": {
          "base_uri": "https://localhost:8080/"
        }
      },
      "outputs": [
        {
          "output_type": "stream",
          "name": "stdout",
          "text": [
            "True\n",
            "False\n",
            "True\n"
          ]
        }
      ],
      "source": [
        "# 1️⃣ Lists\n",
        "my_list = [1, 2, 3, 4, 5]\n",
        "print(3 in my_list)      # True\n",
        "print(6 in my_list)      # False\n",
        "print(7 not in my_list)  # True"
      ]
    },
    {
      "cell_type": "code",
      "source": [
        "# 2️⃣ Strings (case-sensitive)\n",
        "my_string = \"Hello, World!\"\n",
        "print(\"World\" not in my_string)  #FALSE\n",
        "print(\"Python\" in my_string)\n",
        "print(\"Hello\" in my_string)"
      ],
      "metadata": {
        "id": "3U7galEUZApD",
        "outputId": "49f3094e-1695-4834-bd5c-e067419f2255",
        "colab": {
          "base_uri": "https://localhost:8080/"
        }
      },
      "execution_count": 8,
      "outputs": [
        {
          "output_type": "stream",
          "name": "stdout",
          "text": [
            "False\n",
            "False\n",
            "True\n"
          ]
        }
      ]
    },
    {
      "cell_type": "code",
      "source": [
        "# 3️⃣ Tuples & Sets\n",
        "my_tuple = (1, 2, 3, 4, 5)\n",
        "my_set = {1, 2, 3, 4, 5}\n",
        "print(2 in my_tuple)    # True\n",
        "print('x' in my_set) #"
      ],
      "metadata": {
        "id": "3pqgn7sOZEWg",
        "outputId": "71ea94c7-7c86-43e6-c185-e8466a906bfb",
        "colab": {
          "base_uri": "https://localhost:8080/"
        }
      },
      "execution_count": 9,
      "outputs": [
        {
          "output_type": "stream",
          "name": "stdout",
          "text": [
            "True\n",
            "False\n"
          ]
        }
      ]
    },
    {
      "cell_type": "code",
      "source": [
        "# 4️⃣ Dictionaries (keys vs values)\n",
        "d = {'a': 1, 'b': 2}\n",
        "print('a' in d)          # True  – key membership\n",
        "print(1 in d)            # False – values ignored\n",
        "print(1 in d.values())   # True  – check values explicitly\n",
        "\n",
        "# Note: “in” triggers container.__contains__(item) under the hood,\n",
        "# so you can customize membership tests in your own classes."
      ],
      "metadata": {
        "id": "3AjXc4aWZHXI",
        "outputId": "68d4e77e-2a68-4efc-dbaa-3a19e9f91495",
        "colab": {
          "base_uri": "https://localhost:8080/"
        }
      },
      "execution_count": 10,
      "outputs": [
        {
          "output_type": "stream",
          "name": "stdout",
          "text": [
            "True\n",
            "False\n",
            "True\n"
          ]
        }
      ]
    },
    {
      "cell_type": "markdown",
      "metadata": {
        "id": "d34epecjcK1Z"
      },
      "source": [
        "### `is` Operator\n",
        "The `is` operator checks identity, i.e., whether two variables point to the same object in memory\n",
        "\n",
        "Identity operators are used to compare the memory location of two objects. They determine whether two variables refer to the same object in memory. Python provides two identity operators:\n",
        "\n",
        "- `is`\n",
        "- `is not`"
      ]
    },
    {
      "cell_type": "code",
      "source": [
        "# 1️⃣ Identity with mutable objects\n",
        "a = [1, 2, 3]\n",
        "b = [1, 2, 3]\n",
        "c = a\n",
        "\n",
        "print(a is b)      # – same value, different lists\n",
        "print(a is c)      # – both names point to the same list\n",
        "print(a is not c)  # – identity negated\n",
        "\n",
        "print(\"a:\", id(a))\n",
        "print(\"b:\", id(b))\n",
        "# print(\"c:\", id(c))"
      ],
      "metadata": {
        "id": "I1LJupGe-kbz",
        "outputId": "bdd9f3ef-a21f-4fa7-8d31-acbd0033927b",
        "colab": {
          "base_uri": "https://localhost:8080/"
        }
      },
      "execution_count": 13,
      "outputs": [
        {
          "output_type": "stream",
          "name": "stdout",
          "text": [
            "False\n",
            "True\n",
            "False\n",
            "a: 132799442629056\n",
            "b: 132799432097088\n"
          ]
        }
      ]
    },
    {
      "cell_type": "code",
      "source": [
        "# 2️⃣ Identity with small, cached integers\n",
        "x = 10\n",
        "y = 10\n",
        "print(\"integers: \",x is y)      # True – ints (-5 … 256)"
      ],
      "metadata": {
        "id": "c8fiJfP4ZyGh",
        "outputId": "5935a1c1-beb2-4cbb-bbff-bfc85bc2e35b",
        "colab": {
          "base_uri": "https://localhost:8080/"
        }
      },
      "execution_count": null,
      "outputs": [
        {
          "output_type": "stream",
          "name": "stdout",
          "text": [
            "integers:  True\n"
          ]
        }
      ]
    },
    {
      "cell_type": "code",
      "source": [
        "# 3️⃣ Identity with larger integers (not guaranteed to be cached)\n",
        "big1 = 10000\n",
        "big2 = 10000\n",
        "print(\"big integers: \",big1 is big2)  #  – separate objects\n",
        "\n",
        "# Note:\n",
        "# • ‘is’ / ‘is not’ checks object identity (id()), not value equality.\n",
        "# • Use ‘==’ to compare values; use ‘is’ to test for the same object\n",
        "# • Equality (==) can be customised via __eq__, but identity stays true only when both names\n",
        "#   reference the exact same object in memory."
      ],
      "metadata": {
        "id": "tTDIwMwmZuwP",
        "outputId": "f11ca6c1-c826-42db-ac38-372ba3ef9ebc",
        "colab": {
          "base_uri": "https://localhost:8080/"
        }
      },
      "execution_count": 14,
      "outputs": [
        {
          "output_type": "stream",
          "name": "stdout",
          "text": [
            "big integers:  False\n"
          ]
        }
      ]
    },
    {
      "cell_type": "code",
      "source": [
        "# Strings may be shared, but only sometimes\n",
        "\n",
        "# If identical string literals appear in the same file, Python often keeps just one copy:\n",
        "\n",
        "a = \"helloqqqqqqqqqqqqqqqqqqqqqqqqqqq\"\n",
        "b = \"helloqqqqqqqqqqqqqqqqqqqqqqqqqqq\"\n",
        "\n",
        "print(a is b)\n",
        "print(id(a))\n",
        "print(id(b))"
      ],
      "metadata": {
        "id": "dNg5iAalNlNr",
        "outputId": "5442e8a3-50e0-48b1-b9f0-3ccf8e4d4c49",
        "colab": {
          "base_uri": "https://localhost:8080/"
        }
      },
      "execution_count": 15,
      "outputs": [
        {
          "output_type": "stream",
          "name": "stdout",
          "text": [
            "True\n",
            "132799432691120\n",
            "132799432691120\n"
          ]
        }
      ]
    },
    {
      "cell_type": "markdown",
      "source": [
        "### Key Differences Between `==` and `is`\n",
        "\n",
        "- `==` compares the values of two objects to see if they are equal.\n",
        "- `is` compares the identities of two objects to see if they refer to the same object in memory.\n",
        "\n",
        "### Example:"
      ],
      "metadata": {
        "id": "WEJ-DZivPamc"
      }
    },
    {
      "cell_type": "code",
      "source": [
        "x = [1, 2, 3]\n",
        "y = [1, 2, 3]\n",
        "print(id(x))\n",
        "print(id(y))"
      ],
      "metadata": {
        "id": "rp8lBIoMPZq7",
        "outputId": "9e0d678e-2b26-4f32-c6b4-00a84c005dd2",
        "colab": {
          "base_uri": "https://localhost:8080/"
        }
      },
      "execution_count": 16,
      "outputs": [
        {
          "output_type": "stream",
          "name": "stdout",
          "text": [
            "132799432089280\n",
            "132799444105600\n"
          ]
        }
      ]
    },
    {
      "cell_type": "code",
      "source": [
        "print(x == y)  # Output: True (values are equal)\n",
        "print(x is y)  # Output: False (different objects in memory)"
      ],
      "metadata": {
        "id": "Lc3ZETlAPgGv",
        "outputId": "d31b33ba-be33-4bff-b677-a32ef8159e24",
        "colab": {
          "base_uri": "https://localhost:8080/"
        }
      },
      "execution_count": 17,
      "outputs": [
        {
          "output_type": "stream",
          "name": "stdout",
          "text": [
            "True\n",
            "False\n"
          ]
        }
      ]
    },
    {
      "cell_type": "markdown",
      "source": [
        "In this example, `x == y` returns `True` because the lists have the same elements, but `x is y` returns `False` because they are two distinct objects in memory.\n",
        "\n",
        "---"
      ],
      "metadata": {
        "id": "xI8GSYSHPkhT"
      }
    },
    {
      "cell_type": "markdown",
      "metadata": {
        "id": "nbsWTzV5mv66"
      },
      "source": [
        "## Extra"
      ]
    },
    {
      "cell_type": "code",
      "execution_count": null,
      "metadata": {
        "id": "uanfR1Xjl-ur"
      },
      "outputs": [],
      "source": [
        "print(help(print))"
      ]
    },
    {
      "cell_type": "markdown",
      "metadata": {
        "id": "wqVcnqsmGqBq"
      },
      "source": [
        "## Projects"
      ]
    },
    {
      "cell_type": "markdown",
      "metadata": {
        "id": "kA0ny_EGGqBr"
      },
      "source": [
        "### Project 1: Student Management System\n",
        "Create a program to manage a list of student names. Implement functionalities to:  \n",
        "\n",
        "- Add a new student.\n",
        "- Remove a student by name.\n",
        "- Display all students in alphabetical order.\n",
        "- Count the total number of students.\n",
        "\n",
        "Note: Without using advance concept like function, if-else structure, loops, etc."
      ]
    },
    {
      "cell_type": "markdown",
      "metadata": {
        "id": "-84sZPl1GqBs"
      },
      "source": [
        "### Project 2: List Operations Demo\n",
        "Develop a Python script to demonstrate:\n",
        "- Appending items to a list.\n",
        "- Inserting an item at a specific position.\n",
        "- Popping and removing items.\n",
        "- Sorting and reversing the list.\n",
        "\n"
      ]
    },
    {
      "cell_type": "markdown",
      "metadata": {
        "id": "U86surDiGqBs"
      },
      "source": [
        "### Project 3: Shallow vs. Deep Copy Exploration\n",
        "Create a program to illustrate the difference between shallow and deep copying of lists using examples.\n",
        "Display the impact of modifying one list on its copy in both cases."
      ]
    }
  ],
  "metadata": {
    "colab": {
      "provenance": []
    },
    "kernelspec": {
      "display_name": "Python 3",
      "name": "python3"
    },
    "language_info": {
      "name": "python"
    }
  },
  "nbformat": 4,
  "nbformat_minor": 0
}
