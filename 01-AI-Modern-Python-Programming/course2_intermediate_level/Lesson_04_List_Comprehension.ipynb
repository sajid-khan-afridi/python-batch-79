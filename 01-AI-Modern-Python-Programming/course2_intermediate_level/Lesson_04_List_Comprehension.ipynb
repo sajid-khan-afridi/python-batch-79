{
  "nbformat": 4,
  "nbformat_minor": 0,
  "metadata": {
    "colab": {
      "provenance": []
    },
    "kernelspec": {
      "name": "python3",
      "display_name": "Python 3"
    },
    "language_info": {
      "name": "python"
    }
  },
  "cells": [
    {
      "cell_type": "markdown",
      "source": [
        "# Introduction to List Comprehensions in Python\n",
        "\n",
        "## What is List Comprehension?\n",
        "List comprehension is a powerful feature in Python that allows you to create new lists in a `concise` and `readable` way. It's a `compact way` to create lists from existing lists, range or other iterables and optionally applying a condition to filter the items.\n",
        "\n",
        "---\n",
        "\n",
        "## Why Do We Need List Comprehensions?\n",
        "\n",
        "### 🚧 The Problem: Creating Lists Using Loops\n",
        "\n",
        "Consider a scenario where we want to **create a list of squares for the numbers 1 through 5**. A typical approach might involve using a `for` loop:\n",
        "\n",
        "```python\n",
        "squares = []\n",
        "for i in range(1, 6):\n",
        "    squares.append(i ** 2)\n",
        "print(squares)\n",
        "\n",
        "```\n",
        "\n",
        "While this works, it requires multiple lines of code: one to initialize the list, one for the loop, and one to append each result. As the complexity of the list generation increases, so does the amount of code needed.\n",
        "\n",
        "\n"
      ],
      "metadata": {
        "id": "bDTyXjdpQiqB"
      }
    },
    {
      "cell_type": "markdown",
      "source": [
        "### The Solution: Simplify Code with List Comprehensions\n",
        "\n",
        "List comprehensions provide a more elegant and concise way to achieve the same result. We can generate the list of squares in a single line:\n"
      ],
      "metadata": {
        "id": "kItaQEjCRQc1"
      }
    },
    {
      "cell_type": "code",
      "source": [
        "squares : list[int] = [x**2 for x in range(1, 6)]\n",
        "print(squares)"
      ],
      "metadata": {
        "id": "ybezfIgrRRrz",
        "outputId": "10e906bd-e991-4e36-fcf1-fd629262ecd9",
        "colab": {
          "base_uri": "https://localhost:8080/"
        }
      },
      "execution_count": 1,
      "outputs": [
        {
          "output_type": "stream",
          "name": "stdout",
          "text": [
            "[1, 4, 9, 16, 25]\n"
          ]
        }
      ]
    },
    {
      "cell_type": "markdown",
      "source": [
        "This approach is not only more readable but also often more efficient.\n",
        "\n",
        "## How List Comprehensions Work\n",
        "\n",
        "### Syntax\n",
        "\n",
        "```python\n",
        "new_list = [expression for item in iterable if condition]\n",
        "```\n",
        "\n",
        "Where:\n",
        "- `expression` is the operation you want to perform on each element.\n",
        "- `item` is the variable that takes on the value of each element in the iterable\n",
        "- `iterable` is the list or other iterable that you want to process.\n",
        "- `condition` is an optional filter that determines whether an element is included in the new list.\n"
      ],
      "metadata": {
        "id": "OYUevrEYRgji"
      }
    },
    {
      "cell_type": "markdown",
      "source": [
        "### Example: Creating a List of Squares\n"
      ],
      "metadata": {
        "id": "_8phEkHKRptX"
      }
    },
    {
      "cell_type": "code",
      "source": [
        "squares : list[int] = [x**2 for x in range(1, 6)]\n",
        "print(squares)"
      ],
      "metadata": {
        "id": "XZGRJuN6Rqpw",
        "outputId": "ff14a207-cad3-468e-a48d-0d1622ba2c23",
        "colab": {
          "base_uri": "https://localhost:8080/"
        }
      },
      "execution_count": 2,
      "outputs": [
        {
          "output_type": "stream",
          "name": "stdout",
          "text": [
            "[1, 4, 9, 16, 25]\n"
          ]
        }
      ]
    },
    {
      "cell_type": "markdown",
      "source": [
        "### Adding Conditions: Filtering with List Comprehensions\n",
        "\n",
        "We can add an optional condition to filter the elements being processed by the list comprehension.\n"
      ],
      "metadata": {
        "id": "WrQjnVPCR1U0"
      }
    },
    {
      "cell_type": "markdown",
      "source": [
        "#### Example1: Creating a List of Even Squares\n"
      ],
      "metadata": {
        "id": "BkhYFHOyR2YU"
      }
    },
    {
      "cell_type": "code",
      "source": [
        "even_squares : list[int] = [x**2 for x in range(1, 11) if x % 2 == 0]\n",
        "print(even_squares)"
      ],
      "metadata": {
        "id": "bXgsvi4_R53E",
        "outputId": "b941c4d4-e137-4424-a21d-6cedd3380e26",
        "colab": {
          "base_uri": "https://localhost:8080/"
        }
      },
      "execution_count": 3,
      "outputs": [
        {
          "output_type": "stream",
          "name": "stdout",
          "text": [
            "[4, 16, 36, 64, 100]\n"
          ]
        }
      ]
    },
    {
      "cell_type": "markdown",
      "source": [
        "In this example, the list comprehension includes only even numbers (i.e., `x % 2 == 0`) before calculating the square."
      ],
      "metadata": {
        "id": "4pFf2m3kSB_w"
      }
    },
    {
      "cell_type": "markdown",
      "source": [
        "#### Example2: Creating a List of Even Squares\n",
        "\n",
        "In this example, we’ll take a predefined list of even numbers and generate a new list containing their squares.\n",
        "\n",
        "We'll first use a traditional `for` loop approach and then demonstrate how the same task can be performed more efficiently using a **list comprehension**."
      ],
      "metadata": {
        "id": "GierrjTEWFEl"
      }
    },
    {
      "cell_type": "code",
      "source": [
        "numbers: list[int] = [2, 4, 6, 8]\n",
        "squares: list[int] = []\n",
        "\n",
        "for number in numbers:\n",
        "    square = number**2\n",
        "    squares.append(square)\n",
        "    # squares.append(number**2)\n",
        "\n",
        "print(squares)"
      ],
      "metadata": {
        "id": "jnfwIgscWMDe",
        "outputId": "9ecda86a-9ff8-49c7-e68a-459420d5dbd3",
        "colab": {
          "base_uri": "https://localhost:8080/"
        }
      },
      "execution_count": 5,
      "outputs": [
        {
          "output_type": "stream",
          "name": "stdout",
          "text": [
            "[4, 16, 36, 64]\n"
          ]
        }
      ]
    },
    {
      "cell_type": "code",
      "source": [
        "#          [expression for item in iterable]\n",
        "squares2 = [number**2 for number in numbers]\n",
        "print(squares2)"
      ],
      "metadata": {
        "id": "iuje3YnmWS3z",
        "outputId": "63e6d693-8f3c-490f-915d-299b45e97b5d",
        "colab": {
          "base_uri": "https://localhost:8080/"
        }
      },
      "execution_count": 6,
      "outputs": [
        {
          "output_type": "stream",
          "name": "stdout",
          "text": [
            "[4, 16, 36, 64]\n"
          ]
        }
      ]
    },
    {
      "cell_type": "code",
      "source": [
        "# list of even square from 1 to 5 in range\n",
        "square3 :list[int] = [num**2 for num in range(1,6) if num % 2 == 0]\n",
        "print(square3)"
      ],
      "metadata": {
        "id": "LzocCsuyvOKy"
      },
      "execution_count": null,
      "outputs": []
    },
    {
      "cell_type": "markdown",
      "source": [
        "### Method Finding through List Comprehension"
      ],
      "metadata": {
        "id": "8yzLO_3rWjZ4"
      }
    },
    {
      "cell_type": "code",
      "source": [
        "# print(dir(str))\n",
        "methods = [method for method in dir(str) if '__' not in method]\n",
        "print(methods)"
      ],
      "metadata": {
        "id": "VPy7MsutWrNB",
        "outputId": "88a65625-0933-4139-8641-d8327c48f561",
        "colab": {
          "base_uri": "https://localhost:8080/"
        }
      },
      "execution_count": 8,
      "outputs": [
        {
          "output_type": "stream",
          "name": "stdout",
          "text": [
            "['capitalize', 'casefold', 'center', 'count', 'encode', 'endswith', 'expandtabs', 'find', 'format', 'format_map', 'index', 'isalnum', 'isalpha', 'isascii', 'isdecimal', 'isdigit', 'isidentifier', 'islower', 'isnumeric', 'isprintable', 'isspace', 'istitle', 'isupper', 'join', 'ljust', 'lower', 'lstrip', 'maketrans', 'partition', 'removeprefix', 'removesuffix', 'replace', 'rfind', 'rindex', 'rjust', 'rpartition', 'rsplit', 'rstrip', 'split', 'splitlines', 'startswith', 'strip', 'swapcase', 'title', 'translate', 'upper', 'zfill']\n"
          ]
        }
      ]
    },
    {
      "cell_type": "markdown",
      "source": [
        "### Ternary Operator with List Comprehension\n",
        "\n",
        "**Syntax:**\n",
        "\n",
        "```python\n",
        "[expression_if_true if condition else expression_if_false for item in iterable]\n",
        "```\n",
        "\n",
        "- `expression_if_true` Value used **when the condition is `True`**\n",
        "- `if condition` The condition to evaluate\n",
        "- `else expression_if_false` Value used **when the condition is `False`**\n",
        "- `for item in iterable` Iterates over each item in the iterable (e.g., list, range, etc.)\n"
      ],
      "metadata": {
        "id": "wq0syTlxoIW1"
      }
    },
    {
      "cell_type": "code",
      "source": [
        "# list_num : list[int] = [1, 2, 3, 4, 5, 6, 7, 8, 9, 10]\n",
        "list_str : list[str] = [\"Even\" if x%2== 0 else \"Odd\" for x in range(1,11)]\n",
        "print(list_str)"
      ],
      "metadata": {
        "id": "4eERiPYioZGZ",
        "outputId": "b3fe253d-79c4-416a-ddc0-e6ed3b4a6f16",
        "colab": {
          "base_uri": "https://localhost:8080/"
        }
      },
      "execution_count": 9,
      "outputs": [
        {
          "output_type": "stream",
          "name": "stdout",
          "text": [
            "['Odd', 'Even', 'Odd', 'Even', 'Odd', 'Even', 'Odd', 'Even', 'Odd', 'Even']\n"
          ]
        }
      ]
    },
    {
      "cell_type": "code",
      "source": [
        "list_str : list[str] = [f\"{x} is Odd\" for x in range(1,11) if x%2==1]\n",
        "list_str"
      ],
      "metadata": {
        "id": "HwNQNKAFT_sq",
        "outputId": "c868dd7c-e19f-42e7-9335-f4053f88d527",
        "colab": {
          "base_uri": "https://localhost:8080/"
        }
      },
      "execution_count": 12,
      "outputs": [
        {
          "output_type": "execute_result",
          "data": {
            "text/plain": [
              "['1 is Odd', '3 is Odd', '5 is Odd', '7 is Odd', '9 is Odd']"
            ]
          },
          "metadata": {},
          "execution_count": 12
        }
      ]
    },
    {
      "cell_type": "markdown",
      "source": [
        "## Conclusion\n",
        "\n",
        "List comprehensions are a powerful feature in Python that allows for clean, concise, and efficient list creation. Whether we're generating simple lists or working with more complex data transformations, list comprehensions can significantly streamline our code."
      ],
      "metadata": {
        "id": "JCpveJX9SaAi"
      }
    },
    {
      "cell_type": "markdown",
      "source": [
        "## Projects\n"
      ],
      "metadata": {
        "id": "yZArYIwDLv4m"
      }
    },
    {
      "cell_type": "markdown",
      "source": [
        "## Project 1: Filtering Odd Numbers\n",
        "\n",
        "**Goal:** Create a list of odd numbers within a range specified by the user using a list comprehension.\n",
        "\n",
        "**Steps:**\n",
        "\n",
        "1.  Ask the user to enter a number `n` that will determine the end of the range (eg. `n=10` -> `range(1,n+1)`).\n",
        "2.  Use a list comprehension to generate a list of numbers from 1 up to the limit, including only the odd numbers.\n",
        "3.  Display the resulting list."
      ],
      "metadata": {
        "id": "8ZotircpLyhr"
      }
    },
    {
      "cell_type": "markdown",
      "source": [
        "### Project 2: Common Elements Finder\n",
        "Create a program to:\n",
        "- Initialize two lists with some common elements in them\n",
        "- Use list comprehension to find the common elements between the two lists.\n",
        "- Return a new list of the common elements.\n"
      ],
      "metadata": {
        "id": "-ljl42tEL_NS"
      }
    },
    {
      "cell_type": "markdown",
      "source": [
        "### Project 3: Filter Names by Starting Letter\n",
        "\n",
        "**Goal:**\n",
        "\n",
        "Create a Python script to filter a list of names, keeping only those that start with a letter specified by the user, using a list comprehension.\n",
        "\n",
        "**Tasks:**\n",
        "\n",
        "- Create a list of names.\n",
        "- Ask the user for a starting letter.\n",
        "- Use a list comprehension and the startswith() function to create a new list of names that begin with the specified letter.\n",
        "- Print the new list of filtered names."
      ],
      "metadata": {
        "id": "7cFZyZJqMDhR"
      }
    },
    {
      "cell_type": "markdown",
      "source": [
        "### Project 4: Vowel Counter\n",
        "Write a program to:\n",
        "- Accept a sentence from the user.\n",
        "- Use list comprehension to create a list containing only the vowel characters from the sentence.\n",
        "- Print the list of vowels"
      ],
      "metadata": {
        "id": "CcZpILHwMGn0"
      }
    }
  ]
}
