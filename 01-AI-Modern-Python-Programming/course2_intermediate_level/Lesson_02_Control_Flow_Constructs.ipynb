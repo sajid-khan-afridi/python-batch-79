{
  "nbformat": 4,
  "nbformat_minor": 0,
  "metadata": {
    "colab": {
      "provenance": []
    },
    "kernelspec": {
      "name": "python3",
      "display_name": "Python 3"
    },
    "language_info": {
      "name": "python"
    }
  },
  "cells": [
    {
      "cell_type": "markdown",
      "source": [
        "# Control Flow Constructs"
      ],
      "metadata": {
        "id": "N7sKeEJONZ2j"
      }
    },
    {
      "cell_type": "markdown",
      "source": [
        "### Problem:\n",
        "Without conditional statements, a program executes every statement sequentially, regardless of the context or situation. This results in inefficiency and an inability to make decisions dynamically based on specific conditions.\n",
        "\n",
        "### Solution by Conditional Statements:\n",
        "Conditional statements solve this problem by allowing the program to evaluate conditions and execute specific blocks of code only if the conditions are met. Using constructs like `if`, `elif`, and `else`, they enable dynamic decision-making, ensuring only relevant code runs based on the given scenario. This makes programs efficient, adaptable, and capable of handling multiple situations effectively."
      ],
      "metadata": {
        "id": "gInjCixJM76c"
      }
    },
    {
      "cell_type": "markdown",
      "source": [
        "\n",
        "Control Flow Constructs are used to define Conditional Statements, Logical Operators, and Membership & Identity Operators in Python, enabling the control of program execution based on conditions, logical evaluations, and membership tests."
      ],
      "metadata": {
        "id": "F7ySXCUr45oQ"
      }
    },
    {
      "cell_type": "code",
      "source": [
        "# if\n",
        "\n",
        "if True:\n",
        "    print(\"This is false\")\n",
        "\n",
        "if 5>3: # True or False\n",
        "    print(\"5 is greater than 3\")\n",
        "\n",
        "if \"hello\":\n",
        "    print(\"true\")\n",
        "\n",
        "if None:\n",
        "    print(\"true\")\n",
        "\n",
        "\n"
      ],
      "metadata": {
        "colab": {
          "base_uri": "https://localhost:8080/"
        },
        "id": "P10OeOYWusF6",
        "outputId": "d0a29da3-e94d-4eb3-e95a-b8c0a4e2c7e9"
      },
      "execution_count": 9,
      "outputs": [
        {
          "output_type": "stream",
          "name": "stdout",
          "text": [
            "This is false\n",
            "5 is greater than 3\n",
            "true\n"
          ]
        }
      ]
    },
    {
      "cell_type": "code",
      "source": [
        "# if - else\n",
        "\n",
        "if 2>4: # true-- false -> else\n",
        "    print(\"5 is greater than 4\")\n",
        "else:\n",
        "    print(\"5 is not greater than 4\")"
      ],
      "metadata": {
        "colab": {
          "base_uri": "https://localhost:8080/"
        },
        "id": "kQug78CJw2xk",
        "outputId": "c54df5de-244a-4dcb-8104-0ac840a5b33b"
      },
      "execution_count": 11,
      "outputs": [
        {
          "output_type": "stream",
          "name": "stdout",
          "text": [
            "5 is not greater than 4\n"
          ]
        }
      ]
    },
    {
      "cell_type": "code",
      "source": [
        "# elif\n",
        "\n",
        "if 4>5:\n",
        "    print(\"4 is greater than 5\")\n",
        "elif 4==4: # else if\n",
        "    print(\"4 is equal to 4\")\n",
        "else:\n",
        "    print(\"4 is not greater than 5\")"
      ],
      "metadata": {
        "colab": {
          "base_uri": "https://localhost:8080/"
        },
        "id": "zZOegEWCxP9_",
        "outputId": "ea60cc28-b9fd-44f1-a9d2-88dab0ab0810"
      },
      "execution_count": 12,
      "outputs": [
        {
          "output_type": "stream",
          "name": "stdout",
          "text": [
            "4 is equal to 4\n"
          ]
        }
      ]
    },
    {
      "cell_type": "code",
      "source": [
        "print(5<3)"
      ],
      "metadata": {
        "colab": {
          "base_uri": "https://localhost:8080/"
        },
        "id": "YnBJMpjswTt3",
        "outputId": "30f393b1-773c-4eb6-cff4-f20c06366976"
      },
      "execution_count": 7,
      "outputs": [
        {
          "output_type": "stream",
          "name": "stdout",
          "text": [
            "False\n"
          ]
        }
      ]
    },
    {
      "cell_type": "code",
      "source": [
        "percentage : int = int(input(\"Enter your percentage: \"))\n",
        "\n",
        "if percentage >= 90:\n",
        "    print(\"A+\")\n",
        "elif percentage >= 80:\n",
        "    print(\"A\")\n",
        "elif percentage >= 70:\n",
        "    print(\"B\")\n",
        "elif percentage >= 60:\n",
        "    print(\"C\")\n",
        "elif percentage >= 50:\n",
        "    print(\"D\")\n",
        "else:\n",
        "    print(\"F\")"
      ],
      "metadata": {
        "colab": {
          "base_uri": "https://localhost:8080/"
        },
        "id": "JXPmlc93yqS1",
        "outputId": "4e710652-ceac-4b79-d18a-6d3b350a6451"
      },
      "execution_count": 14,
      "outputs": [
        {
          "output_type": "stream",
          "name": "stdout",
          "text": [
            "Enter your percentage: 90\n",
            "A+\n"
          ]
        }
      ]
    },
    {
      "cell_type": "code",
      "source": [
        "if 8>5:\n",
        "    print(\"4 is greater than 5\")\n",
        "\n",
        "if 4==4: # else if\n",
        "    print(\"4 is equal to 4\")"
      ],
      "metadata": {
        "colab": {
          "base_uri": "https://localhost:8080/"
        },
        "id": "sPdlMAGAzQQv",
        "outputId": "178f2c20-72ef-4737-ab4b-01034e20d157"
      },
      "execution_count": 16,
      "outputs": [
        {
          "output_type": "stream",
          "name": "stdout",
          "text": [
            "4 is greater than 5\n",
            "4 is equal to 4\n"
          ]
        }
      ]
    },
    {
      "cell_type": "code",
      "source": [
        "# nested if\n",
        "\n",
        "percentage : int = int(input(\"Enter your percentage: \"))\n",
        "assign : bool = True\n",
        "\n",
        "if percentage >= 90:\n",
        "  if assign:\n",
        "    print(\"Reward winner\")\n",
        "    print(\"Earns 100$\")\n",
        "else:\n",
        "  print(\"Reward not winner\")"
      ],
      "metadata": {
        "colab": {
          "base_uri": "https://localhost:8080/"
        },
        "id": "6A3jzc1XzlX9",
        "outputId": "50cff9cf-9437-4e87-8d95-64489a31e3a6"
      },
      "execution_count": 20,
      "outputs": [
        {
          "output_type": "stream",
          "name": "stdout",
          "text": [
            "Enter your percentage: 90\n",
            "Reward winner\n",
            "Earns 100$\n"
          ]
        }
      ]
    },
    {
      "cell_type": "code",
      "source": [
        "percentage : int = int(input(\"Enter your percentage: \"))\n",
        "assign : bool = True\n",
        "\n",
        "if percentage >= 90 and assign:\n",
        "  print(\"Reward winner\")"
      ],
      "metadata": {
        "colab": {
          "base_uri": "https://localhost:8080/"
        },
        "id": "3oKVosJH0UbB",
        "outputId": "24a4b9fa-07d4-436b-a081-eb8efc724d8e"
      },
      "execution_count": 18,
      "outputs": [
        {
          "output_type": "stream",
          "name": "stdout",
          "text": [
            "Enter your percentage: 90\n",
            "Reward winner\n"
          ]
        }
      ]
    },
    {
      "cell_type": "code",
      "source": [
        "if 1:\n",
        "  print(\"true\")"
      ],
      "metadata": {
        "colab": {
          "base_uri": "https://localhost:8080/"
        },
        "id": "x2zC9kVj2RP0",
        "outputId": "5c43bdac-a9ed-4673-b4aa-eabbd3d02e24"
      },
      "execution_count": 21,
      "outputs": [
        {
          "output_type": "stream",
          "name": "stdout",
          "text": [
            "true\n"
          ]
        }
      ]
    },
    {
      "cell_type": "markdown",
      "source": [
        "\n",
        "---\n",
        "\n",
        "# 🧠 Python Conditional Statementsl\n",
        "\n",
        "Understanding how Python makes **decisions** using `if`, `else`, and `elif` is one of the most important concepts in programming. Let's learn it step-by-step.\n",
        "\n",
        "---\n",
        "\n",
        "## 🔹 1. Conditional Statement Syntax\n",
        "\n",
        "### ✅ 1.1 Simple `if` Statement\n",
        "\n",
        "```python\n",
        "if condition:\n",
        "    # code runs only if the condition is True. It is the body of if statement\n",
        "```\n",
        "\n",
        "### ✅ 1.2 `if … else` Statement\n",
        "\n",
        "```python\n",
        "if condition:\n",
        "    # runs when condition is True\n",
        "else:\n",
        "    # runs when condition is False\n",
        "```\n",
        "\n",
        "### ✅ 1.3 `if … elif … else` Chain\n",
        "\n",
        "```python\n",
        "if condition1:\n",
        "    # runs when condition1 is True\n",
        "elif condition2:\n",
        "    # runs when condition1 is False and condition2 is True\n",
        "# (you can add more elif blocks)\n",
        "else:\n",
        "    # runs when none of the above conditions are True\n",
        "```\n",
        "\n",
        "---\n",
        "\n",
        "## 🔹 2. What Makes a Condition True or False?\n",
        "\n",
        "In Python, conditions in `if` statements are **evaluated as either**:\n",
        "\n",
        "* ✅ **Truthy** → Treated as `True`\n",
        "* ❌ **Falsy** → Treated as `False`\n",
        "\n",
        "---\n",
        "\n",
        "## ✅ 3. Truthy Values in Python\n",
        "\n",
        "These values are considered `True` in conditionals:\n",
        "\n",
        "```python\n",
        "1, -1, 3.14           # Non-zero numbers\n",
        "\"hello\"               # Non-empty string\n",
        "[1, 2], (3,), {4:5}   # Non-empty lists, tuples, dictionaries\n",
        "True                  # Boolean True\n",
        "object()              # Any valid object\n",
        "```\n",
        "\n",
        "---\n",
        "\n",
        "## ❌ 4. Falsy Values in Python\n",
        "\n",
        "These values are considered `False`:\n",
        "\n",
        "```python\n",
        "None                 # Null value\n",
        "0, 0.0               # Zero (int or float)\n",
        "\"\"                   # Empty string\n",
        "[]                   # Empty list\n",
        "()                   # Empty tuple\n",
        "{}                   # Empty dictionary\n",
        "False                # Boolean False\n",
        "set(), range(0)      # Empty set or empty range\n",
        "```\n",
        "\n",
        "---\n",
        "\n",
        "## 🧮 5. Types of Conditions You Can Use\n",
        "\n",
        "Python allows **different types of expressions** in conditions:\n",
        "\n",
        "### 🔸 5.1 Using Truthy/Falsy Values\n",
        "\n",
        "```python\n",
        "name = \"Ali\"\n",
        "\n",
        "if name:\n",
        "    print(\"You entered a name!\")  # Executes because name is non-empty (truthy)\n",
        "```\n",
        "\n",
        "### 🔸 5.2 Using Relational Operators\n",
        "\n",
        "```python\n",
        "age = 18\n",
        "\n",
        "if age >= 18:\n",
        "    print(\"You are an adult.\")\n",
        "```\n",
        "\n",
        "| Operator | Meaning               | Example    |\n",
        "| -------- | --------------------- | ---------- |\n",
        "| `==`     | Equal to              | `x == 10`  |\n",
        "| `!=`     | Not equal to          | `x != 5`   |\n",
        "| `<`      | Less than             | `x < 20`   |\n",
        "| `>`      | Greater than          | `x > 3`    |\n",
        "| `<=`     | Less than or equal    | `x <= 100` |\n",
        "| `>=`     | Greater than or equal | `x >= 50`  |\n",
        "\n",
        "### 🔸 5.3 Using Logical Operators\n",
        "\n",
        "You can combine multiple conditions using:\n",
        "\n",
        "| Operator | Meaning                     | Example                       |\n",
        "| -------- | --------------------------- | ----------------------------- |\n",
        "| `and`    | All conditions must be True | `x > 10 and x < 20`           |\n",
        "| `or`     | At least one must be True   | `x < 5 or x > 15`             |\n",
        "| `not`    | Reverses condition          | `not x > 10` (True if x ≤ 10) |\n",
        "\n",
        "```python\n",
        "x = 15\n",
        "\n",
        "if x > 10 and x < 20:\n",
        "    print(\"x is between 10 and 20\")\n",
        "```\n",
        "\n",
        "---\n",
        "\n",
        "## 🎯 Summary\n",
        "\n",
        "* ✅ **Use `if`, `elif`, and `else`** to run code conditionally.\n",
        "* 🔍 **Conditions** can be:\n",
        "\n",
        "  * Truthy/falsy values\n",
        "  * Relational comparisons\n",
        "  * Logical combinations (`and`, `or`, `not`)\n",
        "* ⚠️ **Empty or zero values** are falsy. Non-empty, non-zero values are truthy.\n",
        "\n",
        "---\n",
        "\n"
      ],
      "metadata": {
        "id": "h6Nu_L6hmpiE"
      }
    },
    {
      "cell_type": "markdown",
      "source": [
        "Key points\n",
        "\n",
        "A colon (:) ends each if, elif, or else line.\n",
        "\n",
        "The indented block that follows (usually 4 spaces) is what executes when the test is True.\n",
        "\n",
        "elif lets you check additional conditions in sequence; else is optional and catches all remaining cases."
      ],
      "metadata": {
        "id": "xazyT9ZsSUqO"
      }
    },
    {
      "cell_type": "markdown",
      "source": [
        "# Conditional Statements in Python\n",
        "\n",
        "## Making Decisions in Code\n",
        "\n",
        "Imagine you’re creating an app that suggests activities based on the weather. If it’s sunny, it suggests a walk. If it’s rainy, it recommends reading a book indoors. But what about cloudy or snowy days? How can your app know what to do in each situation?\n",
        "\n",
        "This is where **conditional statements** come in—they help your code make decisions.\n",
        "\n",
        "## What Are Conditional Statements?\n",
        "\n",
        "Conditional statements in Python are like traffic signals for your code. They guide it to take the right path depending on the situation. Python uses three main tools for this:\n",
        "\n",
        "- **`if`**: Check if a condition is true.\n",
        "- **`elif`**: Check other conditions if the first isn’t true.\n",
        "- **`else`**: Provide a fallback if none of the conditions are true.\n",
        "\n",
        "By combining these, you can make your program smart enough to handle any situation!"
      ],
      "metadata": {
        "id": "DLkfOOfvisPo"
      }
    },
    {
      "cell_type": "markdown",
      "source": [
        "### **1. `if` Statement:**  \n"
      ],
      "metadata": {
        "id": "VA-DX_sG5jA9"
      }
    },
    {
      "cell_type": "code",
      "execution_count": 22,
      "metadata": {
        "id": "DhqUCYNo7Jfq"
      },
      "outputs": [],
      "source": [
        "weather = \"sunny\"\n",
        "\n",
        "if weather == \"Sunny\":\n",
        "    print(\"It's a beautiful day! Go for a walk.\")\n"
      ]
    },
    {
      "cell_type": "markdown",
      "source": [
        "### **2. Adding `else`:**  \n",
        "The `else` block provides a fallback if the `if` condition is `False`.\n"
      ],
      "metadata": {
        "id": "IbT3V92ci7Ln"
      }
    },
    {
      "cell_type": "code",
      "source": [
        "weather = \"sunny\"\n",
        "if 0:\n",
        "    print(\"It's a beautiful day! Go for a walk.\")\n",
        "else:\n",
        "    print(\"Stay indoors and read a book.\")\n"
      ],
      "metadata": {
        "id": "Al9Lm4N2i9EE",
        "colab": {
          "base_uri": "https://localhost:8080/"
        },
        "outputId": "69594cc0-f844-4c4a-a076-54948ce99d55"
      },
      "execution_count": 23,
      "outputs": [
        {
          "output_type": "stream",
          "name": "stdout",
          "text": [
            "Stay indoors and read a book.\n"
          ]
        }
      ]
    },
    {
      "cell_type": "markdown",
      "source": [
        "\n",
        "### **3. The Ternary Operator**:  \n",
        "For concise `if-else` logic, use the ternary operator.\n"
      ],
      "metadata": {
        "id": "kVpABWZNlDZn"
      }
    },
    {
      "cell_type": "code",
      "source": [
        "weather = input(\"Enter the weather: \")\n",
        "message = \"Go for a walk.\" if weather == \"sunny\" else \"Read a book.\"\n",
        "print(message)\n"
      ],
      "metadata": {
        "id": "9LX9FqX6lE6u",
        "colab": {
          "base_uri": "https://localhost:8080/"
        },
        "outputId": "f13139d4-5490-4daf-8cc6-f5eb95a4d485"
      },
      "execution_count": 24,
      "outputs": [
        {
          "output_type": "stream",
          "name": "stdout",
          "text": [
            "Enter the weather: Sunny\n",
            "Read a book.\n"
          ]
        }
      ]
    },
    {
      "cell_type": "code",
      "source": [
        "weather = input(\"what is the weather? you have choices are sunny or cold: \")\n",
        "if weather == \"sunny\":\n",
        "  print(\"Go for a walk\")\n",
        "else:\n",
        "  print(\"Read a book\")"
      ],
      "metadata": {
        "id": "1NPhFGfez0t1",
        "colab": {
          "base_uri": "https://localhost:8080/"
        },
        "outputId": "55acd004-f99c-4bb3-cebd-0d945a73fcae"
      },
      "execution_count": 25,
      "outputs": [
        {
          "output_type": "stream",
          "name": "stdout",
          "text": [
            "what is the weather? you have choices are sunny or cold: sunny\n",
            "Go for a walk\n"
          ]
        }
      ]
    },
    {
      "cell_type": "markdown",
      "source": [
        "### **4. The `elif` Statement**:  \n",
        "Use `elif` for multiple conditions.\n"
      ],
      "metadata": {
        "id": "YpHc1etxlcao"
      }
    },
    {
      "cell_type": "code",
      "source": [
        "weather = input(\"Enter the weather: \")\n",
        "if weather == \"cold\":\n",
        "  print(\"stay at home\")\n",
        "elif weather == \"sunny\":\n",
        "  print(\"Go for walk\")\n",
        "elif weather == \"rainy\":\n",
        "  print(\"Pick umrella and go for walk\")\n",
        "else:\n",
        "  print(\"could not decide\")"
      ],
      "metadata": {
        "id": "Y7ntFTNnldko",
        "colab": {
          "base_uri": "https://localhost:8080/"
        },
        "outputId": "63901a8e-1461-47fe-c342-92d86074518b"
      },
      "execution_count": 26,
      "outputs": [
        {
          "output_type": "stream",
          "name": "stdout",
          "text": [
            "Enter the weather: rain\n",
            "could not decide\n"
          ]
        }
      ]
    },
    {
      "cell_type": "markdown",
      "source": [
        "## Advanced Techniques\n",
        "\n",
        "### **Nested Conditional Statements**  \n",
        "Nest conditions for more complex decision-making.\n"
      ],
      "metadata": {
        "id": "mJusl5bjl_LH"
      }
    },
    {
      "cell_type": "code",
      "source": [
        "is_member = True\n",
        "purchase_amount = 200\n",
        "\n",
        "if is_member:\n",
        "    if purchase_amount > 200:\n",
        "        print(\"You qualify for a 10% discount!\")\n",
        "    else:\n",
        "        print(\"Spend more to qualify.\")\n",
        "else:\n",
        "    print(\"Join as a member for discounts!\")"
      ],
      "metadata": {
        "id": "lLKgemn0mC1y",
        "colab": {
          "base_uri": "https://localhost:8080/"
        },
        "outputId": "69955244-ed04-40ab-e812-90257b3c7410"
      },
      "execution_count": 27,
      "outputs": [
        {
          "output_type": "stream",
          "name": "stdout",
          "text": [
            "Spend more to qualify.\n"
          ]
        }
      ]
    },
    {
      "cell_type": "markdown",
      "source": [
        "### **Independent Conditions**  \n",
        "Evaluate multiple unrelated conditions independently."
      ],
      "metadata": {
        "id": "WJOPLLgbm4-f"
      }
    },
    {
      "cell_type": "code",
      "source": [
        "lights_on = True\n",
        "doors_locked = False\n",
        "\n",
        "if lights_on:\n",
        "    print(\"Turning off the lights.\")\n",
        "if not doors_locked:\n",
        "    print(\"Locking the doors.\")\n"
      ],
      "metadata": {
        "id": "KCKoBc4Nm7tB",
        "colab": {
          "base_uri": "https://localhost:8080/"
        },
        "outputId": "eae24531-d000-4633-8451-b9b16fdec727"
      },
      "execution_count": 28,
      "outputs": [
        {
          "output_type": "stream",
          "name": "stdout",
          "text": [
            "Turning off the lights.\n",
            "Locking the doors.\n"
          ]
        }
      ]
    },
    {
      "cell_type": "markdown",
      "source": [
        "---\n",
        "\n",
        "## Why It Matters\n",
        "\n",
        "Conditional statements make code:  \n",
        "- **Dynamic:** Adapt to real-world scenarios.  \n",
        "- **Flexible:** Handle diverse inputs.  \n",
        "- **Intelligent:** Solve problems like user interaction, automation, and more.\n",
        "\n",
        "\n",
        "\n"
      ],
      "metadata": {
        "id": "QD_LjZqtnZrj"
      }
    },
    {
      "cell_type": "markdown",
      "source": [
        "---\n",
        "\n",
        "### Examples in Action"
      ],
      "metadata": {
        "id": "jxFTEs6991xe"
      }
    },
    {
      "cell_type": "markdown",
      "source": [
        "#### 📝 **1. Grading System**\n",
        "\n",
        "When you **enter your numeric score**, the program instantly gives you the **letter grade** based on the following criteria:\n",
        "\n",
        "| **Numeric Score** | **Letter Grade** |\n",
        "| ----------------- | ---------------- |\n",
        "| 90 and above      | A                |\n",
        "| 80 – 89           | B                |\n",
        "| 70 – 79           | C                |\n",
        "| Below 70          | F                |\n",
        "\n",
        "👉 **Just type your score and press Enter — the grade appears immediately!**\n",
        "\n",
        "---\n"
      ],
      "metadata": {
        "id": "-vflcUG856Bq"
      }
    },
    {
      "cell_type": "code",
      "source": [],
      "metadata": {
        "id": "QNMuJ8Q8nnSn"
      },
      "execution_count": null,
      "outputs": []
    },
    {
      "cell_type": "markdown",
      "source": [
        "#### **2. Restaurant Order System**"
      ],
      "metadata": {
        "id": "iQi7lVHIn1Pl"
      }
    },
    {
      "cell_type": "code",
      "source": [
        "meal = \"burger\"\n",
        "add_cheese = True\n",
        "\n",
        "if meal == \"burger\":\n",
        "    print(\"Burger selected.\")\n",
        "    if add_cheese:\n",
        "        print(\"Adding cheese.\")\n",
        "    else:\n",
        "        print(\"No cheese added.\")\n"
      ],
      "metadata": {
        "id": "zVUdFBJhn3BO",
        "colab": {
          "base_uri": "https://localhost:8080/"
        },
        "outputId": "ec8a1aea-654d-4bfd-a0a4-ad5b161edd22"
      },
      "execution_count": 29,
      "outputs": [
        {
          "output_type": "stream",
          "name": "stdout",
          "text": [
            "Burger selected.\n",
            "Adding cheese.\n"
          ]
        }
      ]
    },
    {
      "cell_type": "markdown",
      "source": [
        "## Takeaway\n",
        "\n",
        "Conditional statements are the backbone of decision-making in Python. Whether you need a simple `if` or complex nested logic, mastering these tools unlocks smarter, more flexible programming."
      ],
      "metadata": {
        "id": "jaljNBG_oEi9"
      }
    },
    {
      "cell_type": "markdown",
      "source": [
        "# Logical Operators in Python\n",
        "\n",
        "## Smarter Decisions in Code\n",
        "\n",
        "Imagine you're creating a game that gives rewards:\n",
        "\n",
        "- A big bonus if the player scores above 50 **and** completes the level.  \n",
        "- A small bonus if the player completes the level **or** finds a hidden item.  \n",
        "- No bonus if neither condition is met.\n",
        "\n",
        "How can your code check these conditions together? This is where **logical operators** help.\n",
        "\n",
        "### Example:\n",
        "\n",
        "\n",
        "\n",
        "\n"
      ],
      "metadata": {
        "id": "XffNkIJRtQUC"
      }
    },
    {
      "cell_type": "code",
      "source": [
        "# score\n",
        "# level_complete\n",
        "# hidden_item"
      ],
      "metadata": {
        "id": "R_I_yvFatTpr"
      },
      "execution_count": null,
      "outputs": []
    },
    {
      "cell_type": "code",
      "source": [],
      "metadata": {
        "id": "-KKlt0h06jr-"
      },
      "execution_count": null,
      "outputs": []
    },
    {
      "cell_type": "markdown",
      "source": [
        "### Logical Operators in Python -- Revision\n",
        "\n",
        "- **`and`**: All conditions must be true.  \n",
        "- **`or`**: At least one condition must be true.  \n",
        "- **`not`**: Reverses a condition (true becomes false).  \n"
      ],
      "metadata": {
        "id": "nq3cqnSuAHoF"
      }
    },
    {
      "cell_type": "markdown",
      "source": [
        "Here are the truth tables for Python's logical operators: **`and`**, **`or`**, and **`not`**.\n",
        "\n",
        "### **Truth Table for `and`**\n",
        "`and` returns `True` if **both conditions** are `True`.\n",
        "\n",
        "| Condition 1 | Condition 2 | Result (`Condition 1 and Condition 2`) |\n",
        "|-------------|-------------|-----------------------------------------|\n",
        "| `True`      | `True`      | `True`                                  |\n",
        "| `True`      | `False`     | `False`                                 |\n",
        "| `False`     | `True`      | `False`                                 |\n",
        "| `False`     | `False`     | `False`                                 |\n",
        "\n",
        "---\n",
        "\n",
        "### **Truth Table for `or`**\n",
        "`or` returns `True` if **at least one condition** is `True`.\n",
        "\n",
        "| Condition 1 | Condition 2 | Result (`Condition 1 or Condition 2`) |\n",
        "|-------------|-------------|----------------------------------------|\n",
        "| `True`      | `True`      | `True`                                 |\n",
        "| `True`      | `False`     | `True`                                 |\n",
        "| `False`     | `True`      | `True`                                 |\n",
        "| `False`     | `False`     | `False`                                |\n",
        "\n",
        "---\n",
        "\n",
        "### **Truth Table for `not`**\n",
        "`not` reverses the condition (i.e., `True` becomes `False`, and vice versa).\n",
        "\n",
        "| Condition   | Result (`not Condition`) |\n",
        "|-------------|---------------------------|\n",
        "| `True`      | `False`                   |\n",
        "| `False`     | `True`                    |\n",
        "\n",
        "---\n",
        "\n",
        "These truth tables summarize how each logical operator behaves when combining or modifying conditions."
      ],
      "metadata": {
        "id": "lKub6zA5xVw8"
      }
    },
    {
      "cell_type": "markdown",
      "source": [
        "# match-case\n",
        "\n",
        "similar to switch case but more powerful\n",
        "\n",
        "**Syntax**\n",
        "\n",
        "```python\n",
        "match subject:\n",
        "  case pattern1:\n",
        "    # pattern1 body\n",
        "  case pattern2:\n",
        "    # pattern2 body\n",
        "  case _:\n",
        "    # default body\n",
        "```"
      ],
      "metadata": {
        "id": "WIDyUTw07-bj"
      }
    },
    {
      "cell_type": "code",
      "source": [
        "num = 4\n",
        "\n",
        "match num:\n",
        "  case 1:\n",
        "    print(\"one\")\n",
        "  case 2:\n",
        "    print(\"two\")\n",
        "  case 3:\n",
        "    print(\"three\")\n",
        "  case _:\n",
        "    print(\"not found\")\n"
      ],
      "metadata": {
        "colab": {
          "base_uri": "https://localhost:8080/"
        },
        "id": "x34RU9O48Ihp",
        "outputId": "e1c9284b-6521-4009-f41a-893056647c51"
      },
      "execution_count": 32,
      "outputs": [
        {
          "output_type": "stream",
          "name": "stdout",
          "text": [
            "not found\n"
          ]
        }
      ]
    },
    {
      "cell_type": "code",
      "source": [
        "num = 0\n",
        "\n",
        "match num:\n",
        "  case x if x < 0:\n",
        "    print(\"negative\")\n",
        "  case x if x > 0:\n",
        "    print(\"positive\")\n",
        "  case x if x == 0:\n",
        "    print(\"zero\")\n"
      ],
      "metadata": {
        "colab": {
          "base_uri": "https://localhost:8080/"
        },
        "id": "LX-043x4DeaA",
        "outputId": "a3d37af0-f5de-4a24-a98b-3b801532cf53"
      },
      "execution_count": 36,
      "outputs": [
        {
          "output_type": "stream",
          "name": "stdout",
          "text": [
            "zero\n"
          ]
        }
      ]
    },
    {
      "cell_type": "markdown",
      "source": [
        "## Projects"
      ],
      "metadata": {
        "id": "LZb2mC_NLetk"
      }
    },
    {
      "cell_type": "markdown",
      "source": [
        "### Project 1: Weather Suggestion App\n",
        "Create a program that:\n",
        "- Asks the user for the current weather (e.g., sunny, rainy, cloudy).\n",
        "- Uses conditional statements to suggest an activity based on the weather.\n",
        "- First implement using `if`, `elif` and `else`\n",
        "- Then implements the ternary operator for concise decision-making.\n"
      ],
      "metadata": {
        "id": "Y4s9LUmpLg44"
      }
    },
    {
      "cell_type": "markdown",
      "source": [
        "### Project 2: Grading System\n",
        "Develop a Python program that:\n",
        "- Accepts a numerical score from the user.\n",
        "- Uses `if`, `elif`, and `else` to determine the corresponding grade (A, B, C, F).\n",
        "- Includes nested conditions for advanced grading (e.g., adding \"+\" or \"-\" to the grade based on score ranges).\n"
      ],
      "metadata": {
        "id": "B8FxjigBLhXM"
      }
    },
    {
      "cell_type": "markdown",
      "source": [
        "### Project 3: Logical Rewards System\n",
        "Write a program to simulate a game rewards system:\n",
        "- A big reward is given if the player scores more than 100 and collects all keys.\n",
        "- A small reward is given if the player collects at least one key or completes the level.\n",
        "- Use logical operators (`and`, `or`) to implement the conditions.\n"
      ],
      "metadata": {
        "id": "DtzAuwn4Lhua"
      }
    }
  ]
}
