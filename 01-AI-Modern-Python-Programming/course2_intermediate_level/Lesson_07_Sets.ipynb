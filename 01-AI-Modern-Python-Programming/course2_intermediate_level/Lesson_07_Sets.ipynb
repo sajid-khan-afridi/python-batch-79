{
  "cells": [
    {
      "cell_type": "markdown",
      "metadata": {
        "id": "KSkvco9h5n0o"
      },
      "source": [
        "# Sets, Hashing & Frozenset in Python\n",
        "\n",
        "> **Author:** Muhammad Hammad ([GitHub](https://github.com/DevHammad0))\n",
        "\n",
        "---"
      ]
    },
    {
      "cell_type": "markdown",
      "metadata": {
        "id": "yb8j5MGq5n0s"
      },
      "source": [
        "## 1. The Set Data Type\n",
        "\n",
        "A **set** in Python is a built-in data type for storing unordered collections of **unique** and **immutable** elements. Unlike lists or tuples, sets do not allow duplicates.\n",
        "\n",
        "**Key Properties:**\n",
        "- Unordered (no guaranteed order)\n",
        "- Unindexed (no positions)\n",
        "- Mutable (can add or remove items)\n",
        "- Elements must be immutable (e.g., numbers, strings, tuples)\n",
        "\n",
        "Other Python collections: `list`, `tuple`, `dict`."
      ]
    },
    {
      "cell_type": "code",
      "source": [
        "my_set = {1, 2, 3, 4, [1,2,3]}\n",
        "print(my_set)"
      ],
      "metadata": {
        "colab": {
          "base_uri": "https://localhost:8080/",
          "height": 158
        },
        "id": "67B367ts6p_s",
        "outputId": "18a39a15-75bc-42c9-89cf-dd1ae2f794e3"
      },
      "execution_count": 2,
      "outputs": [
        {
          "output_type": "error",
          "ename": "TypeError",
          "evalue": "unhashable type: 'list'",
          "traceback": [
            "\u001b[0;31m---------------------------------------------------------------------------\u001b[0m",
            "\u001b[0;31mTypeError\u001b[0m                                 Traceback (most recent call last)",
            "\u001b[0;32m<ipython-input-2-2076134372>\u001b[0m in \u001b[0;36m<cell line: 0>\u001b[0;34m()\u001b[0m\n\u001b[0;32m----> 1\u001b[0;31m \u001b[0mmy_set\u001b[0m \u001b[0;34m=\u001b[0m \u001b[0;34m{\u001b[0m\u001b[0;36m1\u001b[0m\u001b[0;34m,\u001b[0m \u001b[0;36m2\u001b[0m\u001b[0;34m,\u001b[0m \u001b[0;36m3\u001b[0m\u001b[0;34m,\u001b[0m \u001b[0;36m4\u001b[0m\u001b[0;34m,\u001b[0m \u001b[0;34m[\u001b[0m\u001b[0;36m1\u001b[0m\u001b[0;34m,\u001b[0m\u001b[0;36m2\u001b[0m\u001b[0;34m,\u001b[0m\u001b[0;36m3\u001b[0m\u001b[0;34m]\u001b[0m\u001b[0;34m}\u001b[0m\u001b[0;34m\u001b[0m\u001b[0;34m\u001b[0m\u001b[0m\n\u001b[0m\u001b[1;32m      2\u001b[0m \u001b[0mprint\u001b[0m\u001b[0;34m(\u001b[0m\u001b[0mmy_set\u001b[0m\u001b[0;34m)\u001b[0m\u001b[0;34m\u001b[0m\u001b[0;34m\u001b[0m\u001b[0m\n",
            "\u001b[0;31mTypeError\u001b[0m: unhashable type: 'list'"
          ]
        }
      ]
    },
    {
      "cell_type": "code",
      "execution_count": 3,
      "metadata": {
        "colab": {
          "base_uri": "https://localhost:8080/"
        },
        "id": "DpDxuoBR5n0t",
        "outputId": "cf0fd34a-081c-4bc8-994e-d4e48376e837"
      },
      "outputs": [
        {
          "output_type": "stream",
          "name": "stdout",
          "text": [
            "my_set: {123, 452, 5, 6}\n",
            "my_set2: {123, 452, 5, 6}\n",
            "type(unknown): <class 'dict'>\n",
            "type(empty_set): <class 'set'>\n",
            "my_set == my_set2: True\n"
          ]
        }
      ],
      "source": [
        "# Creating sets\n",
        "my_set = {123, 452, 5, 6}\n",
        "my_set2 = set([123, 452, 5, 6])\n",
        "unknown = {}           # This creates an empty dict, not a set!\n",
        "empty_set = set()      # Correct way to create an empty set\n",
        "\n",
        "print(\"my_set:\", my_set)\n",
        "print(\"my_set2:\", my_set2)\n",
        "print(\"type(unknown):\", type(unknown))\n",
        "print(\"type(empty_set):\", type(empty_set))\n",
        "print(\"my_set == my_set2:\", my_set == my_set2)"
      ]
    },
    {
      "cell_type": "code",
      "source": [
        "print(\"id of my_set\",id(my_set))\n",
        "print(\"id of my_set2\",id(my_set2))"
      ],
      "metadata": {
        "colab": {
          "base_uri": "https://localhost:8080/"
        },
        "id": "ss8AQXhb8GQb",
        "outputId": "5b90dfc6-2a1e-4fb8-bf7e-896d6e761a21"
      },
      "execution_count": 4,
      "outputs": [
        {
          "output_type": "stream",
          "name": "stdout",
          "text": [
            "id of my_set 135546145367072\n",
            "id of my_set2 135546145367296\n"
          ]
        }
      ]
    },
    {
      "cell_type": "markdown",
      "metadata": {
        "id": "jdc37vYe5n0v"
      },
      "source": [
        "## 1.1 Sets Only Hold Immutable Objects\n",
        "\n",
        "You can only store immutable (hashable) elements in a set. Lists or dictionaries are not allowed as set elements."
      ]
    },
    {
      "cell_type": "code",
      "execution_count": 5,
      "metadata": {
        "colab": {
          "base_uri": "https://localhost:8080/",
          "height": 193
        },
        "id": "KYh-XbdI5n0v",
        "outputId": "cc641eb5-bd30-4042-ebb8-e02e099e0211"
      },
      "outputs": [
        {
          "output_type": "error",
          "ename": "TypeError",
          "evalue": "unhashable type: 'list'",
          "traceback": [
            "\u001b[0;31m---------------------------------------------------------------------------\u001b[0m",
            "\u001b[0;31mTypeError\u001b[0m                                 Traceback (most recent call last)",
            "\u001b[0;32m<ipython-input-5-2416521456>\u001b[0m in \u001b[0;36m<cell line: 0>\u001b[0;34m()\u001b[0m\n\u001b[1;32m      1\u001b[0m \u001b[0;31m# Attempting to put a list in a set raises an error\u001b[0m\u001b[0;34m\u001b[0m\u001b[0;34m\u001b[0m\u001b[0m\n\u001b[1;32m      2\u001b[0m \u001b[0;34m\u001b[0m\u001b[0m\n\u001b[0;32m----> 3\u001b[0;31m \u001b[0mmy_set\u001b[0m \u001b[0;34m=\u001b[0m \u001b[0;34m{\u001b[0m\u001b[0;34m[\u001b[0m\u001b[0;36m123\u001b[0m\u001b[0;34m,\u001b[0m \u001b[0;36m452\u001b[0m\u001b[0;34m,\u001b[0m \u001b[0;36m5\u001b[0m\u001b[0;34m,\u001b[0m \u001b[0;36m6\u001b[0m\u001b[0;34m]\u001b[0m\u001b[0;34m}\u001b[0m\u001b[0;34m\u001b[0m\u001b[0;34m\u001b[0m\u001b[0m\n\u001b[0m\u001b[1;32m      4\u001b[0m \u001b[0mprint\u001b[0m\u001b[0;34m(\u001b[0m\u001b[0mmy_set\u001b[0m\u001b[0;34m)\u001b[0m\u001b[0;34m\u001b[0m\u001b[0;34m\u001b[0m\u001b[0m\n",
            "\u001b[0;31mTypeError\u001b[0m: unhashable type: 'list'"
          ]
        }
      ],
      "source": [
        "# Attempting to put a list in a set raises an error\n",
        "\n",
        "my_set = {[123, 452, 5, 6]}\n",
        "print(my_set)"
      ]
    },
    {
      "cell_type": "markdown",
      "metadata": {
        "id": "nOTDyvcM5n0w"
      },
      "source": [
        "## 1.2 Sets Can Hold Multiple Data Types\n",
        "\n",
        "As long as the elements are immutable, you can mix types!"
      ]
    },
    {
      "cell_type": "code",
      "execution_count": 6,
      "metadata": {
        "colab": {
          "base_uri": "https://localhost:8080/"
        },
        "id": "2Rec9rHj5n0x",
        "outputId": "3d184cb3-5764-4ee7-a3a0-64f11146d850"
      },
      "outputs": [
        {
          "output_type": "stream",
          "name": "stdout",
          "text": [
            "{False, True, (1, 5, 9, 'hi'), 7, 'Hello! World', 9.0}\n"
          ]
        }
      ],
      "source": [
        "multi_type_set = {7, 9.0, False, True, \"Hello! World\", (1, 5, 9, 'hi')}\n",
        "print(multi_type_set)# unordered"
      ]
    },
    {
      "cell_type": "markdown",
      "metadata": {
        "id": "e64_gNGt5n0x"
      },
      "source": [
        "## 1.3 Sets are Unordered\n",
        "\n",
        "Order is not preserved and can change as elements are added/removed."
      ]
    },
    {
      "cell_type": "code",
      "execution_count": 7,
      "metadata": {
        "colab": {
          "base_uri": "https://localhost:8080/"
        },
        "id": "VdtjMZ6P5n0y",
        "outputId": "7f1f766d-51fb-4e32-9115-eacfebf46006"
      },
      "outputs": [
        {
          "output_type": "stream",
          "name": "stdout",
          "text": [
            "{'Java', 'Python', 'JavaScript', 'java'}\n"
          ]
        }
      ],
      "source": [
        "set2 = {'Java', 'Python', 'JavaScript', 'java'}\n",
        "print(set2)"
      ]
    },
    {
      "cell_type": "markdown",
      "metadata": {
        "id": "ugKTsT4F5n0y"
      },
      "source": [
        "> Internally, Python stores set elements by their hash values. The order is not predictable or stable.\n",
        "---"
      ]
    },
    {
      "cell_type": "markdown",
      "metadata": {
        "id": "wJps_kXi5n0z"
      },
      "source": [
        "## 1.4 Sets Cannot Be Changed by Index\n",
        "\n",
        "You cannot modify set items by index. You can only add or remove elements."
      ]
    },
    {
      "cell_type": "code",
      "execution_count": 13,
      "metadata": {
        "colab": {
          "base_uri": "https://localhost:8080/",
          "height": 193
        },
        "id": "mP8reRZS5n0z",
        "outputId": "7a426f81-837d-417e-a15e-c22c6c5a8d35"
      },
      "outputs": [
        {
          "output_type": "stream",
          "name": "stdout",
          "text": [
            "{1, 2, 3, 4, 5}\n"
          ]
        },
        {
          "output_type": "error",
          "ename": "TypeError",
          "evalue": "'set' object does not support item assignment",
          "traceback": [
            "\u001b[0;31m---------------------------------------------------------------------------\u001b[0m",
            "\u001b[0;31mTypeError\u001b[0m                                 Traceback (most recent call last)",
            "\u001b[0;32m<ipython-input-13-3770480664>\u001b[0m in \u001b[0;36m<cell line: 0>\u001b[0;34m()\u001b[0m\n\u001b[1;32m      2\u001b[0m \u001b[0mprint\u001b[0m\u001b[0;34m(\u001b[0m\u001b[0mmy_set\u001b[0m\u001b[0;34m)\u001b[0m\u001b[0;34m\u001b[0m\u001b[0;34m\u001b[0m\u001b[0m\n\u001b[1;32m      3\u001b[0m \u001b[0;34m\u001b[0m\u001b[0m\n\u001b[0;32m----> 4\u001b[0;31m \u001b[0mmy_set\u001b[0m\u001b[0;34m[\u001b[0m\u001b[0;36m0\u001b[0m\u001b[0;34m]\u001b[0m \u001b[0;34m=\u001b[0m \u001b[0;36m10\u001b[0m\u001b[0;34m\u001b[0m\u001b[0;34m\u001b[0m\u001b[0m\n\u001b[0m",
            "\u001b[0;31mTypeError\u001b[0m: 'set' object does not support item assignment"
          ]
        }
      ],
      "source": [
        "my_set = {1, 2, 3, 4, 5}\n",
        "print(my_set)\n",
        "\n",
        "my_set[0] = 10\n"
      ]
    },
    {
      "cell_type": "markdown",
      "metadata": {
        "id": "AmSjn1db5n00"
      },
      "source": [
        "### Add, Remove and Update Elements"
      ]
    },
    {
      "cell_type": "code",
      "source": [
        "print(my_set)"
      ],
      "metadata": {
        "colab": {
          "base_uri": "https://localhost:8080/"
        },
        "id": "rD_tpZA69F0-",
        "outputId": "4d09ec86-8da5-433e-fc2f-0dca41343c10"
      },
      "execution_count": 14,
      "outputs": [
        {
          "output_type": "stream",
          "name": "stdout",
          "text": [
            "{1, 2, 3, 4, 5}\n"
          ]
        }
      ]
    },
    {
      "cell_type": "code",
      "source": [
        "my_set.add(6)  # Add element\n",
        "print(\"Added 6:\", my_set)"
      ],
      "metadata": {
        "colab": {
          "base_uri": "https://localhost:8080/"
        },
        "id": "ldyhUwr--B5k",
        "outputId": "0583b1f7-8747-4d56-d0b1-2f8f3eeb2beb"
      },
      "execution_count": 15,
      "outputs": [
        {
          "output_type": "stream",
          "name": "stdout",
          "text": [
            "Added 6: {1, 2, 3, 4, 5, 6}\n"
          ]
        }
      ]
    },
    {
      "cell_type": "code",
      "source": [
        "my_set.remove(3)  # Remove element (raises error if not present)\n",
        "print(\"Removed 3:\", my_set)"
      ],
      "metadata": {
        "colab": {
          "base_uri": "https://localhost:8080/"
        },
        "id": "F1qFcFNa-GhO",
        "outputId": "ae3f12fc-bdc8-47ae-ace9-7c7ea6461758"
      },
      "execution_count": 16,
      "outputs": [
        {
          "output_type": "stream",
          "name": "stdout",
          "text": [
            "Removed 3: {1, 2, 4, 5, 6}\n"
          ]
        }
      ]
    },
    {
      "cell_type": "code",
      "source": [
        "my_set.discard('A')  # Discard (no error if not present)\n",
        "print(\"Discarded 'A':\", my_set)"
      ],
      "metadata": {
        "colab": {
          "base_uri": "https://localhost:8080/"
        },
        "id": "lAZmZiF--UPc",
        "outputId": "019ff5d5-2d3b-4ba3-c757-4d46544d6f19"
      },
      "execution_count": 17,
      "outputs": [
        {
          "output_type": "stream",
          "name": "stdout",
          "text": [
            "Discarded 'A': {1, 2, 4, 5, 6}\n"
          ]
        }
      ]
    },
    {
      "cell_type": "code",
      "source": [
        "my_set.update([7, 8, 9, \"Hello\"])   # Add multiple items\n",
        "print(\"Added multiple:\", my_set)"
      ],
      "metadata": {
        "colab": {
          "base_uri": "https://localhost:8080/"
        },
        "id": "27PiggBg-YMb",
        "outputId": "0598b057-591f-4c0a-9a45-6ef35bf55aad"
      },
      "execution_count": 18,
      "outputs": [
        {
          "output_type": "stream",
          "name": "stdout",
          "text": [
            "Added multiple: {1, 2, 4, 5, 6, 7, 8, 9, 'Hello'}\n"
          ]
        }
      ]
    },
    {
      "cell_type": "code",
      "source": [
        "my_set.difference_update({8, 9, \"Hello\"})   # Remove multiple elements at once\n",
        "print(\"Removed multiple:\", my_set)"
      ],
      "metadata": {
        "colab": {
          "base_uri": "https://localhost:8080/"
        },
        "id": "QrdLPVty-frW",
        "outputId": "73843313-8676-425d-8c48-ef37314c9bef"
      },
      "execution_count": 19,
      "outputs": [
        {
          "output_type": "stream",
          "name": "stdout",
          "text": [
            "Removed multiple: {1, 2, 4, 5, 6, 7}\n"
          ]
        }
      ]
    },
    {
      "cell_type": "markdown",
      "metadata": {
        "id": "mh49Uhsx5n00"
      },
      "source": [
        "### Set Union\n",
        "\n",
        "Combine two sets using `union()` or the `|` operator."
      ]
    },
    {
      "cell_type": "code",
      "execution_count": 20,
      "metadata": {
        "colab": {
          "base_uri": "https://localhost:8080/"
        },
        "id": "hfCVnGHi5n01",
        "outputId": "eb13d5ae-59bc-45b8-dc5b-85362cf68e70"
      },
      "outputs": [
        {
          "output_type": "stream",
          "name": "stdout",
          "text": [
            "Using union() method: {1, 2, 3, 5, 6, 7}\n",
            "Using | operator: {1, 2, 3, 5, 6, 7}\n"
          ]
        }
      ],
      "source": [
        "set1 = {1, 2, 3, 5}\n",
        "set2 = {1, 5, 6, 7}\n",
        "print(\"Using union() method:\", set1.union(set2))\n",
        "print(\"Using | operator:\", set1 | set2)"
      ]
    },
    {
      "cell_type": "markdown",
      "metadata": {
        "id": "q8vebODU5n01"
      },
      "source": [
        "**Note:** Sets always store unique elements. Adding a duplicate does nothing."
      ]
    },
    {
      "cell_type": "code",
      "execution_count": 21,
      "metadata": {
        "colab": {
          "base_uri": "https://localhost:8080/"
        },
        "id": "s8SqOC5w5n01",
        "outputId": "caa85c6e-b643-4cf6-bdef-d2b30417a9dc"
      },
      "outputs": [
        {
          "output_type": "stream",
          "name": "stdout",
          "text": [
            "{1, 2, 3, 4, 5, 'Hello! World'}\n"
          ]
        }
      ],
      "source": [
        "my_set = {1, 2, 3, 4, 5, \"Hello! World\"}\n",
        "my_set.add(2)\n",
        "my_set.add(\"Hello! World\")\n",
        "print(my_set)"
      ]
    },
    {
      "cell_type": "markdown",
      "metadata": {
        "id": "QOllF5JW5n02"
      },
      "source": [
        "### Remove vs Discard\n",
        "\n",
        "- `remove(x)`: Removes x, raises KeyError if missing\n",
        "- `discard(x)`: Removes x if present, does nothing if missing"
      ]
    },
    {
      "cell_type": "code",
      "execution_count": 23,
      "metadata": {
        "colab": {
          "base_uri": "https://localhost:8080/"
        },
        "id": "dDRqkKMd5n02",
        "outputId": "8a119efe-c813-4227-f6ab-594e661b2d51"
      },
      "outputs": [
        {
          "output_type": "stream",
          "name": "stdout",
          "text": [
            "{1, 2, 3}\n"
          ]
        }
      ],
      "source": [
        "my_set = {1, 2, 3}\n",
        "\n",
        "# my_set.remove(4)    # Raises KeyError\n",
        "\n",
        "my_set.discard(4)  # No error\n",
        "print(my_set)"
      ]
    },
    {
      "cell_type": "markdown",
      "metadata": {
        "id": "CngRtVC15n03"
      },
      "source": [
        "### Pop Method\n",
        "\n",
        "Removes and returns an arbitrary element."
      ]
    },
    {
      "cell_type": "code",
      "execution_count": 24,
      "metadata": {
        "colab": {
          "base_uri": "https://localhost:8080/"
        },
        "id": "vQfOBiA35n03",
        "outputId": "a0db487c-b487-49f7-8eea-618890a1ab95"
      },
      "outputs": [
        {
          "output_type": "stream",
          "name": "stdout",
          "text": [
            "Before pop: {1, 2, 3}\n",
            "Popped value: 1\n",
            "After pop: {2, 3}\n"
          ]
        }
      ],
      "source": [
        "my_set = {1, 2, 3}\n",
        "print(\"Before pop:\", my_set)\n",
        "removed = my_set.pop()\n",
        "print(\"Popped value:\", removed)\n",
        "print(\"After pop:\", my_set)"
      ]
    },
    {
      "cell_type": "markdown",
      "metadata": {
        "id": "KtIBtkiG5n03"
      },
      "source": [
        "### Set All Methods"
      ]
    },
    {
      "cell_type": "code",
      "execution_count": 25,
      "metadata": {
        "colab": {
          "base_uri": "https://localhost:8080/"
        },
        "id": "XlwY695y5n03",
        "outputId": "934da425-ebac-4126-c1d5-5415b49b841c"
      },
      "outputs": [
        {
          "output_type": "execute_result",
          "data": {
            "text/plain": [
              "['add',\n",
              " 'clear',\n",
              " 'copy',\n",
              " 'difference',\n",
              " 'difference_update',\n",
              " 'discard',\n",
              " 'intersection',\n",
              " 'intersection_update',\n",
              " 'isdisjoint',\n",
              " 'issubset',\n",
              " 'issuperset',\n",
              " 'pop',\n",
              " 'remove',\n",
              " 'symmetric_difference',\n",
              " 'symmetric_difference_update',\n",
              " 'union',\n",
              " 'update']"
            ]
          },
          "metadata": {},
          "execution_count": 25
        }
      ],
      "source": [
        "[i for i in dir(my_set) if not i.startswith('__')]"
      ]
    },
    {
      "cell_type": "code",
      "source": [
        "my_set = {1, 2, 3, 4, 5}\n",
        "print(my_set)"
      ],
      "metadata": {
        "colab": {
          "base_uri": "https://localhost:8080/"
        },
        "id": "l19RAxxmCZub",
        "outputId": "8a96cf39-3551-4839-c279-cc9adc416c6c"
      },
      "execution_count": 4,
      "outputs": [
        {
          "output_type": "stream",
          "name": "stdout",
          "text": [
            "{1, 2, 3, 4, 5}\n"
          ]
        }
      ]
    },
    {
      "cell_type": "code",
      "source": [
        "dir(my_set)"
      ],
      "metadata": {
        "colab": {
          "base_uri": "https://localhost:8080/"
        },
        "id": "pfYwi84iCXHu",
        "outputId": "14ed5167-7d10-40dd-d445-9a92ec91632f"
      },
      "execution_count": 5,
      "outputs": [
        {
          "output_type": "execute_result",
          "data": {
            "text/plain": [
              "['__and__',\n",
              " '__class__',\n",
              " '__class_getitem__',\n",
              " '__contains__',\n",
              " '__delattr__',\n",
              " '__dir__',\n",
              " '__doc__',\n",
              " '__eq__',\n",
              " '__format__',\n",
              " '__ge__',\n",
              " '__getattribute__',\n",
              " '__getstate__',\n",
              " '__gt__',\n",
              " '__hash__',\n",
              " '__iand__',\n",
              " '__init__',\n",
              " '__init_subclass__',\n",
              " '__ior__',\n",
              " '__isub__',\n",
              " '__iter__',\n",
              " '__ixor__',\n",
              " '__le__',\n",
              " '__len__',\n",
              " '__lt__',\n",
              " '__ne__',\n",
              " '__new__',\n",
              " '__or__',\n",
              " '__rand__',\n",
              " '__reduce__',\n",
              " '__reduce_ex__',\n",
              " '__repr__',\n",
              " '__ror__',\n",
              " '__rsub__',\n",
              " '__rxor__',\n",
              " '__setattr__',\n",
              " '__sizeof__',\n",
              " '__str__',\n",
              " '__sub__',\n",
              " '__subclasshook__',\n",
              " '__xor__',\n",
              " 'add',\n",
              " 'clear',\n",
              " 'copy',\n",
              " 'difference',\n",
              " 'difference_update',\n",
              " 'discard',\n",
              " 'intersection',\n",
              " 'intersection_update',\n",
              " 'isdisjoint',\n",
              " 'issubset',\n",
              " 'issuperset',\n",
              " 'pop',\n",
              " 'remove',\n",
              " 'symmetric_difference',\n",
              " 'symmetric_difference_update',\n",
              " 'union',\n",
              " 'update']"
            ]
          },
          "metadata": {},
          "execution_count": 5
        }
      ]
    },
    {
      "cell_type": "code",
      "source": [
        "my_list = [1, 2, 3, 4, 5]\n",
        "print(my_list)"
      ],
      "metadata": {
        "colab": {
          "base_uri": "https://localhost:8080/"
        },
        "id": "6HQMUudLET2L",
        "outputId": "cc064795-6a19-411f-fd3b-826172412dd6"
      },
      "execution_count": 6,
      "outputs": [
        {
          "output_type": "stream",
          "name": "stdout",
          "text": [
            "[1, 2, 3, 4, 5]\n"
          ]
        }
      ]
    },
    {
      "cell_type": "code",
      "source": [
        "dir(my_list)"
      ],
      "metadata": {
        "colab": {
          "base_uri": "https://localhost:8080/"
        },
        "id": "c3rGVO_oEZYi",
        "outputId": "018f6be8-2057-4245-cab2-05885a625840"
      },
      "execution_count": 7,
      "outputs": [
        {
          "output_type": "execute_result",
          "data": {
            "text/plain": [
              "['__add__',\n",
              " '__class__',\n",
              " '__class_getitem__',\n",
              " '__contains__',\n",
              " '__delattr__',\n",
              " '__delitem__',\n",
              " '__dir__',\n",
              " '__doc__',\n",
              " '__eq__',\n",
              " '__format__',\n",
              " '__ge__',\n",
              " '__getattribute__',\n",
              " '__getitem__',\n",
              " '__getstate__',\n",
              " '__gt__',\n",
              " '__hash__',\n",
              " '__iadd__',\n",
              " '__imul__',\n",
              " '__init__',\n",
              " '__init_subclass__',\n",
              " '__iter__',\n",
              " '__le__',\n",
              " '__len__',\n",
              " '__lt__',\n",
              " '__mul__',\n",
              " '__ne__',\n",
              " '__new__',\n",
              " '__reduce__',\n",
              " '__reduce_ex__',\n",
              " '__repr__',\n",
              " '__reversed__',\n",
              " '__rmul__',\n",
              " '__setattr__',\n",
              " '__setitem__',\n",
              " '__sizeof__',\n",
              " '__str__',\n",
              " '__subclasshook__',\n",
              " 'append',\n",
              " 'clear',\n",
              " 'copy',\n",
              " 'count',\n",
              " 'extend',\n",
              " 'index',\n",
              " 'insert',\n",
              " 'pop',\n",
              " 'remove',\n",
              " 'reverse',\n",
              " 'sort']"
            ]
          },
          "metadata": {},
          "execution_count": 7
        }
      ]
    },
    {
      "cell_type": "code",
      "source": [
        "hash(my_list)"
      ],
      "metadata": {
        "colab": {
          "base_uri": "https://localhost:8080/",
          "height": 141
        },
        "id": "5J6CRQDbErUj",
        "outputId": "b089a261-35eb-4c21-8fbb-ba9d7da3a688"
      },
      "execution_count": 8,
      "outputs": [
        {
          "output_type": "error",
          "ename": "TypeError",
          "evalue": "unhashable type: 'list'",
          "traceback": [
            "\u001b[0;31m---------------------------------------------------------------------------\u001b[0m",
            "\u001b[0;31mTypeError\u001b[0m                                 Traceback (most recent call last)",
            "\u001b[0;32m<ipython-input-8-3311286619>\u001b[0m in \u001b[0;36m<cell line: 0>\u001b[0;34m()\u001b[0m\n\u001b[0;32m----> 1\u001b[0;31m \u001b[0mhash\u001b[0m\u001b[0;34m(\u001b[0m\u001b[0mmy_list\u001b[0m\u001b[0;34m)\u001b[0m\u001b[0;34m\u001b[0m\u001b[0;34m\u001b[0m\u001b[0m\n\u001b[0m",
            "\u001b[0;31mTypeError\u001b[0m: unhashable type: 'list'"
          ]
        }
      ]
    },
    {
      "cell_type": "code",
      "source": [
        "hash(my_set)"
      ],
      "metadata": {
        "colab": {
          "base_uri": "https://localhost:8080/",
          "height": 141
        },
        "id": "ns_GSZUgEuw1",
        "outputId": "5a775624-ac4d-4b60-b63e-fceb002d4f31"
      },
      "execution_count": 9,
      "outputs": [
        {
          "output_type": "error",
          "ename": "TypeError",
          "evalue": "unhashable type: 'set'",
          "traceback": [
            "\u001b[0;31m---------------------------------------------------------------------------\u001b[0m",
            "\u001b[0;31mTypeError\u001b[0m                                 Traceback (most recent call last)",
            "\u001b[0;32m<ipython-input-9-1477886918>\u001b[0m in \u001b[0;36m<cell line: 0>\u001b[0;34m()\u001b[0m\n\u001b[0;32m----> 1\u001b[0;31m \u001b[0mhash\u001b[0m\u001b[0;34m(\u001b[0m\u001b[0mmy_set\u001b[0m\u001b[0;34m)\u001b[0m\u001b[0;34m\u001b[0m\u001b[0;34m\u001b[0m\u001b[0m\n\u001b[0m",
            "\u001b[0;31mTypeError\u001b[0m: unhashable type: 'set'"
          ]
        }
      ]
    },
    {
      "cell_type": "code",
      "source": [
        "help(set.discard)"
      ],
      "metadata": {
        "colab": {
          "base_uri": "https://localhost:8080/"
        },
        "id": "7iVQ6pCvAbhX",
        "outputId": "15f4474d-b1fa-4330-d61d-8727c8b8c96f"
      },
      "execution_count": 28,
      "outputs": [
        {
          "output_type": "stream",
          "name": "stdout",
          "text": [
            "Help on method_descriptor:\n",
            "\n",
            "discard(...) unbound builtins.set method\n",
            "    Remove an element from a set if it is a member.\n",
            "    \n",
            "    Unlike set.remove(), the discard() method does not raise\n",
            "    an exception when an element is missing from the set.\n",
            "\n"
          ]
        }
      ]
    },
    {
      "cell_type": "code",
      "source": [
        "my_tuple = (1,2,3)"
      ],
      "metadata": {
        "id": "F5MMq-VjA8xs"
      },
      "execution_count": 2,
      "outputs": []
    },
    {
      "cell_type": "code",
      "source": [
        "hash(my_tuple)"
      ],
      "metadata": {
        "colab": {
          "base_uri": "https://localhost:8080/"
        },
        "id": "neD_O0xdCLZo",
        "outputId": "79a3e99d-6acd-466b-ca4d-0096e69836b0"
      },
      "execution_count": 3,
      "outputs": [
        {
          "output_type": "execute_result",
          "data": {
            "text/plain": [
              "529344067295497451"
            ]
          },
          "metadata": {},
          "execution_count": 3
        }
      ]
    },
    {
      "cell_type": "code",
      "source": [
        "x =5\n",
        "hash(x)"
      ],
      "metadata": {
        "colab": {
          "base_uri": "https://localhost:8080/"
        },
        "id": "rCwWxlITFQ3T",
        "outputId": "536ac779-8418-44be-c167-9596404c971d"
      },
      "execution_count": 10,
      "outputs": [
        {
          "output_type": "execute_result",
          "data": {
            "text/plain": [
              "5"
            ]
          },
          "metadata": {},
          "execution_count": 10
        }
      ]
    },
    {
      "cell_type": "markdown",
      "metadata": {
        "id": "21efhuk35n04"
      },
      "source": [
        "# 2. What is Hashing?\n",
        "\n",
        "**Hashing** is a process in computer science where data (like a string or number) is converted into a fixed-size numerical value, called a **hash value** or **hash code**. This value is calculated using a hash function.\n",
        "\n",
        "In Python, immutable objects (like strings, numbers, and tuples) have a built-in hash value. Sets and dictionaries use these hash values to determine where to store elements in memory. This allows for very fast lookup, insertion, and deletion operations.\n",
        "\n",
        "### Example: Hash Values\n",
        "Let's see the hash values for strings:"
      ]
    },
    {
      "cell_type": "code",
      "execution_count": 11,
      "metadata": {
        "colab": {
          "base_uri": "https://localhost:8080/"
        },
        "id": "mopZdpip5n04",
        "outputId": "0de6c199-1cd4-48a4-a75a-836b2b4156f2"
      },
      "outputs": [
        {
          "output_type": "stream",
          "name": "stdout",
          "text": [
            "id(a): 133183602659312\n",
            "id(b): 133184022566832\n",
            "hash(a): -6007152737598741160\n",
            "hash(b): -6007152737598741160\n"
          ]
        }
      ],
      "source": [
        "a = \"Hello! World\"\n",
        "b = \"Hello! World\"\n",
        "print(\"id(a):\", id(a))\n",
        "print(\"id(b):\", id(b))\n",
        "print(\"hash(a):\", hash(a))\n",
        "print(\"hash(b):\", hash(b))"
      ]
    },
    {
      "cell_type": "markdown",
      "metadata": {
        "id": "3bcIA2Tv5n04"
      },
      "source": [
        "- Notice how two equal strings have the same hash value.\n",
        "- Hashing enables **O(1)** average-time complexity for set and dict operations.\n",
        "- Only immutable objects are hashable and can be used as set elements or dict keys."
      ]
    },
    {
      "cell_type": "markdown",
      "metadata": {
        "id": "JC-lFQYw5n04"
      },
      "source": [
        "Trying to use a set (which is mutable) as a dictionary key will fail:"
      ]
    },
    {
      "cell_type": "code",
      "execution_count": 12,
      "metadata": {
        "colab": {
          "base_uri": "https://localhost:8080/",
          "height": 158
        },
        "id": "HfpJIqJ95n05",
        "outputId": "1b0b16d3-2efe-4583-ca99-f38f69efb1b6"
      },
      "outputs": [
        {
          "output_type": "error",
          "ename": "TypeError",
          "evalue": "unhashable type: 'set'",
          "traceback": [
            "\u001b[0;31m---------------------------------------------------------------------------\u001b[0m",
            "\u001b[0;31mTypeError\u001b[0m                                 Traceback (most recent call last)",
            "\u001b[0;32m<ipython-input-12-847749326>\u001b[0m in \u001b[0;36m<cell line: 0>\u001b[0;34m()\u001b[0m\n\u001b[1;32m      1\u001b[0m \u001b[0my_set\u001b[0m \u001b[0;34m=\u001b[0m \u001b[0;34m{\u001b[0m\u001b[0;36m1\u001b[0m\u001b[0;34m,\u001b[0m \u001b[0;36m2\u001b[0m\u001b[0;34m,\u001b[0m \u001b[0;36m3\u001b[0m\u001b[0;34m}\u001b[0m\u001b[0;34m\u001b[0m\u001b[0;34m\u001b[0m\u001b[0m\n\u001b[0;32m----> 2\u001b[0;31m \u001b[0mmy_dict\u001b[0m \u001b[0;34m=\u001b[0m \u001b[0;34m{\u001b[0m\u001b[0my_set\u001b[0m\u001b[0;34m:\u001b[0m \u001b[0;34m\"Hello!\"\u001b[0m\u001b[0;34m}\u001b[0m  \u001b[0;31m# Error: set is not hashable!\u001b[0m\u001b[0;34m\u001b[0m\u001b[0;34m\u001b[0m\u001b[0m\n\u001b[0m",
            "\u001b[0;31mTypeError\u001b[0m: unhashable type: 'set'"
          ]
        }
      ],
      "source": [
        "y_set = {1, 2, 3}\n",
        "my_dict = {y_set: \"Hello!\"}  # Error: set is not hashable!"
      ]
    },
    {
      "cell_type": "markdown",
      "metadata": {
        "id": "sBBQIWKs5n05"
      },
      "source": [
        "# 3. The Inner Working of Sets (and Why Set Order Changes)\n",
        "\n",
        "Sets use hash tables internally. Elements are stored according to their hash values. When you add or remove elements, the internal order may change (this is called **rehashing**)."
      ]
    },
    {
      "cell_type": "code",
      "execution_count": null,
      "metadata": {
        "id": "s46B1DVz5n05"
      },
      "outputs": [],
      "source": [
        "my_set = {10, 3, 5, 8}\n",
        "print(\"Initial:\", my_set)\n",
        "my_set.add(20)\n",
        "print(\"After adding 20:\", my_set)\n",
        "my_set.remove(10)\n",
        "print(\"After removing 10:\", my_set)"
      ]
    },
    {
      "cell_type": "markdown",
      "metadata": {
        "id": "bFfzaGZK5n06"
      },
      "source": [
        "# 4. Frozenset\n",
        "\n",
        "A **frozenset** is an immutable version of a set:\n",
        "- Cannot add or remove elements\n",
        "- Hashable (can be used as dict keys or set elements)\n",
        "- Created with `frozenset([iterable])`"
      ]
    },
    {
      "cell_type": "code",
      "execution_count": 14,
      "metadata": {
        "colab": {
          "base_uri": "https://localhost:8080/"
        },
        "id": "VBWAjj-x5n06",
        "outputId": "73701ca5-005d-41e8-ab11-3e81f09fb1fd"
      },
      "outputs": [
        {
          "output_type": "stream",
          "name": "stdout",
          "text": [
            "frozenset({1, 2, 3, 4, 'hello'})\n"
          ]
        }
      ],
      "source": [
        "fset = frozenset([1, 2, 3, 4, \"hello\"])\n",
        "print(fset)\n",
        "# Uncommenting the next line will raise an error:\n",
        "# fset.add(5)"
      ]
    },
    {
      "cell_type": "markdown",
      "metadata": {
        "id": "jX2UsuNv5n06"
      },
      "source": [
        "### Frozenset as Dictionary Key"
      ]
    },
    {
      "cell_type": "code",
      "execution_count": 15,
      "metadata": {
        "colab": {
          "base_uri": "https://localhost:8080/"
        },
        "id": "K0ePheCK5n07",
        "outputId": "d912aa7c-aada-4c23-ec90-16718cec125b"
      },
      "outputs": [
        {
          "output_type": "stream",
          "name": "stdout",
          "text": [
            "{frozenset({1, 2, 3}): 'Value'}\n"
          ]
        }
      ],
      "source": [
        "fset = frozenset([1, 2, 3])\n",
        "my_dict = {fset: \"Value\"}\n",
        "print(my_dict)"
      ]
    },
    {
      "cell_type": "code",
      "execution_count": 16,
      "metadata": {
        "colab": {
          "base_uri": "https://localhost:8080/"
        },
        "id": "r68meqtK5n07",
        "outputId": "10510cde-5b64-4be8-ce2a-65a95eaec3ce"
      },
      "outputs": [
        {
          "output_type": "execute_result",
          "data": {
            "text/plain": [
              "['copy',\n",
              " 'difference',\n",
              " 'intersection',\n",
              " 'isdisjoint',\n",
              " 'issubset',\n",
              " 'issuperset',\n",
              " 'symmetric_difference',\n",
              " 'union']"
            ]
          },
          "metadata": {},
          "execution_count": 16
        }
      ],
      "source": [
        "[i for i in dir(fset) if not i.startswith('__')]"
      ]
    },
    {
      "cell_type": "markdown",
      "metadata": {
        "id": "lsjeqA8A5n07"
      },
      "source": [
        "# 5. Sets vs Frozensets: Comparison Table\n",
        "\n",
        "| Feature         | Set           | Frozenset      |\n",
        "| --------------- | ------------- | -------------- |\n",
        "| Mutable         | Yes           | No             |\n",
        "| Hashable        | No            | Yes            |\n",
        "| Can be dict key | No            | Yes            |\n",
        "| Can be changed  | Yes           | No             |\n",
        "| Syntax          | set(), {}     | frozenset()    |"
      ]
    },
    {
      "cell_type": "markdown",
      "metadata": {
        "id": "yo7Ir2wN5n07"
      },
      "source": [
        "# 6. Garbage Collection (GC) in Python (Advanced)\n",
        "\n",
        "Python automatically manages memory using **garbage collection**. When objects like sets or frozensets are no longer referenced, Python frees their memory automatically.\n",
        "\n",
        "### How Does It Work?\n",
        "- When you create an object, like a set {1, 2, 3}, it’s stored in memory.\n",
        "- Python keeps track of whether an object is still being used by checking if anything in your program (like a variable) is referencing it.\n",
        "- If an object has no references (nothing points to it anymore), it’s like trash sitting around. The garbage collector finds it and removes it, freeing up memory."
      ]
    },
    {
      "cell_type": "markdown",
      "metadata": {
        "id": "W9WDmGup5n09"
      },
      "source": [
        "# 7. Summary\n",
        "\n",
        "- Sets are unordered, mutable collections of unique, immutable elements.\n",
        "- Frozensets are immutable and can be used as dict keys.\n",
        "- Hashing enables efficient set operations.\n",
        "- Use sets for changeable collections, frozensets for fixed, hashable collections.\n",
        "- Python cleans up unused objects automatically via garbage collection."
      ]
    },
    {
      "cell_type": "markdown",
      "metadata": {
        "id": "06FJ7iKZ5n1I"
      },
      "source": [
        "## 📝 Assignment: Explore Remaining Set Methods in Python\n",
        "\n",
        "In this assignment, you are required to explore and demonstrate the **Python set methods** that we did **not cover in class**.\n",
        "\n",
        "### ✅ Instructions:\n",
        "\n",
        "1. Below is the list of **all set methods** you want to explore.\n",
        "2. You must **use each of the following methods one by one**:\n",
        "   - `clear`\n",
        "   - `copy`\n",
        "   - `difference`\n",
        "   - `intersection`\n",
        "   - `intersection_update`\n",
        "   - `isdisjoint`\n",
        "   - `issubset`\n",
        "   - `issuperset`\n",
        "   - `symmetric_difference`\n",
        "   - `symmetric_difference_update`\n",
        "3. For **each method**, do the following:\n",
        "   - Write a **one-line explanation** in a **Markdown/text cell**.\n",
        "   - Show a **simple example** of how the method works in a **code cell**.\n",
        "\n",
        "> ⚠️ Methods that we **already covered in class** (you do NOT need to include them again):\n",
        "> - `add`\n",
        "> - `pop`\n",
        "> - `update`\n",
        "> - `difference_update`\n",
        "> - `discard`\n",
        "> - `remove`\n",
        "> - `union`\n",
        "\n",
        "---\n",
        "\n",
        "🔁 **Goal**: After completing this, you should be confident using all built-in set methods in Python and understand when to apply each.\n",
        "\n",
        "📌 Submit your completed notebook as instructed.\n",
        "\n",
        "Happy coding! 🐍✨\n",
        "\"\"\""
      ]
    },
    {
      "cell_type": "markdown",
      "metadata": {
        "id": "9VSbuH3v5n1J"
      },
      "source": []
    }
  ],
  "metadata": {
    "kernelspec": {
      "display_name": "Python 3",
      "name": "python3"
    },
    "language_info": {
      "codemirror_mode": {
        "name": "ipython",
        "version": 3
      },
      "file_extension": ".py",
      "mimetype": "text/x-python",
      "name": "python",
      "nbconvert_exporter": "python",
      "pygments_lexer": "ipython3",
      "version": "3.12.0"
    },
    "colab": {
      "provenance": [],
      "history_visible": true,
      "gpuType": "T4"
    },
    "accelerator": "GPU"
  },
  "nbformat": 4,
  "nbformat_minor": 0
}