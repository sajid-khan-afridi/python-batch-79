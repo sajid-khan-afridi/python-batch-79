{
  "cells": [
    {
      "cell_type": "markdown",
      "id": "69326cad",
      "metadata": {
        "id": "69326cad"
      },
      "source": [
        "# Introduction to Tuples in Python\n",
        "\n",
        "## What is a Tuple?\n",
        "\n",
        "A tuple is an immutable, ordered collection of elements in Python. Tuples are similar to lists, but unlike lists, the elements of a tuple cannot be modified after it is created. Tuples are defined by enclosing elements in parentheses `()` and separating them with commas.\n",
        "\n",
        "### Key Features of Tuples:\n",
        "\n",
        "- **Hashable**: A data type is hashable if it cannot be changed after it is created (i.e., it is immutable) and has a fixed hash value during its lifetime.\n",
        "Tuples can be used as keys in dictionaries only if all their elements are also hashable. This is because dictionary keys must be immutable and hashable.\n",
        "Common hashable data types include: `int`, `float`, `str`, `tuple` (with hashable elements), and `frozenset`.\n",
        "These data types contains `__hash__` function, therefore they are called hashable.\n",
        "\n",
        "```python\n",
        "x = (1, 2, 3)  # tuple is immutable\n",
        "# x[0] = 10    ❌ Error! Cannot change tuple item\n",
        "\n",
        "my_dict = {(1, 2): \"tuple key\"}  # tuple is hashable\n",
        "\n",
        "```\n",
        "- **Immutable**: Once created, the elements of a tuple cannot be changed.\n",
        "\n",
        "- **Ordered**: Tuples maintain the order of elements. via index\n",
        "- **Heterogeneous**: Tuples can contain elements of different data types.\n"
      ]
    },
    {
      "cell_type": "code",
      "source": [
        "my_dict = {(1, 2): \"tuple key\", (1,3):\"tuple value\"}"
      ],
      "metadata": {
        "id": "G481VnzrvdaC"
      },
      "id": "G481VnzrvdaC",
      "execution_count": null,
      "outputs": []
    },
    {
      "cell_type": "code",
      "execution_count": 1,
      "id": "0c1f5705",
      "metadata": {
        "id": "0c1f5705",
        "outputId": "d09d860c-543f-458c-bacd-132e10223c30",
        "colab": {
          "base_uri": "https://localhost:8080/"
        }
      },
      "outputs": [
        {
          "output_type": "stream",
          "name": "stdout",
          "text": [
            "(1, 'apple', 3.14, 1)\n"
          ]
        }
      ],
      "source": [
        "tuple_example : tuple[int,str,float,int]= (1, \"apple\", 3.14, 1)\n",
        "print(tuple_example)"
      ]
    },
    {
      "cell_type": "markdown",
      "id": "99d909d8",
      "metadata": {
        "id": "99d909d8"
      },
      "source": [
        "## Why Use Tuples?\n",
        "\n",
        "### The Problem: Need for Immutable Data\n",
        "\n",
        "In scenarios where you want to ensure the data remains constant throughout the program, lists might not be ideal due to their mutability. For instance, configuration settings or fixed data collections can benefit from immutability.\n",
        "\n",
        "### The Solution: Tuples for Immutable Collections\n",
        "\n",
        "Tuples provide a way to create collections that cannot be altered, ensuring data integrity and consistency.\n",
        "\n",
        "- Memory Efficiency: Immutable tuples can be stored in a single block of memory, which makes them more memory-efficient than lists.\n",
        "- Thread Safety: Immutable tuples are thread-safe, meaning that they can be safely accessed and shared between multiple threads without fear of modification."
      ]
    },
    {
      "cell_type": "markdown",
      "id": "6a1823f9",
      "metadata": {
        "id": "6a1823f9"
      },
      "source": [
        "## How Tuples Work\n",
        "\n",
        "### Creating a Tuple\n",
        "\n",
        "Tuples can be created in several ways:"
      ]
    },
    {
      "cell_type": "markdown",
      "id": "842f2ea2",
      "metadata": {
        "id": "842f2ea2"
      },
      "source": [
        "1. **Using Parentheses:**"
      ]
    },
    {
      "cell_type": "code",
      "execution_count": 2,
      "id": "9e2dbb52",
      "metadata": {
        "id": "9e2dbb52",
        "outputId": "d3021ad2-c1a9-4757-8343-0f56974def44",
        "colab": {
          "base_uri": "https://localhost:8080/"
        }
      },
      "outputs": [
        {
          "output_type": "stream",
          "name": "stdout",
          "text": [
            "apple\n"
          ]
        }
      ],
      "source": [
        "fruits : tuple[str,str,str] = (\"apple\", \"banana\", \"cherry\")\n",
        "print(fruits[0])"
      ]
    },
    {
      "cell_type": "code",
      "source": [
        "fruits: tuple[str, ...]  = (\"apple\", \"banana\", \"cherry\", \"Mango\")  # any length, all strs"
      ],
      "metadata": {
        "id": "GnM-VoUoR2B6"
      },
      "id": "GnM-VoUoR2B6",
      "execution_count": 3,
      "outputs": []
    },
    {
      "cell_type": "markdown",
      "id": "035df994",
      "metadata": {
        "id": "035df994"
      },
      "source": [
        "2. **Without Parentheses:**"
      ]
    },
    {
      "cell_type": "code",
      "execution_count": 4,
      "id": "59245575",
      "metadata": {
        "id": "59245575",
        "outputId": "d0b62c0f-ccff-4dc5-b60e-d7c1f7d3499a",
        "colab": {
          "base_uri": "https://localhost:8080/"
        }
      },
      "outputs": [
        {
          "output_type": "stream",
          "name": "stdout",
          "text": [
            "(1, 2, 3)\n"
          ]
        }
      ],
      "source": [
        "numbers : tuple[int,int,int] = 1, 2, 3\n",
        "print(numbers)"
      ]
    },
    {
      "cell_type": "code",
      "source": [
        "numbers: tuple[int, ...]  = 1, 2, 3, 4, 5   # any length, all ints"
      ],
      "metadata": {
        "id": "Gw3DprGWR632"
      },
      "id": "Gw3DprGWR632",
      "execution_count": null,
      "outputs": []
    },
    {
      "cell_type": "markdown",
      "id": "5b3847aa",
      "metadata": {
        "id": "5b3847aa"
      },
      "source": [
        "3. **Using the `tuple` Constructor or Function:**"
      ]
    },
    {
      "cell_type": "code",
      "execution_count": 5,
      "id": "13c25087",
      "metadata": {
        "id": "13c25087",
        "outputId": "33e68b06-791c-40b4-f809-9d16027a0bc4",
        "colab": {
          "base_uri": "https://localhost:8080/"
        }
      },
      "outputs": [
        {
          "output_type": "stream",
          "name": "stdout",
          "text": [
            "(1, 2, 3)\n"
          ]
        }
      ],
      "source": [
        "tuple_from_list = tuple([1, 2, 3])\n",
        "print(tuple_from_list)"
      ]
    },
    {
      "cell_type": "markdown",
      "source": [
        "4. **Using the `range` function:**"
      ],
      "metadata": {
        "id": "-NuVAO0tGjWP"
      },
      "id": "-NuVAO0tGjWP"
    },
    {
      "cell_type": "code",
      "source": [
        "# Creating a tuple (1, 2, 3, 4, 5) using the range function\n",
        "my_tuple = tuple(range(1, 6))\n",
        "print(my_tuple)"
      ],
      "metadata": {
        "id": "97REVJiwGwh7",
        "outputId": "d6703f77-388e-44ca-a90f-7359ebc982d5",
        "colab": {
          "base_uri": "https://localhost:8080/"
        }
      },
      "id": "97REVJiwGwh7",
      "execution_count": 6,
      "outputs": [
        {
          "output_type": "stream",
          "name": "stdout",
          "text": [
            "(1, 2, 3, 4, 5)\n"
          ]
        }
      ]
    },
    {
      "cell_type": "markdown",
      "id": "d552b09c",
      "metadata": {
        "id": "d552b09c"
      },
      "source": [
        "### Accessing Elements\n",
        "\n",
        "Tuples support indexing and slicing to access their elements:"
      ]
    },
    {
      "cell_type": "code",
      "execution_count": 8,
      "id": "bae7ec2f",
      "metadata": {
        "id": "bae7ec2f",
        "outputId": "e1824ce3-807e-47e0-cb98-28febff618cd",
        "colab": {
          "base_uri": "https://localhost:8080/"
        }
      },
      "outputs": [
        {
          "output_type": "stream",
          "name": "stdout",
          "text": [
            "cherry\n",
            "('banana', 'cherry')\n",
            "cherry\n"
          ]
        }
      ],
      "source": [
        "fruits = (\"apple\", \"banana\", \"cherry\")\n",
        "print(fruits[2])  # Output\n",
        "print(fruits[1:]) # Output\n",
        "\n",
        "print(fruits[-1])"
      ]
    },
    {
      "cell_type": "code",
      "source": [
        "# my_tuple[0] = 12\n",
        "\n",
        "my_tuple = (1,[2,3,6],4)\n",
        "\n",
        "my_tuple[1][2] = 8\n",
        "\n",
        "print(my_tuple)\n",
        "\n",
        "\n",
        "# my_tuple[2] = 6 # error: 'tuple' object does not support item assignment"
      ],
      "metadata": {
        "id": "BqcKS-PeSH6K",
        "outputId": "9988ff90-e4a1-473a-e8c0-f2b3c2a078fa",
        "colab": {
          "base_uri": "https://localhost:8080/"
        }
      },
      "id": "BqcKS-PeSH6K",
      "execution_count": 13,
      "outputs": [
        {
          "output_type": "stream",
          "name": "stdout",
          "text": [
            "(1, [2, 3, 8], 4)\n"
          ]
        }
      ]
    },
    {
      "cell_type": "code",
      "source": [
        "print(my_tuple)"
      ],
      "metadata": {
        "id": "RQNryx-JP746",
        "outputId": "a5e3a244-9b99-4329-e97f-10af7d57aaef",
        "colab": {
          "base_uri": "https://localhost:8080/"
        }
      },
      "id": "RQNryx-JP746",
      "execution_count": 11,
      "outputs": [
        {
          "output_type": "stream",
          "name": "stdout",
          "text": [
            "(1, [2, 3, 8], 4)\n"
          ]
        }
      ]
    },
    {
      "cell_type": "markdown",
      "id": "b8d679e3",
      "metadata": {
        "id": "b8d679e3"
      },
      "source": [
        "### Tuple Unpacking\n",
        "\n",
        "Tuples allow unpacking into individual variables:"
      ]
    },
    {
      "cell_type": "code",
      "execution_count": 17,
      "id": "9186a8a6",
      "metadata": {
        "id": "9186a8a6",
        "outputId": "9b6fe2a0-b838-48ed-8e56-0074f705a438",
        "colab": {
          "base_uri": "https://localhost:8080/"
        }
      },
      "outputs": [
        {
          "output_type": "stream",
          "name": "stdout",
          "text": [
            "10\n"
          ]
        }
      ],
      "source": [
        "coordinates = (10, 20)\n",
        "\n",
        "# x = coordinates\n",
        "\n",
        "x,y = coordinates # destructuring\n",
        "print(x,y)  # Output: 10 20"
      ]
    },
    {
      "cell_type": "markdown",
      "id": "d4a64af5",
      "metadata": {
        "id": "d4a64af5"
      },
      "source": [
        "### Nested Tuples\n",
        "\n",
        "Tuples can be nested:"
      ]
    },
    {
      "cell_type": "code",
      "execution_count": 18,
      "id": "83d8426e",
      "metadata": {
        "id": "83d8426e",
        "outputId": "d48ca3ec-1b5a-4f06-91d7-2e1384d06ac2",
        "colab": {
          "base_uri": "https://localhost:8080/"
        }
      },
      "outputs": [
        {
          "output_type": "stream",
          "name": "stdout",
          "text": [
            "(1, 2)\n",
            "2\n"
          ]
        }
      ],
      "source": [
        "nested_tuple = ((1, 2), (3, 4))\n",
        "print(nested_tuple[0])  # Output: (1, 2)\n",
        "print(nested_tuple[0][1])"
      ]
    },
    {
      "cell_type": "markdown",
      "id": "2b409efe",
      "metadata": {
        "id": "2b409efe"
      },
      "source": [
        "## Common Tuple Operations\n",
        "\n",
        "### Concatenation\n",
        "\n",
        "Combine tuples using the `+` operator:"
      ]
    },
    {
      "cell_type": "code",
      "execution_count": 19,
      "id": "a5ded04c",
      "metadata": {
        "id": "a5ded04c",
        "outputId": "4903153e-9045-41e0-e60a-bb9f1c1b25dc",
        "colab": {
          "base_uri": "https://localhost:8080/"
        }
      },
      "outputs": [
        {
          "output_type": "stream",
          "name": "stdout",
          "text": [
            "(1, 2, 3, 4)\n"
          ]
        }
      ],
      "source": [
        "tuple1 = (1, 2)\n",
        "tuple2 = (3, 4)\n",
        "result = tuple1 + tuple2\n",
        "print(result)  # Output: (1, 2, 3, 4)"
      ]
    },
    {
      "cell_type": "markdown",
      "id": "49425cd2",
      "metadata": {
        "id": "49425cd2"
      },
      "source": [
        "### Repetition\n",
        "\n",
        "Repeat tuples using the `*` operator:"
      ]
    },
    {
      "cell_type": "code",
      "execution_count": 21,
      "id": "79fb6d1f",
      "metadata": {
        "id": "79fb6d1f",
        "outputId": "a435de22-1875-4aa0-da52-b945fce191c2",
        "colab": {
          "base_uri": "https://localhost:8080/"
        }
      },
      "outputs": [
        {
          "output_type": "stream",
          "name": "stdout",
          "text": [
            "('A', 'A', 'A', 'A', 'A')\n"
          ]
        }
      ],
      "source": [
        "repeated_tuple : tuple[str,...] = (\"A\",) * 5\n",
        "print(repeated_tuple)"
      ]
    },
    {
      "cell_type": "code",
      "source": [
        "new_tuple : tuple[int,] = (1,) # for single value\n",
        "print(new_tuple)"
      ],
      "metadata": {
        "id": "hZ8AToVwTJbh",
        "outputId": "4a927de7-8097-4e17-b1af-a5f41bfac0dd",
        "colab": {
          "base_uri": "https://localhost:8080/"
        }
      },
      "id": "hZ8AToVwTJbh",
      "execution_count": 22,
      "outputs": [
        {
          "output_type": "stream",
          "name": "stdout",
          "text": [
            "(1,)\n"
          ]
        }
      ]
    },
    {
      "cell_type": "markdown",
      "id": "335df9d3",
      "metadata": {
        "id": "335df9d3"
      },
      "source": [
        "### Membership Test\n",
        "\n",
        "Check if an element exists in a tuple using the `in` keyword:"
      ]
    },
    {
      "cell_type": "code",
      "execution_count": 23,
      "id": "43ac6c7a",
      "metadata": {
        "id": "43ac6c7a",
        "outputId": "8d72499d-fc7b-436d-ad99-21b3ca469cc3",
        "colab": {
          "base_uri": "https://localhost:8080/"
        }
      },
      "outputs": [
        {
          "output_type": "stream",
          "name": "stdout",
          "text": [
            "False\n"
          ]
        }
      ],
      "source": [
        "fruits : tuple[str,...] = (\"apple\", \"banana\")\n",
        "print(\"Apple\" in fruits)"
      ]
    },
    {
      "cell_type": "markdown",
      "id": "4ea1e0c6",
      "metadata": {
        "id": "4ea1e0c6"
      },
      "source": [
        "### Tuple Methods\n",
        "\n",
        "Tuples have two built-in methods:"
      ]
    },
    {
      "cell_type": "code",
      "source": [
        "[i for i in dir(fruits) if \"__\" not in i]"
      ],
      "metadata": {
        "id": "vKUHCKiXR4Zj",
        "outputId": "146d97c6-3a62-4c58-9316-56815c687fd5",
        "colab": {
          "base_uri": "https://localhost:8080/"
        }
      },
      "id": "vKUHCKiXR4Zj",
      "execution_count": 24,
      "outputs": [
        {
          "output_type": "execute_result",
          "data": {
            "text/plain": [
              "['count', 'index']"
            ]
          },
          "metadata": {},
          "execution_count": 24
        }
      ]
    },
    {
      "cell_type": "code",
      "source": [
        "dir(fruits)"
      ],
      "metadata": {
        "id": "3BGMyPibWYHX",
        "outputId": "f3a54042-c340-45c9-a552-0a1fe97517f9",
        "colab": {
          "base_uri": "https://localhost:8080/"
        }
      },
      "id": "3BGMyPibWYHX",
      "execution_count": 25,
      "outputs": [
        {
          "output_type": "execute_result",
          "data": {
            "text/plain": [
              "['__add__',\n",
              " '__class__',\n",
              " '__class_getitem__',\n",
              " '__contains__',\n",
              " '__delattr__',\n",
              " '__dir__',\n",
              " '__doc__',\n",
              " '__eq__',\n",
              " '__format__',\n",
              " '__ge__',\n",
              " '__getattribute__',\n",
              " '__getitem__',\n",
              " '__getnewargs__',\n",
              " '__getstate__',\n",
              " '__gt__',\n",
              " '__hash__',\n",
              " '__init__',\n",
              " '__init_subclass__',\n",
              " '__iter__',\n",
              " '__le__',\n",
              " '__len__',\n",
              " '__lt__',\n",
              " '__mul__',\n",
              " '__ne__',\n",
              " '__new__',\n",
              " '__reduce__',\n",
              " '__reduce_ex__',\n",
              " '__repr__',\n",
              " '__rmul__',\n",
              " '__setattr__',\n",
              " '__sizeof__',\n",
              " '__str__',\n",
              " '__subclasshook__',\n",
              " 'count',\n",
              " 'index']"
            ]
          },
          "metadata": {},
          "execution_count": 25
        }
      ]
    },
    {
      "cell_type": "markdown",
      "id": "7442727c",
      "metadata": {
        "id": "7442727c"
      },
      "source": [
        "1. `.count()`: Counts occurrences of a value."
      ]
    },
    {
      "cell_type": "code",
      "execution_count": 26,
      "id": "071763ea",
      "metadata": {
        "id": "071763ea",
        "outputId": "077176b5-ae55-44bf-d4cc-fe15a51f4abb",
        "colab": {
          "base_uri": "https://localhost:8080/"
        }
      },
      "outputs": [
        {
          "output_type": "stream",
          "name": "stdout",
          "text": [
            "3\n"
          ]
        }
      ],
      "source": [
        "numbers : tuple[int] = (1, 2, 2, 2, 3)\n",
        "print(numbers.count(2))  # Out"
      ]
    },
    {
      "cell_type": "markdown",
      "id": "534bdcb2",
      "metadata": {
        "id": "534bdcb2"
      },
      "source": [
        "2. `.index()`: Returns the first index of a value."
      ]
    },
    {
      "cell_type": "code",
      "execution_count": 29,
      "id": "b502a75e",
      "metadata": {
        "id": "b502a75e",
        "outputId": "4faeb092-b9c9-4c7b-e2b8-2fb8c10fed7f",
        "colab": {
          "base_uri": "https://localhost:8080/"
        }
      },
      "outputs": [
        {
          "output_type": "stream",
          "name": "stdout",
          "text": [
            "1\n",
            "3\n"
          ]
        }
      ],
      "source": [
        "numbers : tuple[int,...] = (1, 2, 3, 2)\n",
        "# print(numbers.index(2,2))  # Out\n",
        "\n",
        "first_index = numbers.index(2)\n",
        "print(first_index)\n",
        "\n",
        "print(numbers.index(2,first_index + 1))"
      ]
    },
    {
      "cell_type": "markdown",
      "source": [
        "### Iterating Over a Tuple"
      ],
      "metadata": {
        "id": "xXOlBmwQjfkz"
      },
      "id": "xXOlBmwQjfkz"
    },
    {
      "cell_type": "code",
      "source": [
        "my_tuple : tuple[str,str,str] = ('apple', 'banana', 'cherry')\n",
        "my_tuple : tuple[str,...] = ('apple', 'banana', 'cherry')\n",
        "for fruit in my_tuple:\n",
        "    print(fruit)"
      ],
      "metadata": {
        "id": "FOWlODFDji_Z",
        "outputId": "da418ba3-cfa8-47f6-e206-9760e83eba71",
        "colab": {
          "base_uri": "https://localhost:8080/"
        }
      },
      "id": "FOWlODFDji_Z",
      "execution_count": 30,
      "outputs": [
        {
          "output_type": "stream",
          "name": "stdout",
          "text": [
            "apple\n",
            "banana\n",
            "cherry\n"
          ]
        }
      ]
    },
    {
      "cell_type": "markdown",
      "source": [
        "### Storing Related Data\n",
        "Tuples can store related data, like coordinates or RGB color values."
      ],
      "metadata": {
        "id": "lPqPfIOEjuuI"
      },
      "id": "lPqPfIOEjuuI"
    },
    {
      "cell_type": "code",
      "source": [
        "point = (10, 20)\n",
        "color = (255, 0, 0)\n",
        "\n",
        "print(point)  # Output: (10, 20)\n",
        "print(color)  # Output: (255, 0, 0)\n",
        "\n",
        "# Example of coordinates as a tuple\n",
        "my_location = (34.0522, -118.2437) # Latitude and Longitude of Los Angeles"
      ],
      "metadata": {
        "id": "V90gQFBzj3H-",
        "outputId": "7fd4526d-7fe0-4d94-9b10-0243f84b6dcb",
        "colab": {
          "base_uri": "https://localhost:8080/"
        }
      },
      "id": "V90gQFBzj3H-",
      "execution_count": 31,
      "outputs": [
        {
          "output_type": "stream",
          "name": "stdout",
          "text": [
            "(10, 20)\n",
            "(255, 0, 0)\n"
          ]
        }
      ]
    },
    {
      "cell_type": "markdown",
      "source": [
        "## TypeAlias\n",
        "Type alias (often declared with TypeAlias in Python ≥ 3.10) is a purely compile-time nickname for an existing type expression.\n",
        "\n"
      ],
      "metadata": {
        "id": "5XU7RbO3-98x"
      },
      "id": "5XU7RbO3-98x"
    },
    {
      "cell_type": "code",
      "source": [
        "from typing import TypeAlias\n",
        "\n",
        "# 1) List alias ― a list of exam scores (ints)\n",
        "Scores: TypeAlias = list[int]\n",
        "\n",
        "my_scores: Scores = [90, 85, 78]\n",
        "\n",
        "# 2) Tuple alias ― a 2-D point (x, y) with floats\n",
        "Point2D: TypeAlias = tuple[float, float]\n",
        "\n",
        "origin: Point2D = (0.0, 0.0)\n",
        "\n",
        "# 3) Dictionary alias ― a simple phone book\n",
        "PhoneBook: TypeAlias = dict[str, str]\n",
        "\n",
        "contacts: PhoneBook = {\n",
        "    \"Ali\":  \"+923339338732\",\n",
        "    \"Sara\": \"+923001234567\",\n",
        "}"
      ],
      "metadata": {
        "id": "w-jKQ9wt_QFL"
      },
      "id": "w-jKQ9wt_QFL",
      "execution_count": null,
      "outputs": []
    },
    {
      "cell_type": "markdown",
      "id": "5b77f7a5",
      "metadata": {
        "id": "5b77f7a5"
      },
      "source": [
        "## Applications of Tuples\n",
        "\n",
        "Not necessary to understand now, as it's an advanced topic not yet covered.\n",
        "\n",
        "### Using Tuples as Dictionary Keys\n",
        "\n",
        "Since tuples are immutable, they can be used as keys in dictionaries:\n",
        "\n",
        "Hashable: Tuples can be used as keys in dictionaries if all their elements are hashable.\n",
        "\n",
        "Hashable objects cannot be changed after their creation. For example, integers, floats, strings, and tuples (with hashable elements) are hashable because they are immutable."
      ]
    },
    {
      "cell_type": "code",
      "source": [
        "simple_dictionary : dict[str,int] = {\n",
        "    \"Ali\" : 59,\n",
        "    \"Asim\" : 78\n",
        "}\n",
        "\n",
        "print(simple_dictionary[\"Ali\"])\n",
        "\n",
        "\n",
        "locations : dict[tuple[int,int],str] = { (10, 20): \"Park\", (30, 40): \"Mall\" }\n",
        "print(locations[(10, 20)])  # Output: Park"
      ],
      "metadata": {
        "id": "SRC8VuX7UYCC",
        "outputId": "094641b9-3f46-4da0-c98c-ebd056a299f1",
        "colab": {
          "base_uri": "https://localhost:8080/"
        }
      },
      "id": "SRC8VuX7UYCC",
      "execution_count": 32,
      "outputs": [
        {
          "output_type": "stream",
          "name": "stdout",
          "text": [
            "59\n",
            "Park\n"
          ]
        }
      ]
    },
    {
      "cell_type": "code",
      "execution_count": null,
      "id": "3ed7b1f2",
      "metadata": {
        "id": "3ed7b1f2"
      },
      "outputs": [],
      "source": [
        "from typing import TypeAlias\n",
        "\n",
        "Coordinates : TypeAlias = tuple[int,int]\n",
        "\n",
        "locations : dict[Coordinates,str] = { (10, 20): \"Park\", (30, 40): \"Mall\" }\n",
        "print(locations[(10, 20)])  # Output: Park"
      ]
    },
    {
      "cell_type": "markdown",
      "id": "24ee5d25",
      "metadata": {
        "id": "24ee5d25"
      },
      "source": [
        "### Returning Multiple Values from Functions(after function lesson complete)\n",
        "\n",
        "Tuples are often used to return multiple values:"
      ]
    },
    {
      "cell_type": "code",
      "execution_count": null,
      "id": "1effb047",
      "metadata": {
        "id": "1effb047"
      },
      "outputs": [],
      "source": [
        "# def min_max(numbers):\n",
        "#     return min(numbers), max(numbers)\n",
        "\n",
        "# result = min_max([1, 2, 3, 4])\n",
        "# print(result)  # Output: (1, 4)"
      ]
    },
    {
      "cell_type": "markdown",
      "id": "8b8c8bef",
      "metadata": {
        "id": "8b8c8bef"
      },
      "source": [
        "### Storing Fixed Data\n",
        "\n",
        "Tuples are ideal for storing data that should not change:"
      ]
    },
    {
      "cell_type": "code",
      "execution_count": 33,
      "id": "0f5d9d5e",
      "metadata": {
        "id": "0f5d9d5e",
        "outputId": "39ddf12f-7731-4b78-be08-9bffb2b687f6",
        "colab": {
          "base_uri": "https://localhost:8080/"
        }
      },
      "outputs": [
        {
          "output_type": "stream",
          "name": "stdout",
          "text": [
            "('Monday', 'Tuesday', 'Wednesday', 'Thursday', 'Friday')\n"
          ]
        }
      ],
      "source": [
        "weekdays : tuple[str,...] = (\"Monday\", \"Tuesday\", \"Wednesday\", \"Thursday\", \"Friday\")\n",
        "print(weekdays)"
      ]
    },
    {
      "cell_type": "code",
      "source": [
        "from typing import TypeAlias\n",
        "\n",
        "Week : TypeAlias = tuple[str,int,str,int]\n",
        "weekdays : Week = (\"Monday\", 20, \"Tuesday\", 40)\n",
        "print(weekdays)"
      ],
      "metadata": {
        "id": "VdPgFOR6Kaf9"
      },
      "id": "VdPgFOR6Kaf9",
      "execution_count": null,
      "outputs": []
    },
    {
      "cell_type": "markdown",
      "id": "4fa43ff4",
      "metadata": {
        "id": "4fa43ff4"
      },
      "source": [
        "## Projects\n",
        "\n",
        "### Project 1: Tuple Operations\n",
        "\n",
        "Write a program that:\n",
        "\n",
        "- Creates a tuple of numbers.\n",
        "- Finds the sum and product of all elements."
      ]
    },
    {
      "cell_type": "code",
      "source": [
        "# tuple_var put 5 values\n",
        "# for loop for sum\n",
        "# for product"
      ],
      "metadata": {
        "id": "H8wWtKWn8XuF"
      },
      "id": "H8wWtKWn8XuF",
      "execution_count": null,
      "outputs": []
    },
    {
      "cell_type": "markdown",
      "source": [
        "### Project 2: Number Classification\n",
        "**Build a program that:**\n",
        "\n",
        "- Uses list comprehension to classify numbers in a range from 1 to 5 as \"odd\" or \"even.\"\n",
        "- Outputs a list of tuples where each tuple contains the number and its classification.\n",
        "\n",
        "**Break into step by step:**\n",
        "\n",
        "You need to create a program that:\n",
        "- Iterates over a range of numbers from 1 to 5.\n",
        "- Uses list comprehension to classify each number as either \"odd\" or \"even.\"  \n",
        "`[expression for item in iterable if condition]`  \n",
        "`[expression_if_true if condition else expression_if_false for item in iterable]`\n",
        "- Outputs a list of tuples, where each tuple contains:\n",
        "  - The number.\n",
        "  - Its classification (\"odd\" or \"even\").\n",
        "\n",
        "**  Expected Output:**\n",
        "  \n",
        "  [(1,\"Odd\"),(2,\"Even\"),....]"
      ],
      "metadata": {
        "id": "1PFAtSCvw-Pr"
      },
      "id": "1PFAtSCvw-Pr"
    },
    {
      "cell_type": "code",
      "source": [
        "even_numbers = [(num,\"Even\") for num in range(1,6) if num % 2 == 0]\n",
        "print(even_numbers)"
      ],
      "metadata": {
        "id": "1GGX18rdA8_5",
        "outputId": "42c1220f-2d84-4e0f-b021-c756f8b51acf",
        "colab": {
          "base_uri": "https://localhost:8080/"
        }
      },
      "id": "1GGX18rdA8_5",
      "execution_count": 34,
      "outputs": [
        {
          "output_type": "stream",
          "name": "stdout",
          "text": [
            "[(2, 'Even'), (4, 'Even')]\n"
          ]
        }
      ]
    },
    {
      "cell_type": "markdown",
      "id": "e9be6d8a",
      "metadata": {
        "id": "e9be6d8a"
      },
      "source": [
        "### Project 3: Contact Book\n",
        "\n",
        "Create a dictionary where keys are tuples (name, phone number) and values are addresses."
      ]
    },
    {
      "cell_type": "code",
      "source": [],
      "metadata": {
        "id": "Sh9EsSS2Ftze"
      },
      "id": "Sh9EsSS2Ftze",
      "execution_count": null,
      "outputs": []
    },
    {
      "cell_type": "markdown",
      "id": "8ebd4ea6",
      "metadata": {
        "id": "8ebd4ea6"
      },
      "source": [
        "## Conclusion\n",
        "\n",
        "Tuples are a fundamental data structure in Python, offering immutability, simplicity, and versatility. Whether you're using them for data integrity, as keys in dictionaries, or for returning multiple values, tuples provide a robust solution for various programming scenarios."
      ]
    }
  ],
  "metadata": {
    "colab": {
      "provenance": []
    },
    "language_info": {
      "name": "python"
    },
    "kernelspec": {
      "name": "python3",
      "display_name": "Python 3"
    }
  },
  "nbformat": 4,
  "nbformat_minor": 5
}