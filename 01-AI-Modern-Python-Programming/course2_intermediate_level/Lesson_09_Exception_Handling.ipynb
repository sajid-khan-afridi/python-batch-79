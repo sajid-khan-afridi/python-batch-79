{
  "cells": [
    {
      "cell_type": "markdown",
      "metadata": {
        "id": "0i-IiMCB3IO0"
      },
      "source": [
        "# Exception Handling in Python\n",
        "\n",
        "When you're writing a program, things don't always go as planned. Sometimes, unexpected errors, called **exceptions**, can occur. If these exceptions are not handled properly, they will stop or crash your program from running. This is where **exception handling** becomes crucial.\n",
        "\n",
        "## What is an Exception?\n",
        "\n",
        "An **exception** is an error that happens during the execution of a program. When an exception occurs, the normal flow of the program is interrupted, and the program will terminate unless you handle the exception."
      ]
    },
    {
      "cell_type": "markdown",
      "metadata": {
        "id": "tNnU_N1L3IO3"
      },
      "source": [
        "\n",
        "- The try block is used to test a block of code for errors. If an error occurs within the try block, the program will immediately jump to the except block (if provided).\n",
        "\n",
        "- The except block is used to handle specific errors that occur in the try block. You can specify the type of error to catch, or use a generic except to catch all errors.\n",
        "\n",
        "---\n",
        "\n",
        "\n"
      ]
    },
    {
      "cell_type": "code",
      "source": [
        "try:\n",
        "  num1 = int(input(\"Enter first number: \"))\n",
        "  num2 = int(input(\"Enter second number: \"))\n",
        "  print(num1/num2)\n",
        "except:\n",
        "  print(\"Invalid input\")"
      ],
      "metadata": {
        "id": "uvnR_Ain_tCM",
        "outputId": "f64c811f-f93b-479b-baa4-501ed5d3ab17",
        "colab": {
          "base_uri": "https://localhost:8080/"
        }
      },
      "execution_count": 3,
      "outputs": [
        {
          "output_type": "stream",
          "name": "stdout",
          "text": [
            "Enter first number: 2\n",
            "Enter second number: 0\n",
            "Invalid input\n"
          ]
        }
      ]
    },
    {
      "cell_type": "code",
      "execution_count": 8,
      "metadata": {
        "colab": {
          "base_uri": "https://localhost:8080/"
        },
        "id": "SC0y0g4LS-UO",
        "outputId": "a8e828de-e6ea-4022-e35c-e3c747b23b55"
      },
      "outputs": [
        {
          "output_type": "stream",
          "name": "stdout",
          "text": [
            "Enter first number: 2\n",
            "Enter second number: 0\n",
            "Error: division by zero\n",
            "Invalid input\n",
            "<class 'Exception'>\n",
            "<class 'ZeroDivisionError'>\n"
          ]
        }
      ],
      "source": [
        "try:\n",
        "  num1 = int(input(\"Enter first number: \"))\n",
        "  num2 = int(input(\"Enter second number: \"))\n",
        "  print(num1/num2)\n",
        "except Exception as e:\n",
        "  print(f\"Error: {e}\")\n",
        "  print(\"Invalid input\")\n",
        "  print(Exception)\n",
        "  print(type(e))"
      ]
    },
    {
      "cell_type": "markdown",
      "metadata": {
        "id": "FnmTkx4c3IO2"
      },
      "source": [
        "## Common Types of Exceptions in Python:"
      ]
    },
    {
      "cell_type": "markdown",
      "metadata": {
        "id": "LWRvUgid8qdM"
      },
      "source": [
        "### 1. **`ZeroDivisionError`**\n",
        "Raised when dividing by zero.\n"
      ]
    },
    {
      "cell_type": "code",
      "execution_count": 13,
      "metadata": {
        "colab": {
          "base_uri": "https://localhost:8080/"
        },
        "id": "JspmeNFL3IO4",
        "outputId": "46b29aad-aaa5-4043-b2c9-06cebbadd048"
      },
      "outputs": [
        {
          "output_type": "stream",
          "name": "stdout",
          "text": [
            "Division by zero is not allowed: division by zero\n"
          ]
        }
      ],
      "source": [
        "# Division by zero raises an exception\n",
        "num = 10\n",
        "den = 0\n",
        "try:\n",
        "    result = num / den  # Raises ZeroDivisionError\n",
        "except ZeroDivisionError as e: # When we use as e, e is the instance of the ZeroDivisionError exception\n",
        "# except Exception as e: # When we use as e, e is the instance of the ZeroDivisionError exception\n",
        "    # print(f\"Division by zero is not allowed: {ZeroDivisionError}\")\n",
        "    print(f\"Division by zero is not allowed: {e}\")"
      ]
    },
    {
      "cell_type": "markdown",
      "metadata": {
        "id": "-41gPLuV3IO5"
      },
      "source": [
        "### 2. **`ValueError`**\n",
        "\n",
        "Raised when a function receives an argument of the correct type but with an inappropriate value.\n",
        "\n",
        "`Exception` as e (General):\n",
        "\n",
        "  - Exception is the base class for most built-in exceptions in Python. Catching Exception is considered \"general\" because it will handle all exceptions that inherit from Exception (e.g., ValueError, TypeError, KeyError, etc.).\n",
        "  - This is risky because it might catch unexpected errors, making debugging harder.\n",
        "\n",
        "`ValueError` as e (Specific):\n",
        "\n",
        "  - ValueError is a subclass of Exception. This handler is \"specific\" because it only catches ValueError exceptions (e.g., invalid type conversion, like int(\"not_a_number\")).\n",
        "\n",
        "  - This is the recommended approach, as it explicitly targets a known error and avoids unintended side effects.\n",
        "\n",
        "**Best Practice:**\n",
        "\n",
        "- Always catch specific exceptions (like ValueError) unless you have a strong reason to handle a broader category. General exceptions (like Exception) can mask bugs or unexpected errors.\n"
      ]
    },
    {
      "cell_type": "code",
      "execution_count": 16,
      "metadata": {
        "colab": {
          "base_uri": "https://localhost:8080/",
          "height": 144
        },
        "id": "xx3ypoFTX2Zq",
        "outputId": "f9a5c680-aad3-415c-cde2-adc7ea2b3048"
      },
      "outputs": [
        {
          "output_type": "error",
          "ename": "ValueError",
          "evalue": "invalid literal for int() with base 10: 'hello'",
          "traceback": [
            "\u001b[0;31m---------------------------------------------------------------------------\u001b[0m",
            "\u001b[0;31mValueError\u001b[0m                                Traceback (most recent call last)",
            "\u001b[0;32m/tmp/ipython-input-16-3372452653.py\u001b[0m in \u001b[0;36m<cell line: 0>\u001b[0;34m()\u001b[0m\n\u001b[0;32m----> 1\u001b[0;31m \u001b[0mvalue\u001b[0m \u001b[0;34m=\u001b[0m \u001b[0mint\u001b[0m\u001b[0;34m(\u001b[0m\u001b[0;34m\"hello\"\u001b[0m\u001b[0;34m)\u001b[0m\u001b[0;34m\u001b[0m\u001b[0;34m\u001b[0m\u001b[0m\n\u001b[0m",
            "\u001b[0;31mValueError\u001b[0m: invalid literal for int() with base 10: 'hello'"
          ]
        }
      ],
      "source": [
        "value = int(\"hello\")"
      ]
    },
    {
      "cell_type": "code",
      "execution_count": 17,
      "metadata": {
        "colab": {
          "base_uri": "https://localhost:8080/"
        },
        "id": "I04Nupuv3IO6",
        "outputId": "a128ad27-24e3-450e-dec3-2e7979c71246"
      },
      "outputs": [
        {
          "output_type": "stream",
          "name": "stdout",
          "text": [
            "Enter your age: hello\n",
            "Invalid input! Please enter a whole number. Error: invalid literal for int() with base 10: 'hello'\n"
          ]
        }
      ],
      "source": [
        "try:\n",
        "    age = int(input(\"Enter your age: \"))  # Invalid literal for `int()`\n",
        "    print(\"Your age is\", age)\n",
        "except ValueError as e:#specific\n",
        "    print(f\"Invalid input! Please enter a whole number. Error: {e}\")\n"
      ]
    },
    {
      "cell_type": "code",
      "execution_count": null,
      "metadata": {
        "id": "fLPkLhFE3IO6"
      },
      "outputs": [],
      "source": [
        "try:\n",
        "    age = int(input(\"Enter your age: \"))  # Invalid literal for `int()`\n",
        "    print(\"Your age is\", age)\n",
        "except Exception as e: # general\n",
        "    print(f\"Invalid input! Please enter a whole number. Error: {e}\")"
      ]
    },
    {
      "cell_type": "markdown",
      "metadata": {
        "id": "gxlur4zM3IO7"
      },
      "source": [
        "### 3. **`TypeError`**\n",
        "\n",
        "Raised when an operation or function is applied to an object of the wrong type.\n"
      ]
    },
    {
      "cell_type": "code",
      "execution_count": 19,
      "metadata": {
        "colab": {
          "base_uri": "https://localhost:8080/",
          "height": 144
        },
        "id": "ytAuuKUZZZJa",
        "outputId": "a485ad1a-b6e6-459e-e6bf-79aeb3392634"
      },
      "outputs": [
        {
          "output_type": "error",
          "ename": "TypeError",
          "evalue": "can only concatenate str (not \"int\") to str",
          "traceback": [
            "\u001b[0;31m---------------------------------------------------------------------------\u001b[0m",
            "\u001b[0;31mTypeError\u001b[0m                                 Traceback (most recent call last)",
            "\u001b[0;32m/tmp/ipython-input-19-2481770413.py\u001b[0m in \u001b[0;36m<cell line: 0>\u001b[0;34m()\u001b[0m\n\u001b[0;32m----> 1\u001b[0;31m \u001b[0mprint\u001b[0m\u001b[0;34m(\u001b[0m\u001b[0;34m\"hello\"\u001b[0m\u001b[0;34m+\u001b[0m\u001b[0;36m77\u001b[0m\u001b[0;34m)\u001b[0m\u001b[0;34m\u001b[0m\u001b[0;34m\u001b[0m\u001b[0m\n\u001b[0m",
            "\u001b[0;31mTypeError\u001b[0m: can only concatenate str (not \"int\") to str"
          ]
        }
      ],
      "source": [
        "print(\"hello\"+77)"
      ]
    },
    {
      "cell_type": "code",
      "execution_count": 20,
      "metadata": {
        "colab": {
          "base_uri": "https://localhost:8080/"
        },
        "id": "DrjnIeLu3IO7",
        "outputId": "9aa26eec-8aac-4bf2-82ec-7fa9c9b6f28a"
      },
      "outputs": [
        {
          "output_type": "stream",
          "name": "stdout",
          "text": [
            "Cannot add a string and a number! Error: can only concatenate str (not \"int\") to str\n"
          ]
        }
      ],
      "source": [
        "try:\n",
        "    result = \"text\" + 10  # Adding a string and an integer\n",
        "    print(result)\n",
        "except TypeError as e:\n",
        "    print(f\"Cannot add a string and a number! Error: {e}\")"
      ]
    },
    {
      "cell_type": "code",
      "execution_count": 21,
      "metadata": {
        "colab": {
          "base_uri": "https://localhost:8080/"
        },
        "id": "JNnH9NRB3IO8",
        "outputId": "4a21c0f6-57a8-4bf5-fcb1-578e40341fc2"
      },
      "outputs": [
        {
          "output_type": "stream",
          "name": "stdout",
          "text": [
            "Cannot add a string and a number! Error: can only concatenate str (not \"int\") to str\n"
          ]
        }
      ],
      "source": [
        "try:\n",
        "    result = \"text\" + 10  # Adding a string and an integer\n",
        "    print(result)\n",
        "except Exception as e:\n",
        "    print(f\"Cannot add a string and a number! Error: {e}\")"
      ]
    },
    {
      "cell_type": "markdown",
      "metadata": {
        "id": "-ylBBZmj3IO8"
      },
      "source": [
        "### 4. **`IndexError`**\n",
        "\n",
        "Raised when trying to access an index that is out of range in a list or tuple.\n",
        "\n",
        "**Practice Goal:** Enter an index like 5 or -4 to trigger the IndexError."
      ]
    },
    {
      "cell_type": "code",
      "execution_count": 22,
      "metadata": {
        "colab": {
          "base_uri": "https://localhost:8080/",
          "height": 180
        },
        "id": "VoEF1DYGaXgm",
        "outputId": "9f2b841b-b07b-4e99-e4f3-f70b3adccf7c"
      },
      "outputs": [
        {
          "name": "stdout",
          "output_type": "stream",
          "text": [
            "Choose an index (0-2): 3\n"
          ]
        },
        {
          "output_type": "error",
          "ename": "IndexError",
          "evalue": "list index out of range",
          "traceback": [
            "\u001b[0;31m---------------------------------------------------------------------------\u001b[0m",
            "\u001b[0;31mIndexError\u001b[0m                                Traceback (most recent call last)",
            "\u001b[0;32m/tmp/ipython-input-22-1828449833.py\u001b[0m in \u001b[0;36m<cell line: 0>\u001b[0;34m()\u001b[0m\n\u001b[1;32m      1\u001b[0m \u001b[0mmy_list\u001b[0m \u001b[0;34m=\u001b[0m \u001b[0;34m[\u001b[0m\u001b[0;36m10\u001b[0m\u001b[0;34m,\u001b[0m \u001b[0;36m20\u001b[0m\u001b[0;34m,\u001b[0m \u001b[0;36m30\u001b[0m\u001b[0;34m]\u001b[0m\u001b[0;34m\u001b[0m\u001b[0;34m\u001b[0m\u001b[0m\n\u001b[0;32m----> 2\u001b[0;31m \u001b[0mprint\u001b[0m\u001b[0;34m(\u001b[0m\u001b[0mmy_list\u001b[0m\u001b[0;34m[\u001b[0m\u001b[0mint\u001b[0m\u001b[0;34m(\u001b[0m\u001b[0minput\u001b[0m\u001b[0;34m(\u001b[0m\u001b[0;34m\"Choose an index (0-2): \"\u001b[0m\u001b[0;34m)\u001b[0m\u001b[0;34m)\u001b[0m\u001b[0;34m]\u001b[0m\u001b[0;34m)\u001b[0m\u001b[0;34m\u001b[0m\u001b[0;34m\u001b[0m\u001b[0m\n\u001b[0m",
            "\u001b[0;31mIndexError\u001b[0m: list index out of range"
          ]
        }
      ],
      "source": [
        "  my_list = [10, 20, 30]\n",
        "  print(my_list[int(input(\"Choose an index (0-2): \"))])"
      ]
    },
    {
      "cell_type": "code",
      "execution_count": 23,
      "metadata": {
        "colab": {
          "base_uri": "https://localhost:8080/"
        },
        "id": "S2I9SBhv3IO9",
        "outputId": "d061fbe8-88fa-4d73-da3e-d8aba157ae14"
      },
      "outputs": [
        {
          "output_type": "stream",
          "name": "stdout",
          "text": [
            "Choose an index (0-2): 3\n",
            "IndexError occurred: list index out of range\n",
            "Index out of range!\n"
          ]
        }
      ],
      "source": [
        "try:\n",
        "    my_list = [10, 20, 30]\n",
        "    print(my_list[int(input(\"Choose an index (0-2): \"))])\n",
        "except IndexError as e:\n",
        "    print(f\"IndexError occurred: {e}\")\n",
        "    print(\"Index out of range!\")"
      ]
    },
    {
      "cell_type": "markdown",
      "metadata": {
        "id": "q9Zud8S23IO9"
      },
      "source": [
        "### 5. **`KeyError`**\n",
        "\n",
        "Raised when trying to access a dictionary key that does not exist.\n",
        "\n",
        "**Practice Goal:** Enter a key that isn’t \"apple\" or \"carrot\" to see the KeyError.\n"
      ]
    },
    {
      "cell_type": "code",
      "source": [
        "my_dict = {\"apple\": \"fruit\", \"carrot\": \"vegetable\"}\n",
        "print(my_dict[input(\"Which key do you want? \")])"
      ],
      "metadata": {
        "id": "y_jADqvuJX5c",
        "outputId": "fac22c25-ffdb-4263-ccd7-63235d678f40",
        "colab": {
          "base_uri": "https://localhost:8080/",
          "height": 180
        }
      },
      "execution_count": 26,
      "outputs": [
        {
          "name": "stdout",
          "output_type": "stream",
          "text": [
            "Which key do you want? car\n"
          ]
        },
        {
          "output_type": "error",
          "ename": "KeyError",
          "evalue": "'car'",
          "traceback": [
            "\u001b[0;31m---------------------------------------------------------------------------\u001b[0m",
            "\u001b[0;31mKeyError\u001b[0m                                  Traceback (most recent call last)",
            "\u001b[0;32m/tmp/ipython-input-26-2746305869.py\u001b[0m in \u001b[0;36m<cell line: 0>\u001b[0;34m()\u001b[0m\n\u001b[1;32m      1\u001b[0m \u001b[0mmy_dict\u001b[0m \u001b[0;34m=\u001b[0m \u001b[0;34m{\u001b[0m\u001b[0;34m\"apple\"\u001b[0m\u001b[0;34m:\u001b[0m \u001b[0;34m\"fruit\"\u001b[0m\u001b[0;34m,\u001b[0m \u001b[0;34m\"carrot\"\u001b[0m\u001b[0;34m:\u001b[0m \u001b[0;34m\"vegetable\"\u001b[0m\u001b[0;34m}\u001b[0m\u001b[0;34m\u001b[0m\u001b[0;34m\u001b[0m\u001b[0m\n\u001b[0;32m----> 2\u001b[0;31m \u001b[0mprint\u001b[0m\u001b[0;34m(\u001b[0m\u001b[0mmy_dict\u001b[0m\u001b[0;34m[\u001b[0m\u001b[0minput\u001b[0m\u001b[0;34m(\u001b[0m\u001b[0;34m\"Which key do you want? \"\u001b[0m\u001b[0;34m)\u001b[0m\u001b[0;34m]\u001b[0m\u001b[0;34m)\u001b[0m\u001b[0;34m\u001b[0m\u001b[0;34m\u001b[0m\u001b[0m\n\u001b[0m",
            "\u001b[0;31mKeyError\u001b[0m: 'car'"
          ]
        }
      ]
    },
    {
      "cell_type": "code",
      "execution_count": 24,
      "metadata": {
        "colab": {
          "base_uri": "https://localhost:8080/"
        },
        "id": "ZzMosyxh3IO9",
        "outputId": "40ca75a0-7043-4728-85a3-f800a17afc6b"
      },
      "outputs": [
        {
          "output_type": "stream",
          "name": "stdout",
          "text": [
            "Which key do you want? car\n",
            "Error: That key does not exist in the dictionary!\n",
            "KeyError occurred: 'car'\n"
          ]
        }
      ],
      "source": [
        "try:\n",
        "    my_dict = {\"apple\": \"fruit\", \"carrot\": \"vegetable\"}\n",
        "    print(my_dict[input(\"Which key do you want? \")])\n",
        "except KeyError as e:\n",
        "    print(\"Error: That key does not exist in the dictionary!\")\n",
        "    print(f\"KeyError occurred: {e}\")"
      ]
    },
    {
      "cell_type": "code",
      "execution_count": 25,
      "metadata": {
        "colab": {
          "base_uri": "https://localhost:8080/"
        },
        "id": "TyplZJcLbYKJ",
        "outputId": "9f890294-1a5f-4be4-f024-15d3596a0e00"
      },
      "outputs": [
        {
          "output_type": "stream",
          "name": "stdout",
          "text": [
            "Which key do you want? car\n",
            "Error: That key does not exist in the dictionary!\n"
          ]
        }
      ],
      "source": [
        "try:\n",
        "    my_dict = {\"apple\": \"fruit\", \"carrot\": \"vegetable\"}\n",
        "    print(my_dict[input(\"Which key do you want? \")])\n",
        "except:\n",
        "    print(\"Error: That key does not exist in the dictionary!\")"
      ]
    },
    {
      "cell_type": "markdown",
      "metadata": {
        "id": "jhEjp8aw3IO9"
      },
      "source": [
        "### 6. **`FileNotFoundError`**\n",
        "\n",
        "Raised when a file operation is requested, but the file does not exist.\n"
      ]
    },
    {
      "cell_type": "code",
      "execution_count": 28,
      "metadata": {
        "colab": {
          "base_uri": "https://localhost:8080/"
        },
        "id": "3EoXONc9bH7v",
        "outputId": "fde11c13-4bfe-4041-cd2f-efbab2690f9c"
      },
      "outputs": [
        {
          "output_type": "stream",
          "name": "stdout",
          "text": [
            "FileNotFoundError occurred: [Errno 2] No such file or directory: 'file.txt'\n"
          ]
        }
      ],
      "source": [
        "try:\n",
        "    with open(\"file.txt\",\"w\") as file:  # File does not exist\n",
        "        content = file.read()\n",
        "        # file.close()    ## no need because with automatically close the file\n",
        "        print(content)\n",
        "except FileNotFoundError as e:\n",
        "    print(f\"FileNotFoundError occurred: {e}\")"
      ]
    },
    {
      "cell_type": "code",
      "source": [
        "with open(\"file.txt\",\"r\") as file:\n",
        "    # file.write(\"hello\")\n",
        "    content = file.read()\n",
        "    # file.close()\n",
        "    print(content)\n",
        "\n",
        "\n",
        "    # File does not exist\n",
        "        # content = file.read()\n",
        "        # file.close()    ## no need because with automatically close the file\n",
        "        # print(content)"
      ],
      "metadata": {
        "id": "wRniyYwWL-W9",
        "outputId": "dfa92923-14f3-4a0d-f891-b0d3d5a8d46f",
        "colab": {
          "base_uri": "https://localhost:8080/",
          "height": 216
        }
      },
      "execution_count": 33,
      "outputs": [
        {
          "output_type": "error",
          "ename": "FileNotFoundError",
          "evalue": "[Errno 2] No such file or directory: 'file.txt'",
          "traceback": [
            "\u001b[0;31m---------------------------------------------------------------------------\u001b[0m",
            "\u001b[0;31mFileNotFoundError\u001b[0m                         Traceback (most recent call last)",
            "\u001b[0;32m/tmp/ipython-input-33-283255428.py\u001b[0m in \u001b[0;36m<cell line: 0>\u001b[0;34m()\u001b[0m\n\u001b[0;32m----> 1\u001b[0;31m \u001b[0;32mwith\u001b[0m \u001b[0mopen\u001b[0m\u001b[0;34m(\u001b[0m\u001b[0;34m\"file.txt\"\u001b[0m\u001b[0;34m,\u001b[0m\u001b[0;34m\"r\"\u001b[0m\u001b[0;34m)\u001b[0m \u001b[0;32mas\u001b[0m \u001b[0mfile\u001b[0m\u001b[0;34m:\u001b[0m\u001b[0;34m\u001b[0m\u001b[0;34m\u001b[0m\u001b[0m\n\u001b[0m\u001b[1;32m      2\u001b[0m     \u001b[0;31m# file.write(\"hello\")\u001b[0m\u001b[0;34m\u001b[0m\u001b[0;34m\u001b[0m\u001b[0m\n\u001b[1;32m      3\u001b[0m     \u001b[0mcontent\u001b[0m \u001b[0;34m=\u001b[0m \u001b[0mfile\u001b[0m\u001b[0;34m.\u001b[0m\u001b[0mread\u001b[0m\u001b[0;34m(\u001b[0m\u001b[0;34m)\u001b[0m\u001b[0;34m\u001b[0m\u001b[0;34m\u001b[0m\u001b[0m\n\u001b[1;32m      4\u001b[0m     \u001b[0;31m# file.close()\u001b[0m\u001b[0;34m\u001b[0m\u001b[0;34m\u001b[0m\u001b[0m\n\u001b[1;32m      5\u001b[0m     \u001b[0mprint\u001b[0m\u001b[0;34m(\u001b[0m\u001b[0mcontent\u001b[0m\u001b[0;34m)\u001b[0m\u001b[0;34m\u001b[0m\u001b[0;34m\u001b[0m\u001b[0m\n",
            "\u001b[0;31mFileNotFoundError\u001b[0m: [Errno 2] No such file or directory: 'file.txt'"
          ]
        }
      ]
    },
    {
      "cell_type": "code",
      "execution_count": null,
      "metadata": {
        "id": "pPT2TuUi3IO-"
      },
      "outputs": [],
      "source": [
        "try:\n",
        "    with open(\"non_existent_file.txt\") as file:  # File does not exist\n",
        "        content = file.read()\n",
        "        print(content)\n",
        "except FileNotFoundError as e:\n",
        "    print(f\"FileNotFoundError occurred: {e}\")"
      ]
    },
    {
      "cell_type": "markdown",
      "metadata": {
        "id": "zYwlp1HLcCh1"
      },
      "source": [
        "### 7. **`Multiple Exceptions`**\n",
        "\n",
        "**Practice Goal:**\n",
        "\n",
        "- Enter letters to trigger the ValueError.\n",
        "- Enter 0 to trigger the ZeroDivisionError."
      ]
    },
    {
      "cell_type": "code",
      "execution_count": 36,
      "metadata": {
        "colab": {
          "base_uri": "https://localhost:8080/"
        },
        "id": "YqPul06u3IO-",
        "outputId": "efb39c2b-3ccd-47e8-b10c-b78f23fa6415"
      },
      "outputs": [
        {
          "output_type": "stream",
          "name": "stdout",
          "text": [
            "Enter a number: w\n",
            "Error: That's not a valid number!\n"
          ]
        }
      ],
      "source": [
        "try:\n",
        "    print(50 / int(input(\"Enter a number: \")))\n",
        "except ValueError:\n",
        "    print(\"Error: That's not a valid number!\")\n",
        "except ZeroDivisionError:\n",
        "    print(\"Error: Can't divide by zero!\")"
      ]
    },
    {
      "cell_type": "markdown",
      "metadata": {
        "id": "z0UBo9Em3IO-"
      },
      "source": [
        "### 8. **`finally` Block**\n",
        "The `finally` block always runs whether there’s an exception or not. It’s useful for cleanup tasks, like closing files.\n",
        "#### When to use:\n",
        "- When you have some code that **must run no matter what**, such as releasing resources or cleaning up after the `try` block (e.g., closing a file or a network connection).\n",
        "- finally: Ensures that its code runs regardless of how the try block is exited (normal execution, exception, or return), making it ideal for cleanup or final actions."
      ]
    },
    {
      "cell_type": "markdown",
      "metadata": {
        "id": "ISoQZpQAdI4z"
      },
      "source": [
        "**Practice Goal:** Even if you type something invalid (causing a crash), the message in the finally block will still run."
      ]
    },
    {
      "cell_type": "code",
      "execution_count": 40,
      "metadata": {
        "colab": {
          "base_uri": "https://localhost:8080/"
        },
        "id": "sQGAlxWddHke",
        "outputId": "77ca5be0-b81c-4bb0-9db2-80ca4aff4416"
      },
      "outputs": [
        {
          "output_type": "stream",
          "name": "stdout",
          "text": [
            "Enter a number: q\n",
            "Invalid input! Please enter a valid number.\n",
            "The 'finally' block always runs!\n",
            "checking\n"
          ]
        }
      ],
      "source": [
        "try:\n",
        "    num = int(input(\"Enter a number: \"))\n",
        "    print(\"You typed:\", num)\n",
        "except:\n",
        "    print(\"Invalid input! Please enter a valid number.\")\n",
        "finally:\n",
        "    print(\"The 'finally' block always runs!\")\n",
        "print(\"checking\")"
      ]
    },
    {
      "cell_type": "code",
      "execution_count": 42,
      "metadata": {
        "colab": {
          "base_uri": "https://localhost:8080/"
        },
        "id": "HBqTfVe03IO_",
        "outputId": "7ffd43d9-6e25-4add-bc9d-db9c91819987"
      },
      "outputs": [
        {
          "output_type": "stream",
          "name": "stdout",
          "text": [
            "Enter the numerator: 3\n",
            "Enter the denominator: 1\n",
            "3.0\n",
            "Thank you for using the division program\n",
            "checking\n"
          ]
        }
      ],
      "source": [
        "def divide_numbers():\n",
        "    try:\n",
        "        a = int(input(\"Enter the numerator: \"))\n",
        "        b = int(input(\"Enter the denominator: \"))\n",
        "        result = a / b\n",
        "        print(result)\n",
        "    except Exception as e:\n",
        "        print(\"Error occurred: \", e)\n",
        "    finally:\n",
        "        print(\"Thank you for using the division program\")\n",
        "    print(\"checking\")\n",
        "divide_numbers()"
      ]
    },
    {
      "cell_type": "code",
      "source": [
        "def func():\n",
        "  return\n",
        "  print(\"hello\")\n",
        "func()"
      ],
      "metadata": {
        "id": "vtzZW1kyQCUf"
      },
      "execution_count": 44,
      "outputs": []
    },
    {
      "cell_type": "code",
      "execution_count": 46,
      "metadata": {
        "colab": {
          "base_uri": "https://localhost:8080/"
        },
        "id": "YQIlChGNjxyC",
        "outputId": "e233df2b-1c4e-461d-a25a-e7eb0770ce12"
      },
      "outputs": [
        {
          "output_type": "stream",
          "name": "stdout",
          "text": [
            "Enter the numerator: 2\n",
            "Enter the denominator: 0\n",
            "Error occurred: division by zero\n",
            "Thank you for using the division program\n",
            "checking\n",
            "after function call\n"
          ]
        }
      ],
      "source": [
        "def divide_numbers():\n",
        "    try:\n",
        "        a = int(input(\"Enter the numerator: \"))\n",
        "        b = int(input(\"Enter the denominator: \"))\n",
        "        result = a / b\n",
        "        print(result)\n",
        "        return  # Early return from the function\n",
        "    except Exception as e:\n",
        "        print(\"Error occurred:\", e)\n",
        "    finally:\n",
        "        print(\"Thank you for using the division program\")\n",
        "    print(\"checking\")\n",
        "\n",
        "divide_numbers()\n",
        "print(\"after function call\")\n"
      ]
    },
    {
      "cell_type": "markdown",
      "metadata": {
        "id": "8c9S3wvK3IO_"
      },
      "source": [
        "### 8. **Using `else` Block**\n",
        "The `else` block executes only if no exceptions occur in the `try` block.\n",
        "\n",
        "#### When to use:\n",
        "- When you have code that should only run **if no exceptions were raised**. This makes your intentions clear and keeps your code cleaner."
      ]
    },
    {
      "cell_type": "code",
      "execution_count": 48,
      "metadata": {
        "colab": {
          "base_uri": "https://localhost:8080/"
        },
        "id": "MQw_jtvH3IO_",
        "outputId": "4b436d70-6435-43f7-df8a-763e8bec11b3"
      },
      "outputs": [
        {
          "output_type": "stream",
          "name": "stdout",
          "text": [
            "Enter the numerator: 3\n",
            "Enter the denominator: 0\n",
            "You cannot divide by zero\n"
          ]
        }
      ],
      "source": [
        "def divide_numbers():\n",
        "    try:\n",
        "        a = int(input(\"Enter the numerator: \"))\n",
        "        b = int(input(\"Enter the denominator: \"))\n",
        "        result = a / b\n",
        "    except ZeroDivisionError:\n",
        "        print(\"You cannot divide by zero\")\n",
        "    else:\n",
        "        print(f\"Division successful: {result}\")\n",
        "\n",
        "divide_numbers()\n"
      ]
    },
    {
      "cell_type": "markdown",
      "metadata": {
        "id": "1b2a34lZPct4"
      },
      "source": [
        "### 9. **Using `raise` and Handling a ValueError Exception**\n",
        "\n",
        "- Custom Age Validation: Handling Invalid Input with Python Exceptions"
      ]
    },
    {
      "cell_type": "code",
      "execution_count": 50,
      "metadata": {
        "colab": {
          "base_uri": "https://localhost:8080/"
        },
        "id": "Z1IEXUY7PdSN",
        "outputId": "0336425c-5850-4ead-c7e2-07c06686d139"
      },
      "outputs": [
        {
          "output_type": "stream",
          "name": "stdout",
          "text": [
            "Age is valid\n"
          ]
        }
      ],
      "source": [
        "def validate_age(age):\n",
        "    if age < 0:\n",
        "        raise ValueError(\"Age cannot be negative\")  # Raise exception\n",
        "    print(\"Age is valid\")\n",
        "\n",
        "try:\n",
        "    validate_age(-5)  # This will trigger the exception\n",
        "except ValueError as e:\n",
        "    print(f\"Error: {e}\")  # Handle the exception"
      ]
    }
  ],
  "metadata": {
    "colab": {
      "provenance": []
    },
    "kernelspec": {
      "display_name": "Python 3",
      "language": "python",
      "name": "python3"
    },
    "language_info": {
      "codemirror_mode": {
        "name": "ipython",
        "version": 3
      },
      "file_extension": ".py",
      "mimetype": "text/x-python",
      "name": "python",
      "nbconvert_exporter": "python",
      "pygments_lexer": "ipython3",
      "version": "3.12.8"
    }
  },
  "nbformat": 4,
  "nbformat_minor": 0
}