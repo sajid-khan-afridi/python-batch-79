{
  "cells": [
    {
      "cell_type": "code",
      "execution_count": 1,
      "id": "34f8b543",
      "metadata": {
        "id": "34f8b543",
        "outputId": "29793877-49ea-40a7-ca94-749cbcb4dd2a",
        "colab": {
          "base_uri": "https://localhost:8080/"
        }
      },
      "outputs": [
        {
          "output_type": "stream",
          "name": "stdout",
          "text": [
            "Collecting mypy\n",
            "  Downloading mypy-1.15.0-cp311-cp311-manylinux_2_17_x86_64.manylinux2014_x86_64.manylinux_2_28_x86_64.whl.metadata (2.1 kB)\n",
            "Requirement already satisfied: typing_extensions>=4.6.0 in /usr/local/lib/python3.11/dist-packages (from mypy) (4.13.2)\n",
            "Collecting mypy_extensions>=1.0.0 (from mypy)\n",
            "  Downloading mypy_extensions-1.1.0-py3-none-any.whl.metadata (1.1 kB)\n",
            "Downloading mypy-1.15.0-cp311-cp311-manylinux_2_17_x86_64.manylinux2014_x86_64.manylinux_2_28_x86_64.whl (12.3 MB)\n",
            "\u001b[2K   \u001b[90m━━━━━━━━━━━━━━━━━━━━━━━━━━━━━━━━━━━━━━━━\u001b[0m \u001b[32m12.3/12.3 MB\u001b[0m \u001b[31m98.1 MB/s\u001b[0m eta \u001b[36m0:00:00\u001b[0m\n",
            "\u001b[?25hDownloading mypy_extensions-1.1.0-py3-none-any.whl (5.0 kB)\n",
            "Installing collected packages: mypy_extensions, mypy\n",
            "Successfully installed mypy-1.15.0 mypy_extensions-1.1.0\n"
          ]
        }
      ],
      "source": [
        "!pip install mypy"
      ]
    },
    {
      "cell_type": "code",
      "source": [
        "code = '''\n",
        "a : int = \"hello\"\n",
        "'''\n",
        "\n",
        "with open(\"example.py\", \"w\") as f:\n",
        "    f.write(code)"
      ],
      "metadata": {
        "id": "CoTbG1kviFLH"
      },
      "id": "CoTbG1kviFLH",
      "execution_count": 4,
      "outputs": []
    },
    {
      "cell_type": "code",
      "source": [
        "!mypy example.py"
      ],
      "metadata": {
        "id": "hu1H2SWlidmc",
        "outputId": "2e76b53e-5365-4de8-ac9b-9027f1673e88",
        "colab": {
          "base_uri": "https://localhost:8080/"
        }
      },
      "id": "hu1H2SWlidmc",
      "execution_count": 5,
      "outputs": [
        {
          "output_type": "stream",
          "name": "stdout",
          "text": [
            "example.py:2: \u001b[1m\u001b[31merror:\u001b[m Incompatible types in assignment (expression has type \u001b[m\u001b[1m\"str\"\u001b[m, variable has type \u001b[m\u001b[1m\"int\"\u001b[m)  \u001b[m\u001b[33m[assignment]\u001b[m\n",
            "\u001b[1m\u001b[31mFound 1 error in 1 file (checked 1 source file)\u001b[m\n"
          ]
        }
      ]
    }
  ],
  "metadata": {
    "language_info": {
      "name": "python"
    },
    "colab": {
      "provenance": []
    },
    "kernelspec": {
      "name": "python3",
      "display_name": "Python 3"
    }
  },
  "nbformat": 4,
  "nbformat_minor": 5
}